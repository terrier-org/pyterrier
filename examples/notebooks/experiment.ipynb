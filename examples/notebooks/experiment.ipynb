{
  "cells": [
    {
      "cell_type": "markdown",
      "metadata": {
        "id": "P5kzUfb36WMd",
        "colab_type": "text"
      },
      "source": [
        "# Pyterrier - Example Experiment\n",
        "\n",
        "# Preparation"
      ]
    },
    {
      "cell_type": "code",
      "metadata": {
        "id": "TejY4gN66TCc",
        "colab_type": "code",
        "outputId": "262dc29e-aa9b-4de6-9014-2887d107417a",
        "colab": {
          "base_uri": "https://localhost:8080/",
          "height": 765
        }
      },
      "source": [
        "!pip install python-terrier"
      ],
      "execution_count": 1,
      "outputs": [
        {
          "output_type": "stream",
          "text": [
            "Collecting python-terrier\n",
            "  Cloning https://github.com/terrier-org/pyterrier.git to /tmp/pip-install-ootrg_ul/python-terrier\n",
            "  Running command git clone -q https://github.com/terrier-org/pyterrier.git /tmp/pip-install-ootrg_ul/python-terrier\n",
            "Collecting pyjnius~=1.3.0\n",
            "\u001b[?25l  Downloading https://files.pythonhosted.org/packages/d8/50/098cb5fb76fb7c7d99d403226a2a63dcbfb5c129b71b7d0f5200b05de1f0/pyjnius-1.3.0-cp36-cp36m-manylinux2010_x86_64.whl (1.1MB)\n",
            "\u001b[K     |████████████████████████████████| 1.1MB 2.8MB/s \n",
            "\u001b[?25hRequirement already satisfied, skipping upgrade: numpy in /usr/local/lib/python3.6/dist-packages (from python-terrier) (1.18.4)\n",
            "Requirement already satisfied, skipping upgrade: pandas in /usr/local/lib/python3.6/dist-packages (from python-terrier) (1.0.4)\n",
            "Collecting wget\n",
            "  Downloading https://files.pythonhosted.org/packages/47/6a/62e288da7bcda82b935ff0c6cfe542970f04e29c756b0e147251b2fb251f/wget-3.2.zip\n",
            "Collecting pytrec_eval\n",
            "  Downloading https://files.pythonhosted.org/packages/36/0a/5809ba805e62c98f81e19d6007132712945c78e7612c11f61bac76a25ba3/pytrec_eval-0.4.tar.gz\n",
            "Requirement already satisfied, skipping upgrade: tqdm in /usr/local/lib/python3.6/dist-packages (from python-terrier) (4.41.1)\n",
            "Collecting matchpy\n",
            "\u001b[?25l  Downloading https://files.pythonhosted.org/packages/47/95/d265b944ce391bb2fa9982d7506bbb197bb55c5088ea74448a5ffcaeefab/matchpy-0.5.1-py3-none-any.whl (67kB)\n",
            "\u001b[K     |████████████████████████████████| 71kB 6.6MB/s \n",
            "\u001b[?25hCollecting deprecation\n",
            "  Downloading https://files.pythonhosted.org/packages/02/c3/253a89ee03fc9b9682f1541728eb66db7db22148cd94f89ab22528cd1e1b/deprecation-2.1.0-py2.py3-none-any.whl\n",
            "Requirement already satisfied, skipping upgrade: cython in /usr/local/lib/python3.6/dist-packages (from pyjnius~=1.3.0->python-terrier) (0.29.19)\n",
            "Requirement already satisfied, skipping upgrade: six>=1.7.0 in /usr/local/lib/python3.6/dist-packages (from pyjnius~=1.3.0->python-terrier) (1.12.0)\n",
            "Requirement already satisfied, skipping upgrade: pytz>=2017.2 in /usr/local/lib/python3.6/dist-packages (from pandas->python-terrier) (2018.9)\n",
            "Requirement already satisfied, skipping upgrade: python-dateutil>=2.6.1 in /usr/local/lib/python3.6/dist-packages (from pandas->python-terrier) (2.8.1)\n",
            "Collecting multiset<3.0,>=2.0\n",
            "  Downloading https://files.pythonhosted.org/packages/a8/12/813a649f5bc9801865dc6cda95b8f169f784d996322db192907ebe399064/multiset-2.1.1-py2.py3-none-any.whl\n",
            "Collecting hopcroftkarp<2.0,>=1.2\n",
            "  Downloading https://files.pythonhosted.org/packages/6b/56/7b03eba3c43008c490c9d52e69ea5334b65955f66836eb4f1962f3b0d421/hopcroftkarp-1.2.5.tar.gz\n",
            "Requirement already satisfied, skipping upgrade: packaging in /usr/local/lib/python3.6/dist-packages (from deprecation->python-terrier) (20.4)\n",
            "Requirement already satisfied, skipping upgrade: pyparsing>=2.0.2 in /usr/local/lib/python3.6/dist-packages (from packaging->deprecation->python-terrier) (2.4.7)\n",
            "Building wheels for collected packages: python-terrier, wget, pytrec-eval, hopcroftkarp\n",
            "  Building wheel for python-terrier (setup.py) ... \u001b[?25l\u001b[?25hdone\n",
            "  Created wheel for python-terrier: filename=python_terrier-0.1.3-cp36-none-any.whl size=29595 sha256=8ce120bd9f33342a9335a6a50c62a7af372b56e009f689b49daceb1076cda604\n",
            "  Stored in directory: /tmp/pip-ephem-wheel-cache-ge77gm06/wheels/cc/bb/69/836d846a92c787b35ca6478119c0033762ab2b95d866eeb288\n",
            "  Building wheel for wget (setup.py) ... \u001b[?25l\u001b[?25hdone\n",
            "  Created wheel for wget: filename=wget-3.2-cp36-none-any.whl size=9682 sha256=42f53397a620947fedd9e3dbe6c7fff427cde4b293d81f00ca986bff2e98ccd3\n",
            "  Stored in directory: /root/.cache/pip/wheels/40/15/30/7d8f7cea2902b4db79e3fea550d7d7b85ecb27ef992b618f3f\n",
            "  Building wheel for pytrec-eval (setup.py) ... \u001b[?25l\u001b[?25hdone\n",
            "  Created wheel for pytrec-eval: filename=pytrec_eval-0.4-cp36-cp36m-linux_x86_64.whl size=273829 sha256=6693a7d374a09011262da29b1f10de490b73fe4b16b869a0840d6e8a86af018a\n",
            "  Stored in directory: /root/.cache/pip/wheels/58/30/73/8858a1b6e5e2674e2ea85c9904949c06addcf6fd34d59b5ea6\n",
            "  Building wheel for hopcroftkarp (setup.py) ... \u001b[?25l\u001b[?25hdone\n",
            "  Created wheel for hopcroftkarp: filename=hopcroftkarp-1.2.5-py2.py3-none-any.whl size=18092 sha256=f1cc89c23fc8aa59247f7780d7e845e8785daf0cb6246e75e80e163eb85b9fb6\n",
            "  Stored in directory: /root/.cache/pip/wheels/2b/e1/c9/1993c7f7f114b7d3fb2d3e895e02157a7ebf554861e9e54e01\n",
            "Successfully built python-terrier wget pytrec-eval hopcroftkarp\n",
            "Installing collected packages: pyjnius, wget, pytrec-eval, multiset, hopcroftkarp, matchpy, deprecation, python-terrier\n",
            "Successfully installed deprecation-2.1.0 hopcroftkarp-1.2.5 matchpy-0.5.1 multiset-2.1.1 pyjnius-1.3.0 python-terrier-0.1.3 pytrec-eval-0.4 wget-3.2\n"
          ],
          "name": "stdout"
        }
      ]
    },
    {
      "cell_type": "markdown",
      "metadata": {
        "id": "nt9K3eSWc_Zk",
        "colab_type": "text"
      },
      "source": [
        "# Init \n",
        "\n",
        "You must run `pt.init()` before other pyterrier functions and classes\n",
        "\n",
        "Arguments:\n",
        " - `version` - Terrier platform version e.g. `\"5.2\"`    \n",
        " - `mem` - megabytes allocated to Java e.g. `4096`      \n"
      ]
    },
    {
      "cell_type": "code",
      "metadata": {
        "id": "4nt1cgv-6dzf",
        "colab_type": "code",
        "colab": {
          "base_uri": "https://localhost:8080/",
          "height": 85
        },
        "outputId": "7b801c7d-3964-4980-fc3d-8b0dc23748bb"
      },
      "source": [
        "import pyterrier as pt\n",
        "if not pt.started():\n",
        "  pt.init()"
      ],
      "execution_count": 1,
      "outputs": [
        {
          "output_type": "stream",
          "name": "stderr",
          "text": [
            "/Users/craigmacdonald/opt/anaconda3/lib/python3.8/site-packages/tqdm/std.py:697: FutureWarning: The Panel class is removed from pandas. Accessing it from the top-level namespace will also be removed in the next version\n",
            "  from pandas import Panel\n",
            "PyTerrier 0.4.0 has loaded Terrier 5.4 (built by craigm on 2021-01-16 14:17)\n"
          ]
        }
      ]
    },
    {
      "cell_type": "markdown",
      "metadata": {
        "id": "ZfFfllxN6Vnv",
        "colab_type": "text"
      },
      "source": [
        "Again, we're using the Dataset interface to quickly access a test collection."
      ]
    },
    {
      "cell_type": "code",
      "metadata": {
        "id": "LVboB-IY5Joj",
        "colab_type": "code",
        "colab": {}
      },
      "source": [
        "vaswani = pt.datasets.get_dataset(\"vaswani\")"
      ],
      "execution_count": 2,
      "outputs": []
    },
    {
      "cell_type": "markdown",
      "metadata": {
        "id": "Vxgbi63k64pj",
        "colab_type": "text"
      },
      "source": [
        "# Experiment\n",
        "\n",
        "Тhe `experiment` function allows you to perform retrieval and evaluation in a declarative fashoin, allowing a simple function call with multiple retrieval systems to be executed using a single function call."
      ]
    },
    {
      "cell_type": "markdown",
      "metadata": {
        "id": "OVmeqAX-67Am",
        "colab_type": "text"
      },
      "source": [
        "First create the BatchRetrieve objects with the configurartion that you wish to use"
      ]
    },
    {
      "cell_type": "code",
      "metadata": {
        "id": "9bMNAVT06j6E",
        "colab_type": "code",
        "colab": {
          "base_uri": "https://localhost:8080/",
          "height": 34
        },
        "outputId": "93e2dd5e-f986-48f4-ed17-e8264341f3c4"
      },
      "source": [
        "TF_IDF = pt.BatchRetrieve(vaswani.get_index(), wmodel=\"TF_IDF\")\n",
        "BM25 = pt.BatchRetrieve(vaswani.get_index(), wmodel=\"BM25\")\n",
        "PL2 = pt.BatchRetrieve(vaswani.get_index(), wmodel=\"PL2\")"
      ],
      "execution_count": 3,
      "outputs": []
    },
    {
      "cell_type": "markdown",
      "metadata": {
        "id": "ozgSUBhD7I6L",
        "colab_type": "text"
      },
      "source": [
        "Call `pt.Experiment` with the list of retrieval objects, topics, qrels and list of metrics\n",
        "\n",
        "Optional arguments:    \n",
        " - `perquery=False` - Show the results for each query instad of the mean    \n",
        " - `dataframe=True` - Return the result as a dataframe if True, or as a dictionary if False\n",
        " - `round=4` - round all measures to 4 decimal places\n",
        " "
      ]
    },
    {
      "cell_type": "code",
      "metadata": {
        "id": "8LCmxPtY6j3Q",
        "colab_type": "code",
        "colab": {
          "base_uri": "https://localhost:8080/",
          "height": 142
        },
        "outputId": "d8c64099-b122-47f2-a5be-e86768241b8e"
      },
      "source": [
        "pt.Experiment(\n",
        "    [TF_IDF,BM25,PL2],\n",
        "    vaswani.get_topics(),\n",
        "    vaswani.get_qrels(),\n",
        "    ['map','ndcg'])"
      ],
      "execution_count": 4,
      "outputs": [
        {
          "output_type": "execute_result",
          "data": {
            "text/plain": [
              "         name       map      ndcg\n",
              "0  BR(TF_IDF)  0.290905  0.615367\n",
              "1    BR(BM25)  0.296517  0.621197\n",
              "2     BR(PL2)  0.276264  0.601225"
            ],
            "text/html": "<div>\n<style scoped>\n    .dataframe tbody tr th:only-of-type {\n        vertical-align: middle;\n    }\n\n    .dataframe tbody tr th {\n        vertical-align: top;\n    }\n\n    .dataframe thead th {\n        text-align: right;\n    }\n</style>\n<table border=\"1\" class=\"dataframe\">\n  <thead>\n    <tr style=\"text-align: right;\">\n      <th></th>\n      <th>name</th>\n      <th>map</th>\n      <th>ndcg</th>\n    </tr>\n  </thead>\n  <tbody>\n    <tr>\n      <th>0</th>\n      <td>BR(TF_IDF)</td>\n      <td>0.290905</td>\n      <td>0.615367</td>\n    </tr>\n    <tr>\n      <th>1</th>\n      <td>BR(BM25)</td>\n      <td>0.296517</td>\n      <td>0.621197</td>\n    </tr>\n    <tr>\n      <th>2</th>\n      <td>BR(PL2)</td>\n      <td>0.276264</td>\n      <td>0.601225</td>\n    </tr>\n  </tbody>\n</table>\n</div>"
          },
          "metadata": {},
          "execution_count": 4
        }
      ]
    },
    {
      "source": [
        "## Declaring a baseline\n",
        "\n",
        "Use the `baseline=` kwarg to specify which system should be considered the baseline in this experiment. \n",
        "This will enable significance testing (paired t-test), as well as showing the number of queries improved and degraded \n",
        "wrt. the baseline.\n",
        "\n"
      ],
      "cell_type": "markdown",
      "metadata": {}
    },
    {
      "cell_type": "code",
      "execution_count": 5,
      "metadata": {},
      "outputs": [
        {
          "output_type": "execute_result",
          "data": {
            "text/plain": [
              "         name       map      ndcg  map +  map -  map p-value  ndcg +  ndcg -  \\\n",
              "0  BR(TF_IDF)  0.290905  0.615367    NaN    NaN          NaN     NaN     NaN   \n",
              "1    BR(BM25)  0.296517  0.621197   46.0   45.0     0.237317    45.0    46.0   \n",
              "2     BR(PL2)  0.276264  0.601225   13.0   77.0     0.008827    17.0    73.0   \n",
              "\n",
              "   ndcg p-value  \n",
              "0           NaN  \n",
              "1      0.143493  \n",
              "2      0.002583  "
            ],
            "text/html": "<div>\n<style scoped>\n    .dataframe tbody tr th:only-of-type {\n        vertical-align: middle;\n    }\n\n    .dataframe tbody tr th {\n        vertical-align: top;\n    }\n\n    .dataframe thead th {\n        text-align: right;\n    }\n</style>\n<table border=\"1\" class=\"dataframe\">\n  <thead>\n    <tr style=\"text-align: right;\">\n      <th></th>\n      <th>name</th>\n      <th>map</th>\n      <th>ndcg</th>\n      <th>map +</th>\n      <th>map -</th>\n      <th>map p-value</th>\n      <th>ndcg +</th>\n      <th>ndcg -</th>\n      <th>ndcg p-value</th>\n    </tr>\n  </thead>\n  <tbody>\n    <tr>\n      <th>0</th>\n      <td>BR(TF_IDF)</td>\n      <td>0.290905</td>\n      <td>0.615367</td>\n      <td>NaN</td>\n      <td>NaN</td>\n      <td>NaN</td>\n      <td>NaN</td>\n      <td>NaN</td>\n      <td>NaN</td>\n    </tr>\n    <tr>\n      <th>1</th>\n      <td>BR(BM25)</td>\n      <td>0.296517</td>\n      <td>0.621197</td>\n      <td>46.0</td>\n      <td>45.0</td>\n      <td>0.237317</td>\n      <td>45.0</td>\n      <td>46.0</td>\n      <td>0.143493</td>\n    </tr>\n    <tr>\n      <th>2</th>\n      <td>BR(PL2)</td>\n      <td>0.276264</td>\n      <td>0.601225</td>\n      <td>13.0</td>\n      <td>77.0</td>\n      <td>0.008827</td>\n      <td>17.0</td>\n      <td>73.0</td>\n      <td>0.002583</td>\n    </tr>\n  </tbody>\n</table>\n</div>"
          },
          "metadata": {},
          "execution_count": 5
        }
      ],
      "source": [
        "pt.Experiment(\n",
        "    [TF_IDF,BM25,PL2],\n",
        "    vaswani.get_topics(),\n",
        "    vaswani.get_qrels(),\n",
        "    ['map','ndcg'],\n",
        "    baseline=0)"
      ]
    },
    {
      "source": [
        "We can also apply correcion for multiple testing. Use the `correction=` kwarg - 'b' is a short hand for 'bonferroni'. The additional columns\n",
        "\"map p-value corrected\" \"map reject\" are added. The former shows what the new, adjusted, p-value is, and the latter shows if the \n",
        "null hypothesis can rejected at $\\alpha=0.05$."
      ],
      "cell_type": "markdown",
      "metadata": {}
    },
    {
      "source": [
        "pt.Experiment(\n",
        "    [TF_IDF,BM25,PL2],\n",
        "    vaswani.get_topics(),\n",
        "    vaswani.get_qrels(),\n",
        "    ['map','ndcg'],\n",
        "    baseline=0,\n",
        "    correction='b')"
      ],
      "cell_type": "code",
      "metadata": {},
      "execution_count": 6,
      "outputs": [
        {
          "output_type": "execute_result",
          "data": {
            "text/plain": [
              "         name       map      ndcg  map +  map -  map p-value  map reject  \\\n",
              "0  BR(TF_IDF)  0.290905  0.615367    NaN    NaN          NaN       False   \n",
              "1    BR(BM25)  0.296517  0.621197   46.0   45.0     0.237317       False   \n",
              "2     BR(PL2)  0.276264  0.601225   13.0   77.0     0.008827        True   \n",
              "\n",
              "   map p-value corrected  ndcg +  ndcg -  ndcg p-value  ndcg reject  \\\n",
              "0                    NaN     NaN     NaN           NaN        False   \n",
              "1               0.711951    45.0    46.0      0.143493        False   \n",
              "2               0.026482    17.0    73.0      0.002583         True   \n",
              "\n",
              "   ndcg p-value corrected  \n",
              "0                     NaN  \n",
              "1                 0.43048  \n",
              "2                 0.00775  "
            ],
            "text/html": "<div>\n<style scoped>\n    .dataframe tbody tr th:only-of-type {\n        vertical-align: middle;\n    }\n\n    .dataframe tbody tr th {\n        vertical-align: top;\n    }\n\n    .dataframe thead th {\n        text-align: right;\n    }\n</style>\n<table border=\"1\" class=\"dataframe\">\n  <thead>\n    <tr style=\"text-align: right;\">\n      <th></th>\n      <th>name</th>\n      <th>map</th>\n      <th>ndcg</th>\n      <th>map +</th>\n      <th>map -</th>\n      <th>map p-value</th>\n      <th>map reject</th>\n      <th>map p-value corrected</th>\n      <th>ndcg +</th>\n      <th>ndcg -</th>\n      <th>ndcg p-value</th>\n      <th>ndcg reject</th>\n      <th>ndcg p-value corrected</th>\n    </tr>\n  </thead>\n  <tbody>\n    <tr>\n      <th>0</th>\n      <td>BR(TF_IDF)</td>\n      <td>0.290905</td>\n      <td>0.615367</td>\n      <td>NaN</td>\n      <td>NaN</td>\n      <td>NaN</td>\n      <td>False</td>\n      <td>NaN</td>\n      <td>NaN</td>\n      <td>NaN</td>\n      <td>NaN</td>\n      <td>False</td>\n      <td>NaN</td>\n    </tr>\n    <tr>\n      <th>1</th>\n      <td>BR(BM25)</td>\n      <td>0.296517</td>\n      <td>0.621197</td>\n      <td>46.0</td>\n      <td>45.0</td>\n      <td>0.237317</td>\n      <td>False</td>\n      <td>0.711951</td>\n      <td>45.0</td>\n      <td>46.0</td>\n      <td>0.143493</td>\n      <td>False</td>\n      <td>0.43048</td>\n    </tr>\n    <tr>\n      <th>2</th>\n      <td>BR(PL2)</td>\n      <td>0.276264</td>\n      <td>0.601225</td>\n      <td>13.0</td>\n      <td>77.0</td>\n      <td>0.008827</td>\n      <td>True</td>\n      <td>0.026482</td>\n      <td>17.0</td>\n      <td>73.0</td>\n      <td>0.002583</td>\n      <td>True</td>\n      <td>0.00775</td>\n    </tr>\n  </tbody>\n</table>\n</div>"
          },
          "metadata": {},
          "execution_count": 6
        }
      ]
    }
  ],
  "metadata": {
    "colab": {
      "name": "Experiment Example.ipynb",
      "provenance": [],
      "collapsed_sections": []
    },
    "kernelspec": {
      "name": "python3",
      "display_name": "Python 3",
      "language": "python"
    }
  },
  "nbformat": 4,
  "nbformat_minor": 0
}