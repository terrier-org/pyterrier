{
 "cells": [
  {
   "cell_type": "markdown",
   "metadata": {
    "id": "fevT6045bc8C"
   },
   "source": [
    "# Non-English Retrieval\n",
    "\n",
    "PyTerrier uses default settings that are conducive to text written in English. In this notebook, we show how to use it for non-English text.\n",
    "\n",
    "First, install pyterrier from pip:"
   ]
  },
  {
   "cell_type": "code",
   "execution_count": 1,
   "metadata": {
    "colab": {
     "base_uri": "https://localhost:8080/"
    },
    "id": "QSO4VT-ChWrq",
    "outputId": "71ccc073-3617-40bd-f2ce-84ac62cd99c9"
   },
   "outputs": [],
   "source": [
    "!pip install -q --upgrade python-terrier"
   ]
  },
  {
   "cell_type": "markdown",
   "metadata": {
    "id": "V4P8H6nnb9aN"
   },
   "source": [
    "Import and initialize pyterrier and other needed packages."
   ]
  },
  {
   "cell_type": "code",
   "execution_count": 2,
   "metadata": {
    "colab": {
     "base_uri": "https://localhost:8080/"
    },
    "id": "SnEjiw0qhdpU",
    "outputId": "2a4a9c29-c554-4a3a-d4e1-3873809b0c85"
   },
   "outputs": [
    {
     "name": "stdout",
     "output_type": "stream",
     "text": [
      "PyTerrier 0.6.0 has loaded Terrier 5.5 (built by craigmacdonald on 2021-05-20 13:12)\n"
     ]
    }
   ],
   "source": [
    "import os\n",
    "import multiprocessing\n",
    "import nltk\n",
    "from nltk.stem import SnowballStemmer\n",
    "from nltk import word_tokenize\n",
    "from nltk.corpus import stopwords\n",
    "import pyterrier as pt\n",
    "if not pt.started():\n",
    "    pt.init()\n",
    "from pyterrier.measures import *"
   ]
  },
  {
   "cell_type": "markdown",
   "metadata": {
    "id": "9ZpRzPDWcIJo"
   },
   "source": [
    "For these examples, we will use the [WikIR multi-lingual retrieval benchmarks](https://ir-datasets.com/wikir.html). They test a search engine's ability to retrieve the lead paragrahs from Wikipedia articles based on the article's title (or links to the corresponding article in the first sentence.) More details about these datasets can be found in this article:\n",
    "> Jibril Frej, Didier Schwab, and Jean-Pierre Chevallet. [MLWIKIR: A Python toolkit for building large-scaleWikipedia-based Information Retrieval Datasets in Chinese,English, French, Italian, Japanese, Spanish and more](https://www.irit.fr/CIRCLE/wp-content/uploads/2020/06/CIRCLE20_22.pdf). CIRCLE 2020."
   ]
  },
  {
   "cell_type": "code",
   "execution_count": 3,
   "metadata": {
    "id": "FJDOjxgmhgfM"
   },
   "outputs": [],
   "source": [
    "# Spanish test set\n",
    "dataset = pt.get_dataset('irds:wikir/es13k/test')"
   ]
  },
  {
   "cell_type": "markdown",
   "metadata": {
    "id": "mIxpLaMfdjsa"
   },
   "source": [
    "The dataset contains 645,901 documents.\n",
    "\n",
    "We will now construct 3 versions of the index using different pre-processing techniques:\n",
    " 1. No stemming (indexing time: ~2minutes)\n",
    " 2. Stemming with Terrier's [Spanish Snowball Stemmer](http://terrier.org/docs/v5.2/javadoc/org/terrier/terms/SpanishSnowballStemmer.html) (indexing time: 2mins 47secs)\n",
    " 3. Pre-processing as described in the original paper using nltk (indexing time: 2minutes 36 seconds w/ multiprocessing over 16 cores)"
   ]
  },
  {
   "cell_type": "code",
   "execution_count": 4,
   "metadata": {
    "colab": {
     "base_uri": "https://localhost:8080/",
     "height": 142,
     "referenced_widgets": [
      "66af2780b6ec4aa184b17a68dc7d6db3",
      "6e403236818f4cca83c25c763f70a2df",
      "5d3f8c85d267412b91de563c053688b0",
      "32cf03a42936452ebe285410faba36e3",
      "fa1ce5c1af7040f0afb92395380d0c18",
      "d414e40f492d417e94b867a29a6f7d98",
      "870848d8dbca4fd2a5821c47a92b3d7d",
      "676d27f73ce8458cbd7d7b9c4de6e559"
     ]
    },
    "id": "uWvqAPyOilAV",
    "outputId": "49aaa684-9f76-47d2-9c3f-ec5cecb0e6c4"
   },
   "outputs": [
    {
     "name": "stderr",
     "output_type": "stream",
     "text": [
      "wikir/es13k/test documents: 645901it [02:06, 5103.42it/s]\n"
     ]
    }
   ],
   "source": [
    "# No Stemming\n",
    "if not os.path.exists('./wikir-es13k-nostem'):\n",
    "    indexer = pt.IterDictIndexer('./wikir-es13k-nostem')\n",
    "    indexer.setProperty(\"tokeniser\", \"UTFTokeniser\") # Replaces the default EnglishTokeniser, which makes assumptions specific to English\n",
    "    indexer.setProperty(\"termpipelines\", \"\") # Removes the default PorterStemmer (English)\n",
    "    index_nostem = indexer.index(dataset.get_corpus_iter())\n",
    "else:\n",
    "    index_nostem = pt.IndexRef.of('./wikir-es13k-nostem/data.properties')"
   ]
  },
  {
   "cell_type": "code",
   "execution_count": 5,
   "metadata": {
    "colab": {
     "base_uri": "https://localhost:8080/",
     "height": 67,
     "referenced_widgets": [
      "8fbb6ae0448343be8821fdc6084b8bff",
      "3862a47ade8342fe84d0c0cc2f7af9c5",
      "90039bed807a486ba14854da473db23a",
      "b658493d8fba4f3aa2326a10eb319bce",
      "eb27986ac2294c7781c6232aa3852d40",
      "4543e68e5ea04029b1799b80cf4738f4",
      "9334bae880274083bdd3f840c7cfd601",
      "6c4719d48396480fa4b0cd2639787511"
     ]
    },
    "id": "RuWasJSKitW6",
    "outputId": "87f4c191-dcf6-486d-aa88-44c39b1a4790"
   },
   "outputs": [
    {
     "name": "stderr",
     "output_type": "stream",
     "text": [
      "wikir/es13k/test documents: 645901it [02:47, 3865.21it/s]\n"
     ]
    }
   ],
   "source": [
    "# Spanish Snowball Stemmer\n",
    "if not os.path.exists('./wikir-es13k-stem'):\n",
    "    indexer = pt.IterDictIndexer('./wikir-es13k-stem')\n",
    "    indexer.setProperty(\"tokeniser\", \"UTFTokeniser\")  # Replaces the default EnglishTokeniser, which makes assumptions specific to English\n",
    "    indexer.setProperty(\"termpipelines\", \"SpanishSnowballStemmer\") # Applies Terrier's SpanishSnowballStemmer (replacing PorterStemmer)\n",
    "    index_stem = indexer.index(dataset.get_corpus_iter())\n",
    "else:\n",
    "    index_stem = pt.IndexRef.of('./wikir-es13k-stem/data.properties')"
   ]
  },
  {
   "cell_type": "markdown",
   "metadata": {
    "id": "3TNwxmgq3H-x"
   },
   "source": [
    "We now define a custom pre-processor for spanish text, based on the methodology reported in the MLWikIR paper. Specifically, we use `nltk` to perform stemming and stop word removal.\n",
    "\n",
    "While this largely has the same effect as using Terrier's functionality for Spanish, you may need to use such an approach to handle languages that do not have built-in support in Terrier."
   ]
  },
  {
   "cell_type": "code",
   "execution_count": 6,
   "metadata": {
    "colab": {
     "base_uri": "https://localhost:8080/"
    },
    "id": "z2AOcV8bf4tB",
    "outputId": "3537119a-66d0-4104-ee66-c87a3d9f321a"
   },
   "outputs": [
    {
     "name": "stderr",
     "output_type": "stream",
     "text": [
      "[nltk_data] Downloading package stopwords to /home/sean/nltk_data...\n",
      "[nltk_data]   Package stopwords is already up-to-date!\n",
      "[nltk_data] Downloading package punkt to /home/sean/nltk_data...\n",
      "[nltk_data]   Package punkt is already up-to-date!\n"
     ]
    }
   ],
   "source": [
    "nltk.download('stopwords')\n",
    "nltk.download('punkt')\n",
    "es_stemer = SnowballStemmer('spanish')\n",
    "es_stopwords = set(stopwords.words('spanish'))\n",
    "def es_preprocess(text):\n",
    "    toks = word_tokenize(text) # tokenize\n",
    "    toks = [t for t in toks if t.lower() not in es_stopwords] # remove stop words\n",
    "    toks = [es_stemer.stem(t) for t in toks] # stem\n",
    "    return ' '.join(toks) # combine toks back into a string"
   ]
  },
  {
   "cell_type": "code",
   "execution_count": 7,
   "metadata": {
    "colab": {
     "base_uri": "https://localhost:8080/",
     "height": 104,
     "referenced_widgets": [
      "09cad0faacb44b038f860a2b94a271b2",
      "c53278fffec14623a1308175f794bbd1",
      "24a8f82290b246eba11d8ade01e04dfe",
      "9e9d342836cf424c9d26479d5becb2d8",
      "1cf49323b03245e398bc558f5d229e1f",
      "3c2060e44b154512b50b7c11dbfe612d",
      "0aae21623fa64d8f9a707e4cfac30531",
      "57018e3e13b6433da2b7fd52e03d9f06"
     ]
    },
    "id": "UhzomTyw4i6t",
    "outputId": "6b85f2ad-a9aa-4477-e076-5f8720dd44a3"
   },
   "outputs": [
    {
     "name": "stderr",
     "output_type": "stream",
     "text": [
      "wikir/es13k/test documents: 199659it [00:48, 4173.20it/s]"
     ]
    },
    {
     "name": "stdout",
     "output_type": "stream",
     "text": [
      "18:12:52.752 [ForkJoinPool-3-worker-3] WARN  o.t.structures.indexing.Indexer - Adding an empty document to the index (199767) - further warnings are suppressed\n"
     ]
    },
    {
     "name": "stderr",
     "output_type": "stream",
     "text": [
      "wikir/es13k/test documents: 645901it [02:36, 4135.70it/s]"
     ]
    },
    {
     "name": "stdout",
     "output_type": "stream",
     "text": [
      "18:14:40.608 [ForkJoinPool-3-worker-3] WARN  o.t.structures.indexing.Indexer - Indexed 1 empty documents\n"
     ]
    },
    {
     "name": "stderr",
     "output_type": "stream",
     "text": [
      "\n"
     ]
    }
   ],
   "source": [
    "# Custom Preprocessing\n",
    "# NB: This custom pre-processing ends up being considerably slower than using Terrier's built-in processor,\n",
    "# so we use the multiprocessing package to parallelize (400 docs/s vs 2000 docs/s).\n",
    "def map_es_doc(document):\n",
    "    # this function replaces the document text with the version that uses our custom pre-processing\n",
    "    return {\n",
    "        'docno': document['docno'],\n",
    "        'text': es_preprocess(document['text'])\n",
    "    }\n",
    "if not os.path.exists('./wikir-es13k-custom_stem'):\n",
    "    indexer = pt.IterDictIndexer('./wikir-es13k-custom_stem')\n",
    "    indexer.setProperty(\"tokeniser\", \"UTFTokeniser\")  # Replaces the default EnglishTokeniser, which makes assumptions specific to English\n",
    "    indexer.setProperty(\"termpipelines\", \"\") # Disable the default PorterStemmer (English)\n",
    "    with multiprocessing.Pool() as pool:\n",
    "        index_custom = indexer.index(pool.imap(map_es_doc, dataset.get_corpus_iter()))\n",
    "else:\n",
    "    index_custom = pt.IndexRef.of('./wikir-es13k-custom_stem/data.properties')"
   ]
  },
  {
   "cell_type": "markdown",
   "metadata": {
    "id": "XKCv_EbC5dJY"
   },
   "source": [
    "We now build retrieval pipelines for each version of the index. Note that the retrieval properties and pre-processing should match those used to construct the index."
   ]
  },
  {
   "cell_type": "code",
   "execution_count": 8,
   "metadata": {
    "id": "5mUUYFVc5oth"
   },
   "outputs": [
    {
     "data": {
      "text/html": [
       "<div>\n",
       "<style scoped>\n",
       "    .dataframe tbody tr th:only-of-type {\n",
       "        vertical-align: middle;\n",
       "    }\n",
       "\n",
       "    .dataframe tbody tr th {\n",
       "        vertical-align: top;\n",
       "    }\n",
       "\n",
       "    .dataframe thead th {\n",
       "        text-align: right;\n",
       "    }\n",
       "</style>\n",
       "<table border=\"1\" class=\"dataframe\">\n",
       "  <thead>\n",
       "    <tr style=\"text-align: right;\">\n",
       "      <th></th>\n",
       "      <th>qid</th>\n",
       "      <th>docid</th>\n",
       "      <th>docno</th>\n",
       "      <th>rank</th>\n",
       "      <th>score</th>\n",
       "      <th>query_0</th>\n",
       "      <th>query</th>\n",
       "    </tr>\n",
       "  </thead>\n",
       "  <tbody>\n",
       "    <tr>\n",
       "      <th>0</th>\n",
       "      <td>1</td>\n",
       "      <td>23194</td>\n",
       "      <td>23206</td>\n",
       "      <td>0</td>\n",
       "      <td>6.534872</td>\n",
       "      <td>El Centro</td>\n",
       "      <td>centr</td>\n",
       "    </tr>\n",
       "    <tr>\n",
       "      <th>1</th>\n",
       "      <td>1</td>\n",
       "      <td>207408</td>\n",
       "      <td>207768</td>\n",
       "      <td>1</td>\n",
       "      <td>6.511203</td>\n",
       "      <td>El Centro</td>\n",
       "      <td>centr</td>\n",
       "    </tr>\n",
       "    <tr>\n",
       "      <th>2</th>\n",
       "      <td>1</td>\n",
       "      <td>423971</td>\n",
       "      <td>425509</td>\n",
       "      <td>2</td>\n",
       "      <td>6.454733</td>\n",
       "      <td>El Centro</td>\n",
       "      <td>centr</td>\n",
       "    </tr>\n",
       "    <tr>\n",
       "      <th>3</th>\n",
       "      <td>1</td>\n",
       "      <td>478575</td>\n",
       "      <td>480332</td>\n",
       "      <td>3</td>\n",
       "      <td>6.406155</td>\n",
       "      <td>El Centro</td>\n",
       "      <td>centr</td>\n",
       "    </tr>\n",
       "    <tr>\n",
       "      <th>4</th>\n",
       "      <td>1</td>\n",
       "      <td>260522</td>\n",
       "      <td>261059</td>\n",
       "      <td>4</td>\n",
       "      <td>6.384291</td>\n",
       "      <td>El Centro</td>\n",
       "      <td>centr</td>\n",
       "    </tr>\n",
       "    <tr>\n",
       "      <th>...</th>\n",
       "      <td>...</td>\n",
       "      <td>...</td>\n",
       "      <td>...</td>\n",
       "      <td>...</td>\n",
       "      <td>...</td>\n",
       "      <td>...</td>\n",
       "      <td>...</td>\n",
       "    </tr>\n",
       "    <tr>\n",
       "      <th>995</th>\n",
       "      <td>1</td>\n",
       "      <td>624530</td>\n",
       "      <td>626852</td>\n",
       "      <td>995</td>\n",
       "      <td>5.382656</td>\n",
       "      <td>El Centro</td>\n",
       "      <td>centr</td>\n",
       "    </tr>\n",
       "    <tr>\n",
       "      <th>996</th>\n",
       "      <td>1</td>\n",
       "      <td>36510</td>\n",
       "      <td>36538</td>\n",
       "      <td>996</td>\n",
       "      <td>5.382656</td>\n",
       "      <td>El Centro</td>\n",
       "      <td>centr</td>\n",
       "    </tr>\n",
       "    <tr>\n",
       "      <th>997</th>\n",
       "      <td>1</td>\n",
       "      <td>574979</td>\n",
       "      <td>577139</td>\n",
       "      <td>997</td>\n",
       "      <td>5.382656</td>\n",
       "      <td>El Centro</td>\n",
       "      <td>centr</td>\n",
       "    </tr>\n",
       "    <tr>\n",
       "      <th>998</th>\n",
       "      <td>1</td>\n",
       "      <td>183209</td>\n",
       "      <td>183511</td>\n",
       "      <td>998</td>\n",
       "      <td>5.382656</td>\n",
       "      <td>El Centro</td>\n",
       "      <td>centr</td>\n",
       "    </tr>\n",
       "    <tr>\n",
       "      <th>999</th>\n",
       "      <td>1</td>\n",
       "      <td>260706</td>\n",
       "      <td>261245</td>\n",
       "      <td>999</td>\n",
       "      <td>5.382656</td>\n",
       "      <td>El Centro</td>\n",
       "      <td>centr</td>\n",
       "    </tr>\n",
       "  </tbody>\n",
       "</table>\n",
       "<p>1000 rows × 7 columns</p>\n",
       "</div>"
      ],
      "text/plain": [
       "    qid   docid   docno  rank     score    query_0  query\n",
       "0     1   23194   23206     0  6.534872  El Centro  centr\n",
       "1     1  207408  207768     1  6.511203  El Centro  centr\n",
       "2     1  423971  425509     2  6.454733  El Centro  centr\n",
       "3     1  478575  480332     3  6.406155  El Centro  centr\n",
       "4     1  260522  261059     4  6.384291  El Centro  centr\n",
       "..   ..     ...     ...   ...       ...        ...    ...\n",
       "995   1  624530  626852   995  5.382656  El Centro  centr\n",
       "996   1   36510   36538   996  5.382656  El Centro  centr\n",
       "997   1  574979  577139   997  5.382656  El Centro  centr\n",
       "998   1  183209  183511   998  5.382656  El Centro  centr\n",
       "999   1  260706  261245   999  5.382656  El Centro  centr\n",
       "\n",
       "[1000 rows x 7 columns]"
      ]
     },
     "execution_count": 8,
     "metadata": {},
     "output_type": "execute_result"
    }
   ],
   "source": [
    "bm25_nostem = pt.BatchRetrieve(index_nostem, wmodel='BM25', properties={\n",
    "    'tokeniser': 'UTFTokeniser',\n",
    "    'termpipelines': '',\n",
    "})\n",
    "bm25_nostem.search('El Centro') # example search and working around #188\n",
    "\n",
    "bm25_stem = pt.BatchRetrieve(index_stem, wmodel='BM25', properties={\n",
    "    'tokeniser': 'UTFTokeniser',\n",
    "    'termpipelines': 'SpanishSnowballStemmer',\n",
    "})\n",
    "bm25_stem.search('El Centro') # example search and working around #188\n",
    "\n",
    "# to apply the es_preprocess function to the query text, use a pt.apply.query transformer\n",
    "bm25_custom = pt.apply.query(lambda row: es_preprocess(row.query)) >> pt.BatchRetrieve(index_custom, wmodel='BM25', properties={\n",
    "    'tokeniser': 'UTFTokeniser',\n",
    "    'termpipelines': '',\n",
    "})\n",
    "bm25_custom.search('El Centro') # example search and working around #188"
   ]
  },
  {
   "cell_type": "markdown",
   "metadata": {
    "id": "-SAydVUZ6XR4"
   },
   "source": [
    "We can now test the retrieval effectiveness. We follow the MLWikIR paper and check the results in 2 settings: \"title\" and \"first_sentence\".\n",
    "\n",
    "NB: Three queries in the collection contain only stop words that are removed by the custom processor. These give warnings in the output."
   ]
  },
  {
   "cell_type": "code",
   "execution_count": 9,
   "metadata": {
    "colab": {
     "base_uri": "https://localhost:8080/",
     "height": 346
    },
    "id": "S08mnmJfiuaL",
    "outputId": "dcc3a908-896b-41e1-912b-a9bf27cc4cfe"
   },
   "outputs": [
    {
     "name": "stderr",
     "output_type": "stream",
     "text": [
      "/home/sean/miniconda3/envs/py39/lib/python3.9/site-packages/pyterrier/batchretrieve.py:189: UserWarning: Skipping empty query for qid 4263\n",
      "  warn(\"Skipping empty query for qid %s\" % qid)\n",
      "/home/sean/miniconda3/envs/py39/lib/python3.9/site-packages/pyterrier/batchretrieve.py:189: UserWarning: Skipping empty query for qid 20261\n",
      "  warn(\"Skipping empty query for qid %s\" % qid)\n",
      "/home/sean/miniconda3/envs/py39/lib/python3.9/site-packages/pyterrier/batchretrieve.py:189: UserWarning: Skipping empty query for qid 440\n",
      "  warn(\"Skipping empty query for qid %s\" % qid)\n"
     ]
    },
    {
     "data": {
      "text/html": [
       "<div>\n",
       "<style scoped>\n",
       "    .dataframe tbody tr th:only-of-type {\n",
       "        vertical-align: middle;\n",
       "    }\n",
       "\n",
       "    .dataframe tbody tr th {\n",
       "        vertical-align: top;\n",
       "    }\n",
       "\n",
       "    .dataframe thead th {\n",
       "        text-align: right;\n",
       "    }\n",
       "</style>\n",
       "<table border=\"1\" class=\"dataframe\">\n",
       "  <thead>\n",
       "    <tr style=\"text-align: right;\">\n",
       "      <th></th>\n",
       "      <th>name</th>\n",
       "      <th>nDCG@5</th>\n",
       "      <th>nDCG@10</th>\n",
       "      <th>nDCG@20</th>\n",
       "      <th>NumQ</th>\n",
       "    </tr>\n",
       "  </thead>\n",
       "  <tbody>\n",
       "    <tr>\n",
       "      <th>0</th>\n",
       "      <td>nostem</td>\n",
       "      <td>0.2790</td>\n",
       "      <td>0.3202</td>\n",
       "      <td>0.3456</td>\n",
       "      <td>1298.0</td>\n",
       "    </tr>\n",
       "    <tr>\n",
       "      <th>1</th>\n",
       "      <td>stem</td>\n",
       "      <td>0.2656</td>\n",
       "      <td>0.3049</td>\n",
       "      <td>0.3307</td>\n",
       "      <td>1299.0</td>\n",
       "    </tr>\n",
       "    <tr>\n",
       "      <th>2</th>\n",
       "      <td>custom</td>\n",
       "      <td>0.3014</td>\n",
       "      <td>0.3377</td>\n",
       "      <td>0.3621</td>\n",
       "      <td>1296.0</td>\n",
       "    </tr>\n",
       "  </tbody>\n",
       "</table>\n",
       "</div>"
      ],
      "text/plain": [
       "     name  nDCG@5  nDCG@10  nDCG@20    NumQ\n",
       "0  nostem  0.2790   0.3202   0.3456  1298.0\n",
       "1    stem  0.2656   0.3049   0.3307  1299.0\n",
       "2  custom  0.3014   0.3377   0.3621  1296.0"
      ]
     },
     "execution_count": 9,
     "metadata": {},
     "output_type": "execute_result"
    }
   ],
   "source": [
    "title_qrels = dataset.get_qrels().copy()\n",
    "title_qrels.loc[title_qrels.label < 2, 'label'] = 0\n",
    "pt.Experiment(\n",
    "    [bm25_nostem, bm25_stem, bm25_custom],\n",
    "    dataset.get_topics(),\n",
    "    title_qrels,\n",
    "    [nDCG@5, nDCG@10, nDCG@20, NumQ],\n",
    "    names=['nostem', 'stem', 'custom'],\n",
    "    round=4\n",
    ")"
   ]
  },
  {
   "cell_type": "code",
   "execution_count": 10,
   "metadata": {
    "colab": {
     "base_uri": "https://localhost:8080/",
     "height": 254
    },
    "id": "Psm_jAHyjZEO",
    "outputId": "b0fd2343-350a-45a9-9e6d-7f1c15f2c56b"
   },
   "outputs": [
    {
     "name": "stderr",
     "output_type": "stream",
     "text": [
      "/home/sean/miniconda3/envs/py39/lib/python3.9/site-packages/pyterrier/batchretrieve.py:189: UserWarning: Skipping empty query for qid 4263\n",
      "  warn(\"Skipping empty query for qid %s\" % qid)\n",
      "/home/sean/miniconda3/envs/py39/lib/python3.9/site-packages/pyterrier/batchretrieve.py:189: UserWarning: Skipping empty query for qid 20261\n",
      "  warn(\"Skipping empty query for qid %s\" % qid)\n",
      "/home/sean/miniconda3/envs/py39/lib/python3.9/site-packages/pyterrier/batchretrieve.py:189: UserWarning: Skipping empty query for qid 440\n",
      "  warn(\"Skipping empty query for qid %s\" % qid)\n"
     ]
    },
    {
     "data": {
      "text/html": [
       "<div>\n",
       "<style scoped>\n",
       "    .dataframe tbody tr th:only-of-type {\n",
       "        vertical-align: middle;\n",
       "    }\n",
       "\n",
       "    .dataframe tbody tr th {\n",
       "        vertical-align: top;\n",
       "    }\n",
       "\n",
       "    .dataframe thead th {\n",
       "        text-align: right;\n",
       "    }\n",
       "</style>\n",
       "<table border=\"1\" class=\"dataframe\">\n",
       "  <thead>\n",
       "    <tr style=\"text-align: right;\">\n",
       "      <th></th>\n",
       "      <th>name</th>\n",
       "      <th>nDCG@5</th>\n",
       "      <th>nDCG@10</th>\n",
       "      <th>nDCG@20</th>\n",
       "      <th>NumQ</th>\n",
       "    </tr>\n",
       "  </thead>\n",
       "  <tbody>\n",
       "    <tr>\n",
       "      <th>0</th>\n",
       "      <td>nostem</td>\n",
       "      <td>0.2738</td>\n",
       "      <td>0.2677</td>\n",
       "      <td>0.2825</td>\n",
       "      <td>1298.0</td>\n",
       "    </tr>\n",
       "    <tr>\n",
       "      <th>1</th>\n",
       "      <td>stem</td>\n",
       "      <td>0.2580</td>\n",
       "      <td>0.2526</td>\n",
       "      <td>0.2670</td>\n",
       "      <td>1299.0</td>\n",
       "    </tr>\n",
       "    <tr>\n",
       "      <th>2</th>\n",
       "      <td>custom</td>\n",
       "      <td>0.2855</td>\n",
       "      <td>0.2759</td>\n",
       "      <td>0.2871</td>\n",
       "      <td>1296.0</td>\n",
       "    </tr>\n",
       "  </tbody>\n",
       "</table>\n",
       "</div>"
      ],
      "text/plain": [
       "     name  nDCG@5  nDCG@10  nDCG@20    NumQ\n",
       "0  nostem  0.2738   0.2677   0.2825  1298.0\n",
       "1    stem  0.2580   0.2526   0.2670  1299.0\n",
       "2  custom  0.2855   0.2759   0.2871  1296.0"
      ]
     },
     "execution_count": 10,
     "metadata": {},
     "output_type": "execute_result"
    }
   ],
   "source": [
    "pt.Experiment(\n",
    "    [bm25_nostem, bm25_stem, bm25_custom],\n",
    "    dataset.get_topics(),\n",
    "    dataset.get_qrels(),\n",
    "    [nDCG@5, nDCG@10, nDCG@20, NumQ],\n",
    "    names=['nostem', 'stem', 'custom'],\n",
    "    round=4\n",
    ")"
   ]
  },
  {
   "cell_type": "markdown",
   "metadata": {
    "id": "QNQlzTj27ZPo"
   },
   "source": [
    "These results are similar to those reported for BM25 by the original authors. In fact, using the custom processing technique reports higher performance than what was originally reported (e.g., title nDCG@5 0.2793 -> 0.3014).\n",
    "\n",
    "![screenshot.png](data:image/png;base64,iVBORw0KGgoAAAANSUhEUgAABToAAADeCAYAAAAdOb/+AAAMYmlDQ1BJQ0MgUHJvZmlsZQAASImVVwdYU1cbPndkkrACEZAR9hJlE0BGCCuCgExBVEISSBgxJgQVN1qqYN0iihOtiiharYDUgYh1FsVtHcWBSqUWq7hQ+U8GaO0/nv97nnPPm+98O+fcez4A9Dr5MlkBqg9AobRInhgVxhqfnsEidQEMUIEhMAZefIFCxklIiAWQBue/0+vrAFHNV9xUtv65/l/JUChSCABAMiHOFioEhRC3AICXCmTyIgCI4ZBvO61IpsJiiI3kMECIZ6lwrgYvV+FsDd6ulklO5ELcBACZxufLcwHQbYN8VrEgF9rRfQSxu1QokQKgZwRxsEDMF0KcDPGIwsIpKjwPYicoL4N4F8Ts7C9s5v7NfvaQfT4/dwhr8lITOVyikBXwZ/yfpfnfVFigHPThAAdNLI9OVOUPa3gzf0qMCtMg7pFmx8Wrag3xW4lQU3cAUKpYGZ2ikUfNBQourB9gQuwu5IfHQGwOcaS0IC5Wy8/OkUTyIIa7BZ0uKeIla3UXiRQRSVqbG+RTEuMHcY6cy9Hq1vPlar8q+TZlfgpHa/+mWMQbtP+qRJycBjEVAIxaLEmNg1gXYiNFflKMRgazKRFz4wZl5MpEVfx2ELNF0qgwjX0sM0cemaiVlxUqBvPFysQSXpwWVxWJk6M19cF2C/jq+E0gbhBJOSmDdkSK8bGDuQhF4RGa3LF2kTRFmy92T1YUlqjV7ZUVJGjlcbKoIErFt4HYTFGcpNXFRxfBzamxj8fKihKSNXHiWXn8MQmaePBiEAu4IBywgBKObDAF5AFJe09jD/ylWYkEfCAHuUAE3LScQY009YoUPpNACfgDIhFQDOmFqVdFoBjyPw5xNU83kKNeLVZr5IPHEBeCGFAAfyvVWtIhb6ngEeRI/uFdAGMtgEO19k8eB3JitRzloF2W3qAkMYIYTowmRhKdcTM8GA/EY+EzFA5PnI37D0b7WZ7wmNBBeEC4Rugk3JosKZV/FctY0AntR2ozzv4yY9wB2vTBw/AgaB1axpm4GXDDvaEfDh4CPftALlcbtyp31r/JcyiDL2qulaO4U1DKMEooxelrTV0XXZ8hK6qKflkfTazZQ1XlDq187Z/7RZ2FcI75WhJbhB3ETmMnsLPYEawRsLDjWBN2ATuqwkN76JF6Dw16S1THkw/tSP7hj6/1qaqkwr3Ovdv9g3YNFImmF6kOGHeKbIZckisuYnHgV0DE4kkFI0ewPN09PQBQfVM0r6mXTPW3AmGe+8xbcAiAoGMDAwM/febFwHf6QUd4zC995jmugO/i4QCc2SpQyos1PFz1IMC3gR48UabAEtgCJ5iRJ/AFgSAURIAxIB4kg3QwCdZZDPezHEwDs8B8UAYqwHKwBqwHm8E2sAvsBQdAIzgCToCfwXlwCVwDt+H+6QLPQC94DfoRBCEhdISBmCJWiD3iingibCQYiUBikUQkHclCchEpokRmIQuQCmQlsh7ZitQiPyCHkRPIWaQDuYXcR7qRv5D3KIbSUCPUAnVAR6FslIPGoMnoRDQXnYqWoAvRpWgVWoPuQRvQE+h59BraiT5D+zCA6WBMzBpzw9gYF4vHMrAcTI7NwcqxSqwGq8ea4T99BevEerB3OBFn4CzcDe7haDwFF+BT8Tn4Enw9vgtvwNvwK/h9vBf/RKATzAmuhAACjzCekEuYRigjVBJ2EA4RTsHT1EV4TSQSmURHoh88jenEPOJM4hLiRuI+Yguxg/iQ2EcikUxJrqQgUjyJTyoilZHWkfaQjpMuk7pIb8k6ZCuyJzmSnEGWkkvJleTd5GPky+Qn5H6KPsWeEkCJpwgpMyjLKNspzZSLlC5KP9WA6kgNoiZT86jzqVXUeuop6h3qSx0dHRsdf51xOhKdeTpVOvt1zujc13lHM6S50Li0TJqStpS2k9ZCu0V7SafTHeih9Ax6EX0pvZZ+kn6P/laXoTtSl6cr1J2rW63boHtZ97keRc9ej6M3Sa9Er1LvoN5FvR59ir6DPlefrz9Hv1r/sP4N/T4DhoGHQbxBocESg90GZw2eGpIMHQwjDIWGCw23GZ40fMjAGLYMLkPAWMDYzjjF6DIiGjka8YzyjCqM9hq1G/UaGxp7G6caTzeuNj5q3MnEmA5MHrOAuYx5gHmd+X6YxTDOMNGwxcPqh10e9sZkuEmoicik3GSfyTWT96Ys0wjTfNMVpo2md81wMxezcWbTzDaZnTLrGW40PHC4YHj58APDfzVHzV3ME81nmm8zv2DeZ2FpEWUhs1hncdKix5JpGWqZZ7na8phltxXDKthKYrXa6rjV7yxjFodVwKpitbF6rc2to62V1lut2637bRxtUmxKbfbZ3LWl2rJtc2xX27ba9tpZ2Y21m2VXZ/erPcWebS+2X2t/2v6Ng6NDmsO3Do0OTx1NHHmOJY51jnec6E4hTlOdapyuOhOd2c75zhudL7mgLj4uYpdql4uuqKuvq8R1o2vHCMII/xHSETUjbrjR3DhuxW51bvdHMkfGjiwd2Tjy+Si7URmjVow6PeqTu497gft299sehh5jPEo9mj3+8nTxFHhWe171ontFes31avJ64e3qLfLe5H3Th+Ez1udbn1afj75+vnLfet9uPzu/LL8NfjfYRuwE9hL2GX+Cf5j/XP8j/u8CfAOKAg4E/BnoFpgfuDvw6WjH0aLR20c/DLIJ4gdtDeoMZgVnBW8J7gyxDuGH1IQ8CLUNFYbuCH3CcebkcfZwnoe5h8nDDoW94QZwZ3NbwrHwqPDy8PYIw4iUiPUR9yJtInMj6yJ7o3yiZka1RBOiY6JXRN/gWfAEvFpe7xi/MbPHtMXQYpJi1sc8iHWJlcc2j0XHjhm7auydOPs4aVxjPIjnxa+Kv5vgmDA14adxxHEJ46rHPU70SJyVeDqJkTQ5aXfS6+Sw5GXJt1OcUpQpral6qZmptalv0sLTVqZ1jh81fvb48+lm6ZL0pgxSRmrGjoy+CRET1kzoyvTJLMu8PtFx4vSJZyeZTSqYdHSy3mT+5INZhKy0rN1ZH/jx/Bp+XzYve0N2r4ArWCt4JgwVrhZ2i4JEK0VPcoJyVuY8zQ3KXZXbLQ4RV4p7JFzJesmLvOi8zXlv8uPzd+YPFKQV7CskF2YVHpYaSvOlbVMsp0yf0iFzlZXJOqcGTF0ztVceI9+hQBQTFU1FRvDyfkHppPxGeb84uLi6+O201GkHpxtMl06/MMNlxuIZT0oiS76fic8UzGydZT1r/qz7szmzt85B5mTPaZ1rO3fh3K55UfN2zafOz5//S6l76crSVwvSFjQvtFg4b+HDb6K+qSvTLZOX3fg28NvNi/BFkkXti70Wr1v8qVxYfq7CvaKy4sMSwZJz33l8V/XdwNKcpe3LfJdtWk5cLl1+fUXIil0rDVaWrHy4auyqhtWs1eWrX62ZvOZspXfl5rXUtcq1nVWxVU3r7NYtX/dhvXj9teqw6n0bzDcs3vBmo3Dj5U2hm+o3W2yu2Px+i2TLza1RWxtqHGoqtxG3FW97vD11++nv2d/X7jDbUbHj407pzs5dibvaav1qa3eb715Wh9Yp67r3ZO65tDd8b1O9W/3Wfcx9FfvBfuX+33/I+uH6gZgDrQfZB+t/tP9xwyHGofIGpGFGQ2+juLGzKb2p4/CYw63Ngc2Hfhr5084j1keqjxofXXaMemzhsYHjJcf7WmQtPSdyTzxsndx6++T4k1fbxrW1n4o5debnyJ9PnuacPn4m6MyRswFnD59jn2s873u+4YLPhUO/+PxyqN23veGi38WmS/6XmjtGdxy7HHL5xJXwKz9f5V09fy3uWsf1lOs3b2Te6LwpvPn0VsGtF78W/9p/e94dwp3yu/p3K++Z36v5zfm3fZ2+nUfvh9+/8CDpwe2HgofPHikefeha+Jj+uPKJ1ZPap55Pj3RHdl/6fcLvXc9kz/p7yv4w+GPDc6fnP/4Z+ueF3vG9XS/kLwb+WvLS9OXOV96vWvsS+u69Lnzd/6b8renbXe/Y706/T3v/pH/aB9KHqo/OH5s/xXy6M1A4MCDjy/nqqwAGB5qTA8BfOwGgpwPAuATvDxM0PZ+aEE2fqkbgP2FNX6gmXwDq4aS6rnNbANgPh0OouiUBqqt6cihAvbyGhpYUOV6eGls02PEQ3g4MvLQAgNQMwEf5wED/xoGBj7BHxW4B0DJV02uqiAh7gy2qXhfcWjVxHviKNH3oFzl+PQNVBN7g6/lf8+aI1u88I08AAACWZVhJZk1NACoAAAAIAAUBEgADAAAAAQABAAABGgAFAAAAAQAAAEoBGwAFAAAAAQAAAFIBKAADAAAAAQACAACHaQAEAAAAAQAAAFoAAAAAAAAAkAAAAAEAAACQAAAAAQADkoYABwAAABIAAACEoAIABAAAAAEAAAU6oAMABAAAAAEAAADeAAAAAEFTQ0lJAAAAU2NyZWVuc2hvdHogVLkAAAAJcEhZcwAAFiUAABYlAUlSJPAAAAJ0aVRYdFhNTDpjb20uYWRvYmUueG1wAAAAAAA8eDp4bXBtZXRhIHhtbG5zOng9ImFkb2JlOm5zOm1ldGEvIiB4OnhtcHRrPSJYTVAgQ29yZSA1LjQuMCI+CiAgIDxyZGY6UkRGIHhtbG5zOnJkZj0iaHR0cDovL3d3dy53My5vcmcvMTk5OS8wMi8yMi1yZGYtc3ludGF4LW5zIyI+CiAgICAgIDxyZGY6RGVzY3JpcHRpb24gcmRmOmFib3V0PSIiCiAgICAgICAgICAgIHhtbG5zOnRpZmY9Imh0dHA6Ly9ucy5hZG9iZS5jb20vdGlmZi8xLjAvIgogICAgICAgICAgICB4bWxuczpleGlmPSJodHRwOi8vbnMuYWRvYmUuY29tL2V4aWYvMS4wLyI+CiAgICAgICAgIDx0aWZmOk9yaWVudGF0aW9uPjE8L3RpZmY6T3JpZW50YXRpb24+CiAgICAgICAgIDx0aWZmOlJlc29sdXRpb25Vbml0PjI8L3RpZmY6UmVzb2x1dGlvblVuaXQ+CiAgICAgICAgIDxleGlmOlVzZXJDb21tZW50PlNjcmVlbnNob3Q8L2V4aWY6VXNlckNvbW1lbnQ+CiAgICAgICAgIDxleGlmOlBpeGVsWERpbWVuc2lvbj4xMzUyPC9leGlmOlBpeGVsWERpbWVuc2lvbj4KICAgICAgICAgPGV4aWY6UGl4ZWxZRGltZW5zaW9uPjk2ODwvZXhpZjpQaXhlbFlEaW1lbnNpb24+CiAgICAgIDwvcmRmOkRlc2NyaXB0aW9uPgogICA8L3JkZjpSREY+CjwveDp4bXBtZXRhPgrIvxRmAABAAElEQVR4AexdB9gVxdUeRBDFYEUsUSwxFkSCvbcISmxREjUqv72iqCSKGgv2rigW7DX23gsI9i4qIqgo9l7QYLDE7H/e0TPOzt2937373bL33vc8z/ft7LSdeWfu2dkzZ87pEAkZEhEgAkSACBABIkAEiAARIAJEgAgQASJABIgAESACRKCBEZipgdvOphMBIkAEiAARaGkE3n//ffP555+3NAbsPBEgAs2DAHla84wle0IEiEDbCJDntY0RcxCBLAjMnKUQyxABIkAEiAARIAK1ReC6664zEydONB999JH58MMPzfPPP28+/fRTs/fee5vzzjuvto3h04gAESAC7USAPK2dALI4ESACDYUAeV5DDRcb2+AIUNDZ4API5hMBIkAEiEBrIHD11Vebu+++u6CzXbp0KYhjBBEgAkQg7wiQp+V9hNg+IkAEKokAeV4l0WRdRKA4AhR0FseHqUSACBABIkAEcoHAXXfdZXDEacUVV7SanNqozp07azDX16+++sqMGTPGPPjgg+add94x7733nvnmm29Mz549zeKLL27/1llnHbPeeuuZmWYqz7LO0UcfbX7zm9+Y+eabz8w555xm5plnNv/5z39s/aoB27VrV3PMMceYRsEr14PJxhGBCiBAnlYeiNDkv/feey1/3Hnnndss/Mknn5hnn33Wav+DJ66++upm5ZVXtryyzcLMQASIQMURIM8rDil43CuvvGImTZpkTy/NO++8ButCrHs7duxYtDDczrz55puW57388stmwQUXtDyvT58+plOnTkXLMrE5EaCgsznHlb0iAkSACBCBJkTgt7/9rVlzzTXNrbfe6nqX9wUcBJrHHnusueiii1yb0Y811ljDzDrrrGb8+PHmqquucmkQeh5wwAFm1113NbPNNpuLTwt8++23Zvjw4WnJsXi0g0QEiEB+ECBPKz4W+HgfN26cOf/8882NN95oMy+77LKmmKDzhx9+MPvvv78ZNWpUQeXYELrmmmvMpptuWpDGCCJABKqPAHleIcbYCMc67uyzzy5MlBisC7FOxLoxibChvdVWW5mnnnqqIBn88uabbzZLL710QRojmhwBeF0nEQEiQASIABEgAo2BwHbbbRfJ0sT9HX744blt+DnnnOPaiTbLx3okdkUL2ival9EZZ5wRyUe4y7/88stHb7zxRkHeMELslroyPi5heO211w6L8p4IEIEcIECeVjgIn332WTRixIjo97//fQF/69evX2GBX2K++OKLCLxO+R/Kv/TSS9Fhhx3m4pB24oknptbBBCJABKqLAHner/h++eWXkQgyHX8699xzIxFcRldeeaWLU372+OOP/1rwl9CLL74YyWkelxfYTpgwIRowYICLQ3k5UVRQlhHNjYBp7u6xd0SACBABIkAEmguBPCyQf/rpp6Kg/vjjj9Eee+zhFpkbbLBBNHXq1KJlkIiP+7322suVg+ATH+nFSI6C2fxY6G622WaRHH2PROs1kiOa0WqrrRbh2QMHDozENlaxaphGBIhAnRAgT4sD7/NA/cD3r3/961/jBby7fffd1/FPlHnyySdtKngyNo/8euSYp1eSQSJABGqFAHner0hvu+22ji/tsssuvyZI6IQTTnBp4F3YuPHpv//9byQamy4P1oxff/21zSKmnly8lgUfJLUOAuUZwZJZQiICRIAIEAEiQARaD4EZM2aYkSNHmj/+8Y/WVhLsHsGWUhKJ9pC58MILbRK8wsMu56KLLpqUNRYHe0w4oikfATb+3//+t9lyyy3NtGnTYvn8m7ffftveijDT3HHHHWbs2LHmscceM88884yRj3xrF/Smm24y22+/vV+MYSJABIiAPdK4zTbbWNu+PXr0cMfDQ2hqydPUZIcINI1oxRv5uI81B8fPkwhmQpBfCUdkZbPH3sJGJ+rzqVSTH34ZhokAEWhsBHCMOy88D7bU4YleabHFFtOgvYbrttdff92IBqjLAzNOr776qrsXoanp1q2bvV9ooYWszXdNRFnREtVbXlsAAdrobIFBZheJABEgAkSg+gjALpoco7Y2giB8O+KII8zss89uHzxlyhRzyy23GDiHwEcr7KNhEdYWTZ8+3cixHPPcc8+Zt956y0AQOHny5LaKufTvv//e2sB84YUXjBwDNwsvvLBZZpllrJ1PXQy6zL8EPvjgA+vwQjQwrTMfOPFZZJFFzFlnnWWwUFSCsffTTz/dXHbZZRplr7Ajd+qpp9owPrRPOeWUsp0LQUiKfmMBi34DSwhZkwjpoKWWWiopmXFEgAhkROB///ufAR+A3bPnn3/eiJa2s3MGm2r4rcNpBPiDaFKbvn37tvmkevA02PG98847LQ8U0xnWNjDafN9995m7777btRkbK6IRWSAQrDVPO+6448zxxx9vunTpYtsGnu/z3g4dOrg2+4HTTjvNv7VOPPyIdddd17+1Nu9OOukk67QjlsAbItCiCDTLOq5ReB7WqD75QkzEJ62T4ZRz7rnntsWOOuoov7h1tuZHbLjhhtbGscadfPLJRrRG9ZbXZkegdZRX2VMiQASIABEgApVHQBzcxI7OyLrBHpfBkWrYo8RRHI3TK47XiIOJoo1Jsk+k5f1rmo1OEY4m2ndDWRzzlp3w2PNhJ1O0Lwva6j8Lx79FaOpsaYrwMVaHLK5jtpJEkzOWrjeiHRqJ5mUk3tLtcfP99tsvuu222+yRI9EyiuSj3trn9J8tWp1aPHbFcXXku/322yMRzNg6xHNn1Nbx+lglvCECRMAhgN8SzD74vz+Ehw0bFsmHaSTCsYI0pJ955pmujqRArXka2gB7b+C3YV/0fqeddopg11KPdYsGeazp9eBpsQbIzdChQ2PtF0dtYRZ77x/hRP9ECBDLJxqfsXqQJ3wPxArwhgi0CALNso7DcDUazzvmmGMsX0qyyw77ncqr9Sqb8XZWwtSRxul19OjRsRl77bXXFuRJshMfK8SbpkGANjqbZijZESJABIgAEagHAhDW+YbQdcEFhxHFPrDxUQr7QiGJRkEEG2xaD4y0w84aBH1JgoIkQWe4uLvnnnsi2GPzDb6jfggtlVRgiHjYQYKdIwgM/TJYiIrWUyRaWdG7776rRd0Vgk9t96BBg1y8H5Aj5a5O4AactIxe5ai5LbLFFlu4NNEc9atxYbRVy/lXYI+6IXyh0NPBxQARaBMBbDqEQjP8thCXFO//7t55552C+uvF00TjPMYb4LgMgloIM/02iwkOy4tF8z4KbbjVg6eFAJYi6MQmj98nhCHw8Ak8PcwDG3gkItDqCDTLOq5ReV7Id3U+yomBGM/Cek/p2WefjaWBt4U23bH2DXmemDbSKnhtcgQo6GzyAWb3iAARIAJEoPoIQBsySdi50UYbWSGlHFmP5DhiwYILniFD0t1tXZyFnsd9w+3IEwo64a3SF7BCC0tJjpHH2gDNLNDDDz8ci0dbleQ4ZCzthhtu0KSCKxwAabvvvffegnQ5NuTSYYz/u+++s3l8L8EoDyPyoKuuusrlP/jgg22c/w+CYn1esav/LL88w0SACKQj4G+46O8LH5pihiOCpg0EohqvV7GxW1BhPXgaNDG1TbjCKZnS008/HUuDA580qjVPS2pHKYJObEr5/UUY/NOnJGFoEl/1yzBMBFoFgUZfxzUTz9M5F65ZIbhUEpMiBTxPTK1osr1CSSDkizhtRWoNBOiMSGY/iQgQASJABIhAexCYddZZzXLLLRerQj5OrQ04OIMQIaj55z//aUQAGcsD5xE+jR8/3hx55JEuSryHm9/97nfuHoGZZir+6j700EMNbM0p9e/fX4NGtCxjbVh11VVtGmyA+gSnHEpLL720Bu0Vzn6SSASsRnbYXdI666zjwghcf/31RoSuNg54XHDBBWaWWWax9+p8Azew66l2mUSb1Kbjn2ikurAGZGFvbZ4eeOCB1gER7mX5Zh0QaR5cr7nmGjN48GA/imEiQATaQOAPf/hDLIcI/Qxs88JB2FxzzWVE49psvfXWsTyi0Rm7rxdPg71kn+aff353K8JaF0ZAPp5j93pTD56mzy73Khr2BUWUv2pCkm3Pb775RpN5JQItjUCjr+OajefB2aVsxLg5CXvvAwYMcPfqiNJFSKBz587+rVtj+pH++tiPZ7j5EKAzouYbU/aICBABIkAE6oBA+FG5wAILFLQCHiUhKFAS23AatNfLL788dq8ec2ORbdzAo6ZPcLqhhI99CCMfeOABs8IKK1inREgLF4f4wFeC4NAn0Rzyb10YDpeUIKz0hZdIgzdMJTjNUEdNiPMX6DAerzTPPPNo0MA7Z0hwqPTaa6+F0Ua0t4xouho49VASTVQzatQoA+/DJCJABNpGoFOnTrFMcIYW8jn81n0Su2n+rakXTwt/5z7fCvmdOjSLNVxu6sHTwjaUeh/2F+U6duzYZnEId0hEgAj8jEDI3xppHRfygEbmeVjX/fGPf3TTEg4u//GPf7h7BML+Ii7keXAuFRJ5XohI895ztd+8Y8ueEQEiQASIQIMhIMdsYi1Wz5KxyCI3EFCGu9WhFim8k4ceykOBKjy0K4X1hZ57Nd/HH3+sQdOzZ08XRkDsX7l7tGf77bd399AAgxdNpbXWWkuDxtcOK8WjsysogT//+c8xQSf6AU/uK620kp+NYSJABKqIQL14Wu/evWO9evXVV939559/7sIIiH3i2L3e5I2nabuSrgsvvHBBtNi9i8WFHo6RWO47JlYhb4gAEShAgDzPmPas46AMgPK69hT77EacxhXgHK4zkUHMGcXyJW2Q4zQCqTUQKH7+rTUwYC+JABEgAkSACNQdAew8+0e/0aBw0ZbUSP84YpJ2Y6g1mlQHtDsHDhzoksS2m1EtJ19DFEJKXzPTFZCA2Nt0t7pARQQ0QsWLs0vDcVj/+P1DDz3k0hDwha5iWN6llSugDDXNUJHYb3L1MUAEiEB1EagnT4O2jzgSch0UT7tGbIva+zvvvNPFIzBkyJDYvd7kjadpu5Ku3bt3L4ieMWNGLC7pXZDEJ2OFeEMEiEDJCJDn/QxV1nUc1sC+kBNrxyQhJ56StLkT8rxwUwvlFlxwQVxILYAABZ0tMMjsIhEgAkSACOQfAV/4p60Nj4FqfNo11N5EPl8rMq0cnn3ppZdae5eaZ4kllrCanyrohL3MBx980CQd5UIZ/4MZO/Li6dxWJV4z3c48IkL7eOIh3ubDP7R/mWWWsffiOCMmIF1jjTVcvlIC4fFUlAk1WUuph3mIABHIhkA9eRpaLE6GrF1ibT02c3r16mXjEQd+A20h31yG5sU1bzzNb1sYxoYXNqx8+uCDD/xb45sk0QRfIKFxvBIBIpANAfK87Ou4p556yh5Xx0Y5ePMjjzxiNt98czcQ2PgWh5ZuTevbcNdMIY8LeSDqxdqW1BoIUNDZGuPMXhIBIkAEiEDOEYAGEpx9+CTegf3bxLAKFJGoQkI/49VXX+3fpoaxQJw2bZpN33XXXc0mm2xiBYNw9AMNz8mTJxt1XpRUiW8LFOnqaEnr1DK+zSTYwIPwVGm99dZz2p4XXXSRefzxx23SeeedZ3wHSZq/2DVJe4mCzmKIMY0IVBaBevO06dOnO8108SBvj6jjuONee+1lRowYYeDMIk1bCEjkjae1NTq77757LItvEgQJ2HTyCZtO5Ik+IgwTgfYhQJ5nTJZ13BNPPGFWX311tykO7fu11147NhgwgXTIIYe4k08wuxE6wwsFm3Bo5NOOO+5o/FNQfhrDzYcABZ3NN6bsUYsigCNW4SK2klBUu/5KtpV1EYF6IBAemQnto6FN+PD2KbwPBZ04xuPblkNZ/1g47r/66itcLMEB0PLLL6+39gqP42PGjInFwW7R3nvvbT2hIwFCQXhJx/FOaPhcfPHF5q677jJ33HGHOeOMM8wOO+xgQscksQrlJjxGhN15ULjrDuEthLPQ2AyNy6tdJzwXwggQFs177rmnDYf/zjnnHNOnTx+76x96jg/tZEF4GzoaCOvjPREgAr8iENp0TDKlEdpAC/lTvXga+Mt2223nNkuuuOIKy8/gYf388883+++/f5v2KevB035F/9cQ+LJPSR7WkQ4+DY0lJfBw4KA0btw4DdrrWWedxY/+GCK8aXUEGnkd16g8b8KECWbjjTd2Uw8bNr6WPTbH4Ujy1ltvtXmWXHJJlxd83Kf777/fvzXhPZxUkloIAbGdRSICRKDBEJCjqNGJJ54YiaZVJPbyIjmuBLfI9k928NvdG9FySK1fdsvaXT8rIALNiIAI9NzvEL9H/D59EoFALD0pj3zARvKhGssnWjfRCy+8EIngMNpyyy1jaagD+ZEmglX7OBFqFuRBvoMPPjiSD9/owgsvjJZddlmbRz76bRnZKY+Vwf2VV14ZybHySISO0cMPPxzJRkr0zTff+F0qCIvw1NWDdotgxOaRXXcXj7ZstNFG9i/sq3yoR7Lj7vKKcDISwUnBcxAhAl6XD3XiT4422bzA2ueLeI4ICxLrYSQRIALJCMhmQ+w3Br4RUr9+/YrmqRdPE9u/sXbtsssukRxTj2TjJxJtoQh8UpyTRWIeJBIBQdgtd19LnuYe6gVkMyySI/SxvoCfgf8l0UknnRTLO3bsWJsN6zrlk7gOGDAgqTjjiEBLI9DI67hG5Hlff/11AX/D2hFrXf0L14nhmhDrSZ+3oU7QTTfdFIsXz+0tPbdbsfNwElBVEo+FkeyoRoMGDYrkeEgkUvoIC6c99tgjwgcMPmiQjg8qEhGoNgL4aNf5iLmHhS/mIeajaDSV9PiJEye6+Ys5jXrwcY56RUW+pDramwlCDZ+p++FKfMyLFlmBsEWfgY8CEhEgAr8iAEGg2IIr+E1icYYPa9mNtgI48Av9HfnX4447LpIj2q7CG264ITGflgk/ejX+iCOOcHVAyKrxaVcsApVEM7LN/FoPPgRQP4SJIUHQqPlwBc8FYS2wxRZbxNJEczR68803LR/2yyAsR5aiG2+8Maw+dg/hhGivxuqcb775omOOOSZac801XTziRJMpVpY3RIAIpCPwzDPPRKHATH+j2GQVMxf274QTTnC/M03HFet8CBOV6sHTIMT021QsDF6NNZw4YNMmu2steZp7qATwThDN00g0YhP7Ad4Hvu2/O7T88OHDXRm8L84999xYPeC9YlpEs/NKBFoegWZYxzUiz7vgggscryrGozUtabPt22+/tRs3mmeDDTaIxDRJhLWfxuFbX04mtvw8bzUAqi7ohNR9s802SxWaYALiJY6XMIkIVBsB7OTLMUjH+JQB4ooFYykEZumX0zAYa60EnWgntLeOP/74grak7fKX0rcwD14U2j+9ir29MBvviUDLIgCNRf1tpF3x8ZzGN7QMPjx9Ek+TBbvc2N3GRgvel1oOiz5stmCnWrUZtR5ob4baCSgHTUdoaPoEwYWvAan1F7tiAzNJE8rX3sTzoZGkBP6BPvia4agDmuhypD16/vnnIzkuq9nbvH7yySdWyBzu+KPdKryAkJVEBIhA6QiEGjIhHxCbvRH+wvjw3v/t15qniXkMyxvDNhW7hyZR0hqqljxNRynUlE1rN3hsEkFI6n/oozx4IoSgqv2fVI5xRKDVEGiWdVwj8jx/PZvG4/x4KBUkEYSYQ4YMKXgnYaOnrU3zpPoY1xwIdEA3ZAJVnUTabu2GyQdf7FlyhM6ExrNjGXhDBKqAwJlnnmmGDh0aq1kWuNbZRjEjxbCTlOQQ49FHHzVqWy5WaZVvxo8fX+BlEzb/unbtWpEnV7v+ijSSlRCBOiOA91vHjh0NjNDD4yZ4iAjvrB1K2OnE7xG27mCXEp7ANQ9ev8iHPKBZZ5011hOkwZnE1KlTrZ1LtReH/DDc3rt37zZtzKFCOAOCTbcvv/zSLLroovYv9iC5gV2qbbbZxtx5551GPrANbH3K8R+DvsFJUejUQsvLkXrTt29fvbVX8CA4LVLborAZinpDxx6xQhW4kWP1tp0i/LT2QuFZsxg/r8AjWQURaEoEYJMb/Al2eX1+BR4G/gM+BoLtNM2DfMrTYMsTecO1SC15Gtp32mmnmYMOOsh+f8DpDmwRgxeDp4XfI8gPGjlypPPK/nPMz7aVa83TgCHwxbsFf/446PsFGIPAr5MIYyVa87a/4L8iFCVPTAKKcS2PQDOs4zCIjczzKjEJsf4Ez8O6F845ZbOnEtWyjkZFQBYlNaOko33QIiERgVojcOmllxbs+shvOBKBZdGmpB3lgs3MepAIEgr64WtQtLdN0LwCLv6fLAbaWy3LEwEikCMEcLQeGun6O08yf4E84I/Q4tR8uOrR9LA7OJLuH7GHJlHSEcuwHO7FeLy1Icpd+CR0GEcEiEApCBx11FGOV4kTi4IiIiyMxAlGdOyxx7p84Gk4dp9E5GlJqDCOCBCBvCBAnpeXkWA78oJATb2uJ0nV5513XllXNC9h17WRqdHbn4Y9dvOTCBrGaYSdcXgfTiLsHJGIABEgAo2IwEUXXWTEiL1reqiFhQRobUFrHdrwPi222GL+rQtDc0g2SsxOO+1k4+CJWexmWk/H0EYN3y1yXNQ89thjZtNNNzVybNZAo2yeeeZx9TFABIgAESgVgZdfftmIQzWXffbZZ3dhDUDbe7nlljPwwismQDTaQBM8icjTklBhHBEgAnlAgDwvD6PANuQNgZoKOnHsohXoww8/NOIUwvTp08ceN9l8883tEcBG6vvNN99sjzHOOeec9qi2aNY0UvPbbGuaoFNsTpnPP/88sbwYqjY4uj5s2LCCdHykk4gAESACjYiAOBiLNVsM2sfu/RtxUuJuIbhcZZVV3H0Y6NatmxFnTObBBx80YuPOJp999tlW4ImjmDhKCuEpzIHMPffcRhwQmbvvvtuI7WEj9o7N+uuvH1bJeyJABIhAmwiE67jnnnsutQzWb2pmQzTPzf/93/+l5iVPS4WGCUSACNQRAfK8OoLPR+cWgZrZ6AQC+HjBzqlP0JKDXbNySNRhjXiFNvjggu0y7Mr27NnT9O/f3344pdUFDRLkF4/VRhweGPG0bZZeemmbHQsdCPMmTZpk7YiJw5oCu2NhvbBfKEfxzNtvv21tEWEBhEWSeHw10F7x6ZJLLrG2iqAVg/7iIw/2d6C18pe//MXey/Fn2yekq6032OfBB+C6667rV+fCWbFABbBHArtpb7zxhhXgwT4cbPjcd9999mPTPUQC0MaF3bOQYPNNHEjY8RAPvKZXr152Z1ycWuTaDtBWW21l5CiTOfjgg80pp5wS6xY0lg444IBYHG7WWWcdA1uc4kTDLLTQQrF01PXnP/85FuffYJxgIw8f79h1wwsJGgTQJgBmSdoGfnmEUQdsSsEmHuYvfjuYTyeffHIsazEbneWOFxb/aJ9PmDdp9qD8fAwTASLQGAjg3aeCSLQYNjUfeOCBAnvEsHu0xhpr2PeFHHW370y8n0ol8J97773XvofBR/HOw3uwe/fuZv7557cCULx7y6mz1GczHxEgAq2DABQOwnUavhtWWmmlGAhYt26yySZm3LhxRkxt2LUv+F+pRJ5WKlLMRwSIQDURIM+rJrqsu2EREOFJzei4446L2cER0Mr2/Dd69OhEL7KoC38iuIrkwynWJ3h6hEdbzaNX0cyz3l3T7C6KwCtWj96IwCpmz0zr86+vv/56JMJN90zYHPPT/TC8zIJE8yUxD7wmJlEWLLQeeDmDzTS/HX5YjhtGYrQ9kgWfzQNvvz6J0DhKs3OJejbbbDNb3i+Tp7DOB9hc8vuNMDxYon8+iXDR5ttuu+1sNMbEL4exTqP33nuvzfkCj8nFPA3DQ/GAAQNiz/Sf74eTbHRmHS/a6EwbVcYTgeZBAN4qldcrL8H7AZ7iZeMuwrtSBJCW/yD+0EMPjWCzk0QEiAARyCsCSX4B/vrXv1qv46J0ESGs/A5h2czPa1fYLiJABIhAmwiQ57UJETO0GALQEqsZtVfQedddd7lFCZwcyO5FNHny5Ei8Zbt4LFogMPTptttus44NdEGjV9GoS4zXdFxDJzOyexv5Qq4dd9zRCsXgZMEvhw9EkGjuRerYQbQ8oyQmpA5wIIyC4E20IWN1od6QsmKBek4//fRY/RBmQcgGYabfB9E+tELjKVOmxATSaOe2227r8srxxUg0DQsEtYjPK+kYilZktM8++7i+aP/Hjh0ba/ruu+9u86gzjXDOQVCZRGL3LiZQxmJaNGijhx9+uEBgD/xDIT3qhEDbF0qL3akITryAuQoftN24hoLO9owXBZ1Jo8o4ItB8COAjH7wF7x+f34CngN9tscUW0dVXXx3RGVnzjT17RASaEYEZM2ZEF198sV0n6ZpP10r4hoADNqyH6RS1GUeffSICrYcAeV7rjTl7XByBQgla8fztSm2voNPXaIPWnZLYVYwJqvBRlkT+7q0udpD3lltuiSDAhEBU4/V6/vnnx6oKvTM+8sgjLl2Ov8TKQwsvpKlTp8by4DlyBD+WTRxDxPLgozOkrFjgI1X7hisWekpyBD2WBqFsEvmaqqjDFwZDuOnXr0LcpHrqFQdhItqouEKj1m8zwhDkKkFQjThoPCmF/YSGU0h44YReh8VEgssGrd/wuZhfPkH44AsdoGnrU5IgMhR0tme8kuqnoMMfAYaJQHMiIEc67SbdTz/91JwdZK+IABFoKQSwsY01FbXRW2rY2Vki0LIIkOe17NCz478g0FDegeCwQEkETRq0NsPcjQREgGRg2zKkP/zhD7GolVde2dpLFE06M9dccxnRWInZKUNm2BDzCfY9fYJtMSXYW/QJ9hxD8vugabDX6ZPsPPu3BrYzQ/LrKQcLEVzFqoJdNCUR+mrQXu+5557YPW5gA0S0VV087EzCrqfSqquuqkF7ffLJJ2P3ebiBTSWQjh3sieLPp+uuu87ZJL388stt0t///neXBU6afEpyRnTBBReY999/32WD7Tm/3JJLLmkGDRrk0hGAvVDYjFISYXPM3muYH/Zpi1EzjFex/jGNCBCB6iCA9w54ZKs4EawOiqyVCBCBvCAA2/dYX8O2OYkIEAEi0OwIkOc1+wizf20hUJ4XoLZqq3L6OeecY42Gw3ELhEZKSY4L4OhgscUW0yz2Gi5u5p13XjPLLLPE8sAYuU+hN9rOnTv7yVYYpg6N5IhwLA0eukMKy4fpuA/bmZQnKxZgej5BEKYUtg2Ob0ISDdZYlNifNIcccoiLe+KJJ1wYAaTnjWRH3zZpnnnmcU0bPHhwTICLBHhgh1Oi0047zTqZgtMopXDOiT1TTXJXeGn3qXfv3v6tDYuWsX2OJsCJlRxrN6Kxa+dW6O0+FNZrubRrM4xXWt8YTwSIABEgAkSACBABIkAEiAARIAJEgAgQAR+BuNTLT8lhuGvXrtZDuTYNnqdvvvlmc/3112uUu8pxOxeuZGDttde23rq1TnihVY/oX3/9tUbb6+qrrx67r+RNVixCYRu8aivBE7hP4lDIv7XhF198MRYHwVzo9dvP0KdPH/82F2EVdELQrQSBo6+pingxW2AWXXRR62H4sMMOi3ka9zUzkTcUiCMOHtZ96tatm39rw6EWLSLffvttmzZ+/Hh79f8l1eGnh+FmGK+wT612/9prr5lrr7221brN/hIBItCCCOA0jtjCNn379o2dgGhBKNhlIkAEWgCBb775xuB7Ft+MXbp0aYEes4tEgAi0OgKQu/Tq1avqMDSUoBNoiN1DA21GMTBuj6gjTuxMmlD7MDwOjnyVILGRaJ+vzxPv5UY8cRtoc4qNT/cICETD49AusUKBLFhAo3PkyJFmv/32s62A1qnYKDVbbbWVufPOO2MtGzJkSOweN88++2wsbq+99rICwVhkzm9U09bX6BQ7mGbvvfeO9QVjjB8iaI899oj1CqYOfNI6NQ4fa2GcOHzSZHfV4/MuQgIqNE0SdIZaw345DfvH2ZthvLRfrXrFBgS0fElEgAgQgWZHAO9OnAzBJuocc8zR7N1l/4gAEWhxBMDrIOgE76Ogs8UnA7tPBFoEASgJtryg8+6777aLXXEMY4cdQpsddtjBCTihgXfkkUeahRdeuMCOWHhEu1LzBgKuW2+91aim4gsvvGBt/mBBroKtfv36GfFOW9CmSrUB9bQHC9h9FAdI7sj0wIEDDWxtqnYnhH5nn3222XDDDQuaHB71h0Zro5F42LRNDo+fYz5BizMk4NOzZ89YdPgBFmrDJpkfePfdd2N14CZpUbPAAgvYfEl14DkLLrhgQT1pEc0wXml9a5V42OAdO3Zsq3SX/SQCRKCFEcA6CjbIsQZZa621WhgJdp0IEIFWQOC5554z8BmB04m+z4NW6Dv7SASIABGoJgK51eiEQ5a//e1vtu8QdIrzJIOralKKB2yr1YkMSAupWhqdeM6UKVPs42DPc/311zcQPsFu6FJLLWWPsScJCLV9vradxokXcA2WdG0vFuKV2+EIjcXvvvvOoA3rrLOOgb1ROLwJhYDaMBwnu/fee/XWPPjgg9YOJ4TNIUHjFCYEgE2e6OOPP7bN8TU6EbHiiitaLVwIr32CYDik8Oi6Crk1H8YZGr1+XdCYxdj5c0C1N7UcrurQKXRuhbSXXnqpTUGnr/XZDOOFfpOIABEgAkSACBABIkAEiAARIAJEgAgQASLQFgIztZWhkulQzw8JqvpJBAcwyA+BJggajCrkxL06AEI4iWDzJKTw6HCSgNH3eI3yYZtxpAoafqCdd97ZXHnllQbeyW+44QZz7LHHJmpB2sy//IMH29CreujZ3c+PMIRovs3R9mABIRiO2sMGFuiKK64wcJqDPkCbcf/9908VciL/KqusgkuMoAmpwkNNGDNmjIGgbpdddtGo3FxVUJ3UoH322ScWDU1XtcHqJ4QanUibNm2an6XA5ifGMfRCD/uLPkF4jmeCdO776ZhvPoXzFWm+rdj2jldS/UlxfpsYJgI+Avhd+E7P/DSG84cA3jVvvPGG3cDyN03y11K2iAjkEwHyvHyOS1qryPPSkGE8ESgNgffff98kfXeXVpq5ao0AFJEmTpxoFbVq/Ww+jwjUEoGaCjpDxyjoaCh0guATQs6jjjrK4qACzVBrc9y4cQZCImgnHnrooQWYQfAIj9W+nUN4YvcpvEdaeBQ7dCjjexi/7LLLzIgRI+wxdRw5gKYjBKEQyIZCVf+5euxd41DnqFGjDI7q4yj+Nttso0nueuaZZ7qXSHuwgK0/3xYntBUvv/xy6+wER/IfeughqzUILdXwOWgMHBTBJqpP0OrEcev+/ftbW59LLLGEFfgChy222MLPWvcwmPvo0aNtO/QIu98otcmpcQceeGBMA1PjIbAOaerUqbEoCHk32WSTWNzuu+9u7cxqJOzN+gSTB2p2AUfUDz74YD/ZXHfddeaUU04xeNZ5551nNYpjGeQGv58vv/zSRrd3vMLfJypNirMP4z8iIAjgIx8OynbbbTerJQ1zH7DlS8o3AhBG/+Uvf7H8B07ScIQOJyPA1/FeIxEBIpCMAHleMi55jyXPy/sIsX15RQCmzo4++miz/fbbG3zz4VTfJZdcktfmsl2/IPD0009bp1ezzTabVUaCnwg4uYXiVpJ5NQJHBBoeARFmVZXkWHQkntEjcX6D8+UFf6LdGInTm0g06aKNNtoowr2f74wzzrDtkx3XgjQ/X1hO00SQF4k9yuikk06K1avpJ554YiQCL/t3wgknJOaRj/RIHPbYdmy55ZaJebQ+/yo2VyJxVlSAL+ry84XhxRdfPDEdfQS1BwsRNifWHbYB92KrMxLtz0gElrE+4B5pSWX8OB27WOE63ojgO1pvvfVi7R4+fHg0efLkWKsw3tp/EaTH0kQrMxIheiTOpmL1ID/ixDt2JAJ0VwbzP5wzorEZARsxERCrQ4RDrpwGUF40O2P5fIzT5gryfPvtt7aaLOMFTESQmvibQ/tFyB+999572kxemwwBEZRHstkU4feh86jULsrHYySaybE5Cz5Cyi8CssHleLpsvEWPPPJIdM0118R+/8OGDctvB9iypkHgk08+sbzj0UcfrWmfJk2aFGG9iHdbuUSeVy5i9c9Pnlf/MWALfkZATulZnien+2oKSXt43l133eXWDPpNctFFF9W0/XxYeQiIwpSdZ/h+lxOcEd6xp59+emytLgpP5VXK3EQg5whAa6+qBGGIMsEs1/vvv9+1DwKmsA5xThSJynwk2pSxNPyQTz311EiOp1sBaljOv7/qqqsi/PlxSWEIveTIdwFzT8rrx4XMH4JKOeZe8Lytt946euqppyKx2+jS0A/RyosOP/zwCII6paxY4Nk77rijq99vZ1pYtHuir776Sh9tr6LxGR1wwAGJ9UCYWOuPlFjjUm7S+gdsfRLvh7ZfSR/2olGZ2Ge/7gsvvNCvLhIt5Ug0fyPg6OfTsGi9RrI7Givj32A+iHmAWFkIvSFEF81hNx8xV7BZIFqg9mPtxx9/dNWUO15Dhw6NPU/b6l+ThPjugQw0NAIQdulYh/O51I75PEq0m0stxnw1RkBMUTiBJniHT/iY0XmAKz6MSESgmgjUS9CJjWmd68Xex8X6Tp5XDJ38pJHn5Wcs2JIoqpegs708T0zbxJSYxLQWhzOnCPhKTljX+YRvXX334dsS40oiAs2CQNUFnQAKiwr8QeADwWNbhDzQZINgMcyPeAiisBsrtghjVYk9TStgE/tiVutRE+W4sn0+BD8Q9OFHjCvaA20lxOMPYW2j5kE8yqtmH3bcVItOnCNZISQEe+J4xn0sKsPQKwRQYT/QNrQfgk2x2xih7T6BKUGrrhjDyYIFngEBMNoGTUE5qh3JUfRIPDu7fmm7/evIkSP95rkwcISgGQJg/PnajC5TTgIYX4wlxgK4+mMeNhHYJ40ZymAuoB6E0+ZTWB/u8UxofkDDWEwIRHJMIDZPk8r4cWL/JhLnRna+QMCphLaKk6LE9moevZY6Xqg//D2g/cBE09B/UuMhMHXq1OiII46IxExCauPFhIZb+Ih5hYJ84JO33Xab1fgGH0oi8ALlIdCSJuUTAWxY6DiBP4W02mqruXS8q9pLpcyd9j4jD+VbpZ+Vxroags5SeB7WQPo7wPs0pFLGkzwvRC2f97XmeVAUgAaVmNnKJyAValUpv5EKPaqpqqmGoBPflnvssYf9NkgDqy2eV8q89Td3cKKNlE8E8K2P9xsUbkKCIoy++3DF9217qZS5095n5KF8q/QzD1hnbUNNBJ1ZG5e3chBy6hF5HN9NIggvxblP5O+UgXHk5ZjvUXIcVRlakoo6hFkTJkwo0DiloCJptBlHBBoLgbFjx7rfP7TK0whH13FsHR+ESYJM3wREmsDbXzztvffeaY9ifJ0RUNMYEGgm0euvvx5BwxemLCpBpcydSjyn3nW0Sj8rjXOlBZ2l8jxsGIpN7khsmCd2qZTxJM9LhC53kbXkeWK/1b1zMYeamUr5jTRz/7P2rdKCzmOOOcbNOShVpFExnlfqvL399tvds3DijZQ/BPz3UniCUVuL9yRMDIrPDY3KfC117mR+QE4Ktko/cwJ35mbMLEIvUokI/OMf/7Ae0JEdxnuTCPFwACOac0ZsM7os888/vwvXK/Dyyy9b49H6/Nlnn12D7tqhQwdroBge02V3zsDgNAjGpklEgAg0NgKiceE6MOuss7pwGIADIdkUCaPdvWj7urA6z3IRvwTAS0j5R0C03WwjF1100cTGLrnkkkZsWSemZYksZe5kqTdvZVqln3nDPWxPqTxvqaWWMmI7Oyzu7ksZT/I8B1euA7XkeXDoptS1a1cNNuW1lN9IU3Y8Z52SzWnXoi5durhwGCjG80qdt+R5Iar5u//4449do+A0Kolkk8LgrxJU6typxLPqWUer9LOeGFfi2YWuoytRa5PWIcf6XM/kWICR4/juPgwgXUl2UJwnbY2rx1V2dWKPfe6552L3/o2oYzshpxy9N//3f//nJzNMBIhAAyIwyyyzuFYXWwC7TCmBZv9gS+l200WLGQojZlNsv+B9sxbUKnOnVfpZiznTnmeQ57UHveYrW2ue58+/zp07Nx+gXo/I8zww6hj013b+/CunSX65Zp+35eDSiHnFia5r9rzzzuvC1Qq0ytxplX5Wa57Uql5qdJaBdN++fY3YoXQlBg8ebEaNGmX8yY5EMfRrxIO2zXfQQQcV1YxyldUgsPTSS8eeIvaCzIYbbmhWWmmlWDwEuFtttZWNE+/J5u677zZyZD+WhzdEgAg0FgJiesO89dZbrtHi5Mq89tpr7h4afcrLxBarmThxohk9erRZd911HY+AxobY5DVytN2V8+vApsiCCy7o0koNgOeMHz/eiN1aAw3CZZZZxvCjqVT0suUD1hhLJbEBHJsPGo/TCUgT+8BmscUWMwMGDNCk2BUbZzgBgLHs0aOH6dmzpxETL0Y/uio9d7Bx9/TTT5u3337bzDHHHAanJjBvFlpooVi7/Jty5hk2NvHuw2kGsWNtq0F5/C5eeeUVmP0x/fv3N3hH+pS1n7Vom99OhDG2YprAiN1zAy0gYCf2xu34hXn1HrwB4wwc8FvHGNdKSK5tKPVaDs8D/mI/2zz22GNmzz33dH3KOp5ttRHzV46sGtQPDMH3OnXq1FYxprcDgVrzPLxjfSED5pj/vsS6GqcnSiXyvPL5cYhtM/M89A1rvI8++sh1G3Ne38HQQPvd737n0tJ4XqXnrT6QPE+RqM1V5wPWK0qYGz4P0nicfPjiiy/sO1Ac5Bpo+4aETSLIQKZMmWKVt7DOw3zCn2o3Vnru4Fn4NgAfhZAWa5RevXoV5ZulzjOs4bCOEWfW5i9/+Ytd36LPwAEnYIHTnHPOaTbffHMz22yzxeDI2s9S24aHZV2DxhoqN1jboT/i+8XgJB/WrKuuumpBn/xy5axH/XK5DGc+9N6CBeUH52yRyGDaMBwTwfv40Ucfba+w3Yk0mUjWk3veYNp3330L+gAjxbDHB9sdarAYfUAY9rJIRIAINDYCb775ZsHvXnmYXmHLCX9qv0zjL7roItd5eE/X+KQrbHQpyWLB5U2z0Qn7nieccILL59cJvgrHV6TKIwCHaD7WpYaTnGmIoNE6s0urA7atQeXMnbZ6PGLEiNT2J821cubZkCFDnC1u9ElM0FgnbLJ5mfjMa665JtbccvtZy7b5DYVdODgmSBo32OpKsr0Le2xwrhiWgUNDOR7nV585XCkbnaXyPDhaVAeT2q9Jkya59pcznqXwPNg/3m677QowxLOvuOIK91wGKotAPXie2vTXeRVei9nJDntPnvfzN1e5/NjHMa88r1I2OuH1PJxj4T34els8r5x5C58U+ow0G53kef4srF349NNPd2OjY1TKVQR/BY0cM2aMlWsklcf7U6mcuaNlkq7wDVDs3Zs010qdZ3C2hG8Vfy0Dp6sov+uuuxZgBnlO6KCw3H6W2jZg0d41qI8nnM76/dTxQ9wll1ziZ7XhctajBYVzGkFnRGUODBz1wDGPCjR10uAKAcFOO+0UiRZUSR6wy3x0RbLjB37xxRfbH3n4Q8WPGR8sYI6y61OR57ESIkAE6o+AaA1ZL+nHHXece4ljIwOe0/EnWujW6RA+8MHffL7mC3JEq8/m9/mf1oGr7I66zrb10Q8h5tprr22fJVqCEQQTsgMd+V48IRAgVR4BLLowXpdeeqkba3hg9ccSYYy9L/jG/PEJiyIVluEDFE73EOd/lMtOvC1SztzxnxGG/fmBNuJ5osXi3slwKONTufMMiz8sgvU3AMeCO+ywg70HFkOHDo022WQTl473KNqgVE4/a902bSMWv9o/CNfwUQEe0a9fPxd/5plnanZ7Peyww2wa1gmi1WHj0FddRyC+Et5aKyXoLJXn3XPPPbENXuCiwnl0spzxbIvngccpXsOGDYvgsVU0JyI5+eNwv/DCCy22/FdZBOrB8+6///7olltucWMLXqk8FpsGpW4OkOdl58c6i/LM8yol6ATfwvzyN1IgTNc5p46J2uJ55czbtgSd5Hk6A2t/feONN+zY++8XrO91PugVQj5fGPbII4/EGusrecHRFZwuwxGProvwPaBUztzRMknXffbZx/JNCFHxDgZB2KrrltCZcjnzTE6lRNi09zc4IeDU7xrIQZCu93jmoEGDYs0sp5/ltA0Pae8aVBuKTX+0HWsOrNngbBqKCboGQRp4j1K561Etl/crBZ3tHCH82LGAalTCBxo+LERtvVG7wHYTASJQIgKPPvqoWyicf/75qaVOOukkl++mm24qyIeFAF6SWBylUVsf/eoZFB9/06dPj1Xj7+TC6zepOgh88MEHbpxDAaE+UZzSuTynnnqqRturHHl2aSr80gxy/MmmQZDjUylzx88fhrXejTbaKJaExTDm5FFHHRWLzzLP8F70F4OoF0JhJSyUIRhGPP6AQ0il9LMebYMwWtuNTU2f8FvXtK233tol+Z7LfW1HZPC1iC677DJXJmugUoJOfX6pPA/zSfuetNFbyngW43nYxNE6dtxxR22evWK+6UcXBMa+4DyWkTftRqDWPA+8QueV/5sqpyPkee3jx3nneZUSdOqcOv74492cg3JOGhXjeaXO22KCTvK8NORrG+9vlIQCQm2Jr+AgPkY02l79jWvMCyUIxvANgLWQT6XOHb+MH8b7TwWv+Bbx6eyzz7ZzGwplSlnnmZjgcb8T8Gi8e5988kmtNpLj6bF0l/BLoJR+Zm1be9eg/u8Spxl8wokdfSf534FZ1qN+vXkN0xmRjHZ7CLbByrGx055nVaMsPCbLBx1tQ1UDXNZJBBoUgUUWWcS1vBp242B358gjj7TP2GOPPQrsccpOqns+bOaR6odAsbkA251KImjUoL3KjryBrSfYBKokycairQ52m9SREiJgQ1s0WayNSX1e1nmG9yJsjCrBFujOO++st9YelQit3L22yUWUEKhX2/7+97+71smGggsjAPurInAz8pFhRMPBpslC3YVFk9WEtr59W14PPfRQrL5GuvHHuxo8T7SjjeKD34ZPmG+wLwuC3Vz1Cu7nYbh2CJDnGWv/mDzPGPK87L878rzs2NW6JGz0K4XvP9Hg1CRr61Fv4KTqiCOOsLbKNa4SV6w5dG2HtZdPAwcOtOsU/32ddZ759twhB4Edy9VWW809DjZB/XvYrSyXsratPWtQ2FvdbbfdbFPl1JyRU0mxZsvJY7vGw1oP9kdBWdejsYpzejNzTtvFZhEBIkAEiECdEJhppl/3wDp06FDxVsjRGFfnKaecYkSTzODlLDuk1nA2HKQo+Q5zNI7X2iGABVca+Y4NZJfYCmnEvpB1UgNHPfirNC233HJGtPSscXo5Ym7EPrb505/+ZDBn//Wvf8Ue1555psb1IfRbZZVVYvXiRjSRXZwv8HWRbQTq0TbZcbeG99E00cKwhvb9ZsLgPha8yKc8APfqxAzOmVZffXX3W8XvVbSlXBV+2EU2SEDHG82tBs974IEHHBL777+/dQSFDzo4CgCOPs+DEwI4JyLVBwHyPPI88rz2//bI89qPYa1qKMbz/M3MjTfe2DpYhrAM6wU4XK40wSkqhHD4DYoGqhFNeAPnydjMhgNEMb0Qe2TWeea/8+GYOUlpDY6PRMPVPg/C19ApUawhCTdZ24aqtH3lrkEnT57snOD98Y9/LGgVHE6K2RxXPzK0Zz1a8ICcRaR/weSsoWwOESACRIAINAcC8P6nBCEVPBviox8CFlyhLYer2JQxm266qWblNWcIyFEfA41csStoWyYOewz+xOmd+cc//hHTiqxU0yEkkuM2tjpokW622WbWa/Xw4cPNVlttFVu8VWKepWmkzj777K5LmKvlUj3aBi/kqinha0T4bYeQzxf0+R5bod2AP/2t4vepf4jDxwIpGQFfMwXCYuVvyI2w8jx85PXu3Tu5EsbWHQHyvJ+HAHO2XCLPKxexxs5PntfY46et//Of/2w3drEZB+/ngwcPNocccog9lbXnnnta7UDNW6mr2IO3J3RQ34033mj/oF0tTpNjWpZIr8Q8g3ZqEnXr1s1FZ+F5lWhbuWtQaKYq+VqrGoerClE1rhK8WevK25WCzryNCNtDBIgAEWhyBPyXqjjlKDgO2+Tdb6runXvuuQaLKbGN6folxu0N/sR7p4EGQCUJ2gXiAdMezRHbZrZqsbVkd/1x9Prmm292x+XzPM/q0TZoZyqJDSgNFr2KgzGXjuPseiTKRTLQJgLQ2lSNTWhnnHHGGW2WYYb8IkCel21syPOy4daIpcjzGnHUktuMzTexXWlwagdHsUHYMIU251lnnWVP2PhH35NrKS/2b3/7m4HwEWZeIFwF4UQJ/nCKR01f5Xme1att4oTKgV3qOq8evNk1ssqBX88nVvlBrJ4IEAEiQASIABDwteFoj66x5wSOPGHRicUotCohyFGC4NEXrml8e6/i/dzu4ovnS6sJp/VBsHrAAQfoba7nWT1+A3PPPbfD5rXXXnPhYgFfm0C8hxbLyrQUBHybZ/hAzGLqIKVqRtcBAfK8bKCT52XDrRFLkec14qiltxlrB5gGwsYnjq0rwbQUjkfjZEelCfY43333XSNeyO1Rdq0fm+riJNPe5nme1att/jqv1O+revBmHc9qXynorDbCrJ8IEAEikEMEshzDCLuhx2DD+LbufduOumBpqwzT84fA1VdfbW655RbbsO7du1utTthVEm+urrG+jSIXKYEsc+fzzz834h3efPvtt/Z4NWyAjhkzxtp41boxn3Ru52GepfWzHm3znazgeJN4F1fYUq+wlaUknuetPUm9b7Srzov2tDttPIvViWNivk1XaB2TGhOB9vC8LPOPPK9986TVeV4lBFBZ5i15XvvmbZ5KQ7A4YcIE2yQ4Cr3sssvsqRqY8QBhzeebuLGRv/zLMnfES7gRb+u2BmiTwmkiNmZx+ksJtjtBeZlnSf2sV9t87VooA8AkWFtUj/VoW22qVDoFnZVCkvUQASJABBoIgS+++CK1tXAMpOR7XNQ4//r999/7ty7sx/thZPCdu1x11VV20eQKegGUK+Ul7RVhsAwE/GMt4RhpNcXmwm233WaOP/54zWqv8FR58cUXuzj/GI2L/CWQ9swwn97DScuIESPMuHHjNMpesfO/11572TAEUTq32zPP1MPmjBkzYs/SGx87HyNN969J/axH2zA20IZVwrGzJIJpADh8AsEBgBK0diHsTCI41MFfnknnRVIb/TGCIL0Y+Xn9fH68H0YeeD9VwkccnAEkEY67kaqHgP+7DcdIn+r/nsP3X3t4nh7B1OeUciXP+xmlrPyYPC99nefP/2I8r9i89evwfzcYNfK8Un7h1c/jj4vP//wn++MYnjg45phjDDZ4fMI64tRTT3VRaac9is0dVzgIwCQRnA99+eWXLgVa9CeccILT7PRN6mSdZz4uftg9VAI+LmnYIX9aP7O2DXVm5Xn+2hIb2qHzJtQNuuuuu4xqfPplmu2bjILOn8eb/4kAESACTY+Ab3Bbd2AhGIJzF2iOKH3wwQcaTPwg94+zqu05eCbUXVYU/vjjj10doTfmbbfdNqbhhMXApEmTXH4Exo4da6CNcd5558XieVM5BD755BNXWThGmuBr/YWCIhxTh0OgUPDoC2vWWGMNrcpeS5k7sQLejXq8PO2007zYn4P6TGggzjfffDYy6zyDFozOX/w+koSdmo4HQRgRUlv9rFfbYMxfCY6joJ3hE47//+EPf3C/ZeAJh1NKcD4A5wA+vf322wbjjD7ljUrlef7893mh9qet8UQ+f0749SHtsMMOw8USeCacsPnaodjQGTlypLUvO378eM3Ka4URqDXPm2mmXz+zoJWEj1do/+A3VMo4k+cZeyxWf1tZ+HGr8TxowSnBAzMIjuhGjRoV24zy/bEBcAAAQABJREFUeVTI80qdtzoueIa/bsQ9eR5QqD8VGyNtnT92voAR6VhP4RshjNc1F/KsuuqquFgqde5o/vDatWtXGwU77yGpQHK99dZzSVnnmY9L0hoOD/Bx8dfCSCuln1nb1p416AILLGAdgqKNINg7fe65536+kf9Ya0B4DUee2NQGZV2P2sJ5/ycdJhEBIkAEiEALICAvapxhcH+yKxuJsCqShUwkL7xIFsWRLIbtveZDmmhxRaKZ5xAaMmSIqwPl5TiLvd97770jWQxFcjQzkoWIy4O6RIspevzxx10dojFmn63PwVVsOkaimReJZ2dbVmwBRbKwcWUYqAwCwFSE0pEImGNjdOKJJ0aPPPKIfQjGUY6Bu7HF+GCsZfFp5woyiXF6W16EYZEckYnEnlJ0++23RyussIKNl+O6kWiuxRpdbO7EMibc+PP34IMPtvNVdqwjMU7v+nHBBRfESpY7z0TQF4kBfFcf+i1OeNzcFQ2vSHa8Izm25fLgNyJ2pCJZFLtnl9LPerRNtC7tb8z/3eH3ht8d+AHicRUNH9cX+QiIzQPkWXnllaN999036tevny2DMcf4tJdEEGXrAzaVIH/OaN98nvfYY49Fsuh3Y4k8+F2IIMryMm1DsfEsleeJIDP2HLRjhx12iAYNGhTht4Jng/+SKo9APXmeji3GF7wS/AJh0ZJqs6P+/CXP+3ntUi4/zjvPEw02Ox9EGNnmfCglA9ZfmF/6B16NMK7Tpk2LSuV5xeat2N6OZJOs4D2ItSLWkUrkeYpE7a94l1555ZWO32AOgPfIiZtIFAtsg7CuF+dqsbU41vPgTbqe0XkgJokiEZhFor1pxx7vL9QpQrKCzmkZpJfL82666SY3dzGfROswwnpgu+22c/Foh0/lzLPp06fb9/sGG2zg6kM7ZePXfefIcfxInAbG0tdcc01bzl8bldLPctqGPlViDSobF/b3jn7pn3itj/BNpe8f2cD2IbQY65hqmWb4JoNkl0QEiAARIAItgsAhhxziXnx4mcmuXgRBBgjCDn3BhdehQ4c6hLBI8l/weHFi0QuCoCssq/dY8PiEhT1epJquVyzIzzzzzEh2Nf3sDFcIASxuFevwirEEyRHN1DyYMyDRlEnNA+GNHOex+fx/xeaOny8pLNo8qc/DfIRgNolKnWf4IA7x0HsI/0APPfRQah7RPnaPL7Wf9WgbfldYfPu/Ye0nFsIQ5oaExT0Em+FCGL9pCAExNpWgSgs60aZiPA/t176HV/AypWLjWQ7Pe/jhh51A2X8ePiLliJk+jtcKI1BPnocPd/93A0HC008/XVIPyfN+/VD3fy/l8uM887xKCzrlBILbgFLMsH4TDTw750rlecXmLerTusMr1pE+kef5aNQujDV5ODZ6j/c8SGyep+aBoA8EAZ+W86/gaWK/M5Ij3Taf/6/Y3PHzJYWxae4/xw9DgSIUcmodpc4z8SCfWr94krfV+Zvn/vMRxua6Uqn9LLVtlVyD4t2B8fXfPWg/7iHUlZMF2g13LXU96go0QKAD2igdJxEBIkAEiECLIAB7MvCGjSOqejQOXYc9Ghyrgz0cGNIG4V5evjbOPwaKVwds6cwzzzxmiSWWsHk1P460oDzqwfEOrQNl/OdpIdQPGz9oV58+fUy3bt00idcqIIBxgE0ujI+OtY4RjsxgjHCPcdR0jCPGCX8Id+nSxbUMx0FlgWSP4s4555wGhs3nmGMOlx4G0uZOmC/tHseXMH9xlB7tXWihhewc7NChQ1oRG1/KPMPRUn/uon6UwxXHl31cgA0I6YjH70PjEF9OP2vdNrQP9OqrrxqMH/q25JJL2t/zzynp/+FpFb9X5F9wwQXTM2ZIAQ/o0aOHtRG61lprZaghuUgaz1M7WPCQinHHOOtvAXNc+SBqTRtPnRP+vNE6UCaJ5+G5OFaKfOB5Pm9N7gFj24MAxqGePA/mL3B8cOmllzZw3FYukef9vJZoDz9WzPPG8zAvZHPXvkN950na3qxXNZXQu3fv2HupHJ6XNm8xH/HO0vUB2qg8D3zQPz6v7SfPUyRqc8X4YE2PMcIf1kf4/cDWJNZwGKOkcUxaz6AcTNTguDfWheBhslGaOM7au7S5o+ltXUVQZ9d5sJOM9yOc7JSy3mhrnqEvaBvqxFwFLpi7wAX3iPdxAXbKd5AP73N/rVlOP9tqGzBBHn8toc/Gtdw1KOpDv3BEHTjONddcZplllrH1IC2NSlmPppXNWzwFnXkbEbaHCBABIkAEiAARIAItiEC1BJ0tCCW7TASIQAMgUC1BZwN0nU0kAkSACFQVgV+tZFf1MaycCBABIkAEiAARIAJEgAgQASJABIgAESACRIAIEAEiUD0EKOisHrasmQgQASJABIgAESACRIAIEAEiQASIABEgAkSACBCBGiFAQWeNgOZjiAARIAJEgAgQASJABIgAESACRIAIEAEiQASIABGoHgIUdFYPW9ZMBIgAESACRIAIEAEiQASIABEgAkSACBABIkAEiECNEKCgs0ZA8zFEgAgQASJABIgAESACRIAIEAEiQASIABEgAkSACFQPAQo6q4ctayYCRIAIEAEiQASIABEgAkSACBABIkAEiAARIAJEoEYIUNBZI6D5GCJABIgAESACRIAIEAEiQASIABEgAkSACBABIkAEqocABZ3Vw5Y1EwEiQASIABEgAkSACBABIkAEiAARIAJEgAgQASJQIwQo6KwR0HwMESACRIAIEAEiQASIABEgAkSACBABIkAEiAARIALVQ6BDJJRW/Q033GC22WabtGTGEwEiQASIABEgAkSACBABIkAEiAARIAJEgAgQASJABIoicP3115utt966aJ5KJBYVdH722Wdm4sSJlXgO6yACRIAIEAEiQASIABEgAqkITJ8+3Zxxxhlmp512MossskhqPiYQASJABJoBgQ8//NBcfPHFZv/99zdzzDFHM3SJfSACRIAIFEWgV69epnv37kXzVCKxqKCzEg9gHUSACBABIkAEiAARIAJEoC0EPv30U9OjRw/z6KOPmrXWWqut7EwnAkSACDQ0As8995xZeeWVzTvvvMPNnYYeSTaeCBCBvCFAG515GxG2hwgQASJABIgAESACRIAIEAEiQASIABEgAkSACBCBshGgoLNsyFiACBABIkAEiAARIAJEgAgQASJABIgAESACRIAIEIG8IUBBZ95GhO0hAkSACBABIkAEiAARIAJEgAgQASJABIgAESACRKBsBCjoLBsyFiACRIAIEAEiQASIABEgAkSACBABIkAEiAARIAJEIG8IUNCZtxFhe4gAESACRIAIEAEiQASIABEgAkSACBABIkAEiAARKBsBCjrLhowFiAARIAJEgAgQASJABIgAESACRIAIEAEiQASIABHIGwIz561BbA8RqBYCo0aNMk888YTp1KmT6dixo/378ccfzX//+1+D60wzzWTmnHNO89vf/tasvvrqZu211zYdOnRIbM7xxx9vJk+ebOuYeeaZ7fWEE04w88wzT2L+pMj77rvP3HLLLfbZP/30k81y+eWX23Yk5WccESACRIAIEAEiQASIABEgAkSACBABIkAEiEA6AhR0pmPDlCZDAALNDz74wDz00EOxns0333xm1VVXNf/73//MAw88YD799FObDkHnOeecY5ZffvlYftxAKDp16lTz+OOPu7TlllvO7Lfffu6+rcCwYcPMyy+/bLOhDRtuuGGqYPXDDz80zzzzjJkwYYLp0qWLWW211cwKK6xgunbtmvgYCGGRf7bZZrN50LevvvrKfP311+bLL7+04T333NMstdRSieUZ2fwIvP/++wbC9o8++sisu+669jcwyyyzZO54OXP0+eefN7fffrtZZ511DDYKQoLgH/P01VdftW1bb731wiwGz8Pvb/z48aZbt24GeVZaaaXE+vzCEydOtGVee+01u6mB31KvXr3aLOfX0Yzhes6HYng+99xz5oYbbjA77LBDAS+++uqrLU9bZpllEjeIfvjhB8vPX3nlFTN48GCz8MILF3uUTfvss8/sBhR4Y9K8a7MCZsgtAnmd423Nuazv87Fjx9o1D9YJ+JsxY4Z990+bNs3g75tvvjEnn3yy3fzN7aBVsWF5mQ9Z30lZ3oFYB2NtCJ74zjvvmN69e5uVV17ZLLHEElVEmlXXA4Eoiuw3w/333286d+5s1l9/fYPvFHy/ZKVy5mrW9/ORRx5pll12WdOjR4+CbyL06T//+Y/la/ie++c//2n75vcHebC+e+yxx8yUKVPsex/fV63+vVPv+aBjhPcOvmWxvsd3NNZlffr0MWussYZmKekKXnbGGWfYOXLQQQcVLVNpXl/0YUzMFwIy8UlEoKUQEAFLJL9C9/ftt9+6/otmZ3T++ee7tN/85jfRF1984dLDgHx8u7y///3vIxEohlkS70VA48rhGfIBkpjvu+++i44++miXV7RNXRh9uOqqqxLLycdLLJ/fXw2/+eabiWUZ2fwIHHLIIQXzA3Pr9ddfL7vzWeboFVdcUfB8nZfh9YILLoi1Cb/Rvfbay5WXTQIXFqFl9O6778by6418FEbbbruty+v/llDHCy+8oFlb7lrv+ZAGOMYS/BFz4q677irIttNOO7nxDOdNeC8faAXl/Yi333472mWXXVx9ssnlJzNcIwQ++eQTOwaPPvpoRZ+Yxzle6pzL+j7faKON3HwOfw+4B99rVcrDfMj6Tsr6DpRNo0g2yO2cAF/1351rrrlm0bVuq86TWvT72WeftWMigueKPW769OnRBhtsUPD7HzBgQPTvf/+77OdkmatZ38/+vEziWxqHfPgt+PT5559HIrh3/db1A8rsvvvukf+955dr9nAe5gO+j/HNqmMSjvNmm21W1vgoDwdPK0aaT+cNrlm/d4o9h2n5RMDks1lsFRGoHgKi2ehegmB2SSTali4PBI1ptO+++7p8YJ4PP/xwWtZYvC8glZ3LWJp/s+uuu9r6cRUNN5sEwatoGrnnXnnllX4RG9Z2hS8SZfTFnllQGSOaCoFDDz3Uzh3MDQiSsPA77LDDbBwWIBA0lENZ5uhJJ53k5q/OybSraB7FmrP11lvbsqJpHX388cc2TXaHo8UXX9z1SzSXY2WwyMOcxzPOPfdctzgWrZbYxx7qaTXKw3xIwhwCdP+D5cEHHyzI1pYgR+cUPuKL0c033+zm44477hhxE6gYWtVNq4agM49zvJw5l/V9js1X/AaS1gHg9ai3FSkP86E976Qs70Bs9GAuYNxF09cN+4033uh4H+aLaMu5NAZqg0ClBZ1Y06mQE4JNjCnWSvq+xPdDOZR1rurz9D2cdvXfz6Kl5+ZjWn6NHz58eKwbEHIqz8N7/Pvvv7fpPq/dZJNNYmVa4SYv82HkyJF2bPHdLVrlFnq874cOHerGHLy5FPIVlqDgkEaV5vVpz2F8fhGgoDO/Y8OWVQkBORbrmGqaoBM73/oy/etf/5raki222MLlQ/7tttsuNa8myFHhWBl8hCQRFqPaBuym+iRH2VyaHLH3k2wYL3OUVUEQXvgQ/oS7nwUFGdHUCGBxoXNq3Lhxrq/4TegC8YgjjnDxbQWyzlHsrKMdctzECvDxfP/vtttus+nI59Po0aNd+5988kk/KcK99i3cnFCtaPQxpEsuuSS1XJi32e7zMh+ScMXc0PHENUnQCf6NtGuvvdZ+zPlzCGFdQMsRuqRH2Lizzz7bPeeyyy5LzceE2iBQaUFnHud4uXMuy/sc2jP4bfg8DwIPOTZoeW1tRjN/T8nLfMj6Tsr6DsQ6EfMhSbg9aNAgxwPFtFP+Bq3JW1RpQefpp59uxxNCbVWQAITvvfeeG+ek92kazFnnapb3M7TcMU/xXQRcxPxMbG2I9zo2uZFn6tSpsSYfddRRrt+h5qavFd9qczwP8wHzEGOGv4suuig2bvguxVxFWilKONB81vwo4wvK/Yorzev9uhluHAQo6GycsWJLK4SAfgCAQUILLInETqdjygMHDkzKYuOgcdSvXz+XF3W2pREnTotsftXSQJkkEodHrt577723IIvP6EMNNtVeK/UofUHljGhKBPSDJmnen3LKKXa+YV5B67kUyjpHsTDBYjVtfkILAb+Lp556KtYM1RBI26DQBTDK+kJ91W5APD70fRI7Qe53Vmxn2C/TLOG8zIcQT7EpZsdEP5QwbuGHGT5kEH/ggQeGxe090jGX8Rd+9GiBY445xo29OIbTaF7riEClBZ15m+NZ5lyW97ni2IoaTMWmb17mQ9Z3UpZ3IDa6wSvxhzVrSBdeeKFLP/zww8Nk3lcZgUoKOrHu0ffm3nvvXdByXVuVo9WZZa5mfT/jPY95is3uJMKaEOnoh0/QOtVvIpwyCsn/pmslnpiX+SB2+R2PwZo7JD2RlfRt4udFf7Bpo2s7zIU0QWeleb3fDoYbB4HsFolldpGIQLMi8MYbb7iuwYB3GsGYOwxc+06IYIA7jWA8ecSIETa/MHSXTRYFLqwBONgAyc6mdbKi8XqdddZZNegcKGkEjDyLJkeBIW9N57X1EBCtYCP2cWzH5WOpAAA45AKJ/SZTbA77BbPO0Y033tiIwD9xfr711ltGBPvWGL22Cc+UnXwDo/ogfa698f7Jgsfdwfi4Egydg9Dv2WefXaPt1XfAhGe3CuVpPviYwxmcLFDt+J955pl+UiwsH+9GhJxGPuZi8Xojgks7l3fbbTfrlE3j9QqnCnB6ABLNT7PllltqEq9NgkDe5njWOZflfQ5HHaDFFlusSUaz/d3I03zI8k7K+g6Ewz/ZBLQAbrXVVgVAwsGlkv/e1DheGweBO++80+gYwslkSOrwRU70WKeMYXrSfZa5mvX9PM8885gDDjjA/OlPf0pqihFtQBsPZ6o+gbdi7QpKcqzVvXt3o99cL730kl+0qcN5mQ9wniuawUZMrZmll146hjmc8uraGw5Fi5GYvTJiv9uI7X6z5JJLpmatBq9PfRgTco0ABZ25Hh42rh4IiG04c/DBB9tHgzmLg4rEZkBoiY/yBRZYwMgOossjNgCtB3cX4QXEoYYtg4/zOeec06XAA2pI+PDGx4ocNzHzzjtvLBnPxZ/SoosuqkHrrRo3/ssebSW1NgJyjMMBAE+rIYnWkIvCwqMUyjpHRWvEyK564iMuv/xyGy8az7F0LFyU/N+OxuE6//zzu1tsQijBMyPuIUDt0KGDRturv+hdccUVY2nNfJOn+eDjLI6mLG+DsN3fzPHzIDzXXHNZj5tpi13wYdDOO+9sr+G/IUOG2CjRfjHHHntsmMz7JkAgb3M8y5yTI392JMp9n6uwY5FFFrHlRXvebhY1wbBm7kKe5kOWd1LWdyC8bIs5JrueFMccBfiJIz4X568DXCQDDYMAhEBKSWPpr/2wgVIKZZmrWd/Pffv2Ndjg7NSpU0HT5KSREVNDVvkjFISqoAyF5phjjoKyiFhooYVsPHgjBLGtQHmZD8AaG8vYxPbX4BjTv/3tb24oxHSWC4cB8Cmki43iWJkwH+6rweuTnsO4/CNAQWf+x4gtrCICn332mRF7LWbMmDFGjLKb4447zvTs2dOIV3QjtjnNI488kvqxLU6BbMsgXMGOpxwJsvd44YrtwsRWizFmI0fdrUZat27dXB79mHERvwQWXHBB07lz5zDayDEAFwchK3bslfQDB0IdaJvipYJFwyqrrGI1l8RGqGbltYUQ8AV/EO6ENPfcc7soccbiwm0FsszRtDqx+ITGMwiLGZ/8xVFa+6D9rOT3F3H44Pfr0HxPP/20Bo3Y2HXhZg/4+ORlPlx33XXm1ltvNSeeeKLBB09WgqBejrgZbFT5H3ZaH7Q9wfdB0AoVJwY2//jx41vmA0ixaOZrnuZ41jmX9X0ujubs0EKI36NHD9OxY0e7Tujfv7/9fckRwGYe+sS+5Wk+oIHlvpP891e570CsAfGuTiKsc5Wo2a5INObVF/ipYM/via80IfYw/aSi4XLnarHK2no/p5W95pprbBI2L5MEoVoOyiFJBKUUJeWret+s17zOB2ini71hq2kOgTs0ziHIXG655RKHAgpIEJJija+b2IkZf4msFq8v9kym5RSBxjllz5YSgcog4NvolJ+lsxsShmHEf9SoUTFbf34LRBPMlhUtTRsNRxZaB7xihiTM3KbLUQKbpLZoUEYWmmH21HsY44ZNEpSDwW7R+ozlRXu0HUhHP/QeV9hAgcFvUmshAFuGOg9EkJ/YeU2Hjaf2UFtzNK1u9QCb5AAs9MYp5iUKqlGj6+hHKTYX4axL7TrB1i7s/7QK5W0+gI9hLGBDTsfB52Whjc5i46T2j88777zEbGrnTud7eEU6+DWp9giobUnRRGn3w/M0x7POOf83UM77fNiwYY7fg5/jz5/ncKTYah628zQf0iZ3sXdSNd6Bag8ZcwP2Y0m1R6CSNjrVni/GE+uwkPS7BelJtizD/MXui83VYuXaej8nlcV3m37LiKC0IItsWDv+Bl6H30pI6tQNfW/Ll0JYtlHv8zgf7rnnHvvtinHQP9jHv/TSS1Pt9h922GE27x133OGGQjaybVySjc5a8nrXIAZyiUCyF5RcNpWNIgKVQcAXdOLDAd7gRKMnkt2k6IYbbojkqLpjvmDCssMdyW5SwcNVUCkq8jZN7MPEyskxo1gZsTtjPzb0Ix7llMnffvvtsbzFbtSZAYQCr7zySkFW2em3/ZCj7S4NhsHFjqh7HvotGqkunYHmRwDzWOebHGNL7LAK/ZBP52lixjYi25qjacXV6L1uHoT58BvSPsAgeehkxl/cJAlC/frgzVOFD1gwhU6K/LzNGM7bfNhss83s2OJDTMkX8pQq6MQ46hwRjX2tKnbVeY4rnHDhmXD4BucNWhbXtA2BWGW8qSgClRR05mmOZ51zWd/n2DzFb8bnkfC6DCckOsdbySkHJmme5kPSj6aUd1Il34HYXMJaEPNBTIYkNYlxNUCgkoJO/W3jmkSTJk1yv3+st7JSKXM1qe5S3s9J5cDP0Ces1ZIIgk3fGaWYHyvIpkI/zPlWoTzOhyeffDLaaaed7J8q7Wg7d99994JvD3VAFSoQFRN01pLXt8pcatR+JnPCRu0N200ESkDAF3SmeXgDI9YPEzDgJA0zcexiX7yiIu+eqjuVKHPyySe7eH25i60bFzd58mS34IA2aCkk9mlcmXI/wtFv7JrpCwXac6TWQcB/8b/44ouJHffnfJI2QGKhIDLrHNUFONqARXQSQXAFjT+dw/j9HnTQQZEcZYkGDhzo4pFerP1YFGOhhXzQEoBmQqtRnubDFVdcYccCu/Y+ZRF0XnzxxbauJJ6NuuVIr5snWFSHJAbzXXqSh+IwP+8ri0C1BJ315HnVmHNZ3+fYAFX+iWu4IVvZ0cxXbXnieSEypb6TKvUOxEa3CoYgQGjPxmbYF96Xh0AtBZ2+Ric2erNQqXM1qe623s9JZRC3ww47WL6FtV4aQXlEBffgbRCiiemOCN9d/roR2uytQj6vT+pzvecD2gQlI//bA5vPStiowxod6eG7qlRBZzXf/dpOXvOLAAWd+R0btqxKCJQi6MSjb7rpptgHQagBeeqpp9p0//gXGLa+WPzjE+Ihzsb7dYitTJfXF4CmdVsXCGD4EMRmIRXOoo377LNPlipYpkER0KMfGHvskCaRzl3MsSzUnjn697//3f4ecC1GYsczOvvssyNoI+niCL81X1OpmKYCPuhUyIkPvVYUcgLfvMwHaJlhHCG09rXP0MYsgk79ePePOKEuJWhu6jwfPny4Rrsr+LnOK+RrlSNuDoA6Byop6MzLHK/WnMv6PseRVf0N4BRLq1Be5kOId7nvpPa+AyEsVT4pdu8o5AwHpMb3lRR0+gK9pG7os/D7DzXkkvKHceXO1bC8zru093OYH/dYoym/8k+qJeXFd5U4u3TmvVAOgjJfACq+GJKKNmVc3ueDgn7ttde6McZ4KUEzF2OIb4uQigk6a8Hrw/bwPp8IUNCZz3Fhq6qIQKmCTjQBH9/6gg1t/g0dOtR+EIdNVeaLcrB/hOfhyER4NAgf9Vo3XszFyBcgQZialSAg1WdiwUFqHQRUaw7jn3QMGAtYnRuYr+VSe+bo9OnTnXBJTUGU+3xoUGv7xblYYnFoee644442HxaA/sZDYoEmjszLfICwUccNAmv/T+NxhfARaVgEh3aJdZig5a55k8yNIJ+aHEG+JEEn8uADUJ+ddT6iHlL5CFRS0JmXOV6tOZf1fe7zSqxjWoXyMh98vCv5TvLHNe0d6Gty7rHHHom2DP32MVx9BFT46J8Oy/pU3cTF+yvcOESdegQc6TD1Uw61d66W8n5Oas9JJ51k38ftMbWhZoqwjkgzaZP07EaPy/N88LGF3whdc+GK72b/GxmCan9tiLCfX9OOOuooW221eb3fdobzjQC9rssvhUQE0hDwPf+Kzb9YNlGjN74XP00cPHiwBo04MzLiVMHAq5zYf3PxCMw222zuXhafLhwGZOfT7LbbbkZe0OaJJ54o8EaMdslRkrBY4r3vtTPJI2NiIUY2BQIiIHL9SPLY6nsplCM/Lm8pgfbOUXjbFhu3RjYWzEorrVTKI2N58PuRXXobJ0eWjWh0xtL15pBDDjGyADJiwsGI8MH4nuZnzJhhyvFCqnU26jUv82Hbbbc1oo1r0B7wRP9PFrcO3llnndWmLbHEEmauueZy8X7g/PPPt7fbb7+9mWWWWfwkF+7Zs6cLi6aIC/uBeeaZx92C75IaE4G8zPFqzbms73O/3Pzzz9+Yg5uh1XmZD37TK/VOKuUdKNrqZvPNNzfwei1mlgz4ZceOHV1zUIcIgdw9A42HwDLLLOMaPXXqVBfWgB+34ooranRJ1/bO1VLez2FD8G0jJ95stBxfD5NLusc3mCid2LyyGWB8z/MlVdDAmfI8H3xYu3fv7m6x5sI7CmtBrOvBt+ecc87Y2tD/fkZBXTf27t3b1lNNXu8aykBjIJBvOSxbRwQqj0A5Gp2+3b9QoxPOUOCpOSS1xykcwO44QXMSeZNIj1OkHSGB0xitJ8km5+uvv27Tn3/++aTqC+Lg9Ejrk0VLQTojmhcB+YhxYz9kyJCCjvrHK8s5zliJOarHmWAfMQttt912rm/YGU4ieODG3MfOb9LxJ3h8RHqrUJ7ng45BOUfXfVMgDz30kFZRcIWmp/JAOEBKIt+WX5pmaFI5xrUfgUpqdOZljldrzmV9n0OLU38D8IDbKpSX+aB4V/KdVMo7UDXVwfdgZzEkHGNvJfuFYf/rdV9Jjc4777zT/bZvvvnmgi4deuihLh22g0ul9s7VUt/PYXtuu+021158W5VL0ArUk3lYZ+LkUitRXudDOAa+rdBSeZCenkzyul4tXh+2m/f5R6B1vuryPxZsYY0Q8NXhsdhPWvChKThOq4JI5IMtOSW8LHEEIu0oRei9N2nBgbpk18m+xJMEofg4Ui+BRx55pD46dlXv1v6RFyxecGReNNRieXED5xv6gQPBFqm1EFABDoR94YJPbdpgToZp2ByA86wwPusc9VH3j1KJ5rOfVFIY9pZ0Tl9zzTWJZeCBXfMkHdtHIdj4BC6tRHmcDz7+5Qg6dR6AZ4fz1K8TYV0gg4eLJnEsGXNdP4zSBKGxArypKAKVFHSiYVnnOHgbNhJDysrzss65rO9zbH5icxTz2Sesd3R+gycmbfr4+ZstnJf5UMl3kvI+jGfaOxDxSAfPS7JL/eWXX9o0HGcn1RaBSgo6se7HGGOscWw5JLXZmDTOaTyvEnNV52gp72e/zbC3jr5AkF8u4VsP73CUx3MhTGs1ytN8wLos6bsUY6J+LDBWp59+eknDpO/UJEEnKsjK60t6ODM1DAIUdDbMULGhlUIAwhQwU/2TYzwFVePj1zfYf9ppp8XyqG2sNDuXvpZbsRe7CjKRJ/QSrRpmaOdll10WjR49OvanRpqRrh/2uKIuxIH540Wv5Ht5xwuA1HoI6LzF/ICzLaWvvvrKLY5hFNwnfChjLqEM5rs/T7PMUb9uhOEdG3WXaxcUcx02plAWf2kCTDwDmiqaL/wdQaNJNbezeiHFMxqR8jgffBx9ZyvQXksjfKAp3yvF7hjGXOdD6MUVtu00LUmLPq0NjK8MApUWdGaZ47ABq8KC0IZlVp6XZc5lfZ9PnDjRzeHw9+DbLhs5cmRlBq2BasnLfKjEO6nUdyCE28of8Q4P34FiOsY5J4KdT1JtEaikoBMtx/eKvsPef/991xm1kYm0t956y8UjUIzntXeulvt+1ob5Wn633nqrRpd0heAeCiToKzbvp06dWlK5ZsyUh/kAZRzlQaHiD+aovm8hvEwThoZjA8UEjG/ad3gWXh8+g/eNjwAFnY0/huxBiQhMmDAhuvrqqyPd0dSFAIQ4EO7gQ1psyETDhg1zDBl5jj32WCdIxAv7yiuvdJqYSN9vv/2ip59+uqAVutsEQ9ohgQHjI0PbgCs+SKDBhMUrCNqifnpaGP1RghBKhafIj91MPAvHP/Qlg/Q0Zx5aD6/Ni4A6f8F8wMc35q4KMrGg1fmnCGCB6M89zCelLHNUy+Lq133iiSf6SalhCF4xn1UbGtpJL774Ymp+fOT57S8WbkVzDnmaDzqI+CA755xzYppnmKPY8PE16zU/+LqOa6nCSRVuo9ypp55qNZahCa98MqsZBW0Tr9kQqLSgE60od4778wnzw+eJ7eF55c65rO9z/Eb094Ar+BqcGPprDmww+f3KNlqNWare86G976Ry34FwqObPh2JhrAlItUWg0oJO/K5VExLvTdSPcdV3G75zQkrjee2dq3iOX3ep72eU80+g+UobSEsjsUMbnXnmmU5whs1rHGNuZcrDfMB3hs93brzxxgiawtjM1nkJweWUKVOKDhUE2NBOh3Nfvz6s15J4V7m8vujDmdiQCFDQ2ZDDxkZnQUDV2H3mmBaGkBIak6FAcNKkSTHmquWTbHVecsklNi8+3ELyj45pHXpVG4OhQFbTw2vozR0vddhgDPNhxwzHk0vdLQvbzPvmQAAL1xEjRhTMDwjkw2OO6DHidC5iQeLPH40P51p4H85RRRIf4JoXGselkHrghKBTnH1F33//fdFi06ZNc8/QZ6VdQ23WohU3SWKe5oNC6m/WhGMFoWRIuqmE+Yn+lELId/zxx7sPIn0OFtuYV6T6IFANQWe5c1zbgDkR2s9uD8/LMueyvs9xcmXAgAEFvA/zGx+XrUz1ng/tfSeV+w707W8rn0u7Jm0ktfJcqUXfKy3oRJu//vrrmKAQ4433IzbzkiiN57V3ruJZWd7P8IyucxQb8KWSeleHoDetr6XW1Uz58jAfoMijc0HHFld8m0LRAULqtgiavX7ZMOyfOENd5fL6tp7P9MZDoAOaLBOFRASaHgHRxjQitDGdOnWynibh1U2YopHdLhuPnwI89SI9jZAHnitnnnlmmw/3KA/q0qVLrBie9dprrxnf651mQB0zzTSTrQdeL5FX29K1a1ebDe3VPLiGpPmR1rlz5zDZiADIPh+ehUUoZHqKt2Hf22pBAUa0FAIisDQiuMdml+nTp4+di2kAYL6OHz/ewEunP8/bO0efeOIJ8+GHH5pu3bqZ/v37pz0+Fo/8sig3ffv2jcUXu0H78RvBby3pNyCLIfPDDz/YPPhttyLlYT4o7hgvEMYCf5ijGCPwPIxjOEay+LX5weNkIW3Dpf4D/xZtNyOaAqZXr15mkUUWKbUo81UBAbEZaXr06GHgKXettdaq6BPKmePgMXLczohgM8Yz2svz0KEscy7r+1wceBgRehq0G/Pb925bUXAbsLJ6zof2vJPKfQeCb+L9hrVtyDsxbOCvmif0ZtyAw9pwTRZTV5bPgN9U+v0jZons7x+exvEdkLT+UcDSeF575irqzvJ+FvNh5u6777betLE+xbu9FBJTZGauueYyCy+8cCnZWy5PHuYD2iCam/Y9+Lvf/c6IAL7kcQCfwrsMa3nwMnz/4vsZ71TwsTT+VQ6vL7kxzNgQCFDQ2RDDxEYSASJABIgAESACRKC5EaimoLO5kWPviAARaEQEqinobEQ82GYiQASIQKUQKFQTq1TNrIcIEAEiQASIABEgAkSACBABIkAEiAARIAJEgAgQASJQIwQo6KwR0HwMESACRIAIEAEiQASIABEgAkSACBABIkAEiAARIALVQ4CCzuphy5qJABEgAkSACBABIkAEiAARIAJEgAgQASJABIgAEagRAhR01ghoPoYIEAEiQASIABEgAkSACBABIkAEiAARIAJEgAgQgeohQEFn9bBlzUSACBABIkAEiAARIAJEgAgQASJABIgAESACRIAI1AgBCjprBDQfQwSIABEgAkSACBABIkAEiAARIAJEgAgQASJABIhA9RCgoLN62LJmIkAEiAARIAJEgAgQASJABIgAESACRIAIEAEiQARqhAAFnTUCmo8hAkSACBABIkAEiAARIAJEgAgQASJABIgAESACRKB6CFDQWT1sWTMRIAJEgAgQASJABIgAESACRIAIEAEiQASIABEgAjVCgILOGgHNxxABIkAEiAARIAJEgAikIzDTTDOZBRZYwMwyyyzpmZhCBIgAEWgSBDp16mR5XseOHZukR+wGESACRCAfCFDQmY9xYCuIABEgAkSACBABItDSCPzvf/8zH330kfn+++9bGgd2nggQgdZA4Mcff7Q876effmqNDrOXRIAIEIEaIUBBZ42A5mOIABEgAkSACBABIkAEiAARIAJEgAgQASJABIgAEageAhR0Vg9b1kwEiAARIAJEgAgQASJABIgAESACRIAIEAEiQASIQI0QoKCzRkDzMUSACBABIkAEiAARIAJEgAgQASJABIgAESACRIAIVA8BCjqrhy1rJgJEgAgQASJABIgAESACRIAIEAEiQASIABEgAkSgRgjMXKPn8DFEoO4IjBo1yjzxxBMGHg7h3RB/MAIOA+D6h7gllljCLLXUUvavb9++Rdu9884727Ioh3o7dOhg7//73//aus844wzTo0cPV8eECRPMSSedZDp37myfjzJoww8//GCfN2XKFFte0+GBthhNnz7drLfeembXXXe12T744AOzwQYbmLnnntvMMcccZrbZZjOzzjqr6dKli+uz1qfPhdMH/P373/+2fyuuuKI5//zzNRuvRIAIEAEiQASIABEgAkSACBABIkAEiAARaAgEKOhsiGFiIyuBAISPEAQ+9NBDBdUtu+yypmfPnjb9qquucukrr7yyOeaYY8zGG2/s4sLA448/bt56661YNOpbbrnlTCiohED066+/No888ogVKmqhxRdf3Pz+97+3ty+99JJ5+eWXNcldf/Ob31ih5YwZM2JlIaBUQefEiRPN66+/7sogMN9889n7Tz/9NBavaWE8PT8WwNSUEe+//7657777rLfPdddd16y66qpmlllmqUhfIdCH5+T+/fu3Wd+HH35onnnmGYMyEMivttpqZoUVVjBdu3YtWvapp56yZaZOnWoWXXRRAwE9fnPl9uGzzz4zt9xyi91owKaB0jfffGNuu+02Ay/QPnXr1s1stdVWflRThCs9H7KOKzZ9sCH18MMPW56MjZtFFlmkKMYYK8yfV1991WA+LLzwwqZPnz5mjTXWKFoOieDHY8aMMS+++KJZaaWVzNprr23mmmuugnKtNh8KAGiCiErPcR+SUnleuXP16quvtnN0mWWWKVhP4Pn4veAd/sorr5jBgwfbue+3C3xYfxvgddjEBa/HNaRWm+N5mA8YA/BKrCPHjx9v8H7Bewi8aOaZy/tES3uX+eOM+YI18BtvvGE+/vhj07t3b4MN/SWXXLJgfrXafPBxaoZwFEX2t3///fdb5Yr1118/8bska1/vvvtug28X8KY0mjx5sl3fQekCazqsp7766ivL07788ksb3nPPPWP86MgjjzT4hoKSCJRHfEKf/vOf/9hvNXzP/fOf/7R98/P4YShx/Otf/zLbbLNN4poSyiWPPfaYX8SG8T1WyvqhoGCOI6oxH/DNCb712muvmd/+9rd2/d6rV682eVep665icOKbHspEmCMHHXRQsawujfPBQdE6AZn4JCLQUgjcfvvtkfzC3Z985Mb6Ly/RSAQfkbxoXR752I7kpRzLpzeiGRnJS9Hl3X333TUp9frdd99FItCxZQYOHBiJcDGWd99993X1iYAzkgV5LP2LL76INI8sNFyaMH1bToSb0R133BGhbUojR450daL/t956q02ShUf0/PPPR+gj4lGW1NwIHHLIIbG5gHGXRUokQvJ2dVwWnhHmP+obOnRo0brwGzj66KNdO/B8lNM/2XBILP/OO+9E/fr1c/n8cvgtyAdcYrkw8u2334522WUXV88555wTy7LRRhu5NG2TXtN4QayCBrqp5HzIOq6AC2MH/qM461U+fCLwqZAQh3kCHom8YdnNNtss+vbbb8Ni7j58F+jz7rzzTpdHA600H7TP9bh+8skndiwfffTRij6+knPcb1ipPC/rXN1pp50Kfg86T8OrfHS6pmHeH3744a5s+NsA7w2pleZ4vecDsMf6bK+99kocI6wP33333XCIEu/bepdpoXHjxkV4R+q88efEJptsEskJIc1qr600H2Idr/HNs88+a8cEa5tKEcZS1/Q63rgOGDAgEuWIdj0G7RVhvG0z3qHF6OSTT3bzzW+HH37zzTdjVfjz0s8XhpHP/8bxK8E31Y033ujm++eff+4n2zBw0LVDWLcouRTkb+SISs8H2ZyJtt12Wze2/joc4/LCCy+kwlXOuiu1EklQHi6KEcWy2TTOhzYhatoMpml7xo4RgRQEZDcxxpxTskXTpk2L/IUeBJ+hwFHLqnAHL8trr71Wo4tejz32WNuOiy66qCDfzTff7Nq49dZbF6QjAi94fbnILpXNo4IbCC5DEm0nVyfaif75hA8jFdiGglc/H8ONjcChhx5q5wEWI/iQwrgfdthhNg6LPggayiXRaHaCd10wos5iJFrI9pm4quAQAnxdQKOeK6+8MlYFNiGwqEEaFuxaTjRZItHEc/1KW/xqZf7va8cdd4zChTby4QN0zTXXLPgLBaJaZ6NeKz0fsowrsBPNCieoBG8EDxLNdheXJJjRzRvwQdEKtkOA+Qshu85D9C+JIMzUPA8++KB9nj8vwg2wVpkPSVjVMq4ags5Kz3HgUS7PyzpX/TWIztekK3iVT1tuuaWd3xB2QBgLmjRpUmyT6N577/WLkOfJe6WW70Cs7TCWyy+/fCTalXYsRPvWCWfwjhbNp9gYhTc+z0p7l6EMNpFUqAMBuL4j5QSRi4fgwifyPB+N6oUrLejEmk6FnFgnYd2E+aW8BGusLCRaxxE2D33+I9qiRatShQzMZb+chvFd5ZNo6SXm0/z+dfjw4X5RG8a8vu6662KKKiiTJNwFJuhPuM4DPnKipKDuRo2o9HyA0FQVgc4991zHS+RUgVuvAXPwspDKXXeF5fXeF5ZiUyiNOB/SkGmdeAo6W2es2dNfEMAHtL4s8YFcjOSYT6Qf7iiDF6IuEP1yojbv6rznnnv8pNQwBCao84YbbijIM3r0aFffkCFDCtI1QutQQQ3ah8VMEuFlp/3GgjeJxI6pfVG1tbhOKsu4/CMAYZDOAWh3KOE3oULuI444QqNLumKxqXX6V2jhpdHYsWNdGewM+yRHnVwahJc+3XXXXS7tySef9JMif+ETpvkZzz77bFfHZZdd5ie1XLjS8yHruAJ4aBRh/uADzdfeBH/UeeVrZUDIrfHhZhF4tH7Uhx9SeBZ4oaaLaRJEOdpnn31svcUWzy4zAxVHoNKCzkrPcXS4XJ7Xnrmqm5nYQIXAArza/1Ohvhxxd2MB4YP+NiDc9AmCLU078MAD/aSWCOdhPgBof40Xvq9wr2OUtMGjA1XOu2zYsGG2TvA98D+fdA7hmbpp7qczXF0EKi3oPP30091Y62YwevDee++5eYXNvVIJ72MVnOq81Gtb9eh7XQX5mF/4vkj6jkJ7oJ2MuiEYBS74BvP5HcLYGECeqVOnxrqAzSdfY1nbiGs452MFm/ym0vNBT2LhmyGkSy65xM2xkHdVat0FzWddv2Fsw00+bRPngyLR2tfink5kBpGIQLMh4Nt8gdOfYgRnQSJMdHYuYUfprLPOKigS2uIsyJAQoe3Qq5+l1Pp22203a2sJNgpBsGsnR9ZtOPwHGzlKcFSURLCVIx+a1k5UUjrjGhsB0SqyHZDFoIFdTiXMN8wl0IgRI4xo+2pSm9fVV1/dyK6unTeYf0rF5jBsMCrBJq1PsB0nixgbJcdXDeyEKcGOohLscfoki193C5tnSSSagkY2DmwS7HLKsdCkbC0TV+n5kHVcYd8J9r5Ae+yxR8wu16abburG47zzznNh+chxYVnoujACsG3XvXt3GydH6WNpuLn++uudnWPRgo+lDxo0yN7DBqw/n2OZeNMwCFR6jqPj5fK8rHNVBJsGdiRFIGlE287a6AZf1T/M7f9v70zg7puq/7/NvsgsU19DFEUhUknqV1KJNElJRKiIlCEqQ2YRykxE9ZdkiArJlJIUSSpDolQUikppvv/13rW2dfbd5z733ufe5zn3uWu9Xs9z9tlnT+ez191n77XXXkuE/HG8FA3O1Cci3IxhxtHVV189xROw9mex9z1u1AR+APOjjz46Qi+C7GjXzvaDbLIE/Z4deOCBAVt0OfX6LROhUSwCfrBzQSKt003sJzqNLgLwynHHHRdfYJtttqn83uE10fCMzw477LCuX5I1ipjYCnIUPIiwKsB7Sp3meaTRsU8ElzELay7s0NbZn8V2LHT66adHO7WswXS84wof48OA99B1T8wg/3i/rbfeOvpAEEFqdMyqzyZqp6abaddh8IPOi/AHgY8IS3wbleTEgAbjdRDzLt4HvoZ0nRBvCv+cHwqgjGGUCzrHsNP9lXtDAAcpsuOdMskuVXQAkCKmIYDwRzTyohHuVVddNRmRx9nRRMLbaWiuV9kABBD+qaMt0fptaxEOKiAmLjjA6JZwOCRacHEzwE48SwJ8LVON1zP5xelCTrNmzUpR1lnWKquskuJxpGTpyiuvTLc4M8oJo+kYuYf4PVvBQJ52HO6HwQ/99qtokifIN9xwwxQmAC+8TJxzQAgHdNFPHzMWi3mDNmEOCyHZzY95cv6Sve1wzDHHxGcI/JdffvkY1n920V/a1NJ0fm0+AsPgcd661zGvX17FcQJCzve+971FsNmsYbxmk8oKr1gI7rHHHtHZXJ5Rjg6mKBx2jRM1hR9EKy3gIAbSMTPvB7t5g7DbUj/fMtG+ikUgKBLNPltc2mRCMIADGKfRRYDft/KL3czWN1IHO6wfcCLTLTHHe/Ob3xzHGTsP6zTPo2wcBMJ7E6XTdiyxxBJx7Np00001qnJlYwdCKSMnhKIIYXEoiCCVtZFSt/Vr+plyHQY/6HeDdcRCCy1Ugco6A9U5GAkGNe868sgjAwoQp512WnSgVqk8u3F+yAAZ01sXdI5px/tr94aA2OBMGVhYyPH0dD8dAerHgyITZidHoBsE5MheSoan1ZzkiG+KQlDUD9Xt0udlIWTEYyYLriWXXLLyGMGmFW5a4akcn0pp0cTDWzbEhH2vvfaKYTlW2rbTzwPV5GQxZzUSYqYx/DcMfui3X1VIzQ59Lnika1T4yNgL3yghuEYD0y5i0Eh629vepkmCmGJIYQJy/D0uvgivu+66XCrERF1/C6oFVUngNyODwDB4PH/5bse8fngV7Uu8yuIRu0Ro0kPbb7995THCArS6VKihDxnX8cwOIXzYdttt9dFYXJvCDwhclRZddFENVq7LLLNMupejmilMoJ9vmd3cfPWrX5007c4+++wgNg1j+WLKpVKP34weAgiBlPQ7pvdc7dwPIWQ/1O2YJ8fmY/FWMKoblXX18q1n7EJIlRPfdjkaHTfV6wShNo8rfYQoFFRMBsUPfJMYk9DYtHMv6rEntOz8ahDzLnFwFOdzYtu4MsfT95vo6vwwEUIz87kLOmdmv/pbDRiBxRdfPNiJoqruD7iaYnFob/JR4Y9jHdTNhwbqdsJRLNgjxwoBu1hC2JcTPK4kNl81OLTrcsstV9Q+FkdaqU6xj1vhcTRA9cgfQq+NN944LtbRXOAeMxO5YIvC0Hy65pprYrloSDHp4mgyAlK0psaRhsUPvfYrO/264Fp55ZWLXaHH0HkoDrSKadj0Ebt38cgn5XH0k4lxbuLAajOtsMIKxbJU2IpmDEfgnEYTgWHx+GTR6JZXO9WD0JIxDG1RK7wo5eEIPEdBVROHY6iY4bFaoKV8My2uKfxghQN131o96ksf2Hb3+y3jqO+WW24Zu5TxEV5A0I2QnLrYNOR76jTaCFgtOv2O2TeyG8tiD9M+GnhYNUsRiGGSCL5HgLn++uvHUzUPPvhgT3Wee+65MT08WxKE9lTYmCQeFj8wd7LjmMJ50003aTCaEdCbyc67MNPCpjZjlW7wadl+dQQ6IeCCzk7o+DNHwCBgF+F1k1OTfGBBdtzRauMPLQyOcbqm0cDgHZuC7GIJjZ+crA0jbO9MB4nR+6C2o5jQiKOYtmaguXnOOeekeI7jI+QkDm0l+x6aiEW+0p577hlWXHHFaGcPIQGmKdBwUbt2mm6mX6eSHzr16+9///sEdd2xSWx6Kdl2axwLKQSsr3zlK9OxPYQ42HRFkGrJTrjtos+msfXpYs0+9/BoIGB5pSljXi+82gllPcKptpXr0jKeLrjggpWjnoyR4iG3LsuMjW8KPyy77LIJYzZj7rnnnnSvAYTTStYWXb/fMjTVERSpGQS+mWrKBiGnPS2h9fp19BBQG5e0vKQtbHlJ7WcO6y3ttxa779Z8AlqbmKmxv8lO7eA7Ls63YpK3v/3tnZL6M4PAVPID/h3UjjpzMexKK1le6GfexSksNmg+/elPt50C0zr86giUEHBBZwkVj3MECgggaFSyxyc1blhXduIvvvji+MfEFLt0drIyrHq93JmFgN29t3Z07FsqXyHcmeiIkc03qDCLcjSNaAcamAivSsRvQp016PPtttsu2gotaWiqkxzK/fjHPx6P1yBw0EUf9tI41qPptMyZfJ1KfujUr3YCjNC5RJZfSxqdHPHlKBvOpdS2HdpumDfAlpfl5V7rm8qxvvTuHtc/AlPJ4922shderStTtdd5rlp6dWnR6kIzHrudKmjAqQimb8btqHJT+AFb6thQVWKcsoJN4u0Gi9XY1W9UP98yTgCVbBtSvrWTrO3y6+ghoKcjaHlp09ce3x22oBP7s+eff340RYQQDKeDODPabbfdIrBoG6LdqUfcO6H97W9/O7AB340Ge6dyxu3ZVPEDJ1+Yg/Ntoo8uvPDCymmsycy70BI9/PDDA0fWN99883HrQn/fSSIw9yTze3ZHYGwQsMcnrcZPvwCg5QTVLe61XOxzvf71r9fbeEU75X3ve19cwPvx9Qo0ftMFAt3wTGmS3EXRfSc566yzkrMgHA2tscYaxbJ4xoSHCRWOaJg477PPPvH+lFNOCdg/YyGvR5uYYJEWYod57733jmEEpWhyYgsNz7YQi09rxy1GjsG/YfLDRP1q+ayuHf/4xz9SLyAkyAkvxfwpYZJAzRmg+cYYqv1uj1spj2g+vdrj6rZ9+tyvo4dAHW/ZN5mKvu6FV23bbBjhAYSQs047RtMj/OcPQisKR3NqmxMBG8II+9uJCcfg33Tzw0c+8pG4qcfpHOwqImzEpAAb6mzyIShQwmkaNNlv2VFHHRX23XffePwTD8iXXnpp8tDNpt/jjz+ebF1r3X6dWQjYb2nd929QbwzfKu9qmZy0wMkffM9mJPbY4XccHXUi1WRm08ZpcAgMgh8wxbLzzjtHB2tspkoV5OQAAEAASURBVOFDQpUmtKX9zrvYAOJ7RXnHH3+8FudXR6BrBFyjs2uoPOG4I8DRC6WSjUN9xmSxG/rjH/8Yk020UCmVhfYSdjqnYmFWqt/jRg8B690VezclUoEgk4qp5C0MzDOBpd4bb7yxzYmGtpVjfmhz0s6vfvWr0WbPe97znmhrUw2tX3LJJWG//fbTLAEPtUolm1UIwHRSxuTbOkLSfDPxOhX80E2/2oVQHV9aLd3Scby8f3BooAsjnnHcSck6dnniiSc0unK17VhkkUUqz/xmdBCYCh6fLBqdeLWubD3Cic2yXojFJnkYM5W+8IUvaHDGX5vED8z70FKjL1/72teGhx9+ONqfPuKII4I158GRcv0WT+ZbxiYgQk6+dXznMIHEHPIb3/hG6ne+hXhpdhpdBJ7//Od3bLwVbE3Xt41xSJ2i0dhrr722Y5vRBmWDBppIg71jQWP4cNj8wGkZzKdgYg3lgeuvvz6UTBD1O+/iBCOavJg6sCY/xrAr/ZX7RMAFnX0C59nGDwFrR2n11VevAGAnDHaSWkmU3eBkCLKaolmS2lvsheJURSfAtQn9gSPwPwQwBq+kAk2952qP986ePds+GmoYYRgTJRZgONrqpF2kC3s0lFgcKuHVk11kJbRVlCbS3Jk1a1YUnmr6bm1GafpRvQ6bH7rtV/pdHW/omJhjao91Wm/EeTp7/6IXvSjdMlFWW53WA2zpd0AmtISVSpN2febXZiMwbB4f1NvX8WqpfI4u44iI380mm2xSSjJhHLbxlKbS3rjWOV3XpvEDx4g5xsumHWMfYxRam2zmKaH5qdTvt4xTDrvsskssBsGqdcKGAyJMIynRFqfRRcCehLHfTX0ju7lX2vjVdMO+rrrqqqkKBP6dCCEaxJyvn/VSzDym/4bJD5xKVCEnAlUE1nXzpX7mXfAvpqagD3/4w4F1if1D8QHC3JXGH3TQQTHO/zkCioALOhUJvzoCHRBgAmp3uvOj5NZRER6du6Gbb745JhvEh5uJ6kSThW7a5GlmLgJqn403LC1urYBP7RwOGw2OzqmQkwU82k2WMKSuAljCam9op512ssliGAdDHGmHsG/G4g4iXum3v/2tBitX66gEAcI40DD5oZd+BWvtdwQ4JbKbTGuvvXYpSVucHVfpUz06ZfnhzjvvbMtHhDpqQXO/H437YqEeOeUIDJPHB/kydbxaqgPNPAiHHNZ2bSltXZxdjGIzdFxoFPiBjfJDDz00dgnaa9ZJkB27evmWYYNaaautttJgumL3Tr97V111VYr3wOghYLWWSzY4bdy66647bS+o32Ma0EngyvwPzWMIO8NOvSEwTH5AQxwnoCgnoBm++OKLp8YhULc2ke3Y1e28CzMHjIWM25zk4d7+pcokoPHWnrF97uHxRcAFnePb9/7mPSCAJzk1Do8QyO6SUYwVdF555ZUTlvzoo49GuzQcH5qsvU+Oyr/xjW+MHjUnrNgTjC0CdpGnAkMLhvXOiMfEYdMtt9wStthii1gNdjfXXHPNSpW0hzar8MsaM7caKTYTdhmV1AauTVvnWMYuGu1vWcuaiddh8UOv/Qq26lgKDUuOqeWkRzZps50w5+nsvRWOWmEBWlFaH17Zc6INar7gda97Xf7Y70cIgWHx+KAhqOPVvB7GKT3CqZs6eZpu7nEKooQzkHGhUeCH3XffPdmUPvrooytd0++3TB24YSaEEww5YfcYe9VOo4+AmvDhTezvXN/MCpk22mgjjZ7yq/3Or7XWWrX1f+1rX0vfY3uKpzaDP6ggMCx+YMON8YnNYDa27alGGnDeeedV1sX9zrvQaIePS384PYJYk+tz7Bw7OQIWARd0WjQ8PBYI2KMb3bwwji1w/KNk7b1pHFpGarcTw/Ko0neik046KT7W40R5WnvkxDrGyNNxr94yddAvpSHOvrcKbevSevzMQ4Dd1je84Q3xxS666KKkKalvCt9CLAY1nT5Do5mJhGpXanx+tUeBEebXETYX1SHGAQccULTJyUQJUo06e2SZtpRIBZkchdbfI1pP+tu47rrrosMFm5d3u+2222IUmi39aknZMkchPAx+6KdfwQrtNCWrfUQcfIRNOSg/lgQ/WnuaMdH//uHoQClf0GE4H+JIuxUyEYeNWKW99tpLg34dQQQmw+Pwst38qXv9bse8fnnV1os5CIjx7SUveYl91BZmDoGTiBLZ0x+dTIWU8o5yXJP4oYTjYYcdljaszz333LZNnX6/ZWrbDi/Xdm5p26DaVxtssIGN9vCIIYApAtXOtafQ9DVUY5dvYG6iqJ8xz/ou0Dr0yuY0ih+lb7Q1kWA3qDWvXtUe8dZbb53eS59NdFU/CKSr4/uJyhj158PgB+ZMunb9zGc+UzQngKNQnYMrhtM973J+0J4Ys6ss8pwcgbFCQLTZWvIzT38iSCy+v3wYW6eddlpLFhUprSzCi2mJFBX+lI48IuwsphXBZEwnH4GWTACKaU444YRUlghpimmIlOMCKZ0IA2rT8UCOY6a0vP8f/vCHjun94cxDQIQ4iQcuuOCC9IIiTGrJ5Dg+E+cUKZ6AaEa2ZMc0PhNNuJYsnivP7Y14ik3li7DUPqqExRN3SicTpZZMvit/4kU9PdffpxjRb/GbgXdF47Sl8VqwHPlricZKfH7iiSdqdLyK/c5UnmwyVJ5dffXV6Vndb7aSYQbdDJof+ulXhVO0NWI/iAZC5DmNF+ccMV4E8JU+F1MLaWyG7yzJRk7iZ8ZP2eSxj1sy4U3PxUZeegavv+pVr4r1icOWFO+BqUNANH0i/rLxMpBK++Fx2TBJ/PHBD36wYzu6GfMmw6taOXMFnYuIfW6NLl5FwBExJL1ocFXS2LHQ8n4l0Qy+aQI/5PDyLaNPdV7KvK6ObP91+y274447UtkHH3xwW9HMHbVusXvX9twjhouA4s84MQg65phjUn/yLVRifqP9LEJvjY7XXsY80TpO5eRzLS0Untbxivmj2L3WR3FM0nZ0mifKBnSqR8xzpfzdBJinMpfQeuT0RjfZZmSaQfOD2MpPuOZzd8Yn0aqMz5lLWRr0vEvXA6xLJiLnh4kQmrnPMX7t5AiMBQK33357S459tcRochqk+QgyGIuWZosPKUIeUcdvsQDQjzRptttuuxYC0k7Eh32PPfaolC02ZVqi4t8ST9BRaCpG5uNz0aJoMbHICaELEwdbN/Uj2GGCKjv+8W///fdvaVn6IUcQVCLKRJjEgl/TcpVj8xEPJv5O44OAaMVFPoDHmJTcdNNNSZDJBCYXIIpNpwrf5PwimkqxHPGK2Ma3oq3ZYtFtJ7kgrUIty4+lML9VS5dffnkSQPC7FQ3NlmhdtRA2MNmhDDkO36JNOenkizT8xhEAsHGhvzXx7phnGYv7QfJDv/0K0HahJRr0cWOGsZD+Qgif8x18a3nmS1/6UuSFz33uc6lPmQiL9kGxH5mga37GaDaCROMgxjFWPvjgg8V8HjlcBAYt6KS1vfI48wTlDa75mNjrmDdZXuUdbJsm2pCxC1s2CESDM85fmD/oezGnyDcAqGccaLr5QTFmY+XLX/5yiz6iX9io60Yg08+3TGzdpb5nfotAk28gwlLd5IRvnKYegUELOhmvxFxL7G+EjJTPXE/nOnzvcrLjS2nME98DcR0jTmESH5GOMvlOs86wlAuW5LRM/IbD79oOBJGldZCWI7bYU135HFLT5Ffmg+eff35LTHukvLSTbzpzA4Sn40aD5Ae+feDZzZ/Y8GyDerLzLhR0RNu9xUa0bQPzd3g8J+eHHJHxu3dB5/j1+di+MTuHdmDsFGbCyUKAgVqO9PSEGR9Z1YDL6+ADv/feexcXGEwM8vTd3iP0LBEfuInKQBjgND4IMFE5/vjj2/jiyCOPrGjSKSIsxnRzAP7NF8dMVCfiMRb6lrS8ifKVtOqYuLBRkOeFj08//fTiO1A3781CXxd1mp98aFmPKw2SHybTr+BP3+ZjJ2XWCSvl+FvbBg79Sh+jCYpWfidCc0oXXcoPbE6J3eNO2fzZEBEYhqCzVx7XNsATLJhz6mfMmyyv6kYl/Mr7dCK0PxFg5bzN+yBUY1OAcX1cqQn8APZ8c7VP+AbJ0eGuuoT29/Mtsxt7Ot5xhbcGpUHd1Qt4ogoCgxZ0Ujjac1ZQSD8zHtSdSptozGNdY3mmFM7HFE7ZWO1PzcP3GYFpPpe0oDz88MOpPjbguyU5Up3yaX32ymbsONKg+EFMFXTE12Kdnw5T3Ccz70IhydaRh1lHW3J+sGiMZ3gOXlsYxckRmPEIYCdGPsRhnnnmCRhfx+ufDIrpj58CzzHWjuHkyRLe1/H8zHWhhRYKeHbG0cmcc9abxsWODM+pn2untLSd9oowM6abf/75i02WndD4nPemPN6bfPzJhJnNjuixrpjZI2csAjLJDHKkLfY/xuA78Tx8ia1avHSW+AyHWORXvlUeg7/44zdleZnfIveaPgcZ3la+nnfeefPH8R6+xsYibcOzJPbXuiHKFW2WIDvD0amYdfDQTf6ZmmYQ/DCIfgVfbAj//Oc/D6uttlqwtlnrsMeOJ3aj6NtVV1012jCsS5vHw5/UJQurgK1lxmqn6UMAR1B4Bcdm8IYbbjjQhvTC47LwD3KUNIigPX4z84b0OuZp/n55VRZ4sQiccYlgSovreOXbLprJAduMjMEi5OzZzl3HCkb84XTzA/ND+GydddbpC8l+v2XMSRkvmRPy7cRjsdP0IXDzzTfHcYbxZtDzEcYbnE9i65zfv/V2nr9xpzGP7yQ2PHUdwRoKYq7GM9YTdXxEPuyq40yNNjCGdWoH5WL7GEdElMn8lDzdkJxsi+3RdjLP1LUdvxfqLc1huyl7JqQZBD8w52ZeruvoHBf4gX4gTd26ot95F/zGPJO6df2g6+DSWtb5Ie+d8bt3Qef49bm/sSPgCDgCjoAj4Ag4Ao1DYJiCzsa9rDfIEXAExh6BYQo6xx5cB8ARcATGGoF61bKxhsVf3hFwBBwBR8ARcAQcAUfAEXAEHAFHwBFwBBwBR8ARcARGCQEXdI5Sb3lbHQFHwBFwBBwBR8ARcAQcAUfAEXAEHAFHwBFwBBwBR6CIgAs6i7B4pCPgCDgCjoAj4Ag4Ao6AI+AIOAKOgCPgCDgCjoAj4AiMEgIu6Byl3vK2OgKOgCPgCDgCjoAj4Ag4Ao6AI+AIOAKOgCPgCDgCjkARARd0FmHxSEfAEXAEHAFHwBFwBBwBR8ARcAQcAUfAEXAEHAFHwBEYJQRc0DlKveVtdQQcAUfAEXAEHAFHwBFwBBwBR8ARcAQcAUfAEXAEHIEiAi7oLMLikY6AI+AIOAKOgCPgCDgCjoAj4Ag4Ao6AI+AIOAKOgCMwSgi4oHOUesvb6gg4Ao6AI+AIOAKOgCPgCDgCjoAj4Ag4Ao6AI+AIOAJFBFzQWYTFIx0BR8ARcAQcAUfAEXAEphqBF7/4xWHuueee6mq9PkfAEXAEphyBOeecMzDmOTkCjoAj4AgMFgEXdA4WTy/NEXAEHAFHwBFwBBwBR6BPBG644Ybwr3/9q8/cns0RcAQcgdFB4D//+U9gzHNyBBwBR8ARGCwCLugcLJ5emiPgCDgCjoAj4Ag4Ao6AI+AIOAKOgCPgCDgCjoAj4AhMAwIu6JwG0L1KR8ARcAQcAUfAEXAEHAFHwBFwBBwBR8ARcAQcAUfAERgsAi7oHCyejSnt17/+dXjkkUca0x5viCPgCDgCjoAj4Ag4Ao6AI+AIOAKOgCPgCDgCjoAjMEwEptXae6vVCnPMMccw36/RZQ/q/c8777zwk5/8JDz44IPhgQceCLfcckt46KGHwi677BJOOumkRmPgjXMEHAFHwBFwBBwBR8ARcAQcAUfAEXAEHAFHwBFwBAaBwJQLOhHCffKTn4zCuJ/+9KfxHZ7ylKeEddddN7zoRS+Knuc23XTTGS0Aveqqq8L+++8fvvvd74Z99tknHHnkkZN634svvjicf/75bfww33zztcWNc8Spp54avvOd74R55pknzDXXXPHvn//8Z/j3v/+d/ohfZZVVwmqrrRb/1llnnY6QHX744eHOO+9MZWJU/E9/+lN47LHH4h+Zl1xyyfDUpz41rLfeeuEtb3lLDJcKPeyww2JZtAGPs1wpf4klliglL8ZdccUV4aKLLgr6XiQ6++yzA14doamoI1bk/xwBR8ARcAQcAUfAEXAEHAFHwBFwBBwBR8ARmGIEpkzQ+de//jVsv/32FYHcq171qkD8t771rXDdddfFP97/D3/4Q1hsscWmGIqpq27XXXcNd999d6zw4x//eHjDG94QXvjCF/bdgC9+8YsBId5zn/vcwJF1pXnnnVeDfhUE8OL6m9/8JlxzzTVteDz72c8OK664Ynz+uc99Lj1//vOfHw4++ODw6le/OsXZAALEX/3qV4l39RnC+7e+9a1RWIm27eWXXx7OOeec8OEPfzhccMEFYZNNNtGk6UpZ9913X8X74pprrhl22223lGaiwIc+9KHwox/9KCZDuLrxxhtXhOhTUcdEbfTnzUDg8ccfDz/4wQ/ihsuf//zn8LznPS9uNi2zzDKTauA//vGPqGHOBgB/0Oqrrx55camllpqw7Ntuuy2Ojz//+c/DX/7yl/CMZzwjPPOZzwxrrLFG4HfViX7/+9/H3/f9998fHn744bgBwaYFm2hsYExEv/vd78L3v//9uBHHZgP5GAMmqneickfhedP4gdMJfNeWXnrpuNmzyCKLRBhp56OPPppOMLCBtNNOOxUh/uMf/xh+/OMfhzvuuCPATwsssEDsz4022iiGi5n+F/m3v/0tXH/99eGuu+6KJyT4fqywwgrxW823lo0op9FCYFg8Phk+KyEI7zM2c0qHcQzeZ95Yol/84hfh9ttvD/fee2/47W9/G3mUMY85zURj+bjzeBP5gc1yFEL0ZBZrJDa7119//Th2MYbV0cc+9rH4rWLut+iii8YNc/Kz+a4nvhZccME4py2tD8adH+pwHeX4Yc1p+hnzWEstt9xy4elPf3pSvuiELfM+0uc0mTGP7zjzAX5fzE/5PTCHeMELXhAWX3zxvKoZd98kflBw+xl3WOeee+65UTmum/k5490GG2ygVabrZNcMqSAPNBcBOT49JSTCvJagkP5kIZrqFUFnSxg1PRPBUHo2EwP2XcHkxhtvHMhr5hh/9KMfHUi5M62QSy65JPEa+F999dWVV5SJYUu0IluyUEjpXv7yl7dEAF9JZ29EOJrSUqYIsu3j1je+8Y30nP7/5S9/WXlub7bZZpuUVj70LZn42se14RtuuCHlo44nnniiNu1U1FFbuT+YdgTOOOOMxCt2XCYsWr8tmQz21cavf/3rLXg2L1PvP/jBD7ZEeFksWxb2rZe97GUpLzxsx0pZvLVkk6KYVwS1rd133z3l1frs9b3vfW9LhLDF/H//+99b73nPe4r5acNXvvKVYr6ZEtlEfoCXbP/VhWXDtK0bRKO9deKJJ1b4J89/5plnFsdWxtuTTz65Y96XvOQlLdk0a6vXIyaPgCzEYr8zLxwkDYPHJ8Nn+bvJKZDWscce2xIhQBvfM6bmJIKrlgj4K2kZIy2fn3DCCc7jOXD/u28iP/B96/T9pH/r1gsitK30veWDPJx/B33Mq2GSKYqWzdXYd53WBb02ZVhzmsmMeXZNlfNk6f7zn/985bUnM+ZREGs9O6fM6zzllFOK42WlESN600R+mMy4IydZux7v6OenPe1plZ6b7JqhUpjfNBqBMBWt+/a3v11hyB122KGt2k984hMpzaAnuG2VTXOE2M1M7ypHmQfWGtEgTOXyw5bj8QMreyYVJNpACad88LPvycKDRbR+DPlIi8asTZLCCO41XWlRQsKDDjoopXnnO9+Z8uaB973vfSkdZX7zm9/MkxTvrfCStnaiqaijU/3+bHoQQIC5xx57VPgLIbxoGVfiXvOa1/Qs7ESwpL8B0VBviWZm62c/+1mLTQKN50rZufBetJEqE1DRTI4AiVmJ1gEHHFDJjwDMEgJ90bpMacgrO/Wt733ve211M5HNSXZ0WwiutI38fmm7aF+nOJ4dccQRedaRv28qPwDsaaedVsFf+ye/ihZTpR/grS233DLlfde73tVifGYjKBcEyYmKSl5u7O+D8R8BPHycC9IH+e1ua8QYRwxa0DksHp8sn9ku/upXv1oZ/+BxsbHeuvTSS1uikdy2OSQaMJUxj/FLN5Dk9EjifcopzQPHmcebyg/2G8y8FKEngi82ZOyYxxhW2sRGQcSmqwvDKzmNMz/kWEzH/aAFncOa00x2zOskZMz5NefzyY55+XziS1/6Uos1nuV92rD33ntPBwsMtc6m8oPFvte5VqeNqpyXuGd9ojTZNYOW49fRQGBKBJ25UAWBT07iITx9pPOFbJ52JtyL2n+LCf0gyQWd3aGJ8EQHwk6CTkpj55uFsqZ/8Ytf3GJHMyc+mJpGjgDnj+P9ddddl9KgtVFHW2yxRUpHmVtvvXVd0hTPTqfWz5VJQieaijo61e/PpgcBseVb4RMr6MkFOXIspOtGIhi0/HfPPfekvPw28gnuhRdemJ4TgMdtfoRLSmjO2Wf8Hi0hvNTn/J75fSshQNBnXN/0pjfpo3TNv0+qMcPvXI4oV/LL8eeUbyYEmsoPYIvAmj5j0+a1r31tFEYjQEeozTj8yle+soWw8eabb650hV3QMM5a7aV805Xy7eaVHAGu7W80+i0vEXYaPAKDFnQOi8cnw2cWNbQ4LV8xRvE970T5Iu9Tn/pUJbnVCs3nOOPO403kB4Sv9hv52c9+ttKfzCktj/C9zUm/dcz9Nt9883g6gnGS8ZJxkw1HeCvXkht3fshxnI77QQs6hzWnmcyYh6DS8vBE4aOOOqrSFZMZ8/jG2/qYO1jid2Kfy9F2+3jkw03kh8mOO2xw2z7rFGZsRYNTabJrBi3Hr6OBwJTM1PNFLB9iBJs5cayRCZo46ckf+X0XCLigswuQJAm7kjoodhI4amns/sCzmueYY47RR+mK4Fqf1wk60VrTNFyZ3JaIiSkfYpt2IqG4OC2K6e0HrVS2xk1FHVqXX5uBAPyWHx0SW0epcWgOW55jgczktBvKJx2Yf7C08847V8rec8897eN4rMTWjQadJfss11beb7/9Utn55Dh/p/w0gdXEpo5cKHDIIYeksnn+jne8wzZrpMNN5geAZVEO5uedd15POFvtXEwh5EQfW35Ca07JasPlR+L5Dth8E20maZl+7Q2BQQo6h8njk+EzRYRNFctT8GtpI1XT69VuvpL/M5/5jD6KVwRdtlyx85mejzOPN5Uf7PyRRTnH0C1Zky70a2nDTU9UYKKlFxpnfugFp2GmHaSgc5hzmsmMeffdd18ak8RfQTwlwSa2/VNhPTyemwqbzJhn10WUfdxxx1W6k/HTjpczaZ7XVH6Y7Lij/MA8jd8P72l5ibDy64EHHljp78msGSoF+c1IIDAlzohmz54tY8iT9NBDDwWcAVx22WXRAYw+kePrgb8SiVZQNB6M1+xll1027LjjjkEEVkE0NIIsVAIexjEmTLkY4e5EGG3HIQ1XWbwEHGTIRCLmr3MwQF0yUEfHHRgxloV7dLBBPThGEDX4aOAYZwWU1clbN86WMKaMQWQMzm+33XbRkVCpzaKtEm699daYFqPJyy+/fHTqseqqq5aS18ZhdBmcMFaPcw85PhpWWmml2vT+4EkE5p9//iBC+LDvvvvGSAy+4yCoZMz9yVztIdHSSJFyPLbWmYUcV4q8iAMXsbEV88gufGxDKsAEZPIejj/++NimlVdeOT3BkQs8U6KpqKNUr8dNHwJimzb89Kc/TQ2QBVVl/BXhd3pGAMdmjBlyDLgSX7rB4YElnB/MmjUrReHoyxLjnyUM21u69tprg45xedlrr722TRr5Hj7nN7XZZptVnsmx/Mo9Y7Ml2bSwt/H7YSNe+tKX2tuAo7IjjzyyaCC/knAEbprMD8Anwu6IovJBt5Ay7ikx18gJPoG3lWSCrMH47Rb7nGwAhze/+c0pngCOiSzlvGafebgZCAyTxyfDZ6DDmGfHVhGchy984QvRgcxE6DG+WmKcE3M4KQoHRkqM89bJBmPguPJ4U/lh4YUXDl/+8pejEz+ck9p5myiFVJxdykZNdOai/atX1jMQjqh6oXHmh15wGpW0w5zTTGbM0++sKGWEbbfdtginnCqK8XJ8vM0h8WTGvCuvvLJSH78hS8gNLN100032dqTDTeWHyY47OJfk2yYa+oHxMyfReo+OromXzZ/KY9bv/a4ZKgX5zWggMBXi2PyoiCATd0/QiMBOBhp2JULVmCNrVptO82K7Jlc35xm7ofmxSC2bXdDcXpyWx5WdgVzTVCZG8diHTUeYY3UY95VFb2UnSNPlO0a0Adt0+txere0IbSuq9vnxYptHj1dqeq4ljU7s9tSVI4Jmm31swr1qdAIMNk4s/hhCtmR35Os0OnXHnXJwfFIitDl4jkOYH/7wh6lONE/tkVybV40yixCrddZZZ6U88FCJpqKOUr0eN70IfOADH0i8AY8xfuZkjzyShjzdEBqYerwut5lI/n322adSNzvslkrjMrvs8DyOwWiL/lkNPFtGHpYNqZSHvBzfy7Wlcg3XfOf3V7/6VaUMysl/+3m9o3LfZH6wYzTfZPoNDQ+rmVaHM46jmDPwV+IV5VPlJ+YnExF2ne1vg3lG3fg6UVn+vDMCg9ToHCaPT5bPrH0yeLE0D6xD6tBDD20bl9CSF0FEtOuovM01156vK3MceLzJ/FDqFzRQMc9h+xOttxKpFi9rFsZP5qQPPPBA7byxVIaNGwd+sO87neFBanQOc04zmTGPk5rYzoYnS2TNH7G+z6nfMa90ZD53LilC1MpvjN8bv72ZQE3lhzpsux13sKWam2yxZeqJoF403LtZM9g6PDwaCEzJ0XVsZJWElfrxZgGKUCcnjm8gfNR0pSuOI0rxuSAQNWYWJ5qW5yygrNMCnuVOYmSXte24J+kYPPIBRMvWaz5YIxTNbb6RlgW9JSar9r2wnYdzDX7YWrbs/NssMZwLOjVt3ZUjfN0eTW2rbIQj7CK6m6Pr+qqWF1mkWJpI0AkvKP9xhR9LJBq3sY8xQA9xxFz776qrriplicJ7tTljDdr/6Ec/KqafijqKFXvktCKgCyHlJ8a+nCy/kU75Kk9Xd58LEjVdbr4kFy7hKEbbZa+Ml/q7IR4vwhMRE1RsnNly+MawWWHJjgOaFkdxluzvWtNgJmImUJP5wdoczo+aM5eAd/PFiu0TBOR1G0OWn+hThNmdiLlCLuSsG1s7lePPukNgkILOYfP4ZPgs52vmeMx5caKm4TrEEPjn+eFlfht27oiQrG5MtmWPC483mR9sfxBmI8XOOenf/Ltp89h+128VV8Y7vuMoX9SNibYcwuPCD/l7T9f9oASdUzGnmcyY1wlf0WSOczbWsSXqd8xD/mB/D4SPPvrotiryNByFHnUaNX4Y1LhjlYRw5jcRdbtmmKgcf95MBKZE0MmrM3nLFxj5wFIafMiLV+A8LYOhGmxnJygvGyGkdUKA0w1bhmpj5HYTSVMSQuUCUdIxsUDbCE0TBKK2fMIlD79MZPN0udMPhJg2jZ3c6C5FbosOnEqCToSjaLIi3CrtiCFgGDeyg38vgk60MLVfmDBbsgIRhDPsEMJHOFXBW7MK+uHTb33rWzZrJay7mrprjxBc6yx5+UWLk+e66Le/FTlqWSlbb6aiDq3Lr81BIF8I5U59aGm+sKrTTu7lrRjz7PiM0LG0W85YlLdReZ9rN7YaMZavvzWblzDvZjUC0SzI08jR9Mqr2bFC06KdOhMox7pJ/ID2h+Ld6dppR7/UR0ykbXmczKgjxulc+1Pz8t2wDrPqyvD43hEYpKBzunh8Ij6z9uqUp3Shr/dcOdGUO9tSRBHQ150SIi9e2xm/OtG48XhT+cH2EfNG+t3ygYb5juaOisjL91TTdLqy4dhJuWHc+MHiPp3hQQk6p3NOM9GY1wlfq0nXaX3U75iX/57YJOJEpqV83sg6adRpVPhh0OOOnmLlpNhE1MuaYaKy/HkzEZgyQSevz8LAakaUPsilo5Kl44O5MW6O+ubliZ23hDrGj/U5g5z92OcDHN6xc8rLR/PJlkH6/IiJ2HTMi4n3+U48x/ct2SPOtJnFlgpfwYIjpwjAcsoFnR/96EfzJG1aAN0ID9oKGfEIK7zoRdBpzRTkAiAr6FQ+y6/wR92xDYVUBZVsDECYb7Dl5PnRLIWfVGuDfJqeI0wlmoo6SvV63PQhwC688oVeWQjnpBMETdPL7yMvS+/VaDhlUp5uMulze4Vnte7StbR5ZPNTF+N5PsZqWSx0dSwtCdPsppKWq3n1Wmd2QtOPwrXp/MAmDZuVbBJhfoVNS8Y4HMFpP+g1F07X4c/mkz1RAa/nix2bl3Kpo9OcBWdXToNFYFCCzuni8W74THlLeVj5DEFUPh/lWekED6jjHdhuItnyCG+33XZpblDqJW3HOPB4k/nB9o0KwflW1fWt+DKwWeIxddKzfhK/BdGEAQmuvvrqtvGytKGlhY0TP+g7N+E6KEHndM1puhnzOuGsgki+zxNRP2MeZtrysRHlJU75MK9g3pc/53c46jQq/DDIcUfsq6a+rFsD237tZc1g83l4dBCYUkEnsHAsO7fXlg8w+WIzt49I+lzQyX1ejrV5xGDGRx/BXn6EMdfa4EeXU64Ryk56TniNt22om1Dkk0qOG1tC8GnLIczkF2GtCrRseg3ngs79999fH6WreiHT8i1GKdEMD/Qr6OQ4ueImhpQrKFlBJ0IW7MTCM3bRQv9MRDrgW7MH1mOg1eRlckF7jj322FQsR960jSVhOAmnoo7UIA80AgHL88ofmMTIKdcQQtjUL1EnGnNaHwsxNmpKxHfBjl8Iodgo0rz2esYZZ5SKiHFWcMWmAN4zbV7CukhEUyp/VrLvnKcpbcbVNqihD5rOD51gQyPY9gmacBMRYyVjtubjZES+UZmXwbdWNY/hz5KQlQWa02ARGJSgczp4vFs+s+MiPMlcUed2bG7m8zTS5BtEnIBSfmZsZVyz8w19hrBT+TjvqXHi8SbzQ94v+h1DOMvpnpLA055Yy/PbexQelBe4Upbymk1HeJz4IX/36bwflKBzOuY03Y55dfhaTdC6NYvmncyYh1ki+zvoFGYcZbwYdRoVfhjkuKOn0qwCUKd+1LGWNBOtGTqV48+ai8CUCzoVittvv73oTIjBBwa11I2gkx9KPnB1MkIrXn/jxLDk0Kg02E6loJMJTC581XdD8HD33XdbeFLYCgpIXxJ02sUeaVzQ+fSE30QBFhLaD9tss00luRV0Wm1PFid28YGwvRPph1w8TadkaEJrvfw2dNGCyj3xVnBvbdtZAWgqTAJTUYetz8PNQICxQ/mIa2l8zBfYuUC/2zdhgWYF9GjA22PjthzGOzsOs6uvCzE2sPI20fZubSQizLJafOTVTSoVqFhMcg138tvnhA855BDb/JENN5UfJgIUW3N5n3Ra9GNaxgpHd9ppp8RfE9WVP+c3k9dtJ8p5er/vHQH9XXY6wthtqVPJ473wWe6IKB9T7Ial8pudl+aCUrUnh9ChxKMTacJbPEv5ZwqPN5UfLP6lMN8l5QO9IiDqhkrCDgRr3dJM5oduMRh2ukEJOnXsVB7hOsw5TS9jXh2G6ogSATwbinU0iDEPbVAUrZiPUh/rKeYD+Xicr+/q2tT0+FHkB8W0n3GHk0DK+8hs+qFOa4Z+yvM804/AnMIU00JrrrlmEKFPEI2btvpFOBREst4W3yli7rnnDjJwVZIsueSSlXtuRFsybLTRRmGllVYK4o0yiIevtjSUNZ00zzzzBDleHOQD0NYMsckY1l133SA2TdqeecRwEbjnnntSBauvvnoKdwosv/zyQezIpSQyeAdZlKf7PCCCysjHs2bNSo/WWWedIMLTeM9vg9+NDB3hk5/8ZJBjtGHxxRdPaRdeeOEUlklICtvAVNRh6/NwMxBYZZVVKg0RYXrlnhuZGFXiGCd7JRHEB9FQCrKJErOKI4TIs6XxmASy0x7EPmeqZq+99go6Bov2e7jiiiuCCCvTcwIyoanc193MN9984XWve13lsWhLx/ulllqqEs/NE088UYmTTYTKPTcyOW6LG8WIpvLDRFiusMIKbUlEiN4WRwTxIqwPcoQrPv/whz8cZIMo8VcxU4fI17/+9W1PZZOrLc4jmoHAVPF4r3zGvMBSPs6sttpq6Zuv6eRIcgyK4CrIyQ6NDjvssEOYPXt2vGcOfPLJJ8d5QUoggSuvvNLedgzPZB5vKj907BB5KJrjbUnE7n5bXCmi9L2SY7mlpMW4mcwPxRce4cipnNP0OuaVYGUtc80118RHO+64Y1hggQVKycKgxjzWbYydYuIryKZQkBNG4fTTTw+iRV+plznDTKBR4weLeT/jzn777ZeKKMmW0sMOgU5rhg7Z/FGDEZhz2G1jEfC2t70tyDHJtqpgKDmOHcTTedsz0bhsi+sUgeAnH6zWWGONlAXhDgtesZMYRFMgiAZREFsOQex/BRbilnSRbeOmOozw6vLLLw8HHHBAW9W8J5Nbp6lDAP4Shz+pwtIgnB5mga222irxmGjjBvEcnaV48hYB/7LLLvtkxP9Cu+66a4o79dRTIw8j9EZwaslOFPLFk6abijq0Lr82B4FnPetZlcYwybMkR3UC/GmJcbIXQsi5/fbbh7PPPjtmY7zld2M3oY4//vggWgapWPu7IpJFviV4erfddrNRQWwjVu473TzjGc+oPNZNgznmmKNNmCD2Oytp+W7kJNqBedRI3jeVH3oFE94qjZkI7VmwiPZvLFI0QYPY2g70O/TYY48F0aQL3/nOd+J9N/9yQQl1lxYT3ZTlaYaPwFTweD98xgaOpdLGvgovNd2iiy4ag7nQUrQUNUm6vv/9709hAldddVXcHK1E1tzMZB5vKj/UdEWKXmihhYKcDEr3BPJ3qTw0N/POO6+5+28w/8a2JTARM5kfzGvOiOBUzWn6GfNygFlTWcEU88Y6GuaYx+a2mMtLVfNN33TTTdP9KAdGiR9ynHsdd5CXqMKE2F8NyyyzTF5k1/d1a4auC/CEjUJg6IJOFs8sahHu3HXXXW0vzw9RVIzb4ldeeeW2uE4RJcGoFXSyoLELavGSHtZff/1ikXPNNVcxfqoiN9tss/gBYILysY99LPzsZz8L+WSWxVuufdVN++RIaSUZggmniRFASwJtSgjhj+WtiXP/V2tN06GxlgtU9BnxK664ot6mKwO30sUXXxwFP3Kkt03TjTQ6Ia4TdE5FHdpWvzYHgXyHMx8zVdPRtniTTTaxt4Hxg/GIcT0nxpK3v/3t4fOf/3x8hEb6//t//y+woaV06623BrFxGQ488ECNCnk7rIayJlp66aU1GK9ovXdL+e/AjvtybKlSjP7GNVKOOmkwXsUWXpsgtpJghG6ayg8TQYgmhiVOOKjwUuPRduLkBptBEPwmx9P0cbzCm2wkiqOXSnynm/wESOnURaf8/mxqERgEj6P5XhobeZN++Syf38rR8zZg8hMZOgfMN6iWWGKJtrw6B7AP8t+IfWbDM5nHm8oPFv9SmO/tQw89lB4hjMkFAelhFsi/fzzuRdA5k/khg2pG3A5iTjOMMS8Hl/W4HNmP0WweP+c5z8mTpPthjnlsClklKTbpSxunqTEjFhgVfshh7WXcYXwUm/6piJ133jmF+wnkY6ZdM/RTnueZZgRkV2WoZG1n4uVMGLJYn3y4k20FjMlaEqZLzwSuGM6dEeWOAtQOG+XIjk3FmDd1WRKNzkr5JWcX2FDSurmSJye88do0eNkukbXZSPpzzz23kkyfizZRiscWisZrHffee296TmDzzTev1I9zpJxy25+HHnponmTG32MHRjHEMdREZG1kkg87LznJgieViWOAEonQOqUp8Qa/FXizzsFFbrOk5DiFeqmfdmLbMKepqCOv0++bg0A+1onQMjVOnVTpb0N229MzAti/waYRzxmLrJ1MxnVsHWleriLArOQX0w/J9rB1IIOzDJtPjjJV8nGDvVmbRjYeUhpsleFBXjSdizaesLekeWm3TGpTXsL228P7YV9UCSchmper7BrroxlxbSI/8L2mPxnHZMLast9BQJfTDJU+yZ0HYi/ZfucY40UIX+kveFn73dqpxgkctsD4LsriqpKHm09/+tOVusWETFsaj5gcArKBGzEehI1OWjIZHoc3lE+wIyxawOnlJsNnzEHy+ZzlN/hV69XxR7Q+Y93Y6tQ4rswrclKbf5qOubfSuPN4E/nh8ccfj7bTxZxWC5uaOeU2W8UcUiWJKJJEW9SsAXL7m5/97Gcr/JI7SR13fqgAOU03+nulLyZLk53TDGvMs+/FOkTXKYxRONrtRJMd8+rKzstlDT/TqKn8MMhxBwfW+q1jDp/P9/I+ncyaIS/L75uPwJQ4I1IG5IonXQY5S3gVtGlyI9slQafY2EhFMAnIJ4V2kV1yKHHppZfGdjDA2roJM1nAacxFF12U6siFmBg1zymfQJXSsIjL68M5jCV1nIDAy2Kl8eTnx2wJQQMLOlu2FSaQVoVcNo2YDbDFjEVYtHwqOFmMLQA4BMLhj12QfP3rX7dJUlhswFXKJG9OxNmPOxNQS/A9fYPzlBJZo/K0qa7d8B3lkMYKbShzKuootd3jmoGANdYNj+giGV6yTnsYT+2intbLMeAKj9uxg8mxHVcIM/7oH0IC+xxPsEps9NhntlzS8LuxbYO/WRhC+ZjGmMl4ryTmSSplX3bZZfooXY888shKmmuvvTY+4xti22U3z1LmEQ80kR/oI4s7/Y1QCWKD0z5jMyffPMWjuk0DLysfcrVjMOnsmM5zzcs31gqfRMOg8i3Q386Is0Djmj9oQWe/PA7PKS/olYWx0mT4jDJyAZTdWMrbLJrHWm2LBaK2hyvzPjvmkTCfr4qJppR/3Hk8x1Z/xxN9A4fJD/n3U0wNpP5ifNtiiy1Sn7POsM7XGJcsPxC+7bbbYn6+nXbTh7FQNENT2QTGnR8qYEzTzSAFnbxCv3OaYfK4hTZfd9vNZ5tOw5Md87QcvaI4xKaC/d0wv9N5paabKdcm8sOgxh0c5VnZh5gn6thtg1gzdKzAHzYOgSkRdOaLXBateLDm4472ph1sSlpqJUEnH2zyi3OByuID4Y448mkDOtcasnXaH4mNZ0GEQDUfJDTNEUccEbVN0Dg5/PDDK++haZhwIjDlx8WuQ+4ZnXS0GQ0lBHCQbSvCBfIffPDBlfLl+HJMiyBLHCy1ablo/QhRmdighZhrBGqagw46qHXdddfF8mbyv9tvv70lx2qjxz19d67wIJo6YCrHGOPOutgErPAVfaL9YzFC25MFixXEUCaD+AUXXBAXJTY9C3V4V+uHh+EfyrALcOpHSJOTTlrhyZwQYrKzr2VzlWPCLTYS+IAPuw543Kn5COSCJHhp6623TnzDeMRiMCfLn/AWXtWVLE9b/qsL6/hFfvgm93qJ1gnfAn6PdoOHsZqNLUt5u0jPeMoCVusnzY9//GObrRJmDNS0CLjEQVJlnKBMK/SqZB7xm6bxg5jWSH2hfYKXVL6B9I2NyzVgEOjo826vduGPJqnNR3182+EnrRtet/w74t3fuOYPWtDJC/bD4yU+ZK4FTZbPKAOtk/wUzt577x3HPTsnlePWbZrq+eYQc2zml/Al6S0P2w176nUebx4/WI0k7TsEMQjW7QYj37R8noUgNJ9/8g1nvLRrL+JK83znB34V00uDFnTyNv3MaYY95tEuhO/wovI569JuaDJjHusf8vObQLtd6+bK95x1U64U0k2bRilN0/hhUOMOJ7lsf4oZmAm7ZRBrhgkr8QSNQWBKBJ0sElioWGbMwww++aJFUSoJOvP8LEKYGIj9Ls1WuXLM0k4eyc8kAE08BE35Qh2tInZKc0FsXi/H5vIjn3ka7vOjJ6U0KjgQm6ZpUZWnE5tgLXHEkd7tkUce6Ygr+REY5LtXebn88Gc62R2k/P3ze3iFnXM0kK12cI4R/ZHntfd8WHPiuKMdaNFKsnk0TP05nXnmmTEti8Gccv7WcriioWzvNTzIOjrhlLfV76cXAcaQfHEET7ARI940i42zEwomqlbgmI+fyl91Vz2GaStiUVf3nWB8Z9MGjficmJxjpsNOnrVe3hFNqW526k855ZS2MngvJoj54jJvw6jfN40fGCPrxmt4Yf/992+xk58Tmkza991c8+8emnGYwVGteFsG9TIvyE3G5G3w+8khMAxBJy3qh8ftBhDzRdWkmyyfKUIIqTg1Am9ZXiPM2MWGSx2J44U2QamWwbjFJjsmdXJyHv8vIk3jB4ToVqhp+xKNzpJJF+1bfjOsH0rfYeLg4xIvkN/5QVGcvuswBJ28TT9zmmGPebRJeZtrSaGjrif6HfMQ8Ns6+U3wm2JOO5E2aV1bRjG+SfwwiHGHebmd99eZfcv7alBrhrxcv28mAnPQLBkApoRkBzs6dBHhXBAmD7JQCTLBCyKgCZ2cS2CUPTe4jndgWbwGYfSw+uqrh4UXXnjCd5BJZXSkgcMJjHFTtxJt++EPfxjbgTdD9VRIO4GI9s0555zR6QH3svsT69Z0MgFOaUhHGuqjXNIuuOCCsb2Ug7MjLYs0/PEeeHvX8mgXxngxdo8R8lmzZgUM2Jc8vIIDefkrlUuZ2hbCmkbbSN2ErcduxWUmXelLcNA+wDg/faN/igdYg2U3JIKXxB/0K2XaPqUu/nKCL3DOxW9BFtuRf6mTtLSDPoHmn3/+SlbKJl/J46bslMa+pRzaQlrlU/qW58OsAx53Gi0ERDgdRFMxLLLIIpGnSrxq3wh+ZezFOHe3vxGbv5uwCFqDbD4F2eCK4/6qq67a9dgkR6+CCKIir4ugoOLtvZu6+d2J1nWsf4UVVojfpm6deHRTftPTNI0fGAvhOb7ZOCHiW587phoWpnwvwINvMPOFmeSgYFiYDaJc5jv0sdjoDBtuuOEgiqyU0SuPi23hwHe+k7OMSgV93sDj1MU3n7q6/Z7KQj06N2TcZH6Hx9iSQ7dSs5zHQ/yN9/INHDY/6DpJFD/CcsstF/j+9fINYpyEl0T4GWbPnh2dFnWb3/mh9CsZfpyYpQqyyRudnjHvGCT1M6cZJo/jzPK+++6LY7wIqfr6rvY65rH2EWFynE8uueSS0WEr6+BxpKbxA30wmXFHTiyGxRZbLPIT42WvcozJrhnGkYdG7Z2nVNDZLzglQSeLUQSkTo6AI+AIOAKOgCPgCDgCo4/AsAWdo4+Qv4Ej4AjMJASGKeicSTj5uzgCjoAj0CsC47ml0StKnt4RcAQcAUfAEXAEHAFHwBFwBBwBR8ARcAQcAUfAEXAEGo3ASAg6UWvOiWPvTo6AI+AIOAKOgCPgCDgCjoAj4Ag4Ao6AI+AIOAKOgCPgCIDASAg6sTeTkxiTzaP83hFwBBwBR8ARcAQcAUfAEXAEHAFHwBFwBBwBR8ARcATGFIFGCzpxAnDiiSeG7bffvq17dt1113DCCSeE+++/v+2ZRzgCjoAj4Ag4Ao6AI+AIOAKOgCPgCDgCjoAj4Ag4Ao7AeCHQnWvpacIEA8277bZbrP0pT3lKpRV4/t19992jt61tttmm8sxvHAFHwBFwBBwBR8ARcAQcAUfAEXAEHAFHwBFwBBwBR2C8EGi0oHOzzTYLrVZrvHrE39YRcAQcAUfAEXAEHAFHwBFwBBwBR8ARcAQcAUfAEXAEekag0UfXe34bz+AIOAKOgCPgCDgCjoAj4Ag4Ao6AI+AIOAKOgCPgCDgCY4mACzrHstv9pR0BR8ARcAQcAUfAEXAEHAFHwBFwBBwBR8ARcAQcgZmFgAs6Z1Z/+ts4Ao6AI+AIOAKOgCPgCDgCjoAj4Ag4Ao6AI+AIOAJjiYALOsey2/2lHQFHwBFwBBwBR8ARaBYCc801V1h11VXDnHP69LRZPeOtcQQcgWEgwFjHmDfPPPMMo3gv0xFwBByBsUXAZ5Jj2/X+4o6AI+AIOAKOgCPgCDQHgX//+9/hnnvuCf/5z3+a0yhviSPgCDgCQ0KAsY4x75///OeQavBiHQFHwBEYTwRc0Dme/e5v7Qg4Ao6AI+AIOAKOgCPgCDgCjoAj4Ag4Ao6AI+AIzCgEXNA5o7rTX8YRcAQcAUfAEXAEHAFHwBFwBBwBR8ARcAQcAUfAERhPBFzQOZ797m/tCDgCjoAj4Ag4Ao6AI+AIOAKOgCPgCDgCjoAj4AjMKARc0DmjutNfZhAItFqtQRTjZTgCjoAj4Ag4Ao6AI+AIOAKOgCPgCDgCjoAj4AhMIQJzT2FdXpUj0EgEfv/734cLLrgg/PCHPwzf+973wg9+8IPYzqc97WnhWc96Vvi///u/sOmmm4a11lqrke0fRqN+9atfhX333TfgARdPkFznmGOOgKOIf/3rX9Fo+hlnnBEWWGCBWP3ZZ58drr766jD33HMnz5H/+Mc/YrrDDjssfOQjH4llaHkbbrhh2HbbbTs2/cgjjww//elPw7zzzhvzIoDGWDv1v+xlLwvXXHNNrIs6Kfevf/1r+OMf/xgee+yxeF1kkUXCMsssE+jHzTbbLLz85S8v1nfnnXeGQw45JLWPsl760peGd7zjHcX0pUja9IEPfCA88cQTCZ+3vvWtYfPNNy8l9zhHwBFwBBwBR8ARcAQcAUfAEXAEHAFHwBEYAgIu6BwCqF7k6CDwxS9+Mey0007hz3/+c2z0FltsEfi7//77w49+9KPwjW98I/59+MMfjgKzk08+eSyEV3POOWcUKl5//fXh17/+daVDn/nMZ4a11167EoewEQExgkmlpzzlKQGBJmXdfPPN4e6779ZHASHp8ssvH17xilekuDyAYPO2226L/WCfIeSkvr///e/hqquuCg899JB9HHhOvX/729/Cl770pdi3xx13XHjTm94UPv/5z4f555+/kh7BJgJKylI+OP/888Nb3vKWMN9881XS1t1cdtll4cQTT0yPaQPv3WSiX6+44orw4IMPRsHuC17wgq7ft/ReDzzwQNwouP322yPGL3zhC8Pznve8sOCCC7Ylv+WWW8Ill1wSNtpoo9iXeQIE6n/4wx8iPyF0Bs+cvvvd7wbquu+++8JKK60U1l133bDmmmv2/A4PP/xwuOiii8Jqq61WrCevd6beTyc/KKZsZNCnd9xxRxwvGEPWWGONuEnR6bf4pz/9KeZj/IEfZs+eHTemNthgAy267coGBxtbbNbAo3i+ffTRR+MmCbxH+N3vfnfki7bMHjGSCDSBx0vATTQGTYZXGd/5TfHboB7GOcZ6ruNOTeGHn/zkJ+HWW28Nd911V5xn8u1k3GOe04nY2GWDmU369dZbL7zkJS8Jiy22WKcscSOWce/HP/5x+OUvfxme85znhOc///lhlVVW6ZjPH44eAsyh+e1//etfjwoDKG0wR5rM3LQXXmW+DY+iMFKqE2UI5u/w4q677hq/2xZlFAj64VUf8yyKT4anmx+ebEkIvfCRzZeHGTNRVNpuu+3i2Jk/5573Jt23v/3tcM8990Q+23jjjf0bWAJrJsYJAzg5AmOHgAi2WqJtxxn1+LfLLru0RDDWhsMNN9zQeu5zn5vSffCDH2xLM5MjRPDQEmFVev83vOENLREIFF/5m9/8ZkwnwomWCBhbIqxK6chz7rnnpnLAnXS/+MUvUpq6wDHHHJPyyYS+kkyEnS0RvKbnooVZeS4CkEo/77nnnpXn9kaEK6kc2ifCTvu4Y/iVr3xlynvCCSd0TNuEh6Ktm9qrvwHRfG2JMLrn5vG7+djHPpbKoxwtk+vnPve5tjLPOeecShqbPg+fdtou9TKmAAAj2UlEQVRplfyyOGtZvG19T3/601s/+9nPKunrbuC9HXbYIbVDBNV1SWd8/HTzAwDfeOONrWc/+9mxPxgbLB/wGxdhT1s/MK7AX5r+qU99aiUfY/xf/vKXtnxEHHXUUZW0tj4N//znPy/m9cjhIfC73/0u9su3vvWtgVbSBB7PX6jbMagfXoXvP/rRjyYez38bjNnjTE3gB9kcbMnJj9RH9ltGf8nmcW0XyUZhyqfjFdevfOUrtXlkwznN5xgzLU+8+MUvbsnpptq8/mB4CHz/+9+PfcncZlD0+OOPt+QUUxuPvOY1r2nJhn7P1fTDq+985zvb6re8asMi+Kq0qR9e9TGvAmHlpgn8QIP64aPKi/zvhrW5KEBE/mIsEyFmKVnrkUceaclGTuJDnSvCe6LkVDs/LBbmkSOJAJJuJ0dg7BDYe++908B3/PHHd3x/Pp4q7GThPG70oQ99KGF10kknFV9fNF/TB0c0YYtpiLTCZT40CFHlyHlteh7cd999sWyEICV6z3vek9onO3ttSZi8249bnSDsN7/5TSqHtvER7YYQwNgJ25e//OVusk1bmv322y+2l0WOaC7HD71oLMc4cELQ0Au9613vinm5iiZczArmOgkBm89+9rOVIsUsQQUzi18eFlMEKS+8ooJ3Juxan2gqtUSbJb0XAvpOdOGFF6b6ZSe4Nc4CrSbwgy706Hs2RESTI44L8I3yA5PVnNhU4DkCAtH8iI/hXzakNB/vV6L3ve99MY1d7GsernXjTaksjxscAsMQdDaBx3OEehmD+uFVNiXhY4QdfNsgNvPsJtHll1+eN2ss7pvADwgedGOHeZV+s0S7rSKAFI28tj5BmKljFXMvNpUtP4mWZ1seBEnk4Rt/7bXXpudsSmtZbChNNB9LGT0wMAT0+zcoQSdrFhVyMk+iT3/729+2XvWqV8W+7nZuqy/YL69qfcpfdVeE7Jb65VUf8yyKT4abwg/98tGTb9KKY53dpGLDzq4RbFqEnKoIwzwfxRjIjpWvfe1rbRYPz0AEXNA5AzvVX6kzAmLbMU3sGDC7IQQhfKTRGBs3OvzwwxNechSl7fXRxAIbJtBy1LztuY1473vfm8rSSQ8Csk7Ex4q0dZMzK4j96le/WizKCt3qNDXRntA26ZWF4UQktjkr+T7zmc9MlGXaniMM0ne77rrrUjtYKOmEYP/990/xEwVYMGl57NRasgJghJCW2EklHxsOCCup3/4hLOY56SzRv1offGfJarjkz2y6T33qU6mMJveVbfOwwk3hBzmqGftk6623bntVMTmR+guBthJ8o7wgpjA0Ol4RGujmRp3Akgku+VkAQkyC5ZhdEjjESP835QgMWtDZFB63QPY6BvXKq3JUNf028m8Y32j93fDtGjdqCj/oKQi+uzmdeeaZqY9yzVuEFjq2HXzwwZWsnEyibxlPc9KNQITmOXESRnmC+bHT1CIwaEHnJz7xidif8IluBvNGYns/9TMC8m6pX15VDeUvfOELUdhq53iEdUMyX1f0w6s+5tX3ZlP4oV8+0jfj9BhzRMYqeBut30504IEHprSMm5bsKQkf8ywyMy/sgs6Z16f+Rh0QYEfJavD0or2mx1zFrkyHGmbeoyOOOCJNjpiwWGLRxAeHP7G7aB8Vwyro1AmQTq5PPfXUYnoi6TPSoYlSIru7VyfoVK1DykFwWyK0W3iuu8KEEcR1Io4A8e5W2MqkoqmkC5qSwP7jH/94mhSIfcKuXkEcTSXeKGkHgQ048ocQSYkdfLSk68wgoIVAHrHDqVni9dBDD03l5cevVPOXfOzYloiFobZH7HKWkoxVXBP4gQWP9snpp5/ehr/V2GahpsR4o/nE/qBGpys8zvMSr5NItanqeDAV5IEpRWDQgs4m8LgFsJ8xqFde5ZQKvM/4mxNa/Pq74bc1btQUflCNO/oCEzuWGM+0j3Kh5VlnnZWeiY1Rmy2a/9B8diOTTRyNL2nGM+7qc8wdOE0tAoMUdLLJp/Nr5ts56dyqTnEgT899P7yKYAmeqttMUYE9Y5QVQvXLqz7mlXquFTdum8AP/fKRvhWnfPQ0Amv4kikjTcuVdaOuP0rKNGIbNo15rtVpkZt54WZ7y5BR0skRGCQCODBR5zVirzHIgNl18SJQC3JUsjY9zm9wuvPpT386OtuhLhkyatPzQLTgYlo8iCvJMZMgE58g2mZBJrVtzoDwEo/jH3XagVFnnPZwtUQajHzLByEZflZnOzZdv2E5Ah6d/lAmTptwPNMt4fxFhF0puSy4AngNi3AupVTnhEE0u2ISHE8piQA2OirS+/x63nnnRQdGu+++e3qEE5MmErwm9gxj0+RIUVsTcVAB0Z8Yke+GMDIP8TvCGUJOs2bNSlH6uyPi1a9+dRCBc5hjjjnScw3ce++9QYSmQRb30WmGxnO1DhNwpGTpyiuvTLclXuT3ccABB8Q0okkQRKCd0o9joCn8gJMCfkciNA+yW1/pClkABdm8iHEyaQ3LLLNMek4fi4ZAkOPtYfXVV0/xBHAkBx9BJb4kHucsok1V5EGeO40+Ak3hcUWy3zGoV17dZpttwh577BGdzWndepVjzxqMDrvSzRgEmsQPa621VkScb/FCCy1UQd86XtNxjATMJ8VmeUwrGzjRoaPNuM4666TbT37ykymMUyPZWIz3b3zjG1O8BqyDRhw0OY0uAvy+tQ9fKo4cc1IHfSIIjw6w8uel+354VQSWQYScQYStpSKjA0jmmjvuuGN0CKiJ+uVVH/MUweq1KfxAq/rhI30b1sOsMyGc2dat4zQ931pd79p1gz5faqmlAmMoxPrZaQYjMPNkt/5GjkA9Aqo6Lz/pnpzN1Jf43x0za/SfsvUPbaLcmQpliWCsolmKFiE7VladXsvgit06Jew52WcaZpdLCe05jbfXSy+9VJN0fS1pdKIVoruEdUagSxWoRqd8hKLdMNqs7SMs3hLbsk1Wo5MdYt3Zoy7aXiJ9T3bErVanxT7Ph6aNHrfVdyntouf5puP+4osvTliffPLJbU3gWLD2RX5kvC2xicD+GxjnpJpZWqbaIMvT5fccnSdPqY22TPr0qquuitkxO6B9fNBBB+VFxnvVSoBvrQZBMfEYRDadH+AX68wgt/Na10Uc1VMNOPioZOMOG7I8Q7tFqVv+1PR+HQ4C+hsfhDOipvF4P2PQIHnVHlvnyPS4jYNN4wdsMpY0yjltoN9NO0ZZLaQtt9yy+APUsY/vnCVOIqmtVhtPWITiqT5OdjhNLQKD1Oi0ppRK9vLVLBD8lR8Z7/TWvfJqp7J4puZqSm0cJK+O+5jXNH7oh4/4Bur8/i1vectErBWfc/pQx9A63xJqIoF0JWfEXVXkiRqPgGt0Coc7jQ8C4hk8vezKK6+cwv0G2DESdfogR2qDLGKCeAUPaGSKR7i4g85u/Lvf/e6ovWbrYGcLjTUldmBlUR/kCHTMh8aZqNPr46idIYLQeE+6yy67LMhENj1HK4A6lRZeeOGoybnFFlvEKDmuFHj3kiaf5un2euuttwZ2hWkz2lZWM7PbMki33HLLBVl4pCxo/MlHLIjAIcUNIiCCs7Szh7bm7Nmzi8WKkDVqJrKjvPPOO6c08pFMYRsQAW/UCtt1111j9KKLLhqvYlPUJmtMWCYYqS2WdzRy8cUX12AQm7QpPFGAfpx33nnbksnR4hQnR0cCuE5EaAHIEaSYDF7ISYTJ4eijj47R/PY23njjsO222wY0F7gXz+mB/s4JDWLVmkbLgD5Cgxheps5xpCbzA1rojKtnn312kAlu1PiUI6cdu0mOwAcRfMfxEw04NJjQal9zzTXb8qnGC5rDaAagWTzPPPOE9ddfPzD2MhY4jT4CTeLxfsegQfAqcxI5npw0asTubZwvLLDAAqPfyT28QZP4gWavsMIKRY3ym266Kb2V1XIX0x0pnrwlWn755WM0fGPnUoxvfKtLdP3116focT/pkIAY0YDVAFZesK+y5JJLpttf/OIXKTxRoFde7VQeJy6Yf3Eq4znPeU5b0kHwqo95/4W1afzQDx9xcke1M9///vcHThN+5zvfCXfddVeQjaI2/skj7Lhpny277LLpVr+zKcIDMweBxotivYGOwIAQQGNHfrnpzzq26LcKtMcoE20+a/Sb8tiFUgcvpLE2k3hOe1QLUNuF/SUlNDyxZajPchuY1lvmW9/6Vs1Wuaq3VuwX9kuq6ajtsNc6D+Z1dVmNTk2Ta6iyA2mpF41OHA3RD7RLhMEVL+9oh5U0D7UuNCRk4hVv6Rs0IvRdS1phaHJiZ1JJ+wqtnSaS3dkVoXixifq+uTZIMXGHSOwuKh7weJ0mSV6E8nSdtoqmP+ecc1LfaJuJqyMR8Lel13xceY5dtHGiJvID2tZ2zKRv2MnHrqFMdGu7h996PpaiMcJ4WtKYsk6tyJfXiSa+LAJr6/MHw0NgkBqdTeLxfsegyfKqtWusYx7j67XG8/bwerNZJTeJH+qQwTmaai9hk465iJLVxmNeViLrvE2EHKUklTjrxCV3blRJ6DdDQ2CQGp2q0ctvnXlYTlbDsWS7ME/f6b4Tr3bKp+uS0qmdTvm65VUf855EcRT4oRMfod2r3y2dD+b38HG+/pbNopSP9Qzr6ZzUyR/lMe9wmpkIYPPFyREYCwQw+G4HyNIx6V6AQHij5TGBLpHY60xpRLuyLQmG4bUMBuac9BgvaXIviUxi7AIdz/CWtH14NpwMWUGnTsC1zXxErZOZieopCTrJgxBSy+RqnR71Iui0ZdgwR9YmIgRz1ii1dbST969ia4Vr+tG0ws+J6pzK5/Y4fp23Qtu/doHVazvV4QbliZ3YrrPr0U4W952II3zgbPuYMPxVOoKi78WVo3lM9nGepPyo5dQJgDu1ZVSfNZEfmKxut912LSau+nvSvmGspN9LdOONN8YxhHFEBeyaDzMMOS8zVrIpYsvjGO9uu+2WeAoBKJtVTlOLwCAFnU3i8X7HoMnyqtg2i78nsWFXmS/w+7Abq1Pby9NTW5P4oYQAi3oViLPpmjspEhvxaXw67rjjSkUkr8T070TmH5jH6AbRODqmKgI4DZGDFHTqd49rie64447EQ5PZlJ+IV0t1E2fXYb0om/TCqz7mPYl+0/lhIj5i/aDvwHpT/Ay0MHcgdt2TcyKeI8y0wk4Em3aNsM8++zwJyv9CKgRmDHSauQiUR8KZ+77+ZmOMAJo9OmBy7cW2ZAk2awMEm0olym1lPvHEE5VkaqeGRVCJGNS1zSVP0nbim+/Gq6Au17pEUwmPiwgOSn+5LTwr6OSdKU8/ELQNgUQuSCi9C3EqWMJGpyWEDEzs9V25IoyCehF0ytH0Fu1Hw9WWVbIDZOsnzIdSjqynaDw8axn0j7Vnxo5xHqfeXJv60bSLPDGxkN7TBnQxznuXtAFs2rrwmWeemXDrRXCoE3DawOSnjhBQajvp61NOOSXd0242FGx+tAS1H0u2R63dXn4P40JN5wf6AaEXfaL9Z+3Vdeona7OVvN3aneMboWMy+dAwdppaBIYl6JzOMW8YY1A/vEoexkz9PXFlk2BcqMljHgtz3fBlAxstp5zENEvqO8IlQltX+7fT95dNHBUEYPeu2zlcqU6PmxwCUynotBqdCNX7oW54ta5cVf6Y6NSOzT8ZXh33MU/HAq4lmk5+6IaP7Do7tynLCT3dGOL99ttvv8orfu9730sbOTxnE/yQQw5pHXvssZV5ZUkJqVKQ34w0AmXOH+lX8sY7AvUI6MSOQY9dv8mQHlunLLF/WVuU1bq8++67K+l0UV0nHLPG89FAyokJAPXzh6BOhVNMWinTaihqXpwjaZ7SFcGRpVzQyTMm4ZSv+XONR5vfhusEnaS5T47XqwCLcjk+yg5dL4JOqwl44IEHpvZhdJoJTx2BG3WSxxIfQH1H1d5EiMa7I1S1ZLXBbHxTwrRX30XsIxWbpc/ph35IJ7Hk73UBveeee8b2ca0jzDdoG21f33PPPRXhuy0Dwajm4Tebk9hyqvDduBxhaTo/aD+JXb3Uf/RjSQCgae3VTpAZg7slu7m0yy67dJvN0w0IgUEKOpvC48Mag/rlVbT3dEzEMeK4UFP4Iceb+ZoKOZmj1o1x9uiu2KrOi4n3m2++eerbutMUaNLpXJgNWhdyFqGcsshBCjrtxmDpBbQufv/dOnax5XTLqzaPDSvfdesYdVC8Oq5jXlP5oVs+Qnip36qrr77aslIMI8zU5yjg5MTJTZwF25M+zAft+hXFFaeZi4A7I5JfiNP4IIDjCSWxd6TBvq7WwLEM2rVlrLjiiumZfLRTeBABHMjssMMOsSiMKeMgB8JZEc59ZBET7+0/2UkNMsko/pFPtN5s8mJ46aWXDl/5ylfSMzlGFUSAmu77Cay00koBhw1KGNHGAYns+mlUT9ePfOQjyeGTHOGKDk3qCnj00UfjI97LEo6klEQAHIO8N9hah0U8WGyxxTRpEO3PFG5KwPK+Gva2bbM41zlssunzsGhyhh133DE6j8HxlQjx8yS19+CFswxoq622qk2nDmlkUVhx1rXKKqtEnteMX/ziFzU4oROkWbNmBdEUTOmtw4oUOQMDTeYHCzfG62UTJ0V12z8vetGLUh7ZYGJTN913Cqy66qrpsY6nKcIDI4VAU3h8Ikds/Y5B/fLqhhtumPqxF8dzKdOIBprCDxY+2YCN300cr4lQIojt1JDPQzQ93zml0jecZ3buUSpHNo/DK17xioBDGOYwsuE/4TdS6/Rr8xFYY401UiNxyJOTnCpLUSVnRelhIdALrxayRwcy8J1shIdNNtmklKQSN0heHdcxr4n80AsfTfTtZMyEnyCcUOa0zDLLBNHijGtj5oD84cRonXXWiUnJa9d5eX6/H30EXNA5+n3ob9ADAlaIcskll8TJXg/ZK0nnm2++dG+Fninyf4GFFlooRSHMGzRZwaQcS4vFi5HvIBqR0St1Xh8COdn1L/4h8JlrrrnyLMV7PBQj3FKSHdPo9Vjv+7niRVuOmaasX/va1wJe9vohPDeq8Iz8e+yxRxBTAsWiRIsoxucLAzw/y85ffIaXSDnmEcRcQMBrrRVgk2CRRRaJ6fj32GOPpXBTArKLmZpSWtxaAZLsfqa03QQQnKuQE2+IOonQvGLuoKPAWuztRK+K8Ox6662n2SpXytCJjOV5TUR/qKd2hP4PPPBAfGT7STRlNHnlusQSS6R7nTSliBkaaDI/5JBbQaf9neXp7P1SSy2VbulTPKt3QzZdrwvBbsr3NFOHQFN4fFhjUL+8ar9zdoNu6npmempqCj/Yt993332DnBaJG4Nihz2wea2EUEpMDeltZc5x5513pngbEC3OeMuYaT1sE4ng63Wve12c94pDmMDmrZ3vyQmhMOjNeNs2Dw8fgWc961mpEjkllcIasHHrrruuRnd17YVXSwWqssDb3/72YNdPpbSD5tVxHfOayA+98NHKK6+c2AMFkxLpXK/buTuKL6IdH4s66qij2sbJUh0eN7oIuKBzdPvOW94HAnIUuaIdJCrrXZcix5uj4EwH22c84xkprw6aKcIEVKjEILzccsuZJ4MJojknx0FiYQge5WhKHMTFCVGYc87h/sTRJkXAqfTGN74x1E3ASaNaVXrVfPa61157BbROlVgE9EsI7MSxScxOv7GzVyLtU3b/LLGbKEfSU9S2224brrvuusAiIadFF100RamGaIpoQMAu8lRgaJuFIFEJAW+3JMfJA78r6IorrghrrrlmJSvlUjc7+XX0qU99Kj4SRzS1Aim7mYCWX4le+tKXpmh2jSGbVgzap+c2YAWgdmJl08y0cJP5wWLNWCE2fVOU1WJLkYWAmDNIseJ0IYUnCuimB+nWWmutiZL78wYj0BQeH9YY1C+votGixIbluFBT+EHxRvAjR9DjnJTNwnwThw1A+z1iPqJzPbE5q8WkK1qeOpdBoJnT9ttvH8RuZ9zkPv7449vmh2KCqKsTPXm5ft8cBOT4bmqM/Z1rpJ2fb7TRRho94bVXXs0LZI4lNhZjtG5I52ns/aB51WIxTmNe0/ihVz6y45+dp1te4fQf1I3gHgE6J8IgxtKS0kR86P9mDgKyiHByBMYKAQwayy84/XVjnwO7jOpsBkcXkHUwQHnW45sCqvYleS6Dq0anq9qrESFoirMB7HJqW3NDzDZdye6maBXaJH2HDzjggNSGk046qa0cvFyrrVHaim3NRx55pC0dEVtvvXUsayL7jXhmlEVJqpdyRfhWLBMbY4pRyXkINn7AV9OokyNbmDp1Knm+z/sZOzAiRLPZY/iCCy5Idcjxs7bnTYhQZwzYc83tcqn9MnDPn/G+MkFui6fvwQNs4ZMSqQd2bC2W6Prrr0+4iQC2lCTG4cBK+/Cqq64qptN3wP6OJXV0BR/IYtA+in0Jz1I29s3GiZrED7mHYe0H2++5zWH4NHfwpvnsmPiJT3xCo+OV3zT27kp5ZeKb+Azbik5Ti8AgbXTS8n55nLEtt6lNef2Oef2OQf3yKs7zcPZQIuusDxtn40RN4QfZAEzjjGhyFrsAp5F8qy1Zh0SUYcna8JTFv33UOvfcc2N9fANFYFB5xg3zV55Zh4xtiTxiKAio3cy6OVIvlfJN0/luac2hNhtL/Vw35vXLq7bdrLOYYzE3y+eXNh3hfnnVx7wcyVac4zSFH/rhI50PwDulNSC/GV0XiAm1dgBMDPyhNozhw9Ja0CT34AxBAA0rJ0dg7BBg4auDI9cPfehDReEVwLAQ0EVKPiFV5zqUwSI8X1ioR+fS5BIHOAy22g7ZaWrrB9F0S887eQ5GqKnlcMUxzqBIhZOUm3u10zrkqHCaXJEOw88IGC3xviq8xDP3RIRgTT/QlFn6yFEGnph5zp8cQygWa502IJjjg2dJyxD7mzY6hfXjSB1nnHFGircB6ziqm/ezeacqjIBZsUIwqyQaqAlrnLhYQsiphrwRzNOPSmeddVYqD+deCCDt3z777JOe101u1Uss/dKJ2Gxg0Uf74YW8PBxzqcAy90grtmdTO3JhPQbOFZNOXmo7tW1UnzWBH+hHnIXRB3vvvXcFSp4p7zEW2IU9E1wdPy+88MJKPjseMXZbgSZlaj7KtmMBY47yAgIRp6lHQBc2crxsIJX3w+Oi+Z3GQzkZUWlHv2NeP2NQv7zKdww+hs/haUu2HYOcJ9g6mhxuCj/oxjn9ZL+ZhOkjMY8T+zD3jC3mdxJv2v7jO60eiHG8Yol5qY55fMPz+kRzNDknqptD2fI8PFgEBinopGXHHHNM+o7xLVRifqPft1wQ3mnM65dXtV4EqMp/Ezku7ZdXfcxTtNuvTeGHfvmI9bnybS6cVKfAzA/rNstBhI0cnWeyDr3vvvvagfKYGYmACzpnZLf6S3WDgGrx6QCKoOXYY49t4Q0QTcojjzyypbufDIwlzQeEk7oQpxyEneRlMLbe4qxQibahKYRHX62bqxyxbqmghckswjkV7PCciQICNCYkJbJeBTtpxpXy5nG8F16tVVBr24m3TybiuVajOBKqvA/tReAkR6xaCM9UoEVZfJTAF22+TkRfaN1W0IlWHs8sxlquHMlq5QJp6rBCNxYEYE0/sZDVOhCUgTGauJbAQsvPn6G9Ko6tWmhf2HLov3yRacucrrBODOgf+hEtVuVhJiIsri0xIdD34spCUQl+t8/qwvyOSmTLPuKII0pJKnH8blT4TR+KGYEo/ELQpdrRcoy+bcOBQnThSBvhYfoGDRidgMPr40jTzQ8IGrVP6Rv6AU06fsPKl8Tze7cE31p+Q5sbQSi/O+1Txk85wm6zRUG9aiGTn00MeJrfsObjed04WynMbwaOwKAFnTSwVx7PT33YMXEyY16vYxCbSv3wql3YMncRp1ot5gSHHXZY+s3wPbUbAAPvyAYXON38gDDHjl2dwmLPrg1JBJWaR46CtvCujoYecWzs4GnYkvVMrPnqrswJnKYWgUELOhmvxFxL5Ae+oZRPv+r3DZ7JqW7MmyyvUo8tW9c4ef163y+v+pinCLZfm8APk+Ejq8TAXJH1NHO9U089NY2DdeMWa1k0PXWOybqB8pzGBwEXdI5PX/ubFhBAExLtTitQtBNAhCcI66zWT14MHxGENKpNZvOzmLjjjjsqWToN+NQHXXPNNWkAt+URFkdDlfL0hiP1PGcgnywhnMzrze9LHwu7KNP0dhdP4/QK7hORHnlBUKpkjztrWfmVXWRLLBrRGLPpxPNj5V6f5ZMx+phJIjuLOaENofnyK8dgm0bwH8LgvK0InnPhNW0nTgX+YGAXxxqfl5Xf5xomigmLOE3brVCYCY41laD54SVxPlV8B+rjvVno64TH5mPCNK7UBH64/fbb0xFj7Re9sgFUJ3RkA0K17TU9V/qYMbmkJU8/M3ZZkxeal3yYP7A8Pq58MV3vPQxBZ688rm2AL8SeXAWKyYx5/YxB/fAq3z4011WwofzNFcEnmwKlsb7yojP4Zrr5IT+BY/snD+cnLLRb2AjK+3ebbbZp26QlPRuEebl192ILW6vw6xQhMGhBJ81GWcKaYaG/4Rc2d0tUN+YNglf1G039/PY6Ub+86mNeJ1Snnx8my0ecOiutJeGtfL1mkWA9DO8j+K/jfZvewzMPgTl4JWECJ0dg7BEQTb2At2bZDY9G4UVwkjxudwsOTmhwnIFjGllQhHnnnbeYVRbg0dslxuVxGCSLjuiVmuusWbOCCOWCfLgDz/mDZIIQ4ylT4/LCcZSz2mqrhWWXXTZ/1NM9w4IId1Mb8cxJnLaT9llv8lr43//+9xikfaShzbwfYbygU47ei/AwlrnAAgto9tqrCHGjIyd1FkQ7RBgRcaDMUvsWXHDBYnmigRkdJolQI6yyyiqxPWBq2zX//PPHe1sABq+pP28v7yjHqtP7kYf28X6UOZF3SVvHVIbBT4TwsQ9wulLHU7QJfr311lujsW+wUYJHeUfycs2JflccSr8FPLTjHX3hhRcOInTOs3e8hz9F8y+2Dc+S1lttp4y0B36SoyxhjTXWqDgr6pRvpj9rAj/AZ/zO+I2utNJKsW9KfJX3BeMuzofoW5wVyYIqT1K8Z7zCSQFG7hmvV1xxxVpnWMUCPHLgCOBMBQ+5eEbdcMMNB1p+LzwuC/8g5hGCCDYrPDHZMY8X6mcM6odX+WYzn+E3xbwCHue75/RfBKaTHxjr+CYyd5ljjjnaukTnFZ3me6TB2SWe0tdee+3inIyC+Q7rHKX0nYdPNE0+v2lrmEcMHIGbb745jjOMN9Zx2SAq4tuI88kll1wy/v5LvKb11I15k+VVMesUq+D7KoIpra54VT5kvdAPr/qYV4Q1RU4nP0yWj3gJOZ4e5++MfTgfWmyxxdK7lQI4QSXN7NmzS489bgwQcEHnGHSyv6Ij4Ag4Ao6AI+AIOAJNR2CYgs6mv7u3zxFwBMYPgWEKOscPTX9jR8ARcASeRKBdBefJZx5yBBwBR8ARcAQcAUfAEXAEHAFHwBFwBBwBR8ARcAQcAUdgJBBwQedIdJM30hFwBBwBR8ARcAQcAUfAEXAEHAFHwBFwBBwBR8ARcAQ6IeCCzk7o+DNHwBFwBBwBR8ARcAQcAUfAEXAEHAFHwBFwBBwBR8ARGAkEXNA5Et3kjXQEHAFHwBFwBBwBR8ARcAQcAUfAEXAEHAFHwBFwBByBTgi4oLMTOv7MEXAEHAFHwBFwBBwBR8ARcAQcAUfAEXAEHAFHwBFwBEYCARd0jkQ3eSMdAUfAEXAEHAFHwBFwBBwBR8ARcAQcAUfAEXAEHAFHoBMCc3d66M8cAUfAEXAEHAFHwBFwBBwBR8ARcAQcAUfAEXAEHAFHYLwROOiggyYFwJZbbhnWWGONSZXRTWYXdHaDkqdxBBwBR8ARcAQcAUfAEXAEHAFHwBFwBBwBR8ARcATGFIFvfvObk3rzl73sZZPK323mjoLOhx9+OPzkJz/ptixP5wg4Ao6AI+AIOAKOgCPgCPSFwOOPPx422GCDcM8994R//etffZXhmRwBR8ARGBUEfvOb38Qx7wc/+EG49957R6XZ3k5HwBEYYwSuvfbakXj7OVpCdS09//zzw1ZbbVX32OMdAUfAEXAEHAFHwBFwBBwBR8ARcAQcAUfAEXAEHAFHYIYj0EF82Kg37yjobFRLvTGOgCPgCDgCjoAj4Ag4AjMWgYceeigsvfTS4YYbbohaTjP2Rf3FHAFHwBEQBG655Zaw3nrrhfvvvz/Mnj3bMXEEHAFHwBEYEAL/H4Iag3Id8gO6AAAAAElFTkSuQmCC)"
   ]
  },
  {
   "cell_type": "code",
   "execution_count": null,
   "metadata": {
    "id": "hwAUCD8Hysc9"
   },
   "outputs": [],
   "source": []
  }
 ],
 "metadata": {
  "colab": {
   "collapsed_sections": [],
   "name": "non-en-retrieval.ipynb",
   "provenance": []
  },
  "kernelspec": {
   "display_name": "Python 3",
   "language": "python",
   "name": "python3"
  },
  "language_info": {
   "codemirror_mode": {
    "name": "ipython",
    "version": 3
   },
   "file_extension": ".py",
   "mimetype": "text/x-python",
   "name": "python",
   "nbconvert_exporter": "python",
   "pygments_lexer": "ipython3",
   "version": "3.9.2"
  },
  "widgets": {
   "application/vnd.jupyter.widget-state+json": {
    "09cad0faacb44b038f860a2b94a271b2": {
     "model_module": "@jupyter-widgets/controls",
     "model_name": "HBoxModel",
     "state": {
      "_dom_classes": [],
      "_model_module": "@jupyter-widgets/controls",
      "_model_module_version": "1.5.0",
      "_model_name": "HBoxModel",
      "_view_count": null,
      "_view_module": "@jupyter-widgets/controls",
      "_view_module_version": "1.5.0",
      "_view_name": "HBoxView",
      "box_style": "",
      "children": [
       "IPY_MODEL_24a8f82290b246eba11d8ade01e04dfe",
       "IPY_MODEL_9e9d342836cf424c9d26479d5becb2d8"
      ],
      "layout": "IPY_MODEL_c53278fffec14623a1308175f794bbd1"
     }
    },
    "0aae21623fa64d8f9a707e4cfac30531": {
     "model_module": "@jupyter-widgets/controls",
     "model_name": "DescriptionStyleModel",
     "state": {
      "_model_module": "@jupyter-widgets/controls",
      "_model_module_version": "1.5.0",
      "_model_name": "DescriptionStyleModel",
      "_view_count": null,
      "_view_module": "@jupyter-widgets/base",
      "_view_module_version": "1.2.0",
      "_view_name": "StyleView",
      "description_width": ""
     }
    },
    "1cf49323b03245e398bc558f5d229e1f": {
     "model_module": "@jupyter-widgets/controls",
     "model_name": "ProgressStyleModel",
     "state": {
      "_model_module": "@jupyter-widgets/controls",
      "_model_module_version": "1.5.0",
      "_model_name": "ProgressStyleModel",
      "_view_count": null,
      "_view_module": "@jupyter-widgets/base",
      "_view_module_version": "1.2.0",
      "_view_name": "StyleView",
      "bar_color": null,
      "description_width": "initial"
     }
    },
    "24a8f82290b246eba11d8ade01e04dfe": {
     "model_module": "@jupyter-widgets/controls",
     "model_name": "FloatProgressModel",
     "state": {
      "_dom_classes": [],
      "_model_module": "@jupyter-widgets/controls",
      "_model_module_version": "1.5.0",
      "_model_name": "FloatProgressModel",
      "_view_count": null,
      "_view_module": "@jupyter-widgets/controls",
      "_view_module_version": "1.5.0",
      "_view_name": "ProgressView",
      "bar_style": "success",
      "description": "wikir/es13k/test documents: ",
      "description_tooltip": null,
      "layout": "IPY_MODEL_3c2060e44b154512b50b7c11dbfe612d",
      "max": 1,
      "min": 0,
      "orientation": "horizontal",
      "style": "IPY_MODEL_1cf49323b03245e398bc558f5d229e1f",
      "value": 1
     }
    },
    "32cf03a42936452ebe285410faba36e3": {
     "model_module": "@jupyter-widgets/controls",
     "model_name": "HTMLModel",
     "state": {
      "_dom_classes": [],
      "_model_module": "@jupyter-widgets/controls",
      "_model_module_version": "1.5.0",
      "_model_name": "HTMLModel",
      "_view_count": null,
      "_view_module": "@jupyter-widgets/controls",
      "_view_module_version": "1.5.0",
      "_view_name": "HTMLView",
      "description": "",
      "description_tooltip": null,
      "layout": "IPY_MODEL_676d27f73ce8458cbd7d7b9c4de6e559",
      "placeholder": "​",
      "style": "IPY_MODEL_870848d8dbca4fd2a5821c47a92b3d7d",
      "value": " 645901/? [08:02&lt;00:00, 1338.38it/s]"
     }
    },
    "3862a47ade8342fe84d0c0cc2f7af9c5": {
     "model_module": "@jupyter-widgets/base",
     "model_name": "LayoutModel",
     "state": {
      "_model_module": "@jupyter-widgets/base",
      "_model_module_version": "1.2.0",
      "_model_name": "LayoutModel",
      "_view_count": null,
      "_view_module": "@jupyter-widgets/base",
      "_view_module_version": "1.2.0",
      "_view_name": "LayoutView",
      "align_content": null,
      "align_items": null,
      "align_self": null,
      "border": null,
      "bottom": null,
      "display": null,
      "flex": null,
      "flex_flow": null,
      "grid_area": null,
      "grid_auto_columns": null,
      "grid_auto_flow": null,
      "grid_auto_rows": null,
      "grid_column": null,
      "grid_gap": null,
      "grid_row": null,
      "grid_template_areas": null,
      "grid_template_columns": null,
      "grid_template_rows": null,
      "height": null,
      "justify_content": null,
      "justify_items": null,
      "left": null,
      "margin": null,
      "max_height": null,
      "max_width": null,
      "min_height": null,
      "min_width": null,
      "object_fit": null,
      "object_position": null,
      "order": null,
      "overflow": null,
      "overflow_x": null,
      "overflow_y": null,
      "padding": null,
      "right": null,
      "top": null,
      "visibility": null,
      "width": null
     }
    },
    "3c2060e44b154512b50b7c11dbfe612d": {
     "model_module": "@jupyter-widgets/base",
     "model_name": "LayoutModel",
     "state": {
      "_model_module": "@jupyter-widgets/base",
      "_model_module_version": "1.2.0",
      "_model_name": "LayoutModel",
      "_view_count": null,
      "_view_module": "@jupyter-widgets/base",
      "_view_module_version": "1.2.0",
      "_view_name": "LayoutView",
      "align_content": null,
      "align_items": null,
      "align_self": null,
      "border": null,
      "bottom": null,
      "display": null,
      "flex": null,
      "flex_flow": null,
      "grid_area": null,
      "grid_auto_columns": null,
      "grid_auto_flow": null,
      "grid_auto_rows": null,
      "grid_column": null,
      "grid_gap": null,
      "grid_row": null,
      "grid_template_areas": null,
      "grid_template_columns": null,
      "grid_template_rows": null,
      "height": null,
      "justify_content": null,
      "justify_items": null,
      "left": null,
      "margin": null,
      "max_height": null,
      "max_width": null,
      "min_height": null,
      "min_width": null,
      "object_fit": null,
      "object_position": null,
      "order": null,
      "overflow": null,
      "overflow_x": null,
      "overflow_y": null,
      "padding": null,
      "right": null,
      "top": null,
      "visibility": null,
      "width": null
     }
    },
    "4543e68e5ea04029b1799b80cf4738f4": {
     "model_module": "@jupyter-widgets/base",
     "model_name": "LayoutModel",
     "state": {
      "_model_module": "@jupyter-widgets/base",
      "_model_module_version": "1.2.0",
      "_model_name": "LayoutModel",
      "_view_count": null,
      "_view_module": "@jupyter-widgets/base",
      "_view_module_version": "1.2.0",
      "_view_name": "LayoutView",
      "align_content": null,
      "align_items": null,
      "align_self": null,
      "border": null,
      "bottom": null,
      "display": null,
      "flex": null,
      "flex_flow": null,
      "grid_area": null,
      "grid_auto_columns": null,
      "grid_auto_flow": null,
      "grid_auto_rows": null,
      "grid_column": null,
      "grid_gap": null,
      "grid_row": null,
      "grid_template_areas": null,
      "grid_template_columns": null,
      "grid_template_rows": null,
      "height": null,
      "justify_content": null,
      "justify_items": null,
      "left": null,
      "margin": null,
      "max_height": null,
      "max_width": null,
      "min_height": null,
      "min_width": null,
      "object_fit": null,
      "object_position": null,
      "order": null,
      "overflow": null,
      "overflow_x": null,
      "overflow_y": null,
      "padding": null,
      "right": null,
      "top": null,
      "visibility": null,
      "width": null
     }
    },
    "57018e3e13b6433da2b7fd52e03d9f06": {
     "model_module": "@jupyter-widgets/base",
     "model_name": "LayoutModel",
     "state": {
      "_model_module": "@jupyter-widgets/base",
      "_model_module_version": "1.2.0",
      "_model_name": "LayoutModel",
      "_view_count": null,
      "_view_module": "@jupyter-widgets/base",
      "_view_module_version": "1.2.0",
      "_view_name": "LayoutView",
      "align_content": null,
      "align_items": null,
      "align_self": null,
      "border": null,
      "bottom": null,
      "display": null,
      "flex": null,
      "flex_flow": null,
      "grid_area": null,
      "grid_auto_columns": null,
      "grid_auto_flow": null,
      "grid_auto_rows": null,
      "grid_column": null,
      "grid_gap": null,
      "grid_row": null,
      "grid_template_areas": null,
      "grid_template_columns": null,
      "grid_template_rows": null,
      "height": null,
      "justify_content": null,
      "justify_items": null,
      "left": null,
      "margin": null,
      "max_height": null,
      "max_width": null,
      "min_height": null,
      "min_width": null,
      "object_fit": null,
      "object_position": null,
      "order": null,
      "overflow": null,
      "overflow_x": null,
      "overflow_y": null,
      "padding": null,
      "right": null,
      "top": null,
      "visibility": null,
      "width": null
     }
    },
    "5d3f8c85d267412b91de563c053688b0": {
     "model_module": "@jupyter-widgets/controls",
     "model_name": "FloatProgressModel",
     "state": {
      "_dom_classes": [],
      "_model_module": "@jupyter-widgets/controls",
      "_model_module_version": "1.5.0",
      "_model_name": "FloatProgressModel",
      "_view_count": null,
      "_view_module": "@jupyter-widgets/controls",
      "_view_module_version": "1.5.0",
      "_view_name": "ProgressView",
      "bar_style": "success",
      "description": "wikir/es13k/test documents: ",
      "description_tooltip": null,
      "layout": "IPY_MODEL_d414e40f492d417e94b867a29a6f7d98",
      "max": 1,
      "min": 0,
      "orientation": "horizontal",
      "style": "IPY_MODEL_fa1ce5c1af7040f0afb92395380d0c18",
      "value": 1
     }
    },
    "66af2780b6ec4aa184b17a68dc7d6db3": {
     "model_module": "@jupyter-widgets/controls",
     "model_name": "HBoxModel",
     "state": {
      "_dom_classes": [],
      "_model_module": "@jupyter-widgets/controls",
      "_model_module_version": "1.5.0",
      "_model_name": "HBoxModel",
      "_view_count": null,
      "_view_module": "@jupyter-widgets/controls",
      "_view_module_version": "1.5.0",
      "_view_name": "HBoxView",
      "box_style": "",
      "children": [
       "IPY_MODEL_5d3f8c85d267412b91de563c053688b0",
       "IPY_MODEL_32cf03a42936452ebe285410faba36e3"
      ],
      "layout": "IPY_MODEL_6e403236818f4cca83c25c763f70a2df"
     }
    },
    "676d27f73ce8458cbd7d7b9c4de6e559": {
     "model_module": "@jupyter-widgets/base",
     "model_name": "LayoutModel",
     "state": {
      "_model_module": "@jupyter-widgets/base",
      "_model_module_version": "1.2.0",
      "_model_name": "LayoutModel",
      "_view_count": null,
      "_view_module": "@jupyter-widgets/base",
      "_view_module_version": "1.2.0",
      "_view_name": "LayoutView",
      "align_content": null,
      "align_items": null,
      "align_self": null,
      "border": null,
      "bottom": null,
      "display": null,
      "flex": null,
      "flex_flow": null,
      "grid_area": null,
      "grid_auto_columns": null,
      "grid_auto_flow": null,
      "grid_auto_rows": null,
      "grid_column": null,
      "grid_gap": null,
      "grid_row": null,
      "grid_template_areas": null,
      "grid_template_columns": null,
      "grid_template_rows": null,
      "height": null,
      "justify_content": null,
      "justify_items": null,
      "left": null,
      "margin": null,
      "max_height": null,
      "max_width": null,
      "min_height": null,
      "min_width": null,
      "object_fit": null,
      "object_position": null,
      "order": null,
      "overflow": null,
      "overflow_x": null,
      "overflow_y": null,
      "padding": null,
      "right": null,
      "top": null,
      "visibility": null,
      "width": null
     }
    },
    "6c4719d48396480fa4b0cd2639787511": {
     "model_module": "@jupyter-widgets/base",
     "model_name": "LayoutModel",
     "state": {
      "_model_module": "@jupyter-widgets/base",
      "_model_module_version": "1.2.0",
      "_model_name": "LayoutModel",
      "_view_count": null,
      "_view_module": "@jupyter-widgets/base",
      "_view_module_version": "1.2.0",
      "_view_name": "LayoutView",
      "align_content": null,
      "align_items": null,
      "align_self": null,
      "border": null,
      "bottom": null,
      "display": null,
      "flex": null,
      "flex_flow": null,
      "grid_area": null,
      "grid_auto_columns": null,
      "grid_auto_flow": null,
      "grid_auto_rows": null,
      "grid_column": null,
      "grid_gap": null,
      "grid_row": null,
      "grid_template_areas": null,
      "grid_template_columns": null,
      "grid_template_rows": null,
      "height": null,
      "justify_content": null,
      "justify_items": null,
      "left": null,
      "margin": null,
      "max_height": null,
      "max_width": null,
      "min_height": null,
      "min_width": null,
      "object_fit": null,
      "object_position": null,
      "order": null,
      "overflow": null,
      "overflow_x": null,
      "overflow_y": null,
      "padding": null,
      "right": null,
      "top": null,
      "visibility": null,
      "width": null
     }
    },
    "6e403236818f4cca83c25c763f70a2df": {
     "model_module": "@jupyter-widgets/base",
     "model_name": "LayoutModel",
     "state": {
      "_model_module": "@jupyter-widgets/base",
      "_model_module_version": "1.2.0",
      "_model_name": "LayoutModel",
      "_view_count": null,
      "_view_module": "@jupyter-widgets/base",
      "_view_module_version": "1.2.0",
      "_view_name": "LayoutView",
      "align_content": null,
      "align_items": null,
      "align_self": null,
      "border": null,
      "bottom": null,
      "display": null,
      "flex": null,
      "flex_flow": null,
      "grid_area": null,
      "grid_auto_columns": null,
      "grid_auto_flow": null,
      "grid_auto_rows": null,
      "grid_column": null,
      "grid_gap": null,
      "grid_row": null,
      "grid_template_areas": null,
      "grid_template_columns": null,
      "grid_template_rows": null,
      "height": null,
      "justify_content": null,
      "justify_items": null,
      "left": null,
      "margin": null,
      "max_height": null,
      "max_width": null,
      "min_height": null,
      "min_width": null,
      "object_fit": null,
      "object_position": null,
      "order": null,
      "overflow": null,
      "overflow_x": null,
      "overflow_y": null,
      "padding": null,
      "right": null,
      "top": null,
      "visibility": null,
      "width": null
     }
    },
    "870848d8dbca4fd2a5821c47a92b3d7d": {
     "model_module": "@jupyter-widgets/controls",
     "model_name": "DescriptionStyleModel",
     "state": {
      "_model_module": "@jupyter-widgets/controls",
      "_model_module_version": "1.5.0",
      "_model_name": "DescriptionStyleModel",
      "_view_count": null,
      "_view_module": "@jupyter-widgets/base",
      "_view_module_version": "1.2.0",
      "_view_name": "StyleView",
      "description_width": ""
     }
    },
    "8fbb6ae0448343be8821fdc6084b8bff": {
     "model_module": "@jupyter-widgets/controls",
     "model_name": "HBoxModel",
     "state": {
      "_dom_classes": [],
      "_model_module": "@jupyter-widgets/controls",
      "_model_module_version": "1.5.0",
      "_model_name": "HBoxModel",
      "_view_count": null,
      "_view_module": "@jupyter-widgets/controls",
      "_view_module_version": "1.5.0",
      "_view_name": "HBoxView",
      "box_style": "",
      "children": [
       "IPY_MODEL_90039bed807a486ba14854da473db23a",
       "IPY_MODEL_b658493d8fba4f3aa2326a10eb319bce"
      ],
      "layout": "IPY_MODEL_3862a47ade8342fe84d0c0cc2f7af9c5"
     }
    },
    "90039bed807a486ba14854da473db23a": {
     "model_module": "@jupyter-widgets/controls",
     "model_name": "FloatProgressModel",
     "state": {
      "_dom_classes": [],
      "_model_module": "@jupyter-widgets/controls",
      "_model_module_version": "1.5.0",
      "_model_name": "FloatProgressModel",
      "_view_count": null,
      "_view_module": "@jupyter-widgets/controls",
      "_view_module_version": "1.5.0",
      "_view_name": "ProgressView",
      "bar_style": "success",
      "description": "wikir/es13k/test documents: ",
      "description_tooltip": null,
      "layout": "IPY_MODEL_4543e68e5ea04029b1799b80cf4738f4",
      "max": 1,
      "min": 0,
      "orientation": "horizontal",
      "style": "IPY_MODEL_eb27986ac2294c7781c6232aa3852d40",
      "value": 1
     }
    },
    "9334bae880274083bdd3f840c7cfd601": {
     "model_module": "@jupyter-widgets/controls",
     "model_name": "DescriptionStyleModel",
     "state": {
      "_model_module": "@jupyter-widgets/controls",
      "_model_module_version": "1.5.0",
      "_model_name": "DescriptionStyleModel",
      "_view_count": null,
      "_view_module": "@jupyter-widgets/base",
      "_view_module_version": "1.2.0",
      "_view_name": "StyleView",
      "description_width": ""
     }
    },
    "9e9d342836cf424c9d26479d5becb2d8": {
     "model_module": "@jupyter-widgets/controls",
     "model_name": "HTMLModel",
     "state": {
      "_dom_classes": [],
      "_model_module": "@jupyter-widgets/controls",
      "_model_module_version": "1.5.0",
      "_model_name": "HTMLModel",
      "_view_count": null,
      "_view_module": "@jupyter-widgets/controls",
      "_view_module_version": "1.5.0",
      "_view_name": "HTMLView",
      "description": "",
      "description_tooltip": null,
      "layout": "IPY_MODEL_57018e3e13b6433da2b7fd52e03d9f06",
      "placeholder": "​",
      "style": "IPY_MODEL_0aae21623fa64d8f9a707e4cfac30531",
      "value": " 645901/? [1:28:04&lt;00:00, 122.23it/s]"
     }
    },
    "b658493d8fba4f3aa2326a10eb319bce": {
     "model_module": "@jupyter-widgets/controls",
     "model_name": "HTMLModel",
     "state": {
      "_dom_classes": [],
      "_model_module": "@jupyter-widgets/controls",
      "_model_module_version": "1.5.0",
      "_model_name": "HTMLModel",
      "_view_count": null,
      "_view_module": "@jupyter-widgets/controls",
      "_view_module_version": "1.5.0",
      "_view_name": "HTMLView",
      "description": "",
      "description_tooltip": null,
      "layout": "IPY_MODEL_6c4719d48396480fa4b0cd2639787511",
      "placeholder": "​",
      "style": "IPY_MODEL_9334bae880274083bdd3f840c7cfd601",
      "value": " 645901/? [27:00&lt;00:00, 398.68it/s]"
     }
    },
    "c53278fffec14623a1308175f794bbd1": {
     "model_module": "@jupyter-widgets/base",
     "model_name": "LayoutModel",
     "state": {
      "_model_module": "@jupyter-widgets/base",
      "_model_module_version": "1.2.0",
      "_model_name": "LayoutModel",
      "_view_count": null,
      "_view_module": "@jupyter-widgets/base",
      "_view_module_version": "1.2.0",
      "_view_name": "LayoutView",
      "align_content": null,
      "align_items": null,
      "align_self": null,
      "border": null,
      "bottom": null,
      "display": null,
      "flex": null,
      "flex_flow": null,
      "grid_area": null,
      "grid_auto_columns": null,
      "grid_auto_flow": null,
      "grid_auto_rows": null,
      "grid_column": null,
      "grid_gap": null,
      "grid_row": null,
      "grid_template_areas": null,
      "grid_template_columns": null,
      "grid_template_rows": null,
      "height": null,
      "justify_content": null,
      "justify_items": null,
      "left": null,
      "margin": null,
      "max_height": null,
      "max_width": null,
      "min_height": null,
      "min_width": null,
      "object_fit": null,
      "object_position": null,
      "order": null,
      "overflow": null,
      "overflow_x": null,
      "overflow_y": null,
      "padding": null,
      "right": null,
      "top": null,
      "visibility": null,
      "width": null
     }
    },
    "d414e40f492d417e94b867a29a6f7d98": {
     "model_module": "@jupyter-widgets/base",
     "model_name": "LayoutModel",
     "state": {
      "_model_module": "@jupyter-widgets/base",
      "_model_module_version": "1.2.0",
      "_model_name": "LayoutModel",
      "_view_count": null,
      "_view_module": "@jupyter-widgets/base",
      "_view_module_version": "1.2.0",
      "_view_name": "LayoutView",
      "align_content": null,
      "align_items": null,
      "align_self": null,
      "border": null,
      "bottom": null,
      "display": null,
      "flex": null,
      "flex_flow": null,
      "grid_area": null,
      "grid_auto_columns": null,
      "grid_auto_flow": null,
      "grid_auto_rows": null,
      "grid_column": null,
      "grid_gap": null,
      "grid_row": null,
      "grid_template_areas": null,
      "grid_template_columns": null,
      "grid_template_rows": null,
      "height": null,
      "justify_content": null,
      "justify_items": null,
      "left": null,
      "margin": null,
      "max_height": null,
      "max_width": null,
      "min_height": null,
      "min_width": null,
      "object_fit": null,
      "object_position": null,
      "order": null,
      "overflow": null,
      "overflow_x": null,
      "overflow_y": null,
      "padding": null,
      "right": null,
      "top": null,
      "visibility": null,
      "width": null
     }
    },
    "eb27986ac2294c7781c6232aa3852d40": {
     "model_module": "@jupyter-widgets/controls",
     "model_name": "ProgressStyleModel",
     "state": {
      "_model_module": "@jupyter-widgets/controls",
      "_model_module_version": "1.5.0",
      "_model_name": "ProgressStyleModel",
      "_view_count": null,
      "_view_module": "@jupyter-widgets/base",
      "_view_module_version": "1.2.0",
      "_view_name": "StyleView",
      "bar_color": null,
      "description_width": "initial"
     }
    },
    "fa1ce5c1af7040f0afb92395380d0c18": {
     "model_module": "@jupyter-widgets/controls",
     "model_name": "ProgressStyleModel",
     "state": {
      "_model_module": "@jupyter-widgets/controls",
      "_model_module_version": "1.5.0",
      "_model_name": "ProgressStyleModel",
      "_view_count": null,
      "_view_module": "@jupyter-widgets/base",
      "_view_module_version": "1.2.0",
      "_view_name": "StyleView",
      "bar_color": null,
      "description_width": "initial"
     }
    }
   }
  }
 },
 "nbformat": 4,
 "nbformat_minor": 1
}
