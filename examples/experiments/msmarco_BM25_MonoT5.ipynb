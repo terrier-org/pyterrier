{
  "cells": [
    {
      "cell_type": "markdown",
      "metadata": {
        "id": "a5kCa8Qxz2PW"
      },
      "source": [
        "# PyTerrier Example Notebook: BM25 and MonoT5 on MSMARCO\n",
        "\n",
        "This notebook demonstrates running BM25 and MonoT5 on MSMARCO. You do not need to do any indexing, all required files are automatically downloaded.\n",
        "\n",
        "Its advantageous to run this notebook using a GPU, because of MonoT5."
      ]
    },
    {
      "cell_type": "code",
      "execution_count": null,
      "metadata": {
        "colab": {
          "base_uri": "https://localhost:8080/"
        },
        "id": "_sQRGqmfyKe_",
        "outputId": "2ecccdca-5530-4661-d97b-f274be368668"
      },
      "outputs": [
        {
          "name": "stdout",
          "output_type": "stream",
          "text": [
            "  Preparing metadata (setup.py) ... \u001b[?25l\u001b[?25hdone\n",
            "  Preparing metadata (setup.py) ... \u001b[?25l\u001b[?25hdone\n",
            "  Preparing metadata (setup.py) ... \u001b[?25l\u001b[?25hdone\n",
            "\u001b[2K   \u001b[90m━━━━━━━━━━━━━━━━━━━━━━━━━━━━━━━━━━━━━━━━\u001b[0m \u001b[32m167.5/167.5 kB\u001b[0m \u001b[31m9.0 MB/s\u001b[0m eta \u001b[36m0:00:00\u001b[0m\n",
            "\u001b[2K   \u001b[90m━━━━━━━━━━━━━━━━━━━━━━━━━━━━━━━━━━━━━━━━\u001b[0m \u001b[32m866.1/866.1 kB\u001b[0m \u001b[31m33.0 MB/s\u001b[0m eta \u001b[36m0:00:00\u001b[0m\n",
            "\u001b[2K   \u001b[90m━━━━━━━━━━━━━━━━━━━━━━━━━━━━━━━━━━━━━━━━\u001b[0m \u001b[32m61.1/61.1 kB\u001b[0m \u001b[31m4.7 MB/s\u001b[0m eta \u001b[36m0:00:00\u001b[0m\n",
            "\u001b[2K   \u001b[90m━━━━━━━━━━━━━━━━━━━━━━━━━━━━━━━━━━━━━━━━\u001b[0m \u001b[32m1.3/1.3 MB\u001b[0m \u001b[31m76.5 MB/s\u001b[0m eta \u001b[36m0:00:00\u001b[0m\n",
            "\u001b[2K   \u001b[90m━━━━━━━━━━━━━━━━━━━━━━━━━━━━━━━━━━━━━━━━\u001b[0m \u001b[32m1.6/1.6 MB\u001b[0m \u001b[31m62.6 MB/s\u001b[0m eta \u001b[36m0:00:00\u001b[0m\n",
            "\u001b[2K   \u001b[90m━━━━━━━━━━━━━━━━━━━━━━━━━━━━━━━━━━━━━━━━\u001b[0m \u001b[32m304.8/304.8 kB\u001b[0m \u001b[31m27.1 MB/s\u001b[0m eta \u001b[36m0:00:00\u001b[0m\n",
            "\u001b[2K   \u001b[90m━━━━━━━━━━━━━━━━━━━━━━━━━━━━━━━━━━━━━━━━\u001b[0m \u001b[32m148.3/148.3 kB\u001b[0m \u001b[31m11.5 MB/s\u001b[0m eta \u001b[36m0:00:00\u001b[0m\n",
            "\u001b[2K   \u001b[90m━━━━━━━━━━━━━━━━━━━━━━━━━━━━━━━━━━━━━━━━\u001b[0m \u001b[32m45.1/45.1 kB\u001b[0m \u001b[31m2.8 MB/s\u001b[0m eta \u001b[36m0:00:00\u001b[0m\n",
            "\u001b[?25h  Building wheel for chest (setup.py) ... \u001b[?25l\u001b[?25hdone\n",
            "  Building wheel for warc3-wet-clueweb09 (setup.py) ... \u001b[?25l\u001b[?25hdone\n",
            "  Building wheel for cbor (setup.py) ... \u001b[?25l\u001b[?25hdone\n"
          ]
        }
      ],
      "source": [
        "%pip install -q python-terrier"
      ]
    },
    {
      "cell_type": "code",
      "execution_count": null,
      "metadata": {
        "id": "VJembbkJyOym"
      },
      "outputs": [],
      "source": [
        "import pyterrier as pt"
      ]
    },
    {
      "cell_type": "markdown",
      "metadata": {
        "id": "GYFZkjh-z9kg"
      },
      "source": [
        "Lets download a pre-built index for Terrier for MSMARCO passage corpus This includes the text."
      ]
    },
    {
      "cell_type": "code",
      "execution_count": null,
      "metadata": {
        "colab": {
          "base_uri": "https://localhost:8080/",
          "height": 614,
          "referenced_widgets": [
            "8812d61ad9464789a31fcd43bee0d9c4",
            "ba8441f754344fbabac7c86807a2875a",
            "02b69eaa8af04c49915edadfabb9d7da",
            "bdeb3585cb0d4c40bb18179aba307a77",
            "a5e76d81942247878521350fbf3c7181",
            "0f932eccafc345c8910f258b36cad6d4",
            "f064b30fc6db4c6db7197f26cc230650",
            "9ad6cbcc1a1b468fb6d4268c8c8aa097",
            "1d4f7505914f40a9961c542b05c131d4",
            "6559f701b1514173a42fe92e2745d5cc",
            "d3ec987f012341e9b694dacfa8489d0a",
            "815bfb9eb5274b5ba4b30b1aaf305bfc",
            "503e98c8539e4c5480118a3129abead3",
            "d93f5d997b16479ab98f8bea66f3bbc4",
            "34c7745f95bf444cb41ec5398e9a7c96",
            "359165ec99a04b88977f73f69ef64ee8",
            "125e727467fa46658668013fa94bd5fb",
            "99666314e8db4f048eb6397b67044626",
            "ce1ac1c6932e45c8b74afcd99e64c618",
            "f49fa143f144495680db8eebddf35365",
            "6fd29ec006634c30ace0cbd8b0dfcaef",
            "ccac5916fedb4c8a8327d343e8e4f522",
            "944cc9761f6541beb2ff3f097dad2dfc",
            "d6f4dd86240c4b21b2e52c801ef8c44d",
            "6cf3c194fc674f04becdf2fe86e4cbfd",
            "6d1a4e0eceae4149bfe4b463f6970523",
            "0681e412d2574a46b18aadebde1b6b39",
            "6468b664726a4a9ca48d9052b73e1e74",
            "066dfb6777e349859e9873c9739c82bc",
            "eb19f40bc9bc4d53861cfa3f1f8eb001",
            "ded5605dab454293ba61766956d505b2",
            "42fb65c0bc9241e9b60649765b559c89",
            "6f350a0c5b0246fabe6313bee2e200bc",
            "56953787206d4b87ada4486948da868b",
            "d48ba5e517f34bf9adc2d05de7beed55",
            "ef676aa2e20d4d46986cfd0e1ce50768",
            "96079e562d2e4b3f8725556d7b9ecab3",
            "aa165c5d1c8346f296e1ab628ede1a65",
            "d94175b19cf3409d9e316377fcd416c8",
            "5212e64a632040369b92cdf1c8123b2c",
            "7db76a85e4a04611b5ef8cb8ad4a54c1",
            "4fba944de9d94628bf8c9f7563493aab",
            "76f69a3dd2ac4cf4abb4cec03c73e5df",
            "3871cfd101964da6b443c93e4b21592f",
            "ab1caab4fe4642ba82e6aac2190dc181",
            "622c6260b0c240b4b448092f9df9a997",
            "a00bef1ebd1a4c9c88bb4a95fd1acfed",
            "f5d35c023c4c4e458fc2162ee7bf4d1f",
            "bc8d6e3aac9c47eaa7e0a30de530cf5d",
            "63e021092df64222889c634bd0b80dc1",
            "2fea26ec0bd5452a88ef9b2f4a0f5fec",
            "efc3986d54494a5499f2ec5b77d2f6f1",
            "7f58a572e8b5402594e7f62f3fa4074c",
            "a879e975bc1348db9e910c8f88fae236",
            "0344d7cc03a34f1fa2074f6be3424b72",
            "86118ce1907d47418215d199993d58bb",
            "f5f5583cc5f34e81814aae85dbcdb7f8",
            "4a2183bec36b4ea4a680f3b2a6b771e6",
            "4acc8ddcebe94fa0bd29cd1b56b5c17d",
            "a5c54821d3da42dfa07ace8fae133f4e",
            "19d1cf83e7474e89a94675096f0b6ccb",
            "cfd025f0b8564b6cb26e50d98d062809",
            "bd4fa6642fe6493b86100711f13f6091",
            "e35df9ea4832465ab72852765d2f2366",
            "2a352acc4954410499422b33f613ca92",
            "39f72edb8dda483ca890536ad0d7cc66",
            "ce993c60bc254c59a1b9d4bbe84e16dd",
            "065e91090a4a4e8a999b7cf54e233f15",
            "c3e6aa8e1f6d4c12b4f779976e535863",
            "62ec3b580ac5437f8efd8aeaae60c7c8",
            "81212d7c3f88491aae66851b8419fc6b",
            "d3b85fdb253742768591a5a79a84b369",
            "88309fe085b2457cbf5cdfee43029cdf",
            "8a76b70f69f6477a8688b6232488487c",
            "2692054945974831b5429ecad936beb1",
            "fc0d0eba4c3c4f4cae2f3e6dad7baa72",
            "166e610ea3ec4518ad449e9c0c3fe27a",
            "208915533d4542f6b920d4484563dc2a",
            "5a1a61b96ef24ea29b9cbf15933828bd",
            "0db1efbed23c4549afb68d8650002223",
            "96edf08e355846eea40be348bd704934",
            "94c4a5868fd64449a24fdfc76d520c53",
            "9460d292471745bc87501b12b81c388d",
            "435e488b9dfc4134837c6fa438d9950f",
            "d197c92b236f450ea00598ab14da8831",
            "61959036a9154b6887984c4b9d178699",
            "8c8d338941e84fb9ba0ab13f4e20eabd",
            "96dcbbc10f26452a9b5634a6e6c6bd84",
            "5a4300775d714161993fc7e0c94d7b01",
            "b8d8428674154ad1a9f9bbec9cb73427",
            "934baac6d3914c88957dbca09db0d246",
            "3e55c5da259d409f8b6e8b576346072c",
            "32be42c58835435ca4781eb976dd1099",
            "ebca9d224f574c61841fe321affbe0dc",
            "a7ef0ff4b89e47b0bc878613963bd6a0",
            "1a265a7b89b94e619451d8cb761d2b39",
            "b495adc1ec78415a8b1c2bdb18931079",
            "5d91f447b3c94a69a815af1708dfbcdd",
            "b6e67fa8109d466080f2bce264e53ff8",
            "1e84e0f42b624800a06ccaa665d8f1f3",
            "ab2e573cc741469cb12e3bd2e0c34a97",
            "080228f1f62c445795bcf99e7ca36c09",
            "37e4ebff293e4e649f5df1d07f046bed",
            "89ef9c79de614f4ebc72c172e3da6287",
            "9c21881279ed4ffd9ad92c65e22c4e76",
            "75d28e85386549d680d19bb97da307db",
            "750c879e338a432c8d7401fe68371f93",
            "a3b4d3e191ba40508ec1521e629a0c99",
            "634710da25684bd29b63dcb0fbabc309",
            "b2d89eb5c9e5430fab3d8e1277d65064",
            "9a1610dbc7944b95a5aae699f8c2e390",
            "bac8438d8f4d40648e06b9833892b328",
            "7051d6aac68a4667910fc15fd37b1171",
            "00783d5047ee41959dcc6c3b14d94f14",
            "11f9c987c78b49bf8bd320b2f5a5206d",
            "6dc5a1f8649646bca6a64af23b640357",
            "2439d0e2f56642bfad50bfc708afcfe9",
            "24bee79e4bb642e48c4d210c3d8f612b",
            "dac87338a4dc4b10b36a70b47714ce48",
            "c4ab7943b25b4a0eaee74aa11926ffd7",
            "c39c5167739742d48d78247340b3f7a1",
            "7202124a402049d5abaddb763be5a864",
            "e1359048dcdd4d43a1f66a08d9c55640",
            "532b6405c7be4402bc6ef344fcccf879",
            "bf6985db80d34ebfaab418c99e791ddb",
            "e1dfff83da074ec3ad8693384c219f1b",
            "8cdb575bbc62459ba3eb4313a2d65a4e",
            "c835e1605e0c4fffaaaf3cb21cdc2805",
            "58066e6902ad47028336f8a78d9141ae",
            "abdef6a7ccc7431ca1b6337e0fa11285",
            "c07ce6d5deb7482a99bac78a5d2be6f0",
            "9b97b3f54c1146b090f0718b0d4fc2d6",
            "4f488313dbf54477b98f1b8f40297d42",
            "2f136b4ac3a8483fbda0d8a9451103bf",
            "1a536ec0730e4e5495ede8a1ecea472c",
            "26dd16bcdb6d448d96d42a3ab70ec95a",
            "49790f837ce34f468d83419c05db1a1d",
            "186d09b9ba6a424f92fb29101b0a8489",
            "b00d6ce4d7ab4cf3b5c623cb7a6d1fce",
            "46024163f34d4d5c813f57127df3ef81",
            "367ef9a308e9412ca5b970c402795b60",
            "899e41127ff544b9b8ef7f215ca60eab",
            "0883672e8063453ea4f63d3c608acbf9"
          ]
        },
        "id": "py66YZMMyMej",
        "outputId": "cc6d4319-cda4-48ca-b7d1-87ab751f6dfa"
      },
      "outputs": [
        {
          "name": "stdout",
          "output_type": "stream",
          "text": [
            "terrier-assemblies 5.11 jar-with-dependencies not found, downloading to /root/.pyterrier...\n"
          ]
        },
        {
          "data": {
            "application/vnd.jupyter.widget-view+json": {
              "model_id": "8812d61ad9464789a31fcd43bee0d9c4",
              "version_major": 2,
              "version_minor": 0
            },
            "text/plain": [
              "https://repo1.maven.org/maven2/org/terrier/terrier-assemblies/5.11/terrier-assemblies-5.11-jar-with-dependenci…"
            ]
          },
          "metadata": {},
          "output_type": "display_data"
        },
        {
          "name": "stdout",
          "output_type": "stream",
          "text": [
            "Done\n",
            "terrier-python-helper 0.0.8 jar not found, downloading to /root/.pyterrier...\n"
          ]
        },
        {
          "data": {
            "application/vnd.jupyter.widget-view+json": {
              "model_id": "815bfb9eb5274b5ba4b30b1aaf305bfc",
              "version_major": 2,
              "version_minor": 0
            },
            "text/plain": [
              "https://repo1.maven.org/maven2/org/terrier/terrier-python-helper/0.0.8/terrier-python-helper-0.0.8.jar:   0%| …"
            ]
          },
          "metadata": {},
          "output_type": "display_data"
        },
        {
          "name": "stdout",
          "output_type": "stream",
          "text": [
            "Done\n"
          ]
        },
        {
          "name": "stderr",
          "output_type": "stream",
          "text": [
            "Java started (triggered by Retriever.from_dataset) and loaded: pyterrier.java, pyterrier.terrier.java [version=5.11 (build: craig.macdonald 2025-01-13 21:29), helper_version=0.0.8]\n"
          ]
        },
        {
          "name": "stdout",
          "output_type": "stream",
          "text": [
            "Downloading msmarco_passage index to /root/.pyterrier/corpora/msmarco_passage/index/terrier_stemmed_text\n"
          ]
        },
        {
          "name": "stderr",
          "output_type": "stream",
          "text": [
            "/usr/local/lib/python3.12/dist-packages/pyterrier/datasets/_core.py:323: UserWarning: Downloading index of > 2GB.\n",
            "  warn(\n"
          ]
        },
        {
          "data": {
            "application/vnd.jupyter.widget-view+json": {
              "model_id": "944cc9761f6541beb2ff3f097dad2dfc",
              "version_major": 2,
              "version_minor": 0
            },
            "text/plain": [
              "data.direct.bf:   0%|          | 0.00/486M [00:00<?, ?iB/s]"
            ]
          },
          "metadata": {},
          "output_type": "display_data"
        },
        {
          "data": {
            "application/vnd.jupyter.widget-view+json": {
              "model_id": "56953787206d4b87ada4486948da868b",
              "version_major": 2,
              "version_minor": 0
            },
            "text/plain": [
              "data.document.fsarrayfile:   0%|          | 0.00/177M [00:00<?, ?iB/s]"
            ]
          },
          "metadata": {},
          "output_type": "display_data"
        },
        {
          "data": {
            "application/vnd.jupyter.widget-view+json": {
              "model_id": "ab1caab4fe4642ba82e6aac2190dc181",
              "version_major": 2,
              "version_minor": 0
            },
            "text/plain": [
              "data.inverted.bf:   0%|          | 0.00/377M [00:00<?, ?iB/s]"
            ]
          },
          "metadata": {},
          "output_type": "display_data"
        },
        {
          "data": {
            "application/vnd.jupyter.widget-view+json": {
              "model_id": "86118ce1907d47418215d199993d58bb",
              "version_major": 2,
              "version_minor": 0
            },
            "text/plain": [
              "data.lexicon.fsomapfile:   0%|          | 0.00/100M [00:00<?, ?iB/s]"
            ]
          },
          "metadata": {},
          "output_type": "display_data"
        },
        {
          "data": {
            "application/vnd.jupyter.widget-view+json": {
              "model_id": "ce993c60bc254c59a1b9d4bbe84e16dd",
              "version_major": 2,
              "version_minor": 0
            },
            "text/plain": [
              "data.lexicon.fsomaphash:   0%|          | 0.00/0.99k [00:00<?, ?iB/s]"
            ]
          },
          "metadata": {},
          "output_type": "display_data"
        },
        {
          "data": {
            "application/vnd.jupyter.widget-view+json": {
              "model_id": "208915533d4542f6b920d4484563dc2a",
              "version_major": 2,
              "version_minor": 0
            },
            "text/plain": [
              "data.lexicon.fsomapid:   0%|          | 0.00/4.47M [00:00<?, ?iB/s]"
            ]
          },
          "metadata": {},
          "output_type": "display_data"
        },
        {
          "data": {
            "application/vnd.jupyter.widget-view+json": {
              "model_id": "5a4300775d714161993fc7e0c94d7b01",
              "version_major": 2,
              "version_minor": 0
            },
            "text/plain": [
              "data.meta-0.fsomapfile:   0%|          | 0.00/295M [00:00<?, ?iB/s]"
            ]
          },
          "metadata": {},
          "output_type": "display_data"
        },
        {
          "data": {
            "application/vnd.jupyter.widget-view+json": {
              "model_id": "1e84e0f42b624800a06ccaa665d8f1f3",
              "version_major": 2,
              "version_minor": 0
            },
            "text/plain": [
              "data.meta.idx:   0%|          | 0.00/67.5M [00:00<?, ?iB/s]"
            ]
          },
          "metadata": {},
          "output_type": "display_data"
        },
        {
          "data": {
            "application/vnd.jupyter.widget-view+json": {
              "model_id": "9a1610dbc7944b95a5aae699f8c2e390",
              "version_major": 2,
              "version_minor": 0
            },
            "text/plain": [
              "data.meta.zdata:   0%|          | 0.00/1.91G [00:00<?, ?iB/s]"
            ]
          },
          "metadata": {},
          "output_type": "display_data"
        },
        {
          "data": {
            "application/vnd.jupyter.widget-view+json": {
              "model_id": "7202124a402049d5abaddb763be5a864",
              "version_major": 2,
              "version_minor": 0
            },
            "text/plain": [
              "data.properties:   0%|          | 0.00/4.33k [00:00<?, ?iB/s]"
            ]
          },
          "metadata": {},
          "output_type": "display_data"
        },
        {
          "data": {
            "application/vnd.jupyter.widget-view+json": {
              "model_id": "4f488313dbf54477b98f1b8f40297d42",
              "version_major": 2,
              "version_minor": 0
            },
            "text/plain": [
              "md5sums:   0%|          | 0.00/537 [00:00<?, ?iB/s]"
            ]
          },
          "metadata": {},
          "output_type": "display_data"
        },
        {
          "name": "stdout",
          "output_type": "stream",
          "text": [
            "14:16:25.651 [main] WARN org.terrier.structures.BaseCompressingMetaIndex -- Structure meta reading data file directly from disk (SLOW) - try index.meta.data-source=fileinmem in the index properties file. 1.9 GiB of memory would be required.\n"
          ]
        }
      ],
      "source": [
        "bm25 = pt.terrier.Retriever.from_dataset('msmarco_passage', 'terrier_stemmed_text', wmodel='BM25', metadata=['docno', 'text'], verbose=True)"
      ]
    },
    {
      "cell_type": "markdown",
      "metadata": {
        "id": "XcY--1J_0DVG"
      },
      "source": [
        "We can search any PyTerrier transformer by using `.search()`."
      ]
    },
    {
      "cell_type": "code",
      "execution_count": null,
      "metadata": {
        "colab": {
          "base_uri": "https://localhost:8080/",
          "height": 424
        },
        "id": "f20spNdhyWdj",
        "outputId": "c0d60087-3626-4ffe-da61-7c0894c51c2e"
      },
      "outputs": [
        {
          "data": {
            "application/vnd.google.colaboratory.intrinsic+json": {
              "summary": "{\n  \"name\": \"msmarco_ret\",\n  \"rows\": 1000,\n  \"fields\": [\n    {\n      \"column\": \"qid\",\n      \"properties\": {\n        \"dtype\": \"category\",\n        \"num_unique_values\": 1,\n        \"samples\": [\n          \"1\"\n        ],\n        \"semantic_type\": \"\",\n        \"description\": \"\"\n      }\n    },\n    {\n      \"column\": \"docid\",\n      \"properties\": {\n        \"dtype\": \"number\",\n        \"std\": 2584860,\n        \"min\": 20113,\n        \"max\": 8803628,\n        \"num_unique_values\": 1000,\n        \"samples\": [\n          536640\n        ],\n        \"semantic_type\": \"\",\n        \"description\": \"\"\n      }\n    },\n    {\n      \"column\": \"docno\",\n      \"properties\": {\n        \"dtype\": \"string\",\n        \"num_unique_values\": 1000,\n        \"samples\": [\n          \"536640\"\n        ],\n        \"semantic_type\": \"\",\n        \"description\": \"\"\n      }\n    },\n    {\n      \"column\": \"text\",\n      \"properties\": {\n        \"dtype\": \"string\",\n        \"num_unique_values\": 1000,\n        \"samples\": [\n          \"The noun CHEMICAL DECOMPOSITION REACTION has 1 sense: 1. (chemistry) separation of a substance into two or more substances that may differ from each other and from the original substance. Familiarity information: CHEMICAL DECOMPOSITION REACTION used as a noun is very rare. Dictionary entry details. \\u00e2\\u0080\\u00a2 CHEMICAL DECOMPOSITION REACTION (noun).\"\n        ],\n        \"semantic_type\": \"\",\n        \"description\": \"\"\n      }\n    },\n    {\n      \"column\": \"rank\",\n      \"properties\": {\n        \"dtype\": \"number\",\n        \"std\": 288,\n        \"min\": 0,\n        \"max\": 999,\n        \"num_unique_values\": 1000,\n        \"samples\": [\n          521\n        ],\n        \"semantic_type\": \"\",\n        \"description\": \"\"\n      }\n    },\n    {\n      \"column\": \"score\",\n      \"properties\": {\n        \"dtype\": \"number\",\n        \"std\": 0.9653816248091401,\n        \"min\": 21.435341411785533,\n        \"max\": 26.1608701558567,\n        \"num_unique_values\": 509,\n        \"samples\": [\n          24.14823149027664\n        ],\n        \"semantic_type\": \"\",\n        \"description\": \"\"\n      }\n    },\n    {\n      \"column\": \"query\",\n      \"properties\": {\n        \"dtype\": \"category\",\n        \"num_unique_values\": 1,\n        \"samples\": [\n          \"chemical reactions\"\n        ],\n        \"semantic_type\": \"\",\n        \"description\": \"\"\n      }\n    }\n  ]\n}",
              "type": "dataframe"
            },
            "text/html": [
              "\n",
              "  <div id=\"df-1c027fa4-1aa0-4fba-841a-81a57681f4a0\" class=\"colab-df-container\">\n",
              "    <div>\n",
              "<style scoped>\n",
              "    .dataframe tbody tr th:only-of-type {\n",
              "        vertical-align: middle;\n",
              "    }\n",
              "\n",
              "    .dataframe tbody tr th {\n",
              "        vertical-align: top;\n",
              "    }\n",
              "\n",
              "    .dataframe thead th {\n",
              "        text-align: right;\n",
              "    }\n",
              "</style>\n",
              "<table border=\"1\" class=\"dataframe\">\n",
              "  <thead>\n",
              "    <tr style=\"text-align: right;\">\n",
              "      <th></th>\n",
              "      <th>qid</th>\n",
              "      <th>docid</th>\n",
              "      <th>docno</th>\n",
              "      <th>text</th>\n",
              "      <th>rank</th>\n",
              "      <th>score</th>\n",
              "      <th>query</th>\n",
              "    </tr>\n",
              "  </thead>\n",
              "  <tbody>\n",
              "    <tr>\n",
              "      <th>0</th>\n",
              "      <td>1</td>\n",
              "      <td>1725585</td>\n",
              "      <td>1725585</td>\n",
              "      <td>Share. Reaction Definition: A reaction or chem...</td>\n",
              "      <td>0</td>\n",
              "      <td>26.160870</td>\n",
              "      <td>chemical reactions</td>\n",
              "    </tr>\n",
              "    <tr>\n",
              "      <th>1</th>\n",
              "      <td>1</td>\n",
              "      <td>397884</td>\n",
              "      <td>397884</td>\n",
              "      <td>the difference between chemical reaction and c...</td>\n",
              "      <td>1</td>\n",
              "      <td>26.030967</td>\n",
              "      <td>chemical reactions</td>\n",
              "    </tr>\n",
              "    <tr>\n",
              "      <th>2</th>\n",
              "      <td>1</td>\n",
              "      <td>1074096</td>\n",
              "      <td>1074096</td>\n",
              "      <td>Reaction Definition: A reaction or chemical re...</td>\n",
              "      <td>2</td>\n",
              "      <td>25.820800</td>\n",
              "      <td>chemical reactions</td>\n",
              "    </tr>\n",
              "    <tr>\n",
              "      <th>3</th>\n",
              "      <td>1</td>\n",
              "      <td>7012661</td>\n",
              "      <td>7012661</td>\n",
              "      <td>Learn about the different types of chemical re...</td>\n",
              "      <td>3</td>\n",
              "      <td>25.808845</td>\n",
              "      <td>chemical reactions</td>\n",
              "    </tr>\n",
              "    <tr>\n",
              "      <th>4</th>\n",
              "      <td>1</td>\n",
              "      <td>1074095</td>\n",
              "      <td>1074095</td>\n",
              "      <td>Share. Reaction Definition: A reaction or chem...</td>\n",
              "      <td>4</td>\n",
              "      <td>25.740887</td>\n",
              "      <td>chemical reactions</td>\n",
              "    </tr>\n",
              "    <tr>\n",
              "      <th>...</th>\n",
              "      <td>...</td>\n",
              "      <td>...</td>\n",
              "      <td>...</td>\n",
              "      <td>...</td>\n",
              "      <td>...</td>\n",
              "      <td>...</td>\n",
              "      <td>...</td>\n",
              "    </tr>\n",
              "    <tr>\n",
              "      <th>995</th>\n",
              "      <td>1</td>\n",
              "      <td>6069643</td>\n",
              "      <td>6069643</td>\n",
              "      <td>Metabolic pathways in human organism form vast...</td>\n",
              "      <td>995</td>\n",
              "      <td>21.435788</td>\n",
              "      <td>chemical reactions</td>\n",
              "    </tr>\n",
              "    <tr>\n",
              "      <th>996</th>\n",
              "      <td>1</td>\n",
              "      <td>7208929</td>\n",
              "      <td>7208929</td>\n",
              "      <td>There are a few telltale signs that can help i...</td>\n",
              "      <td>996</td>\n",
              "      <td>21.435788</td>\n",
              "      <td>chemical reactions</td>\n",
              "    </tr>\n",
              "    <tr>\n",
              "      <th>997</th>\n",
              "      <td>1</td>\n",
              "      <td>8777339</td>\n",
              "      <td>8777339</td>\n",
              "      <td>Reactions in which energy is released are exot...</td>\n",
              "      <td>997</td>\n",
              "      <td>21.435788</td>\n",
              "      <td>chemical reactions</td>\n",
              "    </tr>\n",
              "    <tr>\n",
              "      <th>998</th>\n",
              "      <td>1</td>\n",
              "      <td>397890</td>\n",
              "      <td>397890</td>\n",
              "      <td>In a chemical reaction, chemical equilibrium i...</td>\n",
              "      <td>998</td>\n",
              "      <td>21.435341</td>\n",
              "      <td>chemical reactions</td>\n",
              "    </tr>\n",
              "    <tr>\n",
              "      <th>999</th>\n",
              "      <td>1</td>\n",
              "      <td>570589</td>\n",
              "      <td>570589</td>\n",
              "      <td>The materials to the right of the arrow are th...</td>\n",
              "      <td>999</td>\n",
              "      <td>21.435341</td>\n",
              "      <td>chemical reactions</td>\n",
              "    </tr>\n",
              "  </tbody>\n",
              "</table>\n",
              "<p>1000 rows × 7 columns</p>\n",
              "</div>\n",
              "    <div class=\"colab-df-buttons\">\n",
              "\n",
              "  <div class=\"colab-df-container\">\n",
              "    <button class=\"colab-df-convert\" onclick=\"convertToInteractive('df-1c027fa4-1aa0-4fba-841a-81a57681f4a0')\"\n",
              "            title=\"Convert this dataframe to an interactive table.\"\n",
              "            style=\"display:none;\">\n",
              "\n",
              "  <svg xmlns=\"http://www.w3.org/2000/svg\" height=\"24px\" viewBox=\"0 -960 960 960\">\n",
              "    <path d=\"M120-120v-720h720v720H120Zm60-500h600v-160H180v160Zm220 220h160v-160H400v160Zm0 220h160v-160H400v160ZM180-400h160v-160H180v160Zm440 0h160v-160H620v160ZM180-180h160v-160H180v160Zm440 0h160v-160H620v160Z\"/>\n",
              "  </svg>\n",
              "    </button>\n",
              "\n",
              "  <style>\n",
              "    .colab-df-container {\n",
              "      display:flex;\n",
              "      gap: 12px;\n",
              "    }\n",
              "\n",
              "    .colab-df-convert {\n",
              "      background-color: #E8F0FE;\n",
              "      border: none;\n",
              "      border-radius: 50%;\n",
              "      cursor: pointer;\n",
              "      display: none;\n",
              "      fill: #1967D2;\n",
              "      height: 32px;\n",
              "      padding: 0 0 0 0;\n",
              "      width: 32px;\n",
              "    }\n",
              "\n",
              "    .colab-df-convert:hover {\n",
              "      background-color: #E2EBFA;\n",
              "      box-shadow: 0px 1px 2px rgba(60, 64, 67, 0.3), 0px 1px 3px 1px rgba(60, 64, 67, 0.15);\n",
              "      fill: #174EA6;\n",
              "    }\n",
              "\n",
              "    .colab-df-buttons div {\n",
              "      margin-bottom: 4px;\n",
              "    }\n",
              "\n",
              "    [theme=dark] .colab-df-convert {\n",
              "      background-color: #3B4455;\n",
              "      fill: #D2E3FC;\n",
              "    }\n",
              "\n",
              "    [theme=dark] .colab-df-convert:hover {\n",
              "      background-color: #434B5C;\n",
              "      box-shadow: 0px 1px 3px 1px rgba(0, 0, 0, 0.15);\n",
              "      filter: drop-shadow(0px 1px 2px rgba(0, 0, 0, 0.3));\n",
              "      fill: #FFFFFF;\n",
              "    }\n",
              "  </style>\n",
              "\n",
              "    <script>\n",
              "      const buttonEl =\n",
              "        document.querySelector('#df-1c027fa4-1aa0-4fba-841a-81a57681f4a0 button.colab-df-convert');\n",
              "      buttonEl.style.display =\n",
              "        google.colab.kernel.accessAllowed ? 'block' : 'none';\n",
              "\n",
              "      async function convertToInteractive(key) {\n",
              "        const element = document.querySelector('#df-1c027fa4-1aa0-4fba-841a-81a57681f4a0');\n",
              "        const dataTable =\n",
              "          await google.colab.kernel.invokeFunction('convertToInteractive',\n",
              "                                                    [key], {});\n",
              "        if (!dataTable) return;\n",
              "\n",
              "        const docLinkHtml = 'Like what you see? Visit the ' +\n",
              "          '<a target=\"_blank\" href=https://colab.research.google.com/notebooks/data_table.ipynb>data table notebook</a>'\n",
              "          + ' to learn more about interactive tables.';\n",
              "        element.innerHTML = '';\n",
              "        dataTable['output_type'] = 'display_data';\n",
              "        await google.colab.output.renderOutput(dataTable, element);\n",
              "        const docLink = document.createElement('div');\n",
              "        docLink.innerHTML = docLinkHtml;\n",
              "        element.appendChild(docLink);\n",
              "      }\n",
              "    </script>\n",
              "  </div>\n",
              "\n",
              "\n",
              "    <div id=\"df-91682aea-571c-487a-80eb-40d15c5a86be\">\n",
              "      <button class=\"colab-df-quickchart\" onclick=\"quickchart('df-91682aea-571c-487a-80eb-40d15c5a86be')\"\n",
              "                title=\"Suggest charts\"\n",
              "                style=\"display:none;\">\n",
              "\n",
              "<svg xmlns=\"http://www.w3.org/2000/svg\" height=\"24px\"viewBox=\"0 0 24 24\"\n",
              "     width=\"24px\">\n",
              "    <g>\n",
              "        <path d=\"M19 3H5c-1.1 0-2 .9-2 2v14c0 1.1.9 2 2 2h14c1.1 0 2-.9 2-2V5c0-1.1-.9-2-2-2zM9 17H7v-7h2v7zm4 0h-2V7h2v10zm4 0h-2v-4h2v4z\"/>\n",
              "    </g>\n",
              "</svg>\n",
              "      </button>\n",
              "\n",
              "<style>\n",
              "  .colab-df-quickchart {\n",
              "      --bg-color: #E8F0FE;\n",
              "      --fill-color: #1967D2;\n",
              "      --hover-bg-color: #E2EBFA;\n",
              "      --hover-fill-color: #174EA6;\n",
              "      --disabled-fill-color: #AAA;\n",
              "      --disabled-bg-color: #DDD;\n",
              "  }\n",
              "\n",
              "  [theme=dark] .colab-df-quickchart {\n",
              "      --bg-color: #3B4455;\n",
              "      --fill-color: #D2E3FC;\n",
              "      --hover-bg-color: #434B5C;\n",
              "      --hover-fill-color: #FFFFFF;\n",
              "      --disabled-bg-color: #3B4455;\n",
              "      --disabled-fill-color: #666;\n",
              "  }\n",
              "\n",
              "  .colab-df-quickchart {\n",
              "    background-color: var(--bg-color);\n",
              "    border: none;\n",
              "    border-radius: 50%;\n",
              "    cursor: pointer;\n",
              "    display: none;\n",
              "    fill: var(--fill-color);\n",
              "    height: 32px;\n",
              "    padding: 0;\n",
              "    width: 32px;\n",
              "  }\n",
              "\n",
              "  .colab-df-quickchart:hover {\n",
              "    background-color: var(--hover-bg-color);\n",
              "    box-shadow: 0 1px 2px rgba(60, 64, 67, 0.3), 0 1px 3px 1px rgba(60, 64, 67, 0.15);\n",
              "    fill: var(--button-hover-fill-color);\n",
              "  }\n",
              "\n",
              "  .colab-df-quickchart-complete:disabled,\n",
              "  .colab-df-quickchart-complete:disabled:hover {\n",
              "    background-color: var(--disabled-bg-color);\n",
              "    fill: var(--disabled-fill-color);\n",
              "    box-shadow: none;\n",
              "  }\n",
              "\n",
              "  .colab-df-spinner {\n",
              "    border: 2px solid var(--fill-color);\n",
              "    border-color: transparent;\n",
              "    border-bottom-color: var(--fill-color);\n",
              "    animation:\n",
              "      spin 1s steps(1) infinite;\n",
              "  }\n",
              "\n",
              "  @keyframes spin {\n",
              "    0% {\n",
              "      border-color: transparent;\n",
              "      border-bottom-color: var(--fill-color);\n",
              "      border-left-color: var(--fill-color);\n",
              "    }\n",
              "    20% {\n",
              "      border-color: transparent;\n",
              "      border-left-color: var(--fill-color);\n",
              "      border-top-color: var(--fill-color);\n",
              "    }\n",
              "    30% {\n",
              "      border-color: transparent;\n",
              "      border-left-color: var(--fill-color);\n",
              "      border-top-color: var(--fill-color);\n",
              "      border-right-color: var(--fill-color);\n",
              "    }\n",
              "    40% {\n",
              "      border-color: transparent;\n",
              "      border-right-color: var(--fill-color);\n",
              "      border-top-color: var(--fill-color);\n",
              "    }\n",
              "    60% {\n",
              "      border-color: transparent;\n",
              "      border-right-color: var(--fill-color);\n",
              "    }\n",
              "    80% {\n",
              "      border-color: transparent;\n",
              "      border-right-color: var(--fill-color);\n",
              "      border-bottom-color: var(--fill-color);\n",
              "    }\n",
              "    90% {\n",
              "      border-color: transparent;\n",
              "      border-bottom-color: var(--fill-color);\n",
              "    }\n",
              "  }\n",
              "</style>\n",
              "\n",
              "      <script>\n",
              "        async function quickchart(key) {\n",
              "          const quickchartButtonEl =\n",
              "            document.querySelector('#' + key + ' button');\n",
              "          quickchartButtonEl.disabled = true;  // To prevent multiple clicks.\n",
              "          quickchartButtonEl.classList.add('colab-df-spinner');\n",
              "          try {\n",
              "            const charts = await google.colab.kernel.invokeFunction(\n",
              "                'suggestCharts', [key], {});\n",
              "          } catch (error) {\n",
              "            console.error('Error during call to suggestCharts:', error);\n",
              "          }\n",
              "          quickchartButtonEl.classList.remove('colab-df-spinner');\n",
              "          quickchartButtonEl.classList.add('colab-df-quickchart-complete');\n",
              "        }\n",
              "        (() => {\n",
              "          let quickchartButtonEl =\n",
              "            document.querySelector('#df-91682aea-571c-487a-80eb-40d15c5a86be button');\n",
              "          quickchartButtonEl.style.display =\n",
              "            google.colab.kernel.accessAllowed ? 'block' : 'none';\n",
              "        })();\n",
              "      </script>\n",
              "    </div>\n",
              "\n",
              "    </div>\n",
              "  </div>\n"
            ],
            "text/plain": [
              "    qid    docid    docno                                               text  \\\n",
              "0     1  1725585  1725585  Share. Reaction Definition: A reaction or chem...   \n",
              "1     1   397884   397884  the difference between chemical reaction and c...   \n",
              "2     1  1074096  1074096  Reaction Definition: A reaction or chemical re...   \n",
              "3     1  7012661  7012661  Learn about the different types of chemical re...   \n",
              "4     1  1074095  1074095  Share. Reaction Definition: A reaction or chem...   \n",
              "..   ..      ...      ...                                                ...   \n",
              "995   1  6069643  6069643  Metabolic pathways in human organism form vast...   \n",
              "996   1  7208929  7208929  There are a few telltale signs that can help i...   \n",
              "997   1  8777339  8777339  Reactions in which energy is released are exot...   \n",
              "998   1   397890   397890  In a chemical reaction, chemical equilibrium i...   \n",
              "999   1   570589   570589  The materials to the right of the arrow are th...   \n",
              "\n",
              "     rank      score               query  \n",
              "0       0  26.160870  chemical reactions  \n",
              "1       1  26.030967  chemical reactions  \n",
              "2       2  25.820800  chemical reactions  \n",
              "3       3  25.808845  chemical reactions  \n",
              "4       4  25.740887  chemical reactions  \n",
              "..    ...        ...                 ...  \n",
              "995   995  21.435788  chemical reactions  \n",
              "996   996  21.435788  chemical reactions  \n",
              "997   997  21.435788  chemical reactions  \n",
              "998   998  21.435341  chemical reactions  \n",
              "999   999  21.435341  chemical reactions  \n",
              "\n",
              "[1000 rows x 7 columns]"
            ]
          },
          "execution_count": 4,
          "metadata": {},
          "output_type": "execute_result"
        }
      ],
      "source": [
        "bm25.search(\"chemical reactions\")"
      ]
    },
    {
      "cell_type": "markdown",
      "metadata": {
        "id": "NQk05Hr80Iwz"
      },
      "source": [
        "OK, now we can see some results.\n",
        "\n",
        "Lets try another model, MonoT5 is a reranker. Its in a different [Github repo](http://github.com/terrierteam/pyterrier_t5), which we need to pip install and import.\n",
        "\n",
        "NB: As MonoT5 is a neural model, this really needs a GPU in order to be reasonably fast."
      ]
    },
    {
      "cell_type": "code",
      "execution_count": null,
      "metadata": {
        "id": "ZxKu8zzwyrJw"
      },
      "outputs": [],
      "source": [
        "%pip install -q pyterrier_t5"
      ]
    },
    {
      "cell_type": "code",
      "execution_count": null,
      "metadata": {
        "colab": {
          "base_uri": "https://localhost:8080/",
          "height": 354,
          "referenced_widgets": [
            "86aa0006aba54af793d7fb0f747974cb",
            "5addcf3118dc4448b23106c33251bc7b",
            "e9bac1cd03954b07bf897d24f739a920",
            "39751a06324e47f2bef27dd5894aa854",
            "02f66291671f4652a476d3a96fdf7112",
            "d02efa8920714083947830e7fbcc3ad1",
            "7394e38cfb6c42d489fd2433c86451ff",
            "f66aa388dedd491aaead1ce6e3544a37",
            "a81959a404db47b5af0e78068eb266c5",
            "4702d6adc9c64603b24ec9e83a134788",
            "12e4c548a349444ea7f19337c52e5b41",
            "9a26922d7fe24c9587b08b9b46735a6c",
            "bb5ead7d16894249b27db37a90c5c905",
            "f52411c18f07486792d52bd3af620fe7",
            "95405497580b4ac7bcf102a63da97570",
            "4a4181a6612d4078a31ecba61ee4fcb4",
            "94408405d9144aaaacaef63991a5066a",
            "6d7b867e92c847ad9335710c8217a309",
            "c997f86e16a4433b916b8ef3a08d1264",
            "7fc4604948cf4dd0b805594478fa83d7",
            "d1864942e9724cc7bf6c5927f9430a26",
            "b0c6d586b68644b7901920ecf6c3bb46",
            "7465e737f41d45559eb72e33bb199fe6",
            "50eb7d6804584886a2ba578616b97c8e",
            "eed3a7cb45884a1bb9d10dd05973621a",
            "7e5d3eb8bfd44a168abe57ccc750f0ac",
            "305099e034a64166a7937c20acdd551d",
            "dec0fa994ac342368bece2962a389253",
            "407dc623b61d45b2af72fc6d31348099",
            "b7b877a5ffb9471593342b4a34e92d3e",
            "851f90dbfdeb4ddd9c64ada2a4efc36c",
            "fad4f6628d834394abb1dfbe22d528dd",
            "a876ac86ccd24fcba3576574a2d52107",
            "2b233fa900094866a45326a0f3421d12",
            "04d07957d16745beae379abe1e7fdeab",
            "9d8efc4d1c4f4e99947ec1b0f7bf08d1",
            "1786595c348a4a0e810f530e0717fbb8",
            "60220b791f03464c88afb480d2428c39",
            "5e53027027e84c14ac9a11940213e71c",
            "5bc5a57ca22a4142b79fe20e8ab66974",
            "c90ad29de6c74e88b0d44204ed431f28",
            "0dbdbbbae7ee47869a449bd6acb6061a",
            "fda19ab6c2414fe4a35ab85e3c34eae3",
            "77fbe10a48b6471e94203ea0e3764786",
            "bd68a03a76bc4f9992becbaa741fd7c4",
            "d028c3afafe74f6887aa61afa32dce69",
            "60a6df5fb5584abd94c4d14701e57ce4",
            "c6f6ee5afc7e48ebab23f2441c3ae973",
            "e6b687c5c9c14e22b0f2815b3067afb7",
            "bc6edb212a3b40f5bb899abf8585a38b",
            "2ca984691f504de9ad3af7b542e16e8d",
            "fccd10ed37ed49edb8d6c1e089dbae72",
            "486f9110f05043ad8a17eb3e69dfc5ff",
            "c975ce84b3574efe81d252e9151216ee",
            "031a9c5a1e4e4266be4ec85bc79aeca6",
            "d0adf4b0ba994ce592d80a7b36413998",
            "9133b13a284f472d8697c745c0a24d06",
            "47c03676193c4cd488a743533154779a",
            "31790093c0d34349962ca8149b085ab8",
            "eb14c79204a94adea6e55f0096485b83",
            "d0c79bd0fcf040fda3eac6da010fd285",
            "23d853adf1234f2b936569ce9e2f153e",
            "b48147e315fa437d98407288e3cc19cd",
            "7c00c2317b7e4bafa10eb8a42e4b60f8",
            "2ecf0fe6a5bc4f49b809b3a9b226713d",
            "bc21020366ac45dea6f1c67dfdeaab5c"
          ]
        },
        "id": "1g7bF10gysun",
        "outputId": "48014d09-6607-4e6f-e01c-620117103cd5"
      },
      "outputs": [
        {
          "name": "stderr",
          "output_type": "stream",
          "text": [
            "/usr/local/lib/python3.12/dist-packages/huggingface_hub/utils/_auth.py:94: UserWarning: \n",
            "The secret `HF_TOKEN` does not exist in your Colab secrets.\n",
            "To authenticate with the Hugging Face Hub, create a token in your settings tab (https://huggingface.co/settings/tokens), set it as secret in your Google Colab and restart your session.\n",
            "You will be able to reuse this secret in all of your notebooks.\n",
            "Please note that authentication is recommended but still optional to access public models or datasets.\n",
            "  warnings.warn(\n"
          ]
        },
        {
          "data": {
            "application/vnd.jupyter.widget-view+json": {
              "model_id": "86aa0006aba54af793d7fb0f747974cb",
              "version_major": 2,
              "version_minor": 0
            },
            "text/plain": [
              "spiece.model:   0%|          | 0.00/792k [00:00<?, ?B/s]"
            ]
          },
          "metadata": {},
          "output_type": "display_data"
        },
        {
          "data": {
            "application/vnd.jupyter.widget-view+json": {
              "model_id": "9a26922d7fe24c9587b08b9b46735a6c",
              "version_major": 2,
              "version_minor": 0
            },
            "text/plain": [
              "tokenizer.json:   0%|          | 0.00/1.39M [00:00<?, ?B/s]"
            ]
          },
          "metadata": {},
          "output_type": "display_data"
        },
        {
          "data": {
            "application/vnd.jupyter.widget-view+json": {
              "model_id": "7465e737f41d45559eb72e33bb199fe6",
              "version_major": 2,
              "version_minor": 0
            },
            "text/plain": [
              "config.json:   0%|          | 0.00/1.21k [00:00<?, ?B/s]"
            ]
          },
          "metadata": {},
          "output_type": "display_data"
        },
        {
          "name": "stderr",
          "output_type": "stream",
          "text": [
            "You are using the default legacy behaviour of the <class 'transformers.models.t5.tokenization_t5.T5Tokenizer'>. This is expected, and simply means that the `legacy` (previous) behavior will be used so nothing changes for you. If you want to use the new behaviour, set `legacy=False`. This should only be set if you understand what it means, and thoroughly read the reason why this was added as explained in https://github.com/huggingface/transformers/pull/24565\n"
          ]
        },
        {
          "data": {
            "application/vnd.jupyter.widget-view+json": {
              "model_id": "2b233fa900094866a45326a0f3421d12",
              "version_major": 2,
              "version_minor": 0
            },
            "text/plain": [
              "config.json: 0.00B [00:00, ?B/s]"
            ]
          },
          "metadata": {},
          "output_type": "display_data"
        },
        {
          "data": {
            "application/vnd.jupyter.widget-view+json": {
              "model_id": "bd68a03a76bc4f9992becbaa741fd7c4",
              "version_major": 2,
              "version_minor": 0
            },
            "text/plain": [
              "pytorch_model.bin:   0%|          | 0.00/892M [00:00<?, ?B/s]"
            ]
          },
          "metadata": {},
          "output_type": "display_data"
        },
        {
          "data": {
            "application/vnd.jupyter.widget-view+json": {
              "model_id": "d0adf4b0ba994ce592d80a7b36413998",
              "version_major": 2,
              "version_minor": 0
            },
            "text/plain": [
              "model.safetensors:   0%|          | 0.00/892M [00:00<?, ?B/s]"
            ]
          },
          "metadata": {},
          "output_type": "display_data"
        }
      ],
      "source": [
        "from pyterrier_t5 import MonoT5ReRanker\n",
        "monoT5 = MonoT5ReRanker()"
      ]
    },
    {
      "cell_type": "markdown",
      "metadata": {
        "id": "5LCGvMfT01V6"
      },
      "source": [
        "Let formulate a pipeline that takes the top 10 results from BM25 and reranks them using MonoT5"
      ]
    },
    {
      "cell_type": "code",
      "execution_count": null,
      "metadata": {
        "id": "-NEDSy93yvoK"
      },
      "outputs": [],
      "source": [
        "monot5_pipe = bm25 % 10 >> monoT5"
      ]
    },
    {
      "cell_type": "code",
      "execution_count": null,
      "metadata": {
        "colab": {
          "base_uri": "https://localhost:8080/",
          "height": 395,
          "referenced_widgets": [
            "58c1dd8ad3fd4f6f9eaea5545518980a",
            "3b9f45a42f0b412ebc1ecfaad8e54556",
            "99241c0df0fd45fb9b4047b1472af2a7",
            "a91dc1f1959c4f62884b2294646a26ab",
            "166f21b3e54642969373c56f8e0310c5",
            "bdc445ddd68647e095722e07f9684967",
            "e0f6837ac3314b208e7ea22fececdf66",
            "778306d31f0f4ce6965a5a9920cd1ea0",
            "933d018a15f247c2959d5d9699415e1b",
            "a116f141a80446f4bc77b4d6303c84e0",
            "be52137141c946ea85230c0e6c8c48ac"
          ]
        },
        "id": "ZXol5FeazA2G",
        "outputId": "44025bad-f206-49ed-d41a-fd34333222be"
      },
      "outputs": [
        {
          "data": {
            "application/vnd.jupyter.widget-view+json": {
              "model_id": "58c1dd8ad3fd4f6f9eaea5545518980a",
              "version_major": 2,
              "version_minor": 0
            },
            "text/plain": [
              "monoT5:   0%|          | 0/3 [00:00<?, ?batches/s]"
            ]
          },
          "metadata": {},
          "output_type": "display_data"
        },
        {
          "data": {
            "application/vnd.google.colaboratory.intrinsic+json": {
              "summary": "{\n  \"name\": \"monot5_pipe\",\n  \"rows\": 10,\n  \"fields\": [\n    {\n      \"column\": \"qid\",\n      \"properties\": {\n        \"dtype\": \"category\",\n        \"num_unique_values\": 1,\n        \"samples\": [\n          \"1\"\n        ],\n        \"semantic_type\": \"\",\n        \"description\": \"\"\n      }\n    },\n    {\n      \"column\": \"docid\",\n      \"properties\": {\n        \"dtype\": \"number\",\n        \"std\": 2789828,\n        \"min\": 397884,\n        \"max\": 8729082,\n        \"num_unique_values\": 10,\n        \"samples\": [\n          397884\n        ],\n        \"semantic_type\": \"\",\n        \"description\": \"\"\n      }\n    },\n    {\n      \"column\": \"docno\",\n      \"properties\": {\n        \"dtype\": \"string\",\n        \"num_unique_values\": 10,\n        \"samples\": [\n          \"397884\"\n        ],\n        \"semantic_type\": \"\",\n        \"description\": \"\"\n      }\n    },\n    {\n      \"column\": \"text\",\n      \"properties\": {\n        \"dtype\": \"string\",\n        \"num_unique_values\": 10,\n        \"samples\": [\n          \"the difference between chemical reaction and chemical mequation is chemical reaction :- when to chemicals are ints compounds are combined there is a change in the p \\u00e2\\u0080\\u00a6 roperty ofthe combined chemicals known as chemical reaction chemical equation:- representation of chemical reaction is known as chemical equation the difference between chemical reaction and chemical mequation is chemical reaction :- when to chemicals are ints compounds are combined there is a change in the property ofthe ...\"\n        ],\n        \"semantic_type\": \"\",\n        \"description\": \"\"\n      }\n    },\n    {\n      \"column\": \"query\",\n      \"properties\": {\n        \"dtype\": \"category\",\n        \"num_unique_values\": 1,\n        \"samples\": [\n          \"chemical reactions\"\n        ],\n        \"semantic_type\": \"\",\n        \"description\": \"\"\n      }\n    },\n    {\n      \"column\": \"score\",\n      \"properties\": {\n        \"dtype\": \"number\",\n        \"std\": 3.1085214569630715,\n        \"min\": -8.894333839416504,\n        \"max\": -0.0755460113286972,\n        \"num_unique_values\": 10,\n        \"samples\": [\n          -6.777563095092773\n        ],\n        \"semantic_type\": \"\",\n        \"description\": \"\"\n      }\n    },\n    {\n      \"column\": \"rank\",\n      \"properties\": {\n        \"dtype\": \"number\",\n        \"std\": 3,\n        \"min\": 0,\n        \"max\": 9,\n        \"num_unique_values\": 10,\n        \"samples\": [\n          8\n        ],\n        \"semantic_type\": \"\",\n        \"description\": \"\"\n      }\n    }\n  ]\n}",
              "type": "dataframe"
            },
            "text/html": [
              "\n",
              "  <div id=\"df-ed8d946e-6c11-4197-b2c8-681792188924\" class=\"colab-df-container\">\n",
              "    <div>\n",
              "<style scoped>\n",
              "    .dataframe tbody tr th:only-of-type {\n",
              "        vertical-align: middle;\n",
              "    }\n",
              "\n",
              "    .dataframe tbody tr th {\n",
              "        vertical-align: top;\n",
              "    }\n",
              "\n",
              "    .dataframe thead th {\n",
              "        text-align: right;\n",
              "    }\n",
              "</style>\n",
              "<table border=\"1\" class=\"dataframe\">\n",
              "  <thead>\n",
              "    <tr style=\"text-align: right;\">\n",
              "      <th></th>\n",
              "      <th>qid</th>\n",
              "      <th>docid</th>\n",
              "      <th>docno</th>\n",
              "      <th>text</th>\n",
              "      <th>query</th>\n",
              "      <th>score</th>\n",
              "      <th>rank</th>\n",
              "    </tr>\n",
              "  </thead>\n",
              "  <tbody>\n",
              "    <tr>\n",
              "      <th>7</th>\n",
              "      <td>1</td>\n",
              "      <td>1495797</td>\n",
              "      <td>1495797</td>\n",
              "      <td>Reaction Definition: A reaction or chemical re...</td>\n",
              "      <td>chemical reactions</td>\n",
              "      <td>-0.075546</td>\n",
              "      <td>0</td>\n",
              "    </tr>\n",
              "    <tr>\n",
              "      <th>2</th>\n",
              "      <td>1</td>\n",
              "      <td>1074096</td>\n",
              "      <td>1074096</td>\n",
              "      <td>Reaction Definition: A reaction or chemical re...</td>\n",
              "      <td>chemical reactions</td>\n",
              "      <td>-0.154145</td>\n",
              "      <td>1</td>\n",
              "    </tr>\n",
              "    <tr>\n",
              "      <th>4</th>\n",
              "      <td>1</td>\n",
              "      <td>1074095</td>\n",
              "      <td>1074095</td>\n",
              "      <td>Share. Reaction Definition: A reaction or chem...</td>\n",
              "      <td>chemical reactions</td>\n",
              "      <td>-0.188698</td>\n",
              "      <td>2</td>\n",
              "    </tr>\n",
              "    <tr>\n",
              "      <th>0</th>\n",
              "      <td>1</td>\n",
              "      <td>1725585</td>\n",
              "      <td>1725585</td>\n",
              "      <td>Share. Reaction Definition: A reaction or chem...</td>\n",
              "      <td>chemical reactions</td>\n",
              "      <td>-0.231416</td>\n",
              "      <td>3</td>\n",
              "    </tr>\n",
              "    <tr>\n",
              "      <th>8</th>\n",
              "      <td>1</td>\n",
              "      <td>4308160</td>\n",
              "      <td>4308160</td>\n",
              "      <td>YOU MAY ALSO FIND THESE DOCUMENTS HELPFUL. 1  ...</td>\n",
              "      <td>chemical reactions</td>\n",
              "      <td>-0.930477</td>\n",
              "      <td>4</td>\n",
              "    </tr>\n",
              "    <tr>\n",
              "      <th>5</th>\n",
              "      <td>1</td>\n",
              "      <td>3928757</td>\n",
              "      <td>3928757</td>\n",
              "      <td>It is the result of a chemical reaction betwee...</td>\n",
              "      <td>chemical reactions</td>\n",
              "      <td>-0.956958</td>\n",
              "      <td>5</td>\n",
              "    </tr>\n",
              "    <tr>\n",
              "      <th>9</th>\n",
              "      <td>1</td>\n",
              "      <td>2097504</td>\n",
              "      <td>2097504</td>\n",
              "      <td>A chemical equation shows that chemical reacti...</td>\n",
              "      <td>chemical reactions</td>\n",
              "      <td>-3.119993</td>\n",
              "      <td>6</td>\n",
              "    </tr>\n",
              "    <tr>\n",
              "      <th>3</th>\n",
              "      <td>1</td>\n",
              "      <td>7012661</td>\n",
              "      <td>7012661</td>\n",
              "      <td>Learn about the different types of chemical re...</td>\n",
              "      <td>chemical reactions</td>\n",
              "      <td>-3.333145</td>\n",
              "      <td>7</td>\n",
              "    </tr>\n",
              "    <tr>\n",
              "      <th>1</th>\n",
              "      <td>1</td>\n",
              "      <td>397884</td>\n",
              "      <td>397884</td>\n",
              "      <td>the difference between chemical reaction and c...</td>\n",
              "      <td>chemical reactions</td>\n",
              "      <td>-6.777563</td>\n",
              "      <td>8</td>\n",
              "    </tr>\n",
              "    <tr>\n",
              "      <th>6</th>\n",
              "      <td>1</td>\n",
              "      <td>8729082</td>\n",
              "      <td>8729082</td>\n",
              "      <td>Catalysts are always formed by chemical reacti...</td>\n",
              "      <td>chemical reactions</td>\n",
              "      <td>-8.894334</td>\n",
              "      <td>9</td>\n",
              "    </tr>\n",
              "  </tbody>\n",
              "</table>\n",
              "</div>\n",
              "    <div class=\"colab-df-buttons\">\n",
              "\n",
              "  <div class=\"colab-df-container\">\n",
              "    <button class=\"colab-df-convert\" onclick=\"convertToInteractive('df-ed8d946e-6c11-4197-b2c8-681792188924')\"\n",
              "            title=\"Convert this dataframe to an interactive table.\"\n",
              "            style=\"display:none;\">\n",
              "\n",
              "  <svg xmlns=\"http://www.w3.org/2000/svg\" height=\"24px\" viewBox=\"0 -960 960 960\">\n",
              "    <path d=\"M120-120v-720h720v720H120Zm60-500h600v-160H180v160Zm220 220h160v-160H400v160Zm0 220h160v-160H400v160ZM180-400h160v-160H180v160Zm440 0h160v-160H620v160ZM180-180h160v-160H180v160Zm440 0h160v-160H620v160Z\"/>\n",
              "  </svg>\n",
              "    </button>\n",
              "\n",
              "  <style>\n",
              "    .colab-df-container {\n",
              "      display:flex;\n",
              "      gap: 12px;\n",
              "    }\n",
              "\n",
              "    .colab-df-convert {\n",
              "      background-color: #E8F0FE;\n",
              "      border: none;\n",
              "      border-radius: 50%;\n",
              "      cursor: pointer;\n",
              "      display: none;\n",
              "      fill: #1967D2;\n",
              "      height: 32px;\n",
              "      padding: 0 0 0 0;\n",
              "      width: 32px;\n",
              "    }\n",
              "\n",
              "    .colab-df-convert:hover {\n",
              "      background-color: #E2EBFA;\n",
              "      box-shadow: 0px 1px 2px rgba(60, 64, 67, 0.3), 0px 1px 3px 1px rgba(60, 64, 67, 0.15);\n",
              "      fill: #174EA6;\n",
              "    }\n",
              "\n",
              "    .colab-df-buttons div {\n",
              "      margin-bottom: 4px;\n",
              "    }\n",
              "\n",
              "    [theme=dark] .colab-df-convert {\n",
              "      background-color: #3B4455;\n",
              "      fill: #D2E3FC;\n",
              "    }\n",
              "\n",
              "    [theme=dark] .colab-df-convert:hover {\n",
              "      background-color: #434B5C;\n",
              "      box-shadow: 0px 1px 3px 1px rgba(0, 0, 0, 0.15);\n",
              "      filter: drop-shadow(0px 1px 2px rgba(0, 0, 0, 0.3));\n",
              "      fill: #FFFFFF;\n",
              "    }\n",
              "  </style>\n",
              "\n",
              "    <script>\n",
              "      const buttonEl =\n",
              "        document.querySelector('#df-ed8d946e-6c11-4197-b2c8-681792188924 button.colab-df-convert');\n",
              "      buttonEl.style.display =\n",
              "        google.colab.kernel.accessAllowed ? 'block' : 'none';\n",
              "\n",
              "      async function convertToInteractive(key) {\n",
              "        const element = document.querySelector('#df-ed8d946e-6c11-4197-b2c8-681792188924');\n",
              "        const dataTable =\n",
              "          await google.colab.kernel.invokeFunction('convertToInteractive',\n",
              "                                                    [key], {});\n",
              "        if (!dataTable) return;\n",
              "\n",
              "        const docLinkHtml = 'Like what you see? Visit the ' +\n",
              "          '<a target=\"_blank\" href=https://colab.research.google.com/notebooks/data_table.ipynb>data table notebook</a>'\n",
              "          + ' to learn more about interactive tables.';\n",
              "        element.innerHTML = '';\n",
              "        dataTable['output_type'] = 'display_data';\n",
              "        await google.colab.output.renderOutput(dataTable, element);\n",
              "        const docLink = document.createElement('div');\n",
              "        docLink.innerHTML = docLinkHtml;\n",
              "        element.appendChild(docLink);\n",
              "      }\n",
              "    </script>\n",
              "  </div>\n",
              "\n",
              "\n",
              "    <div id=\"df-fb89d337-bc96-496b-a6f0-db77536fff91\">\n",
              "      <button class=\"colab-df-quickchart\" onclick=\"quickchart('df-fb89d337-bc96-496b-a6f0-db77536fff91')\"\n",
              "                title=\"Suggest charts\"\n",
              "                style=\"display:none;\">\n",
              "\n",
              "<svg xmlns=\"http://www.w3.org/2000/svg\" height=\"24px\"viewBox=\"0 0 24 24\"\n",
              "     width=\"24px\">\n",
              "    <g>\n",
              "        <path d=\"M19 3H5c-1.1 0-2 .9-2 2v14c0 1.1.9 2 2 2h14c1.1 0 2-.9 2-2V5c0-1.1-.9-2-2-2zM9 17H7v-7h2v7zm4 0h-2V7h2v10zm4 0h-2v-4h2v4z\"/>\n",
              "    </g>\n",
              "</svg>\n",
              "      </button>\n",
              "\n",
              "<style>\n",
              "  .colab-df-quickchart {\n",
              "      --bg-color: #E8F0FE;\n",
              "      --fill-color: #1967D2;\n",
              "      --hover-bg-color: #E2EBFA;\n",
              "      --hover-fill-color: #174EA6;\n",
              "      --disabled-fill-color: #AAA;\n",
              "      --disabled-bg-color: #DDD;\n",
              "  }\n",
              "\n",
              "  [theme=dark] .colab-df-quickchart {\n",
              "      --bg-color: #3B4455;\n",
              "      --fill-color: #D2E3FC;\n",
              "      --hover-bg-color: #434B5C;\n",
              "      --hover-fill-color: #FFFFFF;\n",
              "      --disabled-bg-color: #3B4455;\n",
              "      --disabled-fill-color: #666;\n",
              "  }\n",
              "\n",
              "  .colab-df-quickchart {\n",
              "    background-color: var(--bg-color);\n",
              "    border: none;\n",
              "    border-radius: 50%;\n",
              "    cursor: pointer;\n",
              "    display: none;\n",
              "    fill: var(--fill-color);\n",
              "    height: 32px;\n",
              "    padding: 0;\n",
              "    width: 32px;\n",
              "  }\n",
              "\n",
              "  .colab-df-quickchart:hover {\n",
              "    background-color: var(--hover-bg-color);\n",
              "    box-shadow: 0 1px 2px rgba(60, 64, 67, 0.3), 0 1px 3px 1px rgba(60, 64, 67, 0.15);\n",
              "    fill: var(--button-hover-fill-color);\n",
              "  }\n",
              "\n",
              "  .colab-df-quickchart-complete:disabled,\n",
              "  .colab-df-quickchart-complete:disabled:hover {\n",
              "    background-color: var(--disabled-bg-color);\n",
              "    fill: var(--disabled-fill-color);\n",
              "    box-shadow: none;\n",
              "  }\n",
              "\n",
              "  .colab-df-spinner {\n",
              "    border: 2px solid var(--fill-color);\n",
              "    border-color: transparent;\n",
              "    border-bottom-color: var(--fill-color);\n",
              "    animation:\n",
              "      spin 1s steps(1) infinite;\n",
              "  }\n",
              "\n",
              "  @keyframes spin {\n",
              "    0% {\n",
              "      border-color: transparent;\n",
              "      border-bottom-color: var(--fill-color);\n",
              "      border-left-color: var(--fill-color);\n",
              "    }\n",
              "    20% {\n",
              "      border-color: transparent;\n",
              "      border-left-color: var(--fill-color);\n",
              "      border-top-color: var(--fill-color);\n",
              "    }\n",
              "    30% {\n",
              "      border-color: transparent;\n",
              "      border-left-color: var(--fill-color);\n",
              "      border-top-color: var(--fill-color);\n",
              "      border-right-color: var(--fill-color);\n",
              "    }\n",
              "    40% {\n",
              "      border-color: transparent;\n",
              "      border-right-color: var(--fill-color);\n",
              "      border-top-color: var(--fill-color);\n",
              "    }\n",
              "    60% {\n",
              "      border-color: transparent;\n",
              "      border-right-color: var(--fill-color);\n",
              "    }\n",
              "    80% {\n",
              "      border-color: transparent;\n",
              "      border-right-color: var(--fill-color);\n",
              "      border-bottom-color: var(--fill-color);\n",
              "    }\n",
              "    90% {\n",
              "      border-color: transparent;\n",
              "      border-bottom-color: var(--fill-color);\n",
              "    }\n",
              "  }\n",
              "</style>\n",
              "\n",
              "      <script>\n",
              "        async function quickchart(key) {\n",
              "          const quickchartButtonEl =\n",
              "            document.querySelector('#' + key + ' button');\n",
              "          quickchartButtonEl.disabled = true;  // To prevent multiple clicks.\n",
              "          quickchartButtonEl.classList.add('colab-df-spinner');\n",
              "          try {\n",
              "            const charts = await google.colab.kernel.invokeFunction(\n",
              "                'suggestCharts', [key], {});\n",
              "          } catch (error) {\n",
              "            console.error('Error during call to suggestCharts:', error);\n",
              "          }\n",
              "          quickchartButtonEl.classList.remove('colab-df-spinner');\n",
              "          quickchartButtonEl.classList.add('colab-df-quickchart-complete');\n",
              "        }\n",
              "        (() => {\n",
              "          let quickchartButtonEl =\n",
              "            document.querySelector('#df-fb89d337-bc96-496b-a6f0-db77536fff91 button');\n",
              "          quickchartButtonEl.style.display =\n",
              "            google.colab.kernel.accessAllowed ? 'block' : 'none';\n",
              "        })();\n",
              "      </script>\n",
              "    </div>\n",
              "\n",
              "    </div>\n",
              "  </div>\n"
            ],
            "text/plain": [
              "  qid    docid    docno                                               text  \\\n",
              "7   1  1495797  1495797  Reaction Definition: A reaction or chemical re...   \n",
              "2   1  1074096  1074096  Reaction Definition: A reaction or chemical re...   \n",
              "4   1  1074095  1074095  Share. Reaction Definition: A reaction or chem...   \n",
              "0   1  1725585  1725585  Share. Reaction Definition: A reaction or chem...   \n",
              "8   1  4308160  4308160  YOU MAY ALSO FIND THESE DOCUMENTS HELPFUL. 1  ...   \n",
              "5   1  3928757  3928757  It is the result of a chemical reaction betwee...   \n",
              "9   1  2097504  2097504  A chemical equation shows that chemical reacti...   \n",
              "3   1  7012661  7012661  Learn about the different types of chemical re...   \n",
              "1   1   397884   397884  the difference between chemical reaction and c...   \n",
              "6   1  8729082  8729082  Catalysts are always formed by chemical reacti...   \n",
              "\n",
              "                query     score  rank  \n",
              "7  chemical reactions -0.075546     0  \n",
              "2  chemical reactions -0.154145     1  \n",
              "4  chemical reactions -0.188698     2  \n",
              "0  chemical reactions -0.231416     3  \n",
              "8  chemical reactions -0.930477     4  \n",
              "5  chemical reactions -0.956958     5  \n",
              "9  chemical reactions -3.119993     6  \n",
              "3  chemical reactions -3.333145     7  \n",
              "1  chemical reactions -6.777563     8  \n",
              "6  chemical reactions -8.894334     9  "
            ]
          },
          "execution_count": 8,
          "metadata": {},
          "output_type": "execute_result"
        }
      ],
      "source": [
        "monot5_pipe.search(\"chemical reactions\")"
      ]
    },
    {
      "cell_type": "markdown",
      "metadata": {
        "id": "6JcrSZvy06UW"
      },
      "source": [
        "Finally, lets quantify how much better MonoT5 is at ranking the top 10 BM25 documents. We can do this by declaring an experiment, with pipelines to compare, topics, qrels (TREC 2019 Deep Learning track) and measures (NDCG@10)."
      ]
    },
    {
      "cell_type": "code",
      "execution_count": null,
      "metadata": {
        "colab": {
          "base_uri": "https://localhost:8080/",
          "height": 297,
          "referenced_widgets": [
            "54c32de1644c4e5487f6122b1dfa54b3",
            "5f66172176304c9b99f1a6dd57a4fa96",
            "eebebc1ac4ee4d9680289c109fbda65e",
            "a36efe10aeb141628c7794f940d7c60b",
            "e4202edb3f354e1bad3cff08ada26790",
            "36d6a92db7824e658bcfcd866cc4b88e",
            "f888f2e1316a4428b9b2a593464b66e8",
            "7d2556c659e64aa78e8bc9b800652736",
            "c4e57bc4aadd46df9bc990f80ff12be5",
            "971e0bd2bea444da85911a2fd0ab60a0",
            "85cb42f521374aa4be94b1b2c83cedff",
            "e0a31894525e41678c046ef08ffce9ba",
            "41f68f65b9b045dcad49fcef4c90ca37",
            "5afda232b8c44489bf0ead8cda6dc7ec",
            "3b7c4070bd5d4b12b75bafef20acd75b",
            "df749e27681a421cb3367669c0dc5ddc",
            "b6db457481834b75be5fa7bd4f7443df",
            "859b97cca4ba42118078f65f56c27660",
            "8b4e08c1784047ad9bce2b4c011c8a60",
            "af89dba52da5400c9cfc63766b979e0a",
            "0a968f8cb7ac4cddab2a94e3b0160e53",
            "3c75ad5c7b85453eb0a79d268c92648a",
            "5fde3eb6e517471b8d261d347015a4ba",
            "cc7c82946c7845ce8f84dc163e8d079f",
            "7df08cbcefa143c6b18531b855a1200f",
            "4cbe57eeea90429980c00fa4460aa395",
            "893136996a9a4ab0888b544bdcb41301",
            "2520f8e363494d48a02feae295c036c3",
            "af39d153dfe943a1b5c59e883e4fc308",
            "62738de945db4e6b9dc4e50f4526f125",
            "67a22ac669b54e2ba0d500477091f1c3",
            "cf72fc8e161a44a7a266a9fe58f435fa",
            "2e03bf5602314e9fbb82e473e9cb95e1"
          ]
        },
        "id": "_51fozj5y55P",
        "outputId": "7f02e78b-a533-4c91-f1c9-05cd5dd10750"
      },
      "outputs": [
        {
          "name": "stderr",
          "output_type": "stream",
          "text": [
            "[INFO] Please confirm you agree to the MSMARCO data usage agreement found at <http://www.msmarco.org/dataset.aspx>\n",
            "[INFO] [starting] https://trec.nist.gov/data/deep/2019qrels-pass.txt\n",
            "[INFO] [finished] https://trec.nist.gov/data/deep/2019qrels-pass.txt: [00:00] [187kB] [1.79MB/s]\n",
            "[INFO] [starting] https://msmarco.z22.web.core.windows.net/msmarcoranking/msmarco-test2019-queries.tsv.gz\n",
            "[INFO] [finished] https://msmarco.z22.web.core.windows.net/msmarcoranking/msmarco-test2019-queries.tsv.gz: [00:00] [4.28kB] [38.6MB/s]\n"
          ]
        },
        {
          "data": {
            "application/vnd.jupyter.widget-view+json": {
              "model_id": "54c32de1644c4e5487f6122b1dfa54b3",
              "version_major": 2,
              "version_minor": 0
            },
            "text/plain": [
              "TerrierRetr(BM25):   0%|          | 0/43 [00:00<?, ?q/s]"
            ]
          },
          "metadata": {},
          "output_type": "display_data"
        },
        {
          "data": {
            "application/vnd.jupyter.widget-view+json": {
              "model_id": "e0a31894525e41678c046ef08ffce9ba",
              "version_major": 2,
              "version_minor": 0
            },
            "text/plain": [
              "TerrierRetr(BM25):   0%|          | 0/43 [00:00<?, ?q/s]"
            ]
          },
          "metadata": {},
          "output_type": "display_data"
        },
        {
          "data": {
            "application/vnd.jupyter.widget-view+json": {
              "model_id": "5fde3eb6e517471b8d261d347015a4ba",
              "version_major": 2,
              "version_minor": 0
            },
            "text/plain": [
              "monoT5:   0%|          | 0/107 [00:00<?, ?batches/s]"
            ]
          },
          "metadata": {},
          "output_type": "display_data"
        },
        {
          "data": {
            "application/vnd.google.colaboratory.intrinsic+json": {
              "summary": "{\n  \"name\": \")\",\n  \"rows\": 2,\n  \"fields\": [\n    {\n      \"column\": \"name\",\n      \"properties\": {\n        \"dtype\": \"string\",\n        \"num_unique_values\": 2,\n        \"samples\": [\n          \"BM25 >> monoT5\",\n          \"BM25\"\n        ],\n        \"semantic_type\": \"\",\n        \"description\": \"\"\n      }\n    },\n    {\n      \"column\": \"nDCG@10\",\n      \"properties\": {\n        \"dtype\": \"number\",\n        \"std\": 0.04118339953234621,\n        \"min\": 0.4795398322478301,\n        \"max\": 0.5377819544111039,\n        \"num_unique_values\": 2,\n        \"samples\": [\n          0.5377819544111039,\n          0.4795398322478301\n        ],\n        \"semantic_type\": \"\",\n        \"description\": \"\"\n      }\n    }\n  ]\n}",
              "type": "dataframe"
            },
            "text/html": [
              "\n",
              "  <div id=\"df-44953a2c-cb80-4390-9bed-056a0f566136\" class=\"colab-df-container\">\n",
              "    <div>\n",
              "<style scoped>\n",
              "    .dataframe tbody tr th:only-of-type {\n",
              "        vertical-align: middle;\n",
              "    }\n",
              "\n",
              "    .dataframe tbody tr th {\n",
              "        vertical-align: top;\n",
              "    }\n",
              "\n",
              "    .dataframe thead th {\n",
              "        text-align: right;\n",
              "    }\n",
              "</style>\n",
              "<table border=\"1\" class=\"dataframe\">\n",
              "  <thead>\n",
              "    <tr style=\"text-align: right;\">\n",
              "      <th></th>\n",
              "      <th>name</th>\n",
              "      <th>nDCG@10</th>\n",
              "    </tr>\n",
              "  </thead>\n",
              "  <tbody>\n",
              "    <tr>\n",
              "      <th>0</th>\n",
              "      <td>BM25</td>\n",
              "      <td>0.479540</td>\n",
              "    </tr>\n",
              "    <tr>\n",
              "      <th>1</th>\n",
              "      <td>BM25 &gt;&gt; monoT5</td>\n",
              "      <td>0.537782</td>\n",
              "    </tr>\n",
              "  </tbody>\n",
              "</table>\n",
              "</div>\n",
              "    <div class=\"colab-df-buttons\">\n",
              "\n",
              "  <div class=\"colab-df-container\">\n",
              "    <button class=\"colab-df-convert\" onclick=\"convertToInteractive('df-44953a2c-cb80-4390-9bed-056a0f566136')\"\n",
              "            title=\"Convert this dataframe to an interactive table.\"\n",
              "            style=\"display:none;\">\n",
              "\n",
              "  <svg xmlns=\"http://www.w3.org/2000/svg\" height=\"24px\" viewBox=\"0 -960 960 960\">\n",
              "    <path d=\"M120-120v-720h720v720H120Zm60-500h600v-160H180v160Zm220 220h160v-160H400v160Zm0 220h160v-160H400v160ZM180-400h160v-160H180v160Zm440 0h160v-160H620v160ZM180-180h160v-160H180v160Zm440 0h160v-160H620v160Z\"/>\n",
              "  </svg>\n",
              "    </button>\n",
              "\n",
              "  <style>\n",
              "    .colab-df-container {\n",
              "      display:flex;\n",
              "      gap: 12px;\n",
              "    }\n",
              "\n",
              "    .colab-df-convert {\n",
              "      background-color: #E8F0FE;\n",
              "      border: none;\n",
              "      border-radius: 50%;\n",
              "      cursor: pointer;\n",
              "      display: none;\n",
              "      fill: #1967D2;\n",
              "      height: 32px;\n",
              "      padding: 0 0 0 0;\n",
              "      width: 32px;\n",
              "    }\n",
              "\n",
              "    .colab-df-convert:hover {\n",
              "      background-color: #E2EBFA;\n",
              "      box-shadow: 0px 1px 2px rgba(60, 64, 67, 0.3), 0px 1px 3px 1px rgba(60, 64, 67, 0.15);\n",
              "      fill: #174EA6;\n",
              "    }\n",
              "\n",
              "    .colab-df-buttons div {\n",
              "      margin-bottom: 4px;\n",
              "    }\n",
              "\n",
              "    [theme=dark] .colab-df-convert {\n",
              "      background-color: #3B4455;\n",
              "      fill: #D2E3FC;\n",
              "    }\n",
              "\n",
              "    [theme=dark] .colab-df-convert:hover {\n",
              "      background-color: #434B5C;\n",
              "      box-shadow: 0px 1px 3px 1px rgba(0, 0, 0, 0.15);\n",
              "      filter: drop-shadow(0px 1px 2px rgba(0, 0, 0, 0.3));\n",
              "      fill: #FFFFFF;\n",
              "    }\n",
              "  </style>\n",
              "\n",
              "    <script>\n",
              "      const buttonEl =\n",
              "        document.querySelector('#df-44953a2c-cb80-4390-9bed-056a0f566136 button.colab-df-convert');\n",
              "      buttonEl.style.display =\n",
              "        google.colab.kernel.accessAllowed ? 'block' : 'none';\n",
              "\n",
              "      async function convertToInteractive(key) {\n",
              "        const element = document.querySelector('#df-44953a2c-cb80-4390-9bed-056a0f566136');\n",
              "        const dataTable =\n",
              "          await google.colab.kernel.invokeFunction('convertToInteractive',\n",
              "                                                    [key], {});\n",
              "        if (!dataTable) return;\n",
              "\n",
              "        const docLinkHtml = 'Like what you see? Visit the ' +\n",
              "          '<a target=\"_blank\" href=https://colab.research.google.com/notebooks/data_table.ipynb>data table notebook</a>'\n",
              "          + ' to learn more about interactive tables.';\n",
              "        element.innerHTML = '';\n",
              "        dataTable['output_type'] = 'display_data';\n",
              "        await google.colab.output.renderOutput(dataTable, element);\n",
              "        const docLink = document.createElement('div');\n",
              "        docLink.innerHTML = docLinkHtml;\n",
              "        element.appendChild(docLink);\n",
              "      }\n",
              "    </script>\n",
              "  </div>\n",
              "\n",
              "\n",
              "    <div id=\"df-a840becc-b5e6-4db1-ba6d-e1176c1bd230\">\n",
              "      <button class=\"colab-df-quickchart\" onclick=\"quickchart('df-a840becc-b5e6-4db1-ba6d-e1176c1bd230')\"\n",
              "                title=\"Suggest charts\"\n",
              "                style=\"display:none;\">\n",
              "\n",
              "<svg xmlns=\"http://www.w3.org/2000/svg\" height=\"24px\"viewBox=\"0 0 24 24\"\n",
              "     width=\"24px\">\n",
              "    <g>\n",
              "        <path d=\"M19 3H5c-1.1 0-2 .9-2 2v14c0 1.1.9 2 2 2h14c1.1 0 2-.9 2-2V5c0-1.1-.9-2-2-2zM9 17H7v-7h2v7zm4 0h-2V7h2v10zm4 0h-2v-4h2v4z\"/>\n",
              "    </g>\n",
              "</svg>\n",
              "      </button>\n",
              "\n",
              "<style>\n",
              "  .colab-df-quickchart {\n",
              "      --bg-color: #E8F0FE;\n",
              "      --fill-color: #1967D2;\n",
              "      --hover-bg-color: #E2EBFA;\n",
              "      --hover-fill-color: #174EA6;\n",
              "      --disabled-fill-color: #AAA;\n",
              "      --disabled-bg-color: #DDD;\n",
              "  }\n",
              "\n",
              "  [theme=dark] .colab-df-quickchart {\n",
              "      --bg-color: #3B4455;\n",
              "      --fill-color: #D2E3FC;\n",
              "      --hover-bg-color: #434B5C;\n",
              "      --hover-fill-color: #FFFFFF;\n",
              "      --disabled-bg-color: #3B4455;\n",
              "      --disabled-fill-color: #666;\n",
              "  }\n",
              "\n",
              "  .colab-df-quickchart {\n",
              "    background-color: var(--bg-color);\n",
              "    border: none;\n",
              "    border-radius: 50%;\n",
              "    cursor: pointer;\n",
              "    display: none;\n",
              "    fill: var(--fill-color);\n",
              "    height: 32px;\n",
              "    padding: 0;\n",
              "    width: 32px;\n",
              "  }\n",
              "\n",
              "  .colab-df-quickchart:hover {\n",
              "    background-color: var(--hover-bg-color);\n",
              "    box-shadow: 0 1px 2px rgba(60, 64, 67, 0.3), 0 1px 3px 1px rgba(60, 64, 67, 0.15);\n",
              "    fill: var(--button-hover-fill-color);\n",
              "  }\n",
              "\n",
              "  .colab-df-quickchart-complete:disabled,\n",
              "  .colab-df-quickchart-complete:disabled:hover {\n",
              "    background-color: var(--disabled-bg-color);\n",
              "    fill: var(--disabled-fill-color);\n",
              "    box-shadow: none;\n",
              "  }\n",
              "\n",
              "  .colab-df-spinner {\n",
              "    border: 2px solid var(--fill-color);\n",
              "    border-color: transparent;\n",
              "    border-bottom-color: var(--fill-color);\n",
              "    animation:\n",
              "      spin 1s steps(1) infinite;\n",
              "  }\n",
              "\n",
              "  @keyframes spin {\n",
              "    0% {\n",
              "      border-color: transparent;\n",
              "      border-bottom-color: var(--fill-color);\n",
              "      border-left-color: var(--fill-color);\n",
              "    }\n",
              "    20% {\n",
              "      border-color: transparent;\n",
              "      border-left-color: var(--fill-color);\n",
              "      border-top-color: var(--fill-color);\n",
              "    }\n",
              "    30% {\n",
              "      border-color: transparent;\n",
              "      border-left-color: var(--fill-color);\n",
              "      border-top-color: var(--fill-color);\n",
              "      border-right-color: var(--fill-color);\n",
              "    }\n",
              "    40% {\n",
              "      border-color: transparent;\n",
              "      border-right-color: var(--fill-color);\n",
              "      border-top-color: var(--fill-color);\n",
              "    }\n",
              "    60% {\n",
              "      border-color: transparent;\n",
              "      border-right-color: var(--fill-color);\n",
              "    }\n",
              "    80% {\n",
              "      border-color: transparent;\n",
              "      border-right-color: var(--fill-color);\n",
              "      border-bottom-color: var(--fill-color);\n",
              "    }\n",
              "    90% {\n",
              "      border-color: transparent;\n",
              "      border-bottom-color: var(--fill-color);\n",
              "    }\n",
              "  }\n",
              "</style>\n",
              "\n",
              "      <script>\n",
              "        async function quickchart(key) {\n",
              "          const quickchartButtonEl =\n",
              "            document.querySelector('#' + key + ' button');\n",
              "          quickchartButtonEl.disabled = true;  // To prevent multiple clicks.\n",
              "          quickchartButtonEl.classList.add('colab-df-spinner');\n",
              "          try {\n",
              "            const charts = await google.colab.kernel.invokeFunction(\n",
              "                'suggestCharts', [key], {});\n",
              "          } catch (error) {\n",
              "            console.error('Error during call to suggestCharts:', error);\n",
              "          }\n",
              "          quickchartButtonEl.classList.remove('colab-df-spinner');\n",
              "          quickchartButtonEl.classList.add('colab-df-quickchart-complete');\n",
              "        }\n",
              "        (() => {\n",
              "          let quickchartButtonEl =\n",
              "            document.querySelector('#df-a840becc-b5e6-4db1-ba6d-e1176c1bd230 button');\n",
              "          quickchartButtonEl.style.display =\n",
              "            google.colab.kernel.accessAllowed ? 'block' : 'none';\n",
              "        })();\n",
              "      </script>\n",
              "    </div>\n",
              "\n",
              "    </div>\n",
              "  </div>\n"
            ],
            "text/plain": [
              "             name   nDCG@10\n",
              "0            BM25  0.479540\n",
              "1  BM25 >> monoT5  0.537782"
            ]
          },
          "execution_count": 11,
          "metadata": {},
          "output_type": "execute_result"
        }
      ],
      "source": [
        "from pyterrier.measures import *\n",
        "dataset = pt.get_dataset('irds:msmarco-passage/trec-dl-2019/judged')\n",
        "pt.Experiment(\n",
        "    [bm25, monot5_pipe],\n",
        "    dataset.get_topics(),\n",
        "    dataset.get_qrels(),\n",
        "    [NDCG@10],\n",
        "    names=[\"BM25\", \"BM25 >> monoT5\"]\n",
        ")"
      ]
    },
    {
      "cell_type": "markdown",
      "metadata": {
        "id": "vndQWSsw1KGr"
      },
      "source": [
        "PyTerrier is an ecosystem - Terrier is just one retriever, and MonoT5 is just one reranker in that ecosystem. There are many other extensions for dense retrieval, ColBERT, PISA, RAG to name but a few.\n"
      ]
    },
    {
      "cell_type": "code",
      "execution_count": null,
      "metadata": {
        "id": "e-EYw8_U2E2M"
      },
      "outputs": [],
      "source": []
    }
  ],
  "metadata": {
    "accelerator": "GPU",
    "colab": {
      "gpuType": "T4",
      "provenance": []
    },
    "kernelspec": {
      "display_name": "Python 3",
      "name": "python3"
    },
    "language_info": {
      "name": "python"
    }
  },
  "nbformat": 4,
  "nbformat_minor": 0
}
