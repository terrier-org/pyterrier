{
 "cells": [
  {
   "cell_type": "markdown",
   "id": "d87d4541-1ffb-4254-9f87-e1bfcc0989a9",
   "metadata": {},
   "source": [
    "# Demonstration Experiments with Precomputation and Caching\n",
    "\n",
    "This notebook contains example experiments demonstrating the efficiency benefit of using precomputation within pt.Experiment(), and the use of a ScorerCache around an expensive cross-encoder.\n",
    "\n",
    "This notebook was used to produce the timings reported in ``On Precomputation and Caching in Information Retrieval Experiments with Pipeline Architectures'', published in Second International Workshop on Open Web Search (WOWS 2025).\n",
    "\n",
    "```bibtex\n",
    "@{macdonald2025wows,\n",
    " author = {Craig Macdonald and Sean MacAvaney},\n",
    " title = {On Precomputation and Caching in Information Retrieval Experiments with Pipeline Architectures},\n",
    " booktitle = {Proceedings of the Second International Workshop on Open Web Search (WOWS 2025)},\n",
    " year = 2025,\n",
    "}\n",
    "```\n",
    "\n",
    "Experiments are conducted on the MSMARCO passage corpus, using the 43 queries of the TREC 2019 Deep Learning track,"
   ]
  },
  {
   "cell_type": "code",
   "execution_count": 2,
   "id": "16f3d573-25e3-4986-9cf2-2c89d0fe7125",
   "metadata": {},
   "outputs": [
    {
     "name": "stdout",
     "output_type": "stream",
     "text": [
      "\u001b[33mWARNING: Running pip as the 'root' user can result in broken permissions and conflicting behaviour with the system package manager, possibly rendering your system unusable.It is recommended to use a virtual environment instead: https://pip.pypa.io/warnings/venv. Use the --root-user-action option if you know what you are doing and want to suppress this warning.\u001b[0m\u001b[33m\n",
      "\u001b[0mNote: you may need to restart the kernel to use updated packages.\n"
     ]
    }
   ],
   "source": [
    "%pip install -q python-terrier pyterrier_caching pyterrier_t5"
   ]
  },
  {
   "cell_type": "code",
   "execution_count": 3,
   "id": "59b176c3-2b7d-4099-b229-b7927491a735",
   "metadata": {},
   "outputs": [],
   "source": [
    "import pyterrier as pt"
   ]
  },
  {
   "cell_type": "markdown",
   "id": "e7293c38-0d98-4dec-a3d3-025427bd839e",
   "metadata": {},
   "source": [
    "Load our BM25 retrieval index"
   ]
  },
  {
   "cell_type": "code",
   "execution_count": 4,
   "id": "92422c56-4ca5-400e-941c-acec73bfaede",
   "metadata": {},
   "outputs": [
    {
     "name": "stderr",
     "output_type": "stream",
     "text": [
      "Java started (triggered by IndexFactory.of) and loaded: pyterrier.java, pyterrier.terrier.java [version=5.11 (build: craig.macdonald 2025-01-13 21:29), helper_version=0.0.8]\n"
     ]
    },
    {
     "name": "stdout",
     "output_type": "stream",
     "text": [
      "10:36:26.090 [main] WARN org.terrier.structures.BaseCompressingMetaIndex -- Structure meta reading data file directly from disk (SLOW) - try index.meta.data-source=fileinmem in the index properties file. 1.9 GiB of memory would be required.\n"
     ]
    }
   ],
   "source": [
    "index = pt.IndexFactory.of(pt.get_dataset('msmarco_passage').get_index('terrier_stemmed_text'), memory=False)\n",
    "bm25 = pt.terrier.Retriever(index, metadata=['docno', 'text'], wmodel='BM25', verbose=True)"
   ]
  },
  {
   "cell_type": "code",
   "execution_count": 5,
   "id": "b10c80cf-0d07-4a4f-b9aa-3bc42526687c",
   "metadata": {},
   "outputs": [
    {
     "name": "stderr",
     "output_type": "stream",
     "text": [
      "TerrierRetr(BM25): 100%|██████████| 1/1 [00:00<00:00,  4.03q/s]\n"
     ]
    },
    {
     "data": {
      "text/html": [
       "<div>\n",
       "<style scoped>\n",
       "    .dataframe tbody tr th:only-of-type {\n",
       "        vertical-align: middle;\n",
       "    }\n",
       "\n",
       "    .dataframe tbody tr th {\n",
       "        vertical-align: top;\n",
       "    }\n",
       "\n",
       "    .dataframe thead th {\n",
       "        text-align: right;\n",
       "    }\n",
       "</style>\n",
       "<table border=\"1\" class=\"dataframe\">\n",
       "  <thead>\n",
       "    <tr style=\"text-align: right;\">\n",
       "      <th></th>\n",
       "      <th>qid</th>\n",
       "      <th>docid</th>\n",
       "      <th>docno</th>\n",
       "      <th>text</th>\n",
       "      <th>rank</th>\n",
       "      <th>score</th>\n",
       "      <th>query</th>\n",
       "    </tr>\n",
       "  </thead>\n",
       "  <tbody>\n",
       "    <tr>\n",
       "      <th>0</th>\n",
       "      <td>1</td>\n",
       "      <td>1725585</td>\n",
       "      <td>1725585</td>\n",
       "      <td>Share. Reaction Definition: A reaction or chem...</td>\n",
       "      <td>0</td>\n",
       "      <td>26.160870</td>\n",
       "      <td>chemical reactions</td>\n",
       "    </tr>\n",
       "    <tr>\n",
       "      <th>1</th>\n",
       "      <td>1</td>\n",
       "      <td>397884</td>\n",
       "      <td>397884</td>\n",
       "      <td>the difference between chemical reaction and c...</td>\n",
       "      <td>1</td>\n",
       "      <td>26.030967</td>\n",
       "      <td>chemical reactions</td>\n",
       "    </tr>\n",
       "    <tr>\n",
       "      <th>2</th>\n",
       "      <td>1</td>\n",
       "      <td>1074096</td>\n",
       "      <td>1074096</td>\n",
       "      <td>Reaction Definition: A reaction or chemical re...</td>\n",
       "      <td>2</td>\n",
       "      <td>25.820800</td>\n",
       "      <td>chemical reactions</td>\n",
       "    </tr>\n",
       "    <tr>\n",
       "      <th>3</th>\n",
       "      <td>1</td>\n",
       "      <td>7012661</td>\n",
       "      <td>7012661</td>\n",
       "      <td>Learn about the different types of chemical re...</td>\n",
       "      <td>3</td>\n",
       "      <td>25.808845</td>\n",
       "      <td>chemical reactions</td>\n",
       "    </tr>\n",
       "    <tr>\n",
       "      <th>4</th>\n",
       "      <td>1</td>\n",
       "      <td>1074095</td>\n",
       "      <td>1074095</td>\n",
       "      <td>Share. Reaction Definition: A reaction or chem...</td>\n",
       "      <td>4</td>\n",
       "      <td>25.740887</td>\n",
       "      <td>chemical reactions</td>\n",
       "    </tr>\n",
       "    <tr>\n",
       "      <th>...</th>\n",
       "      <td>...</td>\n",
       "      <td>...</td>\n",
       "      <td>...</td>\n",
       "      <td>...</td>\n",
       "      <td>...</td>\n",
       "      <td>...</td>\n",
       "      <td>...</td>\n",
       "    </tr>\n",
       "    <tr>\n",
       "      <th>995</th>\n",
       "      <td>1</td>\n",
       "      <td>6069643</td>\n",
       "      <td>6069643</td>\n",
       "      <td>Metabolic pathways in human organism form vast...</td>\n",
       "      <td>995</td>\n",
       "      <td>21.435788</td>\n",
       "      <td>chemical reactions</td>\n",
       "    </tr>\n",
       "    <tr>\n",
       "      <th>996</th>\n",
       "      <td>1</td>\n",
       "      <td>7208929</td>\n",
       "      <td>7208929</td>\n",
       "      <td>There are a few telltale signs that can help i...</td>\n",
       "      <td>996</td>\n",
       "      <td>21.435788</td>\n",
       "      <td>chemical reactions</td>\n",
       "    </tr>\n",
       "    <tr>\n",
       "      <th>997</th>\n",
       "      <td>1</td>\n",
       "      <td>8777339</td>\n",
       "      <td>8777339</td>\n",
       "      <td>Reactions in which energy is released are exot...</td>\n",
       "      <td>997</td>\n",
       "      <td>21.435788</td>\n",
       "      <td>chemical reactions</td>\n",
       "    </tr>\n",
       "    <tr>\n",
       "      <th>998</th>\n",
       "      <td>1</td>\n",
       "      <td>397890</td>\n",
       "      <td>397890</td>\n",
       "      <td>In a chemical reaction, chemical equilibrium i...</td>\n",
       "      <td>998</td>\n",
       "      <td>21.435341</td>\n",
       "      <td>chemical reactions</td>\n",
       "    </tr>\n",
       "    <tr>\n",
       "      <th>999</th>\n",
       "      <td>1</td>\n",
       "      <td>570589</td>\n",
       "      <td>570589</td>\n",
       "      <td>The materials to the right of the arrow are th...</td>\n",
       "      <td>999</td>\n",
       "      <td>21.435341</td>\n",
       "      <td>chemical reactions</td>\n",
       "    </tr>\n",
       "  </tbody>\n",
       "</table>\n",
       "<p>1000 rows × 7 columns</p>\n",
       "</div>"
      ],
      "text/plain": [
       "    qid    docid    docno                                               text  \\\n",
       "0     1  1725585  1725585  Share. Reaction Definition: A reaction or chem...   \n",
       "1     1   397884   397884  the difference between chemical reaction and c...   \n",
       "2     1  1074096  1074096  Reaction Definition: A reaction or chemical re...   \n",
       "3     1  7012661  7012661  Learn about the different types of chemical re...   \n",
       "4     1  1074095  1074095  Share. Reaction Definition: A reaction or chem...   \n",
       "..   ..      ...      ...                                                ...   \n",
       "995   1  6069643  6069643  Metabolic pathways in human organism form vast...   \n",
       "996   1  7208929  7208929  There are a few telltale signs that can help i...   \n",
       "997   1  8777339  8777339  Reactions in which energy is released are exot...   \n",
       "998   1   397890   397890  In a chemical reaction, chemical equilibrium i...   \n",
       "999   1   570589   570589  The materials to the right of the arrow are th...   \n",
       "\n",
       "     rank      score               query  \n",
       "0       0  26.160870  chemical reactions  \n",
       "1       1  26.030967  chemical reactions  \n",
       "2       2  25.820800  chemical reactions  \n",
       "3       3  25.808845  chemical reactions  \n",
       "4       4  25.740887  chemical reactions  \n",
       "..    ...        ...                 ...  \n",
       "995   995  21.435788  chemical reactions  \n",
       "996   996  21.435788  chemical reactions  \n",
       "997   997  21.435788  chemical reactions  \n",
       "998   998  21.435341  chemical reactions  \n",
       "999   999  21.435341  chemical reactions  \n",
       "\n",
       "[1000 rows x 7 columns]"
      ]
     },
     "execution_count": 5,
     "metadata": {},
     "output_type": "execute_result"
    }
   ],
   "source": [
    "bm25.search(\"chemical reactions\")"
   ]
  },
  {
   "cell_type": "code",
   "execution_count": 6,
   "id": "97d2bea5-e207-4ef7-9348-fcc77544f190",
   "metadata": {},
   "outputs": [
    {
     "name": "stderr",
     "output_type": "stream",
     "text": [
      "You are using the default legacy behaviour of the <class 'transformers.models.t5.tokenization_t5.T5Tokenizer'>. This is expected, and simply means that the `legacy` (previous) behavior will be used so nothing changes for you. If you want to use the new behaviour, set `legacy=False`. This should only be set if you understand what it means, and thoroughly read the reason why this was added as explained in https://github.com/huggingface/transformers/pull/24565\n",
      "/opt/miniconda3/envs/rag/lib/python3.11/site-packages/transformers/tokenization_utils_base.py:1601: FutureWarning: `clean_up_tokenization_spaces` was not set. It will be set to `True` by default. This behavior will be depracted in transformers v4.45, and will be then set to `False` by default. For more details check this issue: https://github.com/huggingface/transformers/issues/31884\n",
      "  warnings.warn(\n"
     ]
    }
   ],
   "source": [
    "from pyterrier_t5 import MonoT5ReRanker, DuoT5ReRanker\n",
    "monoT5 = MonoT5ReRanker() # loads castorini/monot5-base-msmarco by default\n",
    "duoT5 = DuoT5ReRanker() # loads castorini/duot5-base-msmarco by default"
   ]
  },
  {
   "cell_type": "code",
   "execution_count": 7,
   "id": "fde6a8ba-1514-4f0c-a1e4-fae31173d7a9",
   "metadata": {},
   "outputs": [],
   "source": [
    "dataset = pt.get_dataset(\"irds:msmarco-passage/trec-dl-2019/judged\")"
   ]
  },
  {
   "cell_type": "code",
   "execution_count": null,
   "id": "0908f7f0-5777-4fe2-b4b0-59f5f6840415",
   "metadata": {},
   "outputs": [],
   "source": [
    "!rm -rf monoT5.cache"
   ]
  },
  {
   "cell_type": "code",
   "execution_count": 8,
   "id": "f71ea767-978c-4362-b7b9-207814ab7c1c",
   "metadata": {},
   "outputs": [],
   "source": [
    "from pyterrier.measures import *\n",
    "def one(): # no precomputation, no caching\n",
    "    return pt.Experiment(\n",
    "        [bm25 % k >> monoT5 % 10 >> duoT5 for k in [20, 50, 100, 200]],\n",
    "        dataset.get_topics(),\n",
    "        dataset.get_qrels(),\n",
    "        [nDCG@10],\n",
    "        precompute_prefix=False # <---- disable precomputation \n",
    "    )\n",
    "\n",
    "def two(): # precomputation, no caching\n",
    "    return pt.Experiment(\n",
    "        [bm25 % k >> monoT5 % 10 >> duoT5 for k in [20, 50, 100, 200]],\n",
    "        dataset.get_topics(),\n",
    "        dataset.get_qrels(),\n",
    "        [nDCG@10],\n",
    "        precompute_prefix=True # <---- enable precomputation \n",
    "    )\n",
    "\n",
    "def three_and_four(): # precomputation, caching\n",
    "    from pyterrier_caching import ScorerCache\n",
    "    cached_scorer = ScorerCache('monoT5.cache', monoT5)\n",
    "    return pt.Experiment(\n",
    "        [bm25 % k >> cached_scorer % 10 >> duoT5 for k in [20, 50, 100, 200]],\n",
    "        dataset.get_topics(),\n",
    "        dataset.get_qrels(),\n",
    "        [nDCG@10],\n",
    "        precompute_prefix=True # <---- enable precomputation \n",
    "    )"
   ]
  },
  {
   "cell_type": "code",
   "execution_count": 9,
   "id": "039fb3e4-9edc-4345-810f-e057aadbd13f",
   "metadata": {},
   "outputs": [
    {
     "name": "stderr",
     "output_type": "stream",
     "text": [
      "TerrierRetr(BM25): 100%|██████████| 43/43 [00:04<00:00,  8.67q/s]\n",
      "monoT5: 100%|██████████| 212/212 [00:05<00:00, 38.37batches/s]\n",
      "duoT5: 100%|██████████| 43/43 [00:22<00:00,  1.93queries/s]\n",
      "TerrierRetr(BM25): 100%|██████████| 43/43 [00:03<00:00, 11.12q/s]\n",
      "monoT5: 100%|██████████| 527/527 [00:11<00:00, 46.66batches/s]\n",
      "duoT5: 100%|██████████| 43/43 [00:22<00:00,  1.95queries/s]\n",
      "TerrierRetr(BM25): 100%|██████████| 43/43 [00:03<00:00, 11.70q/s]\n",
      "monoT5: 100%|██████████| 1052/1052 [00:22<00:00, 46.67batches/s]\n",
      "duoT5: 100%|██████████| 43/43 [00:22<00:00,  1.95queries/s]\n",
      "TerrierRetr(BM25): 100%|██████████| 43/43 [00:03<00:00, 11.33q/s]\n",
      "monoT5: 100%|██████████| 2102/2102 [00:44<00:00, 46.77batches/s]\n",
      "duoT5: 100%|██████████| 43/43 [00:22<00:00,  1.93queries/s]"
     ]
    },
    {
     "name": "stdout",
     "output_type": "stream",
     "text": [
      "CPU times: user 3min 8s, sys: 4.48 s, total: 3min 13s\n",
      "Wall time: 3min 11s\n"
     ]
    },
    {
     "name": "stderr",
     "output_type": "stream",
     "text": [
      "\n"
     ]
    },
    {
     "data": {
      "text/html": [
       "<div>\n",
       "<style scoped>\n",
       "    .dataframe tbody tr th:only-of-type {\n",
       "        vertical-align: middle;\n",
       "    }\n",
       "\n",
       "    .dataframe tbody tr th {\n",
       "        vertical-align: top;\n",
       "    }\n",
       "\n",
       "    .dataframe thead th {\n",
       "        text-align: right;\n",
       "    }\n",
       "</style>\n",
       "<table border=\"1\" class=\"dataframe\">\n",
       "  <thead>\n",
       "    <tr style=\"text-align: right;\">\n",
       "      <th></th>\n",
       "      <th>name</th>\n",
       "      <th>nDCG@10</th>\n",
       "    </tr>\n",
       "  </thead>\n",
       "  <tbody>\n",
       "    <tr>\n",
       "      <th>0</th>\n",
       "      <td>(TerrierRetr(BM25) &gt;&gt; RankCutoff(20) &gt;&gt; MonoT5...</td>\n",
       "      <td>0.628905</td>\n",
       "    </tr>\n",
       "    <tr>\n",
       "      <th>1</th>\n",
       "      <td>(TerrierRetr(BM25) &gt;&gt; RankCutoff(50) &gt;&gt; MonoT5...</td>\n",
       "      <td>0.677657</td>\n",
       "    </tr>\n",
       "    <tr>\n",
       "      <th>2</th>\n",
       "      <td>(TerrierRetr(BM25) &gt;&gt; RankCutoff(100) &gt;&gt; MonoT...</td>\n",
       "      <td>0.701306</td>\n",
       "    </tr>\n",
       "    <tr>\n",
       "      <th>3</th>\n",
       "      <td>(TerrierRetr(BM25) &gt;&gt; RankCutoff(200) &gt;&gt; MonoT...</td>\n",
       "      <td>0.710670</td>\n",
       "    </tr>\n",
       "  </tbody>\n",
       "</table>\n",
       "</div>"
      ],
      "text/plain": [
       "                                                name   nDCG@10\n",
       "0  (TerrierRetr(BM25) >> RankCutoff(20) >> MonoT5...  0.628905\n",
       "1  (TerrierRetr(BM25) >> RankCutoff(50) >> MonoT5...  0.677657\n",
       "2  (TerrierRetr(BM25) >> RankCutoff(100) >> MonoT...  0.701306\n",
       "3  (TerrierRetr(BM25) >> RankCutoff(200) >> MonoT...  0.710670"
      ]
     },
     "execution_count": 9,
     "metadata": {},
     "output_type": "execute_result"
    }
   ],
   "source": [
    "%time one()"
   ]
  },
  {
   "cell_type": "code",
   "execution_count": 10,
   "id": "1e301113-753d-4e39-8caa-6f1248ad94a9",
   "metadata": {},
   "outputs": [
    {
     "name": "stderr",
     "output_type": "stream",
     "text": [
      "Precomputing results of 43 topics on shared pipeline component TerrierRetr(BM25)\n",
      "TerrierRetr(BM25): 100%|██████████| 43/43 [00:03<00:00, 12.33q/s]\n",
      "monoT5: 100%|██████████| 212/212 [00:04<00:00, 47.16batches/s]\n",
      "duoT5: 100%|██████████| 43/43 [00:22<00:00,  1.95queries/s]\n",
      "monoT5: 100%|██████████| 527/527 [00:11<00:00, 47.05batches/s]\n",
      "duoT5: 100%|██████████| 43/43 [00:22<00:00,  1.95queries/s]\n",
      "monoT5: 100%|██████████| 1052/1052 [00:22<00:00, 46.40batches/s]\n",
      "duoT5: 100%|██████████| 43/43 [00:22<00:00,  1.93queries/s]\n",
      "monoT5: 100%|██████████| 2102/2102 [00:45<00:00, 46.52batches/s]\n",
      "duoT5: 100%|██████████| 43/43 [00:22<00:00,  1.94queries/s]"
     ]
    },
    {
     "name": "stdout",
     "output_type": "stream",
     "text": [
      "CPU times: user 2min 54s, sys: 1.96 s, total: 2min 56s\n",
      "Wall time: 2min 55s\n"
     ]
    },
    {
     "name": "stderr",
     "output_type": "stream",
     "text": [
      "\n"
     ]
    },
    {
     "data": {
      "text/html": [
       "<div>\n",
       "<style scoped>\n",
       "    .dataframe tbody tr th:only-of-type {\n",
       "        vertical-align: middle;\n",
       "    }\n",
       "\n",
       "    .dataframe tbody tr th {\n",
       "        vertical-align: top;\n",
       "    }\n",
       "\n",
       "    .dataframe thead th {\n",
       "        text-align: right;\n",
       "    }\n",
       "</style>\n",
       "<table border=\"1\" class=\"dataframe\">\n",
       "  <thead>\n",
       "    <tr style=\"text-align: right;\">\n",
       "      <th></th>\n",
       "      <th>name</th>\n",
       "      <th>nDCG@10</th>\n",
       "    </tr>\n",
       "  </thead>\n",
       "  <tbody>\n",
       "    <tr>\n",
       "      <th>0</th>\n",
       "      <td>(TerrierRetr(BM25) &gt;&gt; RankCutoff(20) &gt;&gt; MonoT5...</td>\n",
       "      <td>0.628905</td>\n",
       "    </tr>\n",
       "    <tr>\n",
       "      <th>1</th>\n",
       "      <td>(TerrierRetr(BM25) &gt;&gt; RankCutoff(50) &gt;&gt; MonoT5...</td>\n",
       "      <td>0.677657</td>\n",
       "    </tr>\n",
       "    <tr>\n",
       "      <th>2</th>\n",
       "      <td>(TerrierRetr(BM25) &gt;&gt; RankCutoff(100) &gt;&gt; MonoT...</td>\n",
       "      <td>0.701306</td>\n",
       "    </tr>\n",
       "    <tr>\n",
       "      <th>3</th>\n",
       "      <td>(TerrierRetr(BM25) &gt;&gt; RankCutoff(200) &gt;&gt; MonoT...</td>\n",
       "      <td>0.710670</td>\n",
       "    </tr>\n",
       "  </tbody>\n",
       "</table>\n",
       "</div>"
      ],
      "text/plain": [
       "                                                name   nDCG@10\n",
       "0  (TerrierRetr(BM25) >> RankCutoff(20) >> MonoT5...  0.628905\n",
       "1  (TerrierRetr(BM25) >> RankCutoff(50) >> MonoT5...  0.677657\n",
       "2  (TerrierRetr(BM25) >> RankCutoff(100) >> MonoT...  0.701306\n",
       "3  (TerrierRetr(BM25) >> RankCutoff(200) >> MonoT...  0.710670"
      ]
     },
     "execution_count": 10,
     "metadata": {},
     "output_type": "execute_result"
    }
   ],
   "source": [
    "%time two()"
   ]
  },
  {
   "cell_type": "code",
   "execution_count": 11,
   "id": "4f5f7285-51aa-43f2-a0da-5e234ea43d3a",
   "metadata": {},
   "outputs": [
    {
     "name": "stderr",
     "output_type": "stream",
     "text": [
      "Precomputing results of 43 topics on shared pipeline component TerrierRetr(BM25)\n",
      "TerrierRetr(BM25): 100%|██████████| 43/43 [00:03<00:00, 11.69q/s]\n",
      "monoT5: 100%|██████████| 212/212 [00:04<00:00, 47.23batches/s]\n",
      "duoT5: 100%|██████████| 43/43 [00:22<00:00,  1.92queries/s]\n",
      "monoT5: 100%|██████████| 315/315 [00:06<00:00, 46.65batches/s]\n",
      "duoT5: 100%|██████████| 43/43 [00:22<00:00,  1.93queries/s]\n",
      "monoT5: 100%|██████████| 525/525 [00:11<00:00, 46.97batches/s]\n",
      "duoT5: 100%|██████████| 43/43 [00:22<00:00,  1.94queries/s]\n",
      "monoT5: 100%|██████████| 1050/1050 [00:22<00:00, 46.53batches/s]\n",
      "duoT5: 100%|██████████| 43/43 [00:22<00:00,  1.92queries/s]"
     ]
    },
    {
     "name": "stdout",
     "output_type": "stream",
     "text": [
      "CPU times: user 2min 16s, sys: 1.99 s, total: 2min 18s\n",
      "Wall time: 2min 19s\n"
     ]
    },
    {
     "name": "stderr",
     "output_type": "stream",
     "text": [
      "\n"
     ]
    },
    {
     "data": {
      "text/html": [
       "<div>\n",
       "<style scoped>\n",
       "    .dataframe tbody tr th:only-of-type {\n",
       "        vertical-align: middle;\n",
       "    }\n",
       "\n",
       "    .dataframe tbody tr th {\n",
       "        vertical-align: top;\n",
       "    }\n",
       "\n",
       "    .dataframe thead th {\n",
       "        text-align: right;\n",
       "    }\n",
       "</style>\n",
       "<table border=\"1\" class=\"dataframe\">\n",
       "  <thead>\n",
       "    <tr style=\"text-align: right;\">\n",
       "      <th></th>\n",
       "      <th>name</th>\n",
       "      <th>nDCG@10</th>\n",
       "    </tr>\n",
       "  </thead>\n",
       "  <tbody>\n",
       "    <tr>\n",
       "      <th>0</th>\n",
       "      <td>(TerrierRetr(BM25) &gt;&gt; RankCutoff(20) &gt;&gt; Sqlite...</td>\n",
       "      <td>0.630382</td>\n",
       "    </tr>\n",
       "    <tr>\n",
       "      <th>1</th>\n",
       "      <td>(TerrierRetr(BM25) &gt;&gt; RankCutoff(50) &gt;&gt; Sqlite...</td>\n",
       "      <td>0.677996</td>\n",
       "    </tr>\n",
       "    <tr>\n",
       "      <th>2</th>\n",
       "      <td>(TerrierRetr(BM25) &gt;&gt; RankCutoff(100) &gt;&gt; Sqlit...</td>\n",
       "      <td>0.701042</td>\n",
       "    </tr>\n",
       "    <tr>\n",
       "      <th>3</th>\n",
       "      <td>(TerrierRetr(BM25) &gt;&gt; RankCutoff(200) &gt;&gt; Sqlit...</td>\n",
       "      <td>0.710616</td>\n",
       "    </tr>\n",
       "  </tbody>\n",
       "</table>\n",
       "</div>"
      ],
      "text/plain": [
       "                                                name   nDCG@10\n",
       "0  (TerrierRetr(BM25) >> RankCutoff(20) >> Sqlite...  0.630382\n",
       "1  (TerrierRetr(BM25) >> RankCutoff(50) >> Sqlite...  0.677996\n",
       "2  (TerrierRetr(BM25) >> RankCutoff(100) >> Sqlit...  0.701042\n",
       "3  (TerrierRetr(BM25) >> RankCutoff(200) >> Sqlit...  0.710616"
      ]
     },
     "execution_count": 11,
     "metadata": {},
     "output_type": "execute_result"
    }
   ],
   "source": [
    "%time three_and_four()"
   ]
  },
  {
   "cell_type": "code",
   "execution_count": 12,
   "id": "f8901df6-c4fc-43a7-a139-cc95447f29d6",
   "metadata": {},
   "outputs": [
    {
     "name": "stderr",
     "output_type": "stream",
     "text": [
      "Precomputing results of 43 topics on shared pipeline component TerrierRetr(BM25)\n",
      "TerrierRetr(BM25): 100%|██████████| 43/43 [00:03<00:00, 11.59q/s]\n",
      "duoT5: 100%|██████████| 43/43 [00:22<00:00,  1.90queries/s]\n",
      "duoT5: 100%|██████████| 43/43 [00:22<00:00,  1.88queries/s]\n",
      "duoT5: 100%|██████████| 43/43 [00:22<00:00,  1.90queries/s]\n",
      "duoT5: 100%|██████████| 43/43 [00:23<00:00,  1.81queries/s]"
     ]
    },
    {
     "name": "stdout",
     "output_type": "stream",
     "text": [
      "CPU times: user 1min 34s, sys: 2.09 s, total: 1min 36s\n",
      "Wall time: 1min 36s\n"
     ]
    },
    {
     "name": "stderr",
     "output_type": "stream",
     "text": [
      "\n"
     ]
    },
    {
     "data": {
      "text/html": [
       "<div>\n",
       "<style scoped>\n",
       "    .dataframe tbody tr th:only-of-type {\n",
       "        vertical-align: middle;\n",
       "    }\n",
       "\n",
       "    .dataframe tbody tr th {\n",
       "        vertical-align: top;\n",
       "    }\n",
       "\n",
       "    .dataframe thead th {\n",
       "        text-align: right;\n",
       "    }\n",
       "</style>\n",
       "<table border=\"1\" class=\"dataframe\">\n",
       "  <thead>\n",
       "    <tr style=\"text-align: right;\">\n",
       "      <th></th>\n",
       "      <th>name</th>\n",
       "      <th>nDCG@10</th>\n",
       "    </tr>\n",
       "  </thead>\n",
       "  <tbody>\n",
       "    <tr>\n",
       "      <th>0</th>\n",
       "      <td>(TerrierRetr(BM25) &gt;&gt; RankCutoff(20) &gt;&gt; Sqlite...</td>\n",
       "      <td>0.630382</td>\n",
       "    </tr>\n",
       "    <tr>\n",
       "      <th>1</th>\n",
       "      <td>(TerrierRetr(BM25) &gt;&gt; RankCutoff(50) &gt;&gt; Sqlite...</td>\n",
       "      <td>0.677996</td>\n",
       "    </tr>\n",
       "    <tr>\n",
       "      <th>2</th>\n",
       "      <td>(TerrierRetr(BM25) &gt;&gt; RankCutoff(100) &gt;&gt; Sqlit...</td>\n",
       "      <td>0.701042</td>\n",
       "    </tr>\n",
       "    <tr>\n",
       "      <th>3</th>\n",
       "      <td>(TerrierRetr(BM25) &gt;&gt; RankCutoff(200) &gt;&gt; Sqlit...</td>\n",
       "      <td>0.710616</td>\n",
       "    </tr>\n",
       "  </tbody>\n",
       "</table>\n",
       "</div>"
      ],
      "text/plain": [
       "                                                name   nDCG@10\n",
       "0  (TerrierRetr(BM25) >> RankCutoff(20) >> Sqlite...  0.630382\n",
       "1  (TerrierRetr(BM25) >> RankCutoff(50) >> Sqlite...  0.677996\n",
       "2  (TerrierRetr(BM25) >> RankCutoff(100) >> Sqlit...  0.701042\n",
       "3  (TerrierRetr(BM25) >> RankCutoff(200) >> Sqlit...  0.710616"
      ]
     },
     "execution_count": 12,
     "metadata": {},
     "output_type": "execute_result"
    }
   ],
   "source": [
    "%time three_and_four()"
   ]
  },
  {
   "cell_type": "markdown",
   "id": "53ef78c1-ea41-467c-a426-e45a838762e0",
   "metadata": {},
   "source": [
    "NB: For `three_and_four()`, there are very minor changes in effectiveness, at the 5th decimal place, compared to `one()` and `two()`. This is due to changes in GPU batching when scoring MonoT5. The scores should usually be the same when the order of the data onto the GPU is the same, but differences can be observed (e.g.) a different batch due to some of the values being cached from a prior round."
   ]
  },
  {
   "cell_type": "code",
   "execution_count": null,
   "id": "ca117df1-272e-4ea2-b877-e198b5f3510b",
   "metadata": {},
   "outputs": [],
   "source": []
  }
 ],
 "metadata": {
  "kernelspec": {
   "display_name": "Python [conda env:rag]",
   "language": "python",
   "name": "conda-env-rag-py"
  },
  "language_info": {
   "codemirror_mode": {
    "name": "ipython",
    "version": 3
   },
   "file_extension": ".py",
   "mimetype": "text/x-python",
   "name": "python",
   "nbconvert_exporter": "python",
   "pygments_lexer": "ipython3",
   "version": "3.11.11"
  }
 },
 "nbformat": 4,
 "nbformat_minor": 5
}
