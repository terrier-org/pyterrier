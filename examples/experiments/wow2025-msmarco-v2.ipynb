{
 "cells": [
  {
   "cell_type": "markdown",
   "id": "d87d4541-1ffb-4254-9f87-e1bfcc0989a9",
   "metadata": {},
   "source": [
    "# Demonstration Experiments with Precomputation and Caching - MSMARCO v2\n",
    "\n",
    "This notebook contains example experiments demonstrating the efficiency benefit of using precomputation within pt.Experiment(), and the use of a ScorerCache around an expensive cross-encoder.\n",
    "\n",
    "This notebook was used to produce the timings reported in ``On Precomputation and Caching in Information Retrieval Experiments with Pipeline Architectures'', published in Second International Workshop on Open Web Search (WOWS 2025).\n",
    "\n",
    "```bibtex\n",
    "@{macdonald2025wows,\n",
    " author = {Craig Macdonald and Sean MacAvaney},\n",
    " title = {On Precomputation and Caching in Information Retrieval Experiments with Pipeline Architectures},\n",
    " booktitle = {Proceedings of the Second International Workshop on Open Web Search (WOWS 2025)},\n",
    " year = 2025,\n",
    "}\n",
    "```\n",
    "\n",
    "Experiments are conducted on the MSMARCO v2 passage corpus, using the 53 queries of the TREC 2021 Deep Learning track,"
   ]
  },
  {
   "cell_type": "code",
   "execution_count": 1,
   "id": "16f3d573-25e3-4986-9cf2-2c89d0fe7125",
   "metadata": {},
   "outputs": [
    {
     "name": "stdout",
     "output_type": "stream",
     "text": [
      "\u001b[33mWARNING: Running pip as the 'root' user can result in broken permissions and conflicting behaviour with the system package manager, possibly rendering your system unusable.It is recommended to use a virtual environment instead: https://pip.pypa.io/warnings/venv. Use the --root-user-action option if you know what you are doing and want to suppress this warning.\u001b[0m\u001b[33m\n",
      "\u001b[0mNote: you may need to restart the kernel to use updated packages.\n"
     ]
    }
   ],
   "source": [
    "%pip install -q python-terrier pyterrier_caching pyterrier_t5"
   ]
  },
  {
   "cell_type": "code",
   "execution_count": 2,
   "id": "59b176c3-2b7d-4099-b229-b7927491a735",
   "metadata": {},
   "outputs": [],
   "source": [
    "import pyterrier as pt"
   ]
  },
  {
   "cell_type": "markdown",
   "id": "e7293c38-0d98-4dec-a3d3-025427bd839e",
   "metadata": {},
   "source": [
    "Load our BM25 retrieval index"
   ]
  },
  {
   "cell_type": "code",
   "execution_count": 12,
   "id": "92422c56-4ca5-400e-941c-acec73bfaede",
   "metadata": {},
   "outputs": [],
   "source": [
    "index = pt.IndexFactory.of(pt.get_dataset('msmarcov2_passage').get_index('terrier_stemmed'), memory=['meta'])\n",
    "bm25 = pt.terrier.Retriever(index, wmodel='BM25', verbose=True) >> pt.text.get_text(pt.get_dataset('irds:msmarco-passage-v2'), ['text'], verbose=True)"
   ]
  },
  {
   "cell_type": "code",
   "execution_count": 13,
   "id": "b10c80cf-0d07-4a4f-b9aa-3bc42526687c",
   "metadata": {},
   "outputs": [
    {
     "name": "stderr",
     "output_type": "stream",
     "text": [
      "TerrierRetr(BM25): 100%|██████████| 1/1 [00:33<00:00, 33.97s/q]\n",
      "IRDSTextLoader: 100%|██████████| 1000/1000 [00:00<00:00, 1614.97d/s]\n"
     ]
    },
    {
     "data": {
      "text/html": [
       "<div>\n",
       "<style scoped>\n",
       "    .dataframe tbody tr th:only-of-type {\n",
       "        vertical-align: middle;\n",
       "    }\n",
       "\n",
       "    .dataframe tbody tr th {\n",
       "        vertical-align: top;\n",
       "    }\n",
       "\n",
       "    .dataframe thead th {\n",
       "        text-align: right;\n",
       "    }\n",
       "</style>\n",
       "<table border=\"1\" class=\"dataframe\">\n",
       "  <thead>\n",
       "    <tr style=\"text-align: right;\">\n",
       "      <th></th>\n",
       "      <th>qid</th>\n",
       "      <th>docid</th>\n",
       "      <th>docno</th>\n",
       "      <th>rank</th>\n",
       "      <th>score</th>\n",
       "      <th>query</th>\n",
       "      <th>text</th>\n",
       "    </tr>\n",
       "  </thead>\n",
       "  <tbody>\n",
       "    <tr>\n",
       "      <th>0</th>\n",
       "      <td>1</td>\n",
       "      <td>8399388</td>\n",
       "      <td>msmarco_passage_04_171124771</td>\n",
       "      <td>0</td>\n",
       "      <td>28.421805</td>\n",
       "      <td>chemical reactions</td>\n",
       "      <td>Not ALL reactions are chemicals. When chemical...</td>\n",
       "    </tr>\n",
       "    <tr>\n",
       "      <th>1</th>\n",
       "      <td>1</td>\n",
       "      <td>65097464</td>\n",
       "      <td>msmarco_passage_32_479263716</td>\n",
       "      <td>1</td>\n",
       "      <td>28.092676</td>\n",
       "      <td>chemical reactions</td>\n",
       "      <td>How is the speed of a chemical reaction relate...</td>\n",
       "    </tr>\n",
       "    <tr>\n",
       "      <th>2</th>\n",
       "      <td>1</td>\n",
       "      <td>8199479</td>\n",
       "      <td>msmarco_passage_04_86253150</td>\n",
       "      <td>2</td>\n",
       "      <td>28.080419</td>\n",
       "      <td>chemical reactions</td>\n",
       "      <td>The chemical or chemicals formed in a chemical...</td>\n",
       "    </tr>\n",
       "    <tr>\n",
       "      <th>3</th>\n",
       "      <td>1</td>\n",
       "      <td>87279763</td>\n",
       "      <td>msmarco_passage_43_554702663</td>\n",
       "      <td>3</td>\n",
       "      <td>27.908001</td>\n",
       "      <td>chemical reactions</td>\n",
       "      <td>Necessity in Chemical Reactions: Reactants are...</td>\n",
       "    </tr>\n",
       "    <tr>\n",
       "      <th>4</th>\n",
       "      <td>1</td>\n",
       "      <td>4792937</td>\n",
       "      <td>msmarco_passage_02_344129610</td>\n",
       "      <td>4</td>\n",
       "      <td>27.893566</td>\n",
       "      <td>chemical reactions</td>\n",
       "      <td>Chemical Reactions Types Worksheet Beautiful C...</td>\n",
       "    </tr>\n",
       "    <tr>\n",
       "      <th>...</th>\n",
       "      <td>...</td>\n",
       "      <td>...</td>\n",
       "      <td>...</td>\n",
       "      <td>...</td>\n",
       "      <td>...</td>\n",
       "      <td>...</td>\n",
       "      <td>...</td>\n",
       "    </tr>\n",
       "    <tr>\n",
       "      <th>995</th>\n",
       "      <td>1</td>\n",
       "      <td>49259151</td>\n",
       "      <td>msmarco_passage_24_547713764</td>\n",
       "      <td>995</td>\n",
       "      <td>24.766633</td>\n",
       "      <td>chemical reactions</td>\n",
       "      <td>A simple example of a chemical reaction would ...</td>\n",
       "    </tr>\n",
       "    <tr>\n",
       "      <th>996</th>\n",
       "      <td>1</td>\n",
       "      <td>52499541</td>\n",
       "      <td>msmarco_passage_26_217980777</td>\n",
       "      <td>996</td>\n",
       "      <td>24.766633</td>\n",
       "      <td>chemical reactions</td>\n",
       "      <td>Reaction: ↑ A chemical reaction occurs when at...</td>\n",
       "    </tr>\n",
       "    <tr>\n",
       "      <th>997</th>\n",
       "      <td>1</td>\n",
       "      <td>61395339</td>\n",
       "      <td>msmarco_passage_30_611194941</td>\n",
       "      <td>997</td>\n",
       "      <td>24.766633</td>\n",
       "      <td>chemical reactions</td>\n",
       "      <td>endothermic. chemical reaction absorbs more en...</td>\n",
       "    </tr>\n",
       "    <tr>\n",
       "      <th>998</th>\n",
       "      <td>1</td>\n",
       "      <td>61774696</td>\n",
       "      <td>msmarco_passage_30_778898578</td>\n",
       "      <td>998</td>\n",
       "      <td>24.766633</td>\n",
       "      <td>chemical reactions</td>\n",
       "      <td>The mass of 1 mole of a substance. Products. T...</td>\n",
       "    </tr>\n",
       "    <tr>\n",
       "      <th>999</th>\n",
       "      <td>1</td>\n",
       "      <td>63423757</td>\n",
       "      <td>msmarco_passage_31_621635034</td>\n",
       "      <td>999</td>\n",
       "      <td>24.766633</td>\n",
       "      <td>chemical reactions</td>\n",
       "      <td>It takes energy to break a chemical bond, but ...</td>\n",
       "    </tr>\n",
       "  </tbody>\n",
       "</table>\n",
       "<p>1000 rows × 7 columns</p>\n",
       "</div>"
      ],
      "text/plain": [
       "    qid     docid                         docno  rank      score  \\\n",
       "0     1   8399388  msmarco_passage_04_171124771     0  28.421805   \n",
       "1     1  65097464  msmarco_passage_32_479263716     1  28.092676   \n",
       "2     1   8199479   msmarco_passage_04_86253150     2  28.080419   \n",
       "3     1  87279763  msmarco_passage_43_554702663     3  27.908001   \n",
       "4     1   4792937  msmarco_passage_02_344129610     4  27.893566   \n",
       "..   ..       ...                           ...   ...        ...   \n",
       "995   1  49259151  msmarco_passage_24_547713764   995  24.766633   \n",
       "996   1  52499541  msmarco_passage_26_217980777   996  24.766633   \n",
       "997   1  61395339  msmarco_passage_30_611194941   997  24.766633   \n",
       "998   1  61774696  msmarco_passage_30_778898578   998  24.766633   \n",
       "999   1  63423757  msmarco_passage_31_621635034   999  24.766633   \n",
       "\n",
       "                  query                                               text  \n",
       "0    chemical reactions  Not ALL reactions are chemicals. When chemical...  \n",
       "1    chemical reactions  How is the speed of a chemical reaction relate...  \n",
       "2    chemical reactions  The chemical or chemicals formed in a chemical...  \n",
       "3    chemical reactions  Necessity in Chemical Reactions: Reactants are...  \n",
       "4    chemical reactions  Chemical Reactions Types Worksheet Beautiful C...  \n",
       "..                  ...                                                ...  \n",
       "995  chemical reactions  A simple example of a chemical reaction would ...  \n",
       "996  chemical reactions  Reaction: ↑ A chemical reaction occurs when at...  \n",
       "997  chemical reactions  endothermic. chemical reaction absorbs more en...  \n",
       "998  chemical reactions  The mass of 1 mole of a substance. Products. T...  \n",
       "999  chemical reactions  It takes energy to break a chemical bond, but ...  \n",
       "\n",
       "[1000 rows x 7 columns]"
      ]
     },
     "execution_count": 13,
     "metadata": {},
     "output_type": "execute_result"
    }
   ],
   "source": [
    "bm25.search(\"chemical reactions\")"
   ]
  },
  {
   "cell_type": "code",
   "execution_count": 14,
   "id": "97d2bea5-e207-4ef7-9348-fcc77544f190",
   "metadata": {},
   "outputs": [
    {
     "name": "stderr",
     "output_type": "stream",
     "text": [
      "/opt/miniconda3/envs/rag/lib/python3.11/site-packages/transformers/tokenization_utils_base.py:1601: FutureWarning: `clean_up_tokenization_spaces` was not set. It will be set to `True` by default. This behavior will be depracted in transformers v4.45, and will be then set to `False` by default. For more details check this issue: https://github.com/huggingface/transformers/issues/31884\n",
      "  warnings.warn(\n"
     ]
    }
   ],
   "source": [
    "from pyterrier_t5 import MonoT5ReRanker, DuoT5ReRanker\n",
    "monoT5 = MonoT5ReRanker() # loads castorini/monot5-base-msmarco by default\n",
    "duoT5 = DuoT5ReRanker() # loads castorini/duot5-base-msmarco by default"
   ]
  },
  {
   "cell_type": "code",
   "execution_count": 15,
   "id": "fde6a8ba-1514-4f0c-a1e4-fae31173d7a9",
   "metadata": {},
   "outputs": [],
   "source": [
    "dataset = pt.get_dataset(\"irds:msmarco-passage-v2/trec-dl-2021/judged\")"
   ]
  },
  {
   "cell_type": "code",
   "execution_count": null,
   "id": "ef538f6b-9044-425e-acbc-da1bbdcc9729",
   "metadata": {},
   "outputs": [],
   "source": [
    "!rm -rf monoT5.cache.v2"
   ]
  },
  {
   "cell_type": "code",
   "execution_count": 16,
   "id": "f71ea767-978c-4362-b7b9-207814ab7c1c",
   "metadata": {},
   "outputs": [],
   "source": [
    "from pyterrier.measures import *\n",
    "def one(): # no precomputation, no caching\n",
    "    return pt.Experiment(\n",
    "        [bm25 % k >> monoT5 % 10 >> duoT5 for k in [20, 50, 100, 200]],\n",
    "        dataset.get_topics(),\n",
    "        dataset.get_qrels(),\n",
    "        [nDCG@10],\n",
    "        precompute_prefix=False # <---- disable precomputation \n",
    "    )\n",
    "\n",
    "def two(): # precomputation, no caching\n",
    "    return pt.Experiment(\n",
    "        [bm25 % k >> monoT5 % 10 >> duoT5 for k in [20, 50, 100, 200]],\n",
    "        dataset.get_topics(),\n",
    "        dataset.get_qrels(),\n",
    "        [nDCG@10],\n",
    "        precompute_prefix=True # <---- enable precomputation \n",
    "    )\n",
    "\n",
    "def three_and_four(): # precomputation, caching\n",
    "    from pyterrier_caching import ScorerCache\n",
    "    cached_scorer = ScorerCache('monoT5.cache.v2', monoT5)\n",
    "    return pt.Experiment(\n",
    "        [bm25 % k >> cached_scorer % 10 >> duoT5 for k in [20, 50, 100, 200]],\n",
    "        dataset.get_topics(),\n",
    "        dataset.get_qrels(),\n",
    "        [nDCG@10],\n",
    "        precompute_prefix=True # <---- enable precomputation \n",
    "    )"
   ]
  },
  {
   "cell_type": "code",
   "execution_count": 18,
   "id": "039fb3e4-9edc-4345-810f-e057aadbd13f",
   "metadata": {},
   "outputs": [
    {
     "name": "stderr",
     "output_type": "stream",
     "text": [
      "TerrierRetr(BM25): 100%|██████████| 53/53 [00:30<00:00,  1.76q/s]\n",
      "IRDSTextLoader: 100%|██████████| 52150/52150 [00:01<00:00, 32191.32d/s]\n",
      "monoT5: 100%|██████████| 265/265 [00:05<00:00, 47.20batches/s]\n",
      "duoT5: 100%|██████████| 53/53 [00:31<00:00,  1.67queries/s]\n",
      "TerrierRetr(BM25): 100%|██████████| 53/53 [00:30<00:00,  1.76q/s]\n",
      "IRDSTextLoader: 100%|██████████| 52150/52150 [00:01<00:00, 32607.97d/s]\n",
      "monoT5: 100%|██████████| 663/663 [00:14<00:00, 44.70batches/s]\n",
      "duoT5: 100%|██████████| 53/53 [00:26<00:00,  2.03queries/s]\n",
      "TerrierRetr(BM25): 100%|██████████| 53/53 [00:30<00:00,  1.76q/s]\n",
      "IRDSTextLoader: 100%|██████████| 52150/52150 [00:00<00:00, 57194.54d/s]\n",
      "monoT5: 100%|██████████| 1325/1325 [00:28<00:00, 45.95batches/s]\n",
      "duoT5: 100%|██████████| 53/53 [00:26<00:00,  2.03queries/s]\n",
      "TerrierRetr(BM25): 100%|██████████| 53/53 [00:30<00:00,  1.75q/s]\n",
      "IRDSTextLoader: 100%|██████████| 52150/52150 [00:01<00:00, 48591.53d/s]\n",
      "monoT5: 100%|██████████| 2647/2647 [00:56<00:00, 46.70batches/s]\n",
      "duoT5: 100%|██████████| 53/53 [00:32<00:00,  1.65queries/s]"
     ]
    },
    {
     "name": "stdout",
     "output_type": "stream",
     "text": [
      "CPU times: user 5min 47s, sys: 5.64 s, total: 5min 53s\n",
      "Wall time: 5min 48s\n"
     ]
    },
    {
     "name": "stderr",
     "output_type": "stream",
     "text": [
      "\n"
     ]
    },
    {
     "data": {
      "text/html": [
       "<div>\n",
       "<style scoped>\n",
       "    .dataframe tbody tr th:only-of-type {\n",
       "        vertical-align: middle;\n",
       "    }\n",
       "\n",
       "    .dataframe tbody tr th {\n",
       "        vertical-align: top;\n",
       "    }\n",
       "\n",
       "    .dataframe thead th {\n",
       "        text-align: right;\n",
       "    }\n",
       "</style>\n",
       "<table border=\"1\" class=\"dataframe\">\n",
       "  <thead>\n",
       "    <tr style=\"text-align: right;\">\n",
       "      <th></th>\n",
       "      <th>name</th>\n",
       "      <th>nDCG@10</th>\n",
       "    </tr>\n",
       "  </thead>\n",
       "  <tbody>\n",
       "    <tr>\n",
       "      <th>0</th>\n",
       "      <td>(TerrierRetr(BM25) &gt;&gt; &lt;pyterrier.datasets.IRDS...</td>\n",
       "      <td>0.567805</td>\n",
       "    </tr>\n",
       "    <tr>\n",
       "      <th>1</th>\n",
       "      <td>(TerrierRetr(BM25) &gt;&gt; &lt;pyterrier.datasets.IRDS...</td>\n",
       "      <td>0.610255</td>\n",
       "    </tr>\n",
       "    <tr>\n",
       "      <th>2</th>\n",
       "      <td>(TerrierRetr(BM25) &gt;&gt; &lt;pyterrier.datasets.IRDS...</td>\n",
       "      <td>0.636022</td>\n",
       "    </tr>\n",
       "    <tr>\n",
       "      <th>3</th>\n",
       "      <td>(TerrierRetr(BM25) &gt;&gt; &lt;pyterrier.datasets.IRDS...</td>\n",
       "      <td>0.647122</td>\n",
       "    </tr>\n",
       "  </tbody>\n",
       "</table>\n",
       "</div>"
      ],
      "text/plain": [
       "                                                name   nDCG@10\n",
       "0  (TerrierRetr(BM25) >> <pyterrier.datasets.IRDS...  0.567805\n",
       "1  (TerrierRetr(BM25) >> <pyterrier.datasets.IRDS...  0.610255\n",
       "2  (TerrierRetr(BM25) >> <pyterrier.datasets.IRDS...  0.636022\n",
       "3  (TerrierRetr(BM25) >> <pyterrier.datasets.IRDS...  0.647122"
      ]
     },
     "execution_count": 18,
     "metadata": {},
     "output_type": "execute_result"
    }
   ],
   "source": [
    "%time one()"
   ]
  },
  {
   "cell_type": "code",
   "execution_count": 17,
   "id": "1e301113-753d-4e39-8caa-6f1248ad94a9",
   "metadata": {},
   "outputs": [
    {
     "name": "stderr",
     "output_type": "stream",
     "text": [
      "Precomputing results of 53 topics on shared pipeline component (TerrierRetr(BM25) >> <pyterrier.datasets.IRDSTextLoader object at 0x7f9fc8124250>)\n",
      "TerrierRetr(BM25): 100%|██████████| 53/53 [00:30<00:00,  1.76q/s]\n",
      "IRDSTextLoader: 100%|██████████| 52150/52150 [00:00<00:00, 53707.65d/s]\n",
      "monoT5: 100%|██████████| 265/265 [00:05<00:00, 47.11batches/s]\n",
      "duoT5: 100%|██████████| 53/53 [00:26<00:00,  1.99queries/s]\n",
      "monoT5: 100%|██████████| 663/663 [00:14<00:00, 45.20batches/s]\n",
      "duoT5: 100%|██████████| 53/53 [00:26<00:00,  2.00queries/s]\n",
      "monoT5: 100%|██████████| 1325/1325 [00:28<00:00, 45.87batches/s]\n",
      "duoT5: 100%|██████████| 53/53 [00:32<00:00,  1.65queries/s]\n",
      "monoT5: 100%|██████████| 2647/2647 [00:59<00:00, 44.34batches/s]\n",
      "duoT5: 100%|██████████| 53/53 [00:26<00:00,  1.98queries/s]"
     ]
    },
    {
     "name": "stdout",
     "output_type": "stream",
     "text": [
      "CPU times: user 4min 10s, sys: 2.95 s, total: 4min 13s\n",
      "Wall time: 4min 12s\n"
     ]
    },
    {
     "name": "stderr",
     "output_type": "stream",
     "text": [
      "\n"
     ]
    },
    {
     "data": {
      "text/html": [
       "<div>\n",
       "<style scoped>\n",
       "    .dataframe tbody tr th:only-of-type {\n",
       "        vertical-align: middle;\n",
       "    }\n",
       "\n",
       "    .dataframe tbody tr th {\n",
       "        vertical-align: top;\n",
       "    }\n",
       "\n",
       "    .dataframe thead th {\n",
       "        text-align: right;\n",
       "    }\n",
       "</style>\n",
       "<table border=\"1\" class=\"dataframe\">\n",
       "  <thead>\n",
       "    <tr style=\"text-align: right;\">\n",
       "      <th></th>\n",
       "      <th>name</th>\n",
       "      <th>nDCG@10</th>\n",
       "    </tr>\n",
       "  </thead>\n",
       "  <tbody>\n",
       "    <tr>\n",
       "      <th>0</th>\n",
       "      <td>(TerrierRetr(BM25) &gt;&gt; &lt;pyterrier.datasets.IRDS...</td>\n",
       "      <td>0.567805</td>\n",
       "    </tr>\n",
       "    <tr>\n",
       "      <th>1</th>\n",
       "      <td>(TerrierRetr(BM25) &gt;&gt; &lt;pyterrier.datasets.IRDS...</td>\n",
       "      <td>0.610255</td>\n",
       "    </tr>\n",
       "    <tr>\n",
       "      <th>2</th>\n",
       "      <td>(TerrierRetr(BM25) &gt;&gt; &lt;pyterrier.datasets.IRDS...</td>\n",
       "      <td>0.636022</td>\n",
       "    </tr>\n",
       "    <tr>\n",
       "      <th>3</th>\n",
       "      <td>(TerrierRetr(BM25) &gt;&gt; &lt;pyterrier.datasets.IRDS...</td>\n",
       "      <td>0.647122</td>\n",
       "    </tr>\n",
       "  </tbody>\n",
       "</table>\n",
       "</div>"
      ],
      "text/plain": [
       "                                                name   nDCG@10\n",
       "0  (TerrierRetr(BM25) >> <pyterrier.datasets.IRDS...  0.567805\n",
       "1  (TerrierRetr(BM25) >> <pyterrier.datasets.IRDS...  0.610255\n",
       "2  (TerrierRetr(BM25) >> <pyterrier.datasets.IRDS...  0.636022\n",
       "3  (TerrierRetr(BM25) >> <pyterrier.datasets.IRDS...  0.647122"
      ]
     },
     "execution_count": 17,
     "metadata": {},
     "output_type": "execute_result"
    }
   ],
   "source": [
    "%time two()"
   ]
  },
  {
   "cell_type": "code",
   "execution_count": 19,
   "id": "4f5f7285-51aa-43f2-a0da-5e234ea43d3a",
   "metadata": {},
   "outputs": [
    {
     "name": "stderr",
     "output_type": "stream",
     "text": [
      "Precomputing results of 53 topics on shared pipeline component (TerrierRetr(BM25) >> <pyterrier.datasets.IRDSTextLoader object at 0x7f9fc8124250>)\n",
      "TerrierRetr(BM25): 100%|██████████| 53/53 [00:30<00:00,  1.75q/s]\n",
      "IRDSTextLoader: 100%|██████████| 52150/52150 [00:01<00:00, 28835.79d/s]\n",
      "monoT5: 100%|██████████| 265/265 [00:06<00:00, 39.15batches/s]\n",
      "duoT5: 100%|██████████| 53/53 [00:26<00:00,  2.00queries/s]\n",
      "monoT5: 100%|██████████| 398/398 [00:09<00:00, 44.05batches/s]\n",
      "duoT5: 100%|██████████| 53/53 [00:29<00:00,  1.77queries/s]\n",
      "monoT5: 100%|██████████| 663/663 [00:14<00:00, 46.58batches/s]\n",
      "duoT5: 100%|██████████| 53/53 [00:31<00:00,  1.66queries/s]\n",
      "monoT5: 100%|██████████| 1322/1322 [00:27<00:00, 47.32batches/s]\n",
      "duoT5: 100%|██████████| 53/53 [00:27<00:00,  1.95queries/s]"
     ]
    },
    {
     "name": "stdout",
     "output_type": "stream",
     "text": [
      "CPU times: user 3min 24s, sys: 2.87 s, total: 3min 27s\n",
      "Wall time: 3min 27s\n"
     ]
    },
    {
     "name": "stderr",
     "output_type": "stream",
     "text": [
      "\n"
     ]
    },
    {
     "data": {
      "text/html": [
       "<div>\n",
       "<style scoped>\n",
       "    .dataframe tbody tr th:only-of-type {\n",
       "        vertical-align: middle;\n",
       "    }\n",
       "\n",
       "    .dataframe tbody tr th {\n",
       "        vertical-align: top;\n",
       "    }\n",
       "\n",
       "    .dataframe thead th {\n",
       "        text-align: right;\n",
       "    }\n",
       "</style>\n",
       "<table border=\"1\" class=\"dataframe\">\n",
       "  <thead>\n",
       "    <tr style=\"text-align: right;\">\n",
       "      <th></th>\n",
       "      <th>name</th>\n",
       "      <th>nDCG@10</th>\n",
       "    </tr>\n",
       "  </thead>\n",
       "  <tbody>\n",
       "    <tr>\n",
       "      <th>0</th>\n",
       "      <td>(TerrierRetr(BM25) &gt;&gt; &lt;pyterrier.datasets.IRDS...</td>\n",
       "      <td>0.567805</td>\n",
       "    </tr>\n",
       "    <tr>\n",
       "      <th>1</th>\n",
       "      <td>(TerrierRetr(BM25) &gt;&gt; &lt;pyterrier.datasets.IRDS...</td>\n",
       "      <td>0.610002</td>\n",
       "    </tr>\n",
       "    <tr>\n",
       "      <th>2</th>\n",
       "      <td>(TerrierRetr(BM25) &gt;&gt; &lt;pyterrier.datasets.IRDS...</td>\n",
       "      <td>0.634912</td>\n",
       "    </tr>\n",
       "    <tr>\n",
       "      <th>3</th>\n",
       "      <td>(TerrierRetr(BM25) &gt;&gt; &lt;pyterrier.datasets.IRDS...</td>\n",
       "      <td>0.644595</td>\n",
       "    </tr>\n",
       "  </tbody>\n",
       "</table>\n",
       "</div>"
      ],
      "text/plain": [
       "                                                name   nDCG@10\n",
       "0  (TerrierRetr(BM25) >> <pyterrier.datasets.IRDS...  0.567805\n",
       "1  (TerrierRetr(BM25) >> <pyterrier.datasets.IRDS...  0.610002\n",
       "2  (TerrierRetr(BM25) >> <pyterrier.datasets.IRDS...  0.634912\n",
       "3  (TerrierRetr(BM25) >> <pyterrier.datasets.IRDS...  0.644595"
      ]
     },
     "execution_count": 19,
     "metadata": {},
     "output_type": "execute_result"
    }
   ],
   "source": [
    "%time three_and_four()"
   ]
  },
  {
   "cell_type": "code",
   "execution_count": 20,
   "id": "f8901df6-c4fc-43a7-a139-cc95447f29d6",
   "metadata": {},
   "outputs": [
    {
     "name": "stderr",
     "output_type": "stream",
     "text": [
      "Precomputing results of 53 topics on shared pipeline component (TerrierRetr(BM25) >> <pyterrier.datasets.IRDSTextLoader object at 0x7f9fc8124250>)\n",
      "TerrierRetr(BM25): 100%|██████████| 53/53 [00:30<00:00,  1.74q/s]\n",
      "IRDSTextLoader: 100%|██████████| 52150/52150 [00:01<00:00, 30856.75d/s]\n",
      "duoT5: 100%|██████████| 53/53 [00:26<00:00,  1.99queries/s]\n",
      "duoT5: 100%|██████████| 53/53 [00:31<00:00,  1.66queries/s]\n",
      "duoT5: 100%|██████████| 53/53 [00:26<00:00,  1.98queries/s]\n",
      "duoT5: 100%|██████████| 53/53 [00:27<00:00,  1.95queries/s]"
     ]
    },
    {
     "name": "stdout",
     "output_type": "stream",
     "text": [
      "CPU times: user 2min 23s, sys: 2.12 s, total: 2min 25s\n",
      "Wall time: 2min 25s\n"
     ]
    },
    {
     "name": "stderr",
     "output_type": "stream",
     "text": [
      "\n"
     ]
    },
    {
     "data": {
      "text/html": [
       "<div>\n",
       "<style scoped>\n",
       "    .dataframe tbody tr th:only-of-type {\n",
       "        vertical-align: middle;\n",
       "    }\n",
       "\n",
       "    .dataframe tbody tr th {\n",
       "        vertical-align: top;\n",
       "    }\n",
       "\n",
       "    .dataframe thead th {\n",
       "        text-align: right;\n",
       "    }\n",
       "</style>\n",
       "<table border=\"1\" class=\"dataframe\">\n",
       "  <thead>\n",
       "    <tr style=\"text-align: right;\">\n",
       "      <th></th>\n",
       "      <th>name</th>\n",
       "      <th>nDCG@10</th>\n",
       "    </tr>\n",
       "  </thead>\n",
       "  <tbody>\n",
       "    <tr>\n",
       "      <th>0</th>\n",
       "      <td>(TerrierRetr(BM25) &gt;&gt; &lt;pyterrier.datasets.IRDS...</td>\n",
       "      <td>0.567805</td>\n",
       "    </tr>\n",
       "    <tr>\n",
       "      <th>1</th>\n",
       "      <td>(TerrierRetr(BM25) &gt;&gt; &lt;pyterrier.datasets.IRDS...</td>\n",
       "      <td>0.610002</td>\n",
       "    </tr>\n",
       "    <tr>\n",
       "      <th>2</th>\n",
       "      <td>(TerrierRetr(BM25) &gt;&gt; &lt;pyterrier.datasets.IRDS...</td>\n",
       "      <td>0.634912</td>\n",
       "    </tr>\n",
       "    <tr>\n",
       "      <th>3</th>\n",
       "      <td>(TerrierRetr(BM25) &gt;&gt; &lt;pyterrier.datasets.IRDS...</td>\n",
       "      <td>0.644595</td>\n",
       "    </tr>\n",
       "  </tbody>\n",
       "</table>\n",
       "</div>"
      ],
      "text/plain": [
       "                                                name   nDCG@10\n",
       "0  (TerrierRetr(BM25) >> <pyterrier.datasets.IRDS...  0.567805\n",
       "1  (TerrierRetr(BM25) >> <pyterrier.datasets.IRDS...  0.610002\n",
       "2  (TerrierRetr(BM25) >> <pyterrier.datasets.IRDS...  0.634912\n",
       "3  (TerrierRetr(BM25) >> <pyterrier.datasets.IRDS...  0.644595"
      ]
     },
     "execution_count": 20,
     "metadata": {},
     "output_type": "execute_result"
    }
   ],
   "source": [
    "%time three_and_four()"
   ]
  },
  {
   "cell_type": "markdown",
   "id": "c820349f-5cc7-486e-b1b1-e69ab5a2b9a0",
   "metadata": {},
   "source": [
    "NB: For `three_and_four()`, there are very minor changes in effectiveness, at the 5th decimal place, compared to `one()` and `two()`. This is due to changes in GPU batching when scoring MonoT5. The scores should usually be the same when the order of the data onto the GPU is the same, but differences can be observed (e.g.) a different batch due to some of the values being cached from a prior round."
   ]
  },
  {
   "cell_type": "code",
   "execution_count": null,
   "id": "d5b8bf67-f8e7-4243-935b-bb571fd3f241",
   "metadata": {},
   "outputs": [],
   "source": []
  }
 ],
 "metadata": {
  "kernelspec": {
   "display_name": "Python [conda env:rag]",
   "language": "python",
   "name": "conda-env-rag-py"
  },
  "language_info": {
   "codemirror_mode": {
    "name": "ipython",
    "version": 3
   },
   "file_extension": ".py",
   "mimetype": "text/x-python",
   "name": "python",
   "nbconvert_exporter": "python",
   "pygments_lexer": "ipython3",
   "version": "3.11.11"
  }
 },
 "nbformat": 4,
 "nbformat_minor": 5
}
